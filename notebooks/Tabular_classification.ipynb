{
  "cells": [
    {
      "cell_type": "markdown",
      "id": "0ceb329f",
      "metadata": {},
      "source": [
        "# **📌 Import**"
      ]
    },
    {
      "cell_type": "code",
      "execution_count": 1,
      "id": "5ec5eda2",
      "metadata": {
        "id": "5ec5eda2"
      },
      "outputs": [],
      "source": [
        "import numpy as np\n",
        "import pandas as pd\n",
        "import matplotlib.pyplot as plt\n",
        "import seaborn as sns\n",
        "import sklearn\n",
        "from sklearn.pipeline import Pipeline\n",
        "from sklearn.compose import ColumnTransformer\n",
        "from sklearn.model_selection import train_test_split\n",
        "from sklearn.impute import SimpleImputer\n",
        "from sklearn.decomposition import PCA\n",
        "from sklearn.preprocessing import StandardScaler, MinMaxScaler, RobustScaler, OneHotEncoder, OrdinalEncoder\n",
        "from sklearn.linear_model import LogisticRegression\n",
        "from sklearn.ensemble import RandomForestClassifier\n",
        "from sklearn.neural_network import MLPClassifier\n",
        "from sklearn.svm import SVC\n",
        "from sklearn.metrics import accuracy_score, precision_score, recall_score, f1_score\n",
        "from tqdm import tqdm\n",
        "import warnings\n",
        "import sys\n",
        "warnings.filterwarnings('ignore')\n",
        "# Thiết lập style cho matplotlib\n",
        "plt.style.use('seaborn-v0_8')\n",
        "sns.set_palette(\"husl\")\n",
        "sklearn.set_config(enable_metadata_routing=True)"
      ]
    },
    {
      "cell_type": "code",
      "execution_count": 2,
      "id": "576475db",
      "metadata": {},
      "outputs": [],
      "source": [
        "sys.path.append(\"..\")\n",
        "from modules import tabular\n",
        "import importlib"
      ]
    },
    {
      "cell_type": "markdown",
      "id": "d3c495b1",
      "metadata": {
        "id": "d3c495b1"
      },
      "source": [
        "# **📥 Download Dataset**"
      ]
    },
    {
      "cell_type": "code",
      "execution_count": 3,
      "id": "8416c2e8",
      "metadata": {},
      "outputs": [],
      "source": [
        "import kagglehub\n",
        "import os\n",
        "import shutil\n",
        "\n",
        "data_dir = \"../data/canine_wellness/\"\n",
        "raw_data_dir = os.path.join(data_dir, \"raw_data/\")\n",
        "data_file_name = \"synthetic_dog_breed_health_data.csv\"\n",
        "model_result_path = os.path.join(data_dir, \"model_result/\")"
      ]
    },
    {
      "cell_type": "code",
      "execution_count": 4,
      "id": "39bd0800",
      "metadata": {
        "colab": {
          "base_uri": "https://localhost:8080/"
        },
        "id": "39bd0800",
        "outputId": "3bcd16a0-9d23-440d-aa17-ed2098ae601e"
      },
      "outputs": [
        {
          "name": "stdout",
          "output_type": "stream",
          "text": [
            "Data file exists.\n",
            "Path to data: ../data/canine_wellness/raw_data/synthetic_dog_breed_health_data.csv\n"
          ]
        }
      ],
      "source": [
        "os.makedirs(data_dir, exist_ok=True)\n",
        "\n",
        "if os.path.exists(os.path.join(raw_data_dir, data_file_name)):\n",
        "    print(\"Data file exists.\")\n",
        "else:\n",
        "    path = kagglehub.dataset_download(\n",
        "        handle=\"aaronisomaisom3/canine-wellness-dataset-synthetic-10k-samples\"\n",
        "    )\n",
        "    src = os.path.join(path, data_file_name)\n",
        "    os.makedirs(raw_data_dir, exist_ok=True)\n",
        "    shutil.copy(src, raw_data_dir)\n",
        "\n",
        "print(\"Path to data:\", os.path.join(raw_data_dir, data_file_name))"
      ]
    },
    {
      "cell_type": "code",
      "execution_count": 5,
      "id": "2af12c6a",
      "metadata": {
        "colab": {
          "base_uri": "https://localhost:8080/",
          "height": 503
        },
        "id": "2af12c6a",
        "outputId": "2d65ab23-1bbb-4cab-baf4-e64a57e930ac"
      },
      "outputs": [
        {
          "data": {
            "application/vnd.microsoft.datawrangler.viewer.v0+json": {
              "columns": [
                {
                  "name": "index",
                  "rawType": "int64",
                  "type": "integer"
                },
                {
                  "name": "ID",
                  "rawType": "int64",
                  "type": "integer"
                },
                {
                  "name": "Breed",
                  "rawType": "object",
                  "type": "string"
                },
                {
                  "name": "Breed Size",
                  "rawType": "object",
                  "type": "unknown"
                },
                {
                  "name": "Sex",
                  "rawType": "object",
                  "type": "string"
                },
                {
                  "name": "Age",
                  "rawType": "float64",
                  "type": "float"
                },
                {
                  "name": "Weight (lbs)",
                  "rawType": "float64",
                  "type": "float"
                },
                {
                  "name": "Spay/Neuter Status",
                  "rawType": "object",
                  "type": "unknown"
                },
                {
                  "name": "Daily Activity Level",
                  "rawType": "object",
                  "type": "unknown"
                },
                {
                  "name": "Diet",
                  "rawType": "object",
                  "type": "unknown"
                },
                {
                  "name": "Food Brand",
                  "rawType": "object",
                  "type": "string"
                },
                {
                  "name": "Daily Walk Distance (miles)",
                  "rawType": "float64",
                  "type": "float"
                },
                {
                  "name": "Other Pets in Household",
                  "rawType": "object",
                  "type": "string"
                },
                {
                  "name": "Medications",
                  "rawType": "object",
                  "type": "string"
                },
                {
                  "name": "Seizures",
                  "rawType": "object",
                  "type": "string"
                },
                {
                  "name": "Hours of Sleep",
                  "rawType": "float64",
                  "type": "float"
                },
                {
                  "name": "Play Time (hrs)",
                  "rawType": "float64",
                  "type": "float"
                },
                {
                  "name": "Owner Activity Level",
                  "rawType": "object",
                  "type": "unknown"
                },
                {
                  "name": "Annual Vet Visits",
                  "rawType": "float64",
                  "type": "float"
                },
                {
                  "name": "Average Temperature (F)",
                  "rawType": "float64",
                  "type": "float"
                },
                {
                  "name": "Synthetic",
                  "rawType": "object",
                  "type": "string"
                },
                {
                  "name": "Healthy",
                  "rawType": "object",
                  "type": "unknown"
                }
              ],
              "ref": "6eb08a98-1c0a-43f1-a7a7-d741829aa89b",
              "rows": [
                [
                  "0",
                  "1",
                  "Australian Shepherd",
                  "Medium",
                  "Male",
                  "3.0",
                  "60.0",
                  "Neutered",
                  null,
                  null,
                  "Wellness",
                  "5.0",
                  "No",
                  "Yes",
                  "No",
                  "12.0",
                  "1.0",
                  "Active",
                  "1.0",
                  "30.0",
                  "Yes",
                  "Yes"
                ],
                [
                  "1",
                  "2",
                  "Dachshund",
                  null,
                  "Female",
                  "4.0",
                  "57.0",
                  "Neutered",
                  "Very Active",
                  "Home cooked",
                  "Special",
                  "2.0",
                  "Yes",
                  "No",
                  "No",
                  "11.0",
                  "3.0",
                  null,
                  "0.0",
                  "47.0",
                  "Yes",
                  null
                ],
                [
                  "2",
                  "3",
                  "Chihuahua",
                  "Small",
                  "Female",
                  "12.0",
                  "67.0",
                  "Neutered",
                  "Active",
                  "Home cooked",
                  "Special",
                  "1.0",
                  "Yes",
                  "No",
                  "No",
                  "10.0",
                  "1.0",
                  "Low",
                  "0.0",
                  "92.0",
                  "Yes",
                  "Yes"
                ],
                [
                  "3",
                  "4",
                  "Siberian Husky",
                  "Medium",
                  "Male",
                  "13.0",
                  "35.0",
                  null,
                  "Very Active",
                  null,
                  "Special",
                  "4.0",
                  "No",
                  "No",
                  "No",
                  "12.0",
                  null,
                  null,
                  "1.0",
                  "75.0",
                  "Yes",
                  "Yes"
                ],
                [
                  "4",
                  "5",
                  "Boxer",
                  "Medium",
                  "Male",
                  "13.0",
                  "35.0",
                  null,
                  "Very Active",
                  "Wet food",
                  "Purina",
                  "3.0",
                  "Yes",
                  "Yes",
                  "No",
                  "9.0",
                  "1.0",
                  null,
                  "0.0",
                  "64.0",
                  "Yes",
                  "No"
                ]
              ],
              "shape": {
                "columns": 21,
                "rows": 5
              }
            },
            "text/html": [
              "<div>\n",
              "<style scoped>\n",
              "    .dataframe tbody tr th:only-of-type {\n",
              "        vertical-align: middle;\n",
              "    }\n",
              "\n",
              "    .dataframe tbody tr th {\n",
              "        vertical-align: top;\n",
              "    }\n",
              "\n",
              "    .dataframe thead th {\n",
              "        text-align: right;\n",
              "    }\n",
              "</style>\n",
              "<table border=\"1\" class=\"dataframe\">\n",
              "  <thead>\n",
              "    <tr style=\"text-align: right;\">\n",
              "      <th></th>\n",
              "      <th>ID</th>\n",
              "      <th>Breed</th>\n",
              "      <th>Breed Size</th>\n",
              "      <th>Sex</th>\n",
              "      <th>Age</th>\n",
              "      <th>Weight (lbs)</th>\n",
              "      <th>Spay/Neuter Status</th>\n",
              "      <th>Daily Activity Level</th>\n",
              "      <th>Diet</th>\n",
              "      <th>Food Brand</th>\n",
              "      <th>...</th>\n",
              "      <th>Other Pets in Household</th>\n",
              "      <th>Medications</th>\n",
              "      <th>Seizures</th>\n",
              "      <th>Hours of Sleep</th>\n",
              "      <th>Play Time (hrs)</th>\n",
              "      <th>Owner Activity Level</th>\n",
              "      <th>Annual Vet Visits</th>\n",
              "      <th>Average Temperature (F)</th>\n",
              "      <th>Synthetic</th>\n",
              "      <th>Healthy</th>\n",
              "    </tr>\n",
              "  </thead>\n",
              "  <tbody>\n",
              "    <tr>\n",
              "      <th>0</th>\n",
              "      <td>1</td>\n",
              "      <td>Australian Shepherd</td>\n",
              "      <td>Medium</td>\n",
              "      <td>Male</td>\n",
              "      <td>3.0</td>\n",
              "      <td>60.0</td>\n",
              "      <td>Neutered</td>\n",
              "      <td>NaN</td>\n",
              "      <td>NaN</td>\n",
              "      <td>Wellness</td>\n",
              "      <td>...</td>\n",
              "      <td>No</td>\n",
              "      <td>Yes</td>\n",
              "      <td>No</td>\n",
              "      <td>12.0</td>\n",
              "      <td>1.0</td>\n",
              "      <td>Active</td>\n",
              "      <td>1.0</td>\n",
              "      <td>30.0</td>\n",
              "      <td>Yes</td>\n",
              "      <td>Yes</td>\n",
              "    </tr>\n",
              "    <tr>\n",
              "      <th>1</th>\n",
              "      <td>2</td>\n",
              "      <td>Dachshund</td>\n",
              "      <td>NaN</td>\n",
              "      <td>Female</td>\n",
              "      <td>4.0</td>\n",
              "      <td>57.0</td>\n",
              "      <td>Neutered</td>\n",
              "      <td>Very Active</td>\n",
              "      <td>Home cooked</td>\n",
              "      <td>Special</td>\n",
              "      <td>...</td>\n",
              "      <td>Yes</td>\n",
              "      <td>No</td>\n",
              "      <td>No</td>\n",
              "      <td>11.0</td>\n",
              "      <td>3.0</td>\n",
              "      <td>NaN</td>\n",
              "      <td>0.0</td>\n",
              "      <td>47.0</td>\n",
              "      <td>Yes</td>\n",
              "      <td>NaN</td>\n",
              "    </tr>\n",
              "    <tr>\n",
              "      <th>2</th>\n",
              "      <td>3</td>\n",
              "      <td>Chihuahua</td>\n",
              "      <td>Small</td>\n",
              "      <td>Female</td>\n",
              "      <td>12.0</td>\n",
              "      <td>67.0</td>\n",
              "      <td>Neutered</td>\n",
              "      <td>Active</td>\n",
              "      <td>Home cooked</td>\n",
              "      <td>Special</td>\n",
              "      <td>...</td>\n",
              "      <td>Yes</td>\n",
              "      <td>No</td>\n",
              "      <td>No</td>\n",
              "      <td>10.0</td>\n",
              "      <td>1.0</td>\n",
              "      <td>Low</td>\n",
              "      <td>0.0</td>\n",
              "      <td>92.0</td>\n",
              "      <td>Yes</td>\n",
              "      <td>Yes</td>\n",
              "    </tr>\n",
              "    <tr>\n",
              "      <th>3</th>\n",
              "      <td>4</td>\n",
              "      <td>Siberian Husky</td>\n",
              "      <td>Medium</td>\n",
              "      <td>Male</td>\n",
              "      <td>13.0</td>\n",
              "      <td>35.0</td>\n",
              "      <td>NaN</td>\n",
              "      <td>Very Active</td>\n",
              "      <td>NaN</td>\n",
              "      <td>Special</td>\n",
              "      <td>...</td>\n",
              "      <td>No</td>\n",
              "      <td>No</td>\n",
              "      <td>No</td>\n",
              "      <td>12.0</td>\n",
              "      <td>NaN</td>\n",
              "      <td>NaN</td>\n",
              "      <td>1.0</td>\n",
              "      <td>75.0</td>\n",
              "      <td>Yes</td>\n",
              "      <td>Yes</td>\n",
              "    </tr>\n",
              "    <tr>\n",
              "      <th>4</th>\n",
              "      <td>5</td>\n",
              "      <td>Boxer</td>\n",
              "      <td>Medium</td>\n",
              "      <td>Male</td>\n",
              "      <td>13.0</td>\n",
              "      <td>35.0</td>\n",
              "      <td>NaN</td>\n",
              "      <td>Very Active</td>\n",
              "      <td>Wet food</td>\n",
              "      <td>Purina</td>\n",
              "      <td>...</td>\n",
              "      <td>Yes</td>\n",
              "      <td>Yes</td>\n",
              "      <td>No</td>\n",
              "      <td>9.0</td>\n",
              "      <td>1.0</td>\n",
              "      <td>NaN</td>\n",
              "      <td>0.0</td>\n",
              "      <td>64.0</td>\n",
              "      <td>Yes</td>\n",
              "      <td>No</td>\n",
              "    </tr>\n",
              "  </tbody>\n",
              "</table>\n",
              "<p>5 rows × 21 columns</p>\n",
              "</div>"
            ],
            "text/plain": [
              "   ID                Breed Breed Size     Sex   Age  Weight (lbs)  \\\n",
              "0   1  Australian Shepherd     Medium    Male   3.0          60.0   \n",
              "1   2            Dachshund        NaN  Female   4.0          57.0   \n",
              "2   3            Chihuahua      Small  Female  12.0          67.0   \n",
              "3   4       Siberian Husky     Medium    Male  13.0          35.0   \n",
              "4   5                Boxer     Medium    Male  13.0          35.0   \n",
              "\n",
              "  Spay/Neuter Status Daily Activity Level         Diet Food Brand  ...  \\\n",
              "0           Neutered                  NaN          NaN   Wellness  ...   \n",
              "1           Neutered          Very Active  Home cooked    Special  ...   \n",
              "2           Neutered               Active  Home cooked    Special  ...   \n",
              "3                NaN          Very Active          NaN    Special  ...   \n",
              "4                NaN          Very Active     Wet food     Purina  ...   \n",
              "\n",
              "   Other Pets in Household Medications Seizures Hours of Sleep  \\\n",
              "0                       No         Yes       No           12.0   \n",
              "1                      Yes          No       No           11.0   \n",
              "2                      Yes          No       No           10.0   \n",
              "3                       No          No       No           12.0   \n",
              "4                      Yes         Yes       No            9.0   \n",
              "\n",
              "   Play Time (hrs)  Owner Activity Level Annual Vet Visits  \\\n",
              "0              1.0                Active               1.0   \n",
              "1              3.0                   NaN               0.0   \n",
              "2              1.0                   Low               0.0   \n",
              "3              NaN                   NaN               1.0   \n",
              "4              1.0                   NaN               0.0   \n",
              "\n",
              "   Average Temperature (F)  Synthetic Healthy  \n",
              "0                     30.0        Yes     Yes  \n",
              "1                     47.0        Yes     NaN  \n",
              "2                     92.0        Yes     Yes  \n",
              "3                     75.0        Yes     Yes  \n",
              "4                     64.0        Yes      No  \n",
              "\n",
              "[5 rows x 21 columns]"
            ]
          },
          "execution_count": 5,
          "metadata": {},
          "output_type": "execute_result"
        }
      ],
      "source": [
        "df = pd.read_csv(os.path.join(raw_data_dir, data_file_name))\n",
        "df.head()"
      ]
    },
    {
      "cell_type": "markdown",
      "id": "b7987a5f",
      "metadata": {
        "id": "b7987a5f"
      },
      "source": [
        "# **📊 EDA**"
      ]
    },
    {
      "cell_type": "code",
      "execution_count": 6,
      "id": "a75a2815",
      "metadata": {},
      "outputs": [
        {
          "name": "stdout",
          "output_type": "stream",
          "text": [
            "\n",
            "Dataset Info:\n",
            "Total samples: 10,000\n",
            "Features: 21\n",
            "Data Shape: (10000, 21)\n",
            "Columns: Index(['ID', 'Breed', 'Breed Size', 'Sex', 'Age', 'Weight (lbs)',\n",
            "       'Spay/Neuter Status', 'Daily Activity Level', 'Diet', 'Food Brand',\n",
            "       'Daily Walk Distance (miles)', 'Other Pets in Household', 'Medications',\n",
            "       'Seizures', 'Hours of Sleep', 'Play Time (hrs)', 'Owner Activity Level',\n",
            "       'Annual Vet Visits', 'Average Temperature (F)', 'Synthetic', 'Healthy'],\n",
            "      dtype='object')\n",
            "Dtypes:\n",
            " ID                               int64\n",
            "Breed                           object\n",
            "Breed Size                      object\n",
            "Sex                             object\n",
            "Age                            float64\n",
            "Weight (lbs)                   float64\n",
            "Spay/Neuter Status              object\n",
            "Daily Activity Level            object\n",
            "Diet                            object\n",
            "Food Brand                      object\n",
            "Daily Walk Distance (miles)    float64\n",
            "Other Pets in Household         object\n",
            "Medications                     object\n",
            "Seizures                        object\n",
            "Hours of Sleep                 float64\n",
            "Play Time (hrs)                float64\n",
            "Owner Activity Level            object\n",
            "Annual Vet Visits              float64\n",
            "Average Temperature (F)        float64\n",
            "Synthetic                       object\n",
            "Healthy                         object\n",
            "dtype: object\n"
          ]
        }
      ],
      "source": [
        "tabular.dataset_info(df=df)"
      ]
    },
    {
      "cell_type": "code",
      "execution_count": 7,
      "id": "0146ef72",
      "metadata": {},
      "outputs": [
        {
          "name": "stdout",
          "output_type": "stream",
          "text": [
            "Missing Value:\n",
            "                             Missing  Percent\n",
            "Spay/Neuter Status              3567    35.67\n",
            "Daily Activity Level            2230    22.30\n",
            "Owner Activity Level            2227    22.27\n",
            "Average Temperature (F)          345     3.45\n",
            "Sex                              325     3.25\n",
            "Healthy                          322     3.22\n",
            "Synthetic                        310     3.10\n",
            "Play Time (hrs)                  309     3.09\n",
            "Annual Vet Visits                306     3.06\n",
            "Diet                             302     3.02\n",
            "Seizures                         301     3.01\n",
            "Food Brand                       300     3.00\n",
            "Other Pets in Household          298     2.98\n",
            "Daily Walk Distance (miles)      294     2.94\n",
            "Weight (lbs)                     291     2.91\n",
            "Age                              291     2.91\n",
            "Breed                            290     2.90\n",
            "Breed Size                       288     2.88\n",
            "Hours of Sleep                   279     2.79\n",
            "Medications                      249     2.49\n",
            "ID                                 0     0.00\n"
          ]
        }
      ],
      "source": [
        "tabular.missing_report(df)"
      ]
    },
    {
      "cell_type": "code",
      "execution_count": 8,
      "id": "8d55d74b",
      "metadata": {
        "colab": {
          "base_uri": "https://localhost:8080/"
        },
        "id": "8d55d74b",
        "outputId": "c27fa8cc-677a-4f02-e3f2-252b48d74c9a"
      },
      "outputs": [
        {
          "name": "stdout",
          "output_type": "stream",
          "text": [
            "Column Report:\n",
            "                              Dtypes  Nunique\n",
            "ID                             int64    10000\n",
            "Breed                         object       15\n",
            "Breed Size                    object        3\n",
            "Sex                           object        2\n",
            "Age                          float64       13\n",
            "Weight (lbs)                 float64       95\n",
            "Spay/Neuter Status            object        2\n",
            "Daily Activity Level          object        4\n",
            "Diet                          object        4\n",
            "Food Brand                    object        9\n",
            "Daily Walk Distance (miles)  float64        9\n",
            "Other Pets in Household       object        2\n",
            "Medications                   object        2\n",
            "Seizures                      object        2\n",
            "Hours of Sleep               float64        7\n",
            "Play Time (hrs)              float64        5\n",
            "Owner Activity Level          object        4\n",
            "Annual Vet Visits            float64        5\n",
            "Average Temperature (F)      float64       71\n",
            "Synthetic                     object        1\n",
            "Healthy                       object        2\n"
          ]
        }
      ],
      "source": [
        "tabular.column_report(df)"
      ]
    },
    {
      "cell_type": "code",
      "execution_count": 9,
      "id": "bd79b1d1",
      "metadata": {
        "colab": {
          "base_uri": "https://localhost:8080/"
        },
        "id": "bd79b1d1",
        "outputId": "3394ec7d-2904-4d51-9f4f-1133a556bc41"
      },
      "outputs": [
        {
          "data": {
            "application/vnd.microsoft.datawrangler.viewer.v0+json": {
              "columns": [
                {
                  "name": "index",
                  "rawType": "object",
                  "type": "string"
                },
                {
                  "name": "ID",
                  "rawType": "float64",
                  "type": "float"
                },
                {
                  "name": "Age",
                  "rawType": "float64",
                  "type": "float"
                },
                {
                  "name": "Weight (lbs)",
                  "rawType": "float64",
                  "type": "float"
                },
                {
                  "name": "Daily Walk Distance (miles)",
                  "rawType": "float64",
                  "type": "float"
                },
                {
                  "name": "Hours of Sleep",
                  "rawType": "float64",
                  "type": "float"
                },
                {
                  "name": "Play Time (hrs)",
                  "rawType": "float64",
                  "type": "float"
                },
                {
                  "name": "Annual Vet Visits",
                  "rawType": "float64",
                  "type": "float"
                },
                {
                  "name": "Average Temperature (F)",
                  "rawType": "float64",
                  "type": "float"
                }
              ],
              "ref": "17ccc92e-c1ba-4d5a-9849-f5a03216c662",
              "rows": [
                [
                  "count",
                  "10000.0",
                  "9709.0",
                  "9709.0",
                  "9706.0",
                  "9721.0",
                  "9691.0",
                  "9694.0",
                  "9655.0"
                ],
                [
                  "mean",
                  "5000.5",
                  "7.0638582758265525",
                  "50.20249253270162",
                  "2.527817844632186",
                  "11.00699516510647",
                  "1.5240945206892993",
                  "1.4747266350319785",
                  "64.55960642154324"
                ],
                [
                  "std",
                  "2886.8956799071675",
                  "3.75161560952091",
                  "14.900009746613783",
                  "1.4581572210828346",
                  "1.4633212522622399",
                  "0.9799393385650065",
                  "1.152881283950418",
                  "14.824669131014137"
                ],
                [
                  "min",
                  "1.0",
                  "1.0",
                  "10.0",
                  "0.0",
                  "8.0",
                  "0.0",
                  "0.0",
                  "30.0"
                ],
                [
                  "25%",
                  "2500.75",
                  "4.0",
                  "40.0",
                  "1.25",
                  "10.0",
                  "1.0",
                  "1.0",
                  "54.0"
                ],
                [
                  "50%",
                  "5000.5",
                  "7.0",
                  "50.0",
                  "3.0",
                  "11.0",
                  "2.0",
                  "1.0",
                  "64.0"
                ],
                [
                  "75%",
                  "7500.25",
                  "10.0",
                  "60.0",
                  "3.0",
                  "12.0",
                  "2.0",
                  "2.0",
                  "75.0"
                ],
                [
                  "max",
                  "10000.0",
                  "13.0",
                  "109.0",
                  "8.0",
                  "14.0",
                  "4.0",
                  "4.0",
                  "100.0"
                ]
              ],
              "shape": {
                "columns": 8,
                "rows": 8
              }
            },
            "text/html": [
              "<div>\n",
              "<style scoped>\n",
              "    .dataframe tbody tr th:only-of-type {\n",
              "        vertical-align: middle;\n",
              "    }\n",
              "\n",
              "    .dataframe tbody tr th {\n",
              "        vertical-align: top;\n",
              "    }\n",
              "\n",
              "    .dataframe thead th {\n",
              "        text-align: right;\n",
              "    }\n",
              "</style>\n",
              "<table border=\"1\" class=\"dataframe\">\n",
              "  <thead>\n",
              "    <tr style=\"text-align: right;\">\n",
              "      <th></th>\n",
              "      <th>ID</th>\n",
              "      <th>Age</th>\n",
              "      <th>Weight (lbs)</th>\n",
              "      <th>Daily Walk Distance (miles)</th>\n",
              "      <th>Hours of Sleep</th>\n",
              "      <th>Play Time (hrs)</th>\n",
              "      <th>Annual Vet Visits</th>\n",
              "      <th>Average Temperature (F)</th>\n",
              "    </tr>\n",
              "  </thead>\n",
              "  <tbody>\n",
              "    <tr>\n",
              "      <th>count</th>\n",
              "      <td>10000.00000</td>\n",
              "      <td>9709.000000</td>\n",
              "      <td>9709.000000</td>\n",
              "      <td>9706.000000</td>\n",
              "      <td>9721.000000</td>\n",
              "      <td>9691.000000</td>\n",
              "      <td>9694.000000</td>\n",
              "      <td>9655.000000</td>\n",
              "    </tr>\n",
              "    <tr>\n",
              "      <th>mean</th>\n",
              "      <td>5000.50000</td>\n",
              "      <td>7.063858</td>\n",
              "      <td>50.202493</td>\n",
              "      <td>2.527818</td>\n",
              "      <td>11.006995</td>\n",
              "      <td>1.524095</td>\n",
              "      <td>1.474727</td>\n",
              "      <td>64.559606</td>\n",
              "    </tr>\n",
              "    <tr>\n",
              "      <th>std</th>\n",
              "      <td>2886.89568</td>\n",
              "      <td>3.751616</td>\n",
              "      <td>14.900010</td>\n",
              "      <td>1.458157</td>\n",
              "      <td>1.463321</td>\n",
              "      <td>0.979939</td>\n",
              "      <td>1.152881</td>\n",
              "      <td>14.824669</td>\n",
              "    </tr>\n",
              "    <tr>\n",
              "      <th>min</th>\n",
              "      <td>1.00000</td>\n",
              "      <td>1.000000</td>\n",
              "      <td>10.000000</td>\n",
              "      <td>0.000000</td>\n",
              "      <td>8.000000</td>\n",
              "      <td>0.000000</td>\n",
              "      <td>0.000000</td>\n",
              "      <td>30.000000</td>\n",
              "    </tr>\n",
              "    <tr>\n",
              "      <th>25%</th>\n",
              "      <td>2500.75000</td>\n",
              "      <td>4.000000</td>\n",
              "      <td>40.000000</td>\n",
              "      <td>1.250000</td>\n",
              "      <td>10.000000</td>\n",
              "      <td>1.000000</td>\n",
              "      <td>1.000000</td>\n",
              "      <td>54.000000</td>\n",
              "    </tr>\n",
              "    <tr>\n",
              "      <th>50%</th>\n",
              "      <td>5000.50000</td>\n",
              "      <td>7.000000</td>\n",
              "      <td>50.000000</td>\n",
              "      <td>3.000000</td>\n",
              "      <td>11.000000</td>\n",
              "      <td>2.000000</td>\n",
              "      <td>1.000000</td>\n",
              "      <td>64.000000</td>\n",
              "    </tr>\n",
              "    <tr>\n",
              "      <th>75%</th>\n",
              "      <td>7500.25000</td>\n",
              "      <td>10.000000</td>\n",
              "      <td>60.000000</td>\n",
              "      <td>3.000000</td>\n",
              "      <td>12.000000</td>\n",
              "      <td>2.000000</td>\n",
              "      <td>2.000000</td>\n",
              "      <td>75.000000</td>\n",
              "    </tr>\n",
              "    <tr>\n",
              "      <th>max</th>\n",
              "      <td>10000.00000</td>\n",
              "      <td>13.000000</td>\n",
              "      <td>109.000000</td>\n",
              "      <td>8.000000</td>\n",
              "      <td>14.000000</td>\n",
              "      <td>4.000000</td>\n",
              "      <td>4.000000</td>\n",
              "      <td>100.000000</td>\n",
              "    </tr>\n",
              "  </tbody>\n",
              "</table>\n",
              "</div>"
            ],
            "text/plain": [
              "                ID          Age  Weight (lbs)  Daily Walk Distance (miles)  \\\n",
              "count  10000.00000  9709.000000   9709.000000                  9706.000000   \n",
              "mean    5000.50000     7.063858     50.202493                     2.527818   \n",
              "std     2886.89568     3.751616     14.900010                     1.458157   \n",
              "min        1.00000     1.000000     10.000000                     0.000000   \n",
              "25%     2500.75000     4.000000     40.000000                     1.250000   \n",
              "50%     5000.50000     7.000000     50.000000                     3.000000   \n",
              "75%     7500.25000    10.000000     60.000000                     3.000000   \n",
              "max    10000.00000    13.000000    109.000000                     8.000000   \n",
              "\n",
              "       Hours of Sleep  Play Time (hrs)  Annual Vet Visits  \\\n",
              "count     9721.000000      9691.000000        9694.000000   \n",
              "mean        11.006995         1.524095           1.474727   \n",
              "std          1.463321         0.979939           1.152881   \n",
              "min          8.000000         0.000000           0.000000   \n",
              "25%         10.000000         1.000000           1.000000   \n",
              "50%         11.000000         2.000000           1.000000   \n",
              "75%         12.000000         2.000000           2.000000   \n",
              "max         14.000000         4.000000           4.000000   \n",
              "\n",
              "       Average Temperature (F)  \n",
              "count              9655.000000  \n",
              "mean                 64.559606  \n",
              "std                  14.824669  \n",
              "min                  30.000000  \n",
              "25%                  54.000000  \n",
              "50%                  64.000000  \n",
              "75%                  75.000000  \n",
              "max                 100.000000  "
            ]
          },
          "execution_count": 9,
          "metadata": {},
          "output_type": "execute_result"
        }
      ],
      "source": [
        "numeric_feature, numeric_stat = tabular.numeric_stat_report(df)\n",
        "numeric_stat"
      ]
    },
    {
      "cell_type": "code",
      "execution_count": 10,
      "id": "141e96b2",
      "metadata": {},
      "outputs": [],
      "source": [
        "df = df.drop(columns=[\"ID\"])"
      ]
    },
    {
      "cell_type": "code",
      "execution_count": 11,
      "id": "c7210216",
      "metadata": {
        "colab": {
          "base_uri": "https://localhost:8080/",
          "height": 1000
        },
        "id": "c7210216",
        "outputId": "32468897-1217-4234-fde5-8fe6e38e8cf4"
      },
      "outputs": [
        {
          "data": {
            "image/png": "[encoded data removed]",
            "text/plain": [
              "<Figure size 1500x1000 with 9 Axes>"
            ]
          },
          "metadata": {},
          "output_type": "display_data"
        }
      ],
      "source": [
        "tabular.numeric_plot(df=df, config=None, plot=\"histogram\")"
      ]
    },
    {
      "cell_type": "code",
      "execution_count": 12,
      "id": "8433992c",
      "metadata": {
        "colab": {
          "base_uri": "https://localhost:8080/",
          "height": 1000
        },
        "id": "8433992c",
        "outputId": "b35eb8d2-b2fb-4eb8-8848-f0251788f454"
      },
      "outputs": [
        {
          "data": {
            "image/png": "[encoded data removed]",
            "text/plain": [
              "<Figure size 1500x1000 with 9 Axes>"
            ]
          },
          "metadata": {},
          "output_type": "display_data"
        }
      ],
      "source": [
        "tabular.numeric_plot(df=df, config=None, plot=\"boxplot\")"
      ]
    },
    {
      "cell_type": "code",
      "execution_count": 13,
      "id": "2bc38746",
      "metadata": {
        "colab": {
          "base_uri": "https://localhost:8080/",
          "height": 1000
        },
        "id": "2bc38746",
        "outputId": "ca00b3b6-16a4-472f-8b78-f5b72850ddcc"
      },
      "outputs": [
        {
          "name": "stdout",
          "output_type": "stream",
          "text": [
            "================== Top 10 Breed ==================\n",
            "Unique value: 15\n",
            "Missing value: 290\n"
          ]
        },
        {
          "data": {
            "application/vnd.microsoft.datawrangler.viewer.v0+json": {
              "columns": [
                {
                  "name": "Breed",
                  "rawType": "object",
                  "type": "string"
                },
                {
                  "name": "count",
                  "rawType": "int64",
                  "type": "integer"
                }
              ],
              "ref": "891fccb0-8471-4e1a-982d-ebc2494e05c7",
              "rows": [
                [
                  "Bulldog",
                  "685"
                ],
                [
                  "Beagle",
                  "682"
                ],
                [
                  "Australian Shepherd",
                  "668"
                ],
                [
                  "Dachshund",
                  "667"
                ],
                [
                  "Golden Retriever",
                  "660"
                ],
                [
                  "Chihuahua",
                  "658"
                ],
                [
                  "Siberian Husky",
                  "652"
                ],
                [
                  "Labrador Retriever",
                  "640"
                ],
                [
                  "Boxer",
                  "636"
                ],
                [
                  "Doberman",
                  "636"
                ]
              ],
              "shape": {
                "columns": 1,
                "rows": 10
              }
            },
            "text/plain": [
              "Breed\n",
              "Bulldog                685\n",
              "Beagle                 682\n",
              "Australian Shepherd    668\n",
              "Dachshund              667\n",
              "Golden Retriever       660\n",
              "Chihuahua              658\n",
              "Siberian Husky         652\n",
              "Labrador Retriever     640\n",
              "Boxer                  636\n",
              "Doberman               636\n",
              "Name: count, dtype: int64"
            ]
          },
          "metadata": {},
          "output_type": "display_data"
        },
        {
          "name": "stdout",
          "output_type": "stream",
          "text": [
            "================== Top 10 Breed Size ==================\n",
            "Unique value: 3\n",
            "Missing value: 288\n"
          ]
        },
        {
          "data": {
            "application/vnd.microsoft.datawrangler.viewer.v0+json": {
              "columns": [
                {
                  "name": "Breed Size",
                  "rawType": "object",
                  "type": "string"
                },
                {
                  "name": "count",
                  "rawType": "int64",
                  "type": "integer"
                }
              ],
              "ref": "43e90c94-23f6-438c-b232-205f510f8d2f",
              "rows": [
                [
                  "Large",
                  "3824"
                ],
                [
                  "Small",
                  "3232"
                ],
                [
                  "Medium",
                  "2656"
                ]
              ],
              "shape": {
                "columns": 1,
                "rows": 3
              }
            },
            "text/plain": [
              "Breed Size\n",
              "Large     3824\n",
              "Small     3232\n",
              "Medium    2656\n",
              "Name: count, dtype: int64"
            ]
          },
          "metadata": {},
          "output_type": "display_data"
        },
        {
          "name": "stdout",
          "output_type": "stream",
          "text": [
            "================== Top 10 Sex ==================\n",
            "Unique value: 2\n",
            "Missing value: 325\n"
          ]
        },
        {
          "data": {
            "application/vnd.microsoft.datawrangler.viewer.v0+json": {
              "columns": [
                {
                  "name": "Sex",
                  "rawType": "object",
                  "type": "string"
                },
                {
                  "name": "count",
                  "rawType": "int64",
                  "type": "integer"
                }
              ],
              "ref": "74cdd708-076c-4f9d-b68a-3c78a918f3e0",
              "rows": [
                [
                  "Male",
                  "4890"
                ],
                [
                  "Female",
                  "4785"
                ]
              ],
              "shape": {
                "columns": 1,
                "rows": 2
              }
            },
            "text/plain": [
              "Sex\n",
              "Male      4890\n",
              "Female    4785\n",
              "Name: count, dtype: int64"
            ]
          },
          "metadata": {},
          "output_type": "display_data"
        },
        {
          "name": "stdout",
          "output_type": "stream",
          "text": [
            "================== Top 10 Spay/Neuter Status ==================\n",
            "Unique value: 2\n",
            "Missing value: 3567\n"
          ]
        },
        {
          "data": {
            "application/vnd.microsoft.datawrangler.viewer.v0+json": {
              "columns": [
                {
                  "name": "Spay/Neuter Status",
                  "rawType": "object",
                  "type": "string"
                },
                {
                  "name": "count",
                  "rawType": "int64",
                  "type": "integer"
                }
              ],
              "ref": "50f1f385-7f23-4e82-81e5-178b9c6d4cbe",
              "rows": [
                [
                  "Spayed",
                  "3222"
                ],
                [
                  "Neutered",
                  "3211"
                ]
              ],
              "shape": {
                "columns": 1,
                "rows": 2
              }
            },
            "text/plain": [
              "Spay/Neuter Status\n",
              "Spayed      3222\n",
              "Neutered    3211\n",
              "Name: count, dtype: int64"
            ]
          },
          "metadata": {},
          "output_type": "display_data"
        },
        {
          "name": "stdout",
          "output_type": "stream",
          "text": [
            "================== Top 10 Daily Activity Level ==================\n",
            "Unique value: 4\n",
            "Missing value: 2230\n"
          ]
        },
        {
          "data": {
            "application/vnd.microsoft.datawrangler.viewer.v0+json": {
              "columns": [
                {
                  "name": "Daily Activity Level",
                  "rawType": "object",
                  "type": "string"
                },
                {
                  "name": "count",
                  "rawType": "int64",
                  "type": "integer"
                }
              ],
              "ref": "243e2f64-41b3-4b3b-a4da-121cf0f4e32a",
              "rows": [
                [
                  "Active",
                  "1961"
                ],
                [
                  "Low",
                  "1952"
                ],
                [
                  "Moderate",
                  "1939"
                ],
                [
                  "Very Active",
                  "1918"
                ]
              ],
              "shape": {
                "columns": 1,
                "rows": 4
              }
            },
            "text/plain": [
              "Daily Activity Level\n",
              "Active         1961\n",
              "Low            1952\n",
              "Moderate       1939\n",
              "Very Active    1918\n",
              "Name: count, dtype: int64"
            ]
          },
          "metadata": {},
          "output_type": "display_data"
        },
        {
          "name": "stdout",
          "output_type": "stream",
          "text": [
            "================== Top 10 Diet ==================\n",
            "Unique value: 4\n",
            "Missing value: 302\n"
          ]
        },
        {
          "data": {
            "application/vnd.microsoft.datawrangler.viewer.v0+json": {
              "columns": [
                {
                  "name": "Diet",
                  "rawType": "object",
                  "type": "string"
                },
                {
                  "name": "count",
                  "rawType": "int64",
                  "type": "integer"
                }
              ],
              "ref": "3ee4ffef-3b1f-4c76-91d0-88564723bd22",
              "rows": [
                [
                  "Wet food",
                  "2501"
                ],
                [
                  "Home cooked",
                  "2475"
                ],
                [
                  "Hard food",
                  "2390"
                ],
                [
                  "Special diet",
                  "2332"
                ]
              ],
              "shape": {
                "columns": 1,
                "rows": 4
              }
            },
            "text/plain": [
              "Diet\n",
              "Wet food        2501\n",
              "Home cooked     2475\n",
              "Hard food       2390\n",
              "Special diet    2332\n",
              "Name: count, dtype: int64"
            ]
          },
          "metadata": {},
          "output_type": "display_data"
        },
        {
          "name": "stdout",
          "output_type": "stream",
          "text": [
            "================== Top 10 Food Brand ==================\n",
            "Unique value: 9\n",
            "Missing value: 300\n"
          ]
        },
        {
          "data": {
            "application/vnd.microsoft.datawrangler.viewer.v0+json": {
              "columns": [
                {
                  "name": "Food Brand",
                  "rawType": "object",
                  "type": "string"
                },
                {
                  "name": "count",
                  "rawType": "int64",
                  "type": "integer"
                }
              ],
              "ref": "c97522b7-40d4-4af4-bc0b-17490c2ef23d",
              "rows": [
                [
                  "Special",
                  "2484"
                ],
                [
                  "Wellness",
                  "976"
                ],
                [
                  "Iams",
                  "909"
                ],
                [
                  "Nutro",
                  "907"
                ],
                [
                  "Blue Buffalo",
                  "899"
                ],
                [
                  "Royal Canin",
                  "895"
                ],
                [
                  "Pedigree",
                  "887"
                ],
                [
                  "Hill's Science",
                  "878"
                ],
                [
                  "Purina",
                  "865"
                ]
              ],
              "shape": {
                "columns": 1,
                "rows": 9
              }
            },
            "text/plain": [
              "Food Brand\n",
              "Special           2484\n",
              "Wellness           976\n",
              "Iams               909\n",
              "Nutro              907\n",
              "Blue Buffalo       899\n",
              "Royal Canin        895\n",
              "Pedigree           887\n",
              "Hill's Science     878\n",
              "Purina             865\n",
              "Name: count, dtype: int64"
            ]
          },
          "metadata": {},
          "output_type": "display_data"
        },
        {
          "name": "stdout",
          "output_type": "stream",
          "text": [
            "================== Top 10 Other Pets in Household ==================\n",
            "Unique value: 2\n",
            "Missing value: 298\n"
          ]
        },
        {
          "data": {
            "application/vnd.microsoft.datawrangler.viewer.v0+json": {
              "columns": [
                {
                  "name": "Other Pets in Household",
                  "rawType": "object",
                  "type": "string"
                },
                {
                  "name": "count",
                  "rawType": "int64",
                  "type": "integer"
                }
              ],
              "ref": "c8eb3d70-f341-4331-b103-09f2aacc3357",
              "rows": [
                [
                  "No",
                  "4922"
                ],
                [
                  "Yes",
                  "4780"
                ]
              ],
              "shape": {
                "columns": 1,
                "rows": 2
              }
            },
            "text/plain": [
              "Other Pets in Household\n",
              "No     4922\n",
              "Yes    4780\n",
              "Name: count, dtype: int64"
            ]
          },
          "metadata": {},
          "output_type": "display_data"
        },
        {
          "name": "stdout",
          "output_type": "stream",
          "text": [
            "================== Top 10 Medications ==================\n",
            "Unique value: 2\n",
            "Missing value: 249\n"
          ]
        },
        {
          "data": {
            "application/vnd.microsoft.datawrangler.viewer.v0+json": {
              "columns": [
                {
                  "name": "Medications",
                  "rawType": "object",
                  "type": "string"
                },
                {
                  "name": "count",
                  "rawType": "int64",
                  "type": "integer"
                }
              ],
              "ref": "b8800714-3abd-4a3f-acb7-4f87c6926440",
              "rows": [
                [
                  "No",
                  "4938"
                ],
                [
                  "Yes",
                  "4813"
                ]
              ],
              "shape": {
                "columns": 1,
                "rows": 2
              }
            },
            "text/plain": [
              "Medications\n",
              "No     4938\n",
              "Yes    4813\n",
              "Name: count, dtype: int64"
            ]
          },
          "metadata": {},
          "output_type": "display_data"
        },
        {
          "name": "stdout",
          "output_type": "stream",
          "text": [
            "================== Top 10 Seizures ==================\n",
            "Unique value: 2\n",
            "Missing value: 301\n"
          ]
        },
        {
          "data": {
            "application/vnd.microsoft.datawrangler.viewer.v0+json": {
              "columns": [
                {
                  "name": "Seizures",
                  "rawType": "object",
                  "type": "string"
                },
                {
                  "name": "count",
                  "rawType": "int64",
                  "type": "integer"
                }
              ],
              "ref": "ebfb12af-1f99-4516-95b5-c98cdd8eb420",
              "rows": [
                [
                  "No",
                  "9214"
                ],
                [
                  "Yes",
                  "485"
                ]
              ],
              "shape": {
                "columns": 1,
                "rows": 2
              }
            },
            "text/plain": [
              "Seizures\n",
              "No     9214\n",
              "Yes     485\n",
              "Name: count, dtype: int64"
            ]
          },
          "metadata": {},
          "output_type": "display_data"
        },
        {
          "name": "stdout",
          "output_type": "stream",
          "text": [
            "================== Top 10 Owner Activity Level ==================\n",
            "Unique value: 4\n",
            "Missing value: 2227\n"
          ]
        },
        {
          "data": {
            "application/vnd.microsoft.datawrangler.viewer.v0+json": {
              "columns": [
                {
                  "name": "Owner Activity Level",
                  "rawType": "object",
                  "type": "string"
                },
                {
                  "name": "count",
                  "rawType": "int64",
                  "type": "integer"
                }
              ],
              "ref": "74c59a18-874f-4762-88f7-2bfa74075d83",
              "rows": [
                [
                  "Very Active",
                  "1993"
                ],
                [
                  "Active",
                  "1959"
                ],
                [
                  "Moderate",
                  "1920"
                ],
                [
                  "Low",
                  "1901"
                ]
              ],
              "shape": {
                "columns": 1,
                "rows": 4
              }
            },
            "text/plain": [
              "Owner Activity Level\n",
              "Very Active    1993\n",
              "Active         1959\n",
              "Moderate       1920\n",
              "Low            1901\n",
              "Name: count, dtype: int64"
            ]
          },
          "metadata": {},
          "output_type": "display_data"
        },
        {
          "name": "stdout",
          "output_type": "stream",
          "text": [
            "================== Top 10 Synthetic ==================\n",
            "Unique value: 1\n",
            "Missing value: 310\n"
          ]
        },
        {
          "data": {
            "application/vnd.microsoft.datawrangler.viewer.v0+json": {
              "columns": [
                {
                  "name": "Synthetic",
                  "rawType": "object",
                  "type": "string"
                },
                {
                  "name": "count",
                  "rawType": "int64",
                  "type": "integer"
                }
              ],
              "ref": "bc197736-d8f2-42c5-b382-f6653e142285",
              "rows": [
                [
                  "Yes",
                  "9690"
                ]
              ],
              "shape": {
                "columns": 1,
                "rows": 1
              }
            },
            "text/plain": [
              "Synthetic\n",
              "Yes    9690\n",
              "Name: count, dtype: int64"
            ]
          },
          "metadata": {},
          "output_type": "display_data"
        },
        {
          "name": "stdout",
          "output_type": "stream",
          "text": [
            "================== Top 10 Healthy ==================\n",
            "Unique value: 2\n",
            "Missing value: 322\n"
          ]
        },
        {
          "data": {
            "application/vnd.microsoft.datawrangler.viewer.v0+json": {
              "columns": [
                {
                  "name": "Healthy",
                  "rawType": "object",
                  "type": "string"
                },
                {
                  "name": "count",
                  "rawType": "int64",
                  "type": "integer"
                }
              ],
              "ref": "89b1d56c-670f-49bf-ae82-f578ddc929b9",
              "rows": [
                [
                  "Yes",
                  "7178"
                ],
                [
                  "No",
                  "2500"
                ]
              ],
              "shape": {
                "columns": 1,
                "rows": 2
              }
            },
            "text/plain": [
              "Healthy\n",
              "Yes    7178\n",
              "No     2500\n",
              "Name: count, dtype: int64"
            ]
          },
          "metadata": {},
          "output_type": "display_data"
        }
      ],
      "source": [
        "categorical_feature = tabular.categorical_stat_report(df)"
      ]
    },
    {
      "cell_type": "markdown",
      "id": "0671ee32",
      "metadata": {
        "id": "0671ee32"
      },
      "source": [
        "# **Preprocessing**"
      ]
    },
    {
      "cell_type": "code",
      "execution_count": 14,
      "id": "f8678fba",
      "metadata": {
        "id": "f8678fba"
      },
      "outputs": [],
      "source": [
        "cols = numeric_feature + categorical_feature\n",
        "use_cols = [x for x in cols if x not in {\"ID\", \"Spay/Neuter Status\", \"Daily Activity Level\", \"Owner Activity Level\"}]\n",
        "\n",
        "data = df[use_cols]"
      ]
    },
    {
      "cell_type": "code",
      "execution_count": 15,
      "id": "c985ffc2",
      "metadata": {
        "id": "c985ffc2"
      },
      "outputs": [],
      "source": [
        "target = \"Healthy\"\n",
        "data = data.dropna(subset=[target]) # Drop NA in target column"
      ]
    },
    {
      "cell_type": "code",
      "execution_count": 16,
      "id": "d474aa79",
      "metadata": {
        "id": "d474aa79"
      },
      "outputs": [],
      "source": [
        "# If you don't choose to dropna in other columns of dataset, comment this cell\n",
        "data = data.dropna()"
      ]
    },
    {
      "cell_type": "code",
      "execution_count": 17,
      "id": "971529ca",
      "metadata": {
        "id": "971529ca",
        "outputId": "04be19b4-d0a0-4ad3-8778-03c9063a6c58"
      },
      "outputs": [
        {
          "name": "stdout",
          "output_type": "stream",
          "text": [
            "X_train data Shape: (4758, 16)\n",
            "X_test data Shape: (1190, 16)\n"
          ]
        }
      ],
      "source": [
        "X = data.drop(columns=target)\n",
        "y = data[target]\n",
        "X_train, X_test, y_train, y_test = train_test_split(X, y, test_size=0.2, random_state=42)\n",
        "\n",
        "print(f\"X_train data Shape: {X_train.shape}\")\n",
        "print(f\"X_test data Shape: {X_test.shape}\")\n",
        "\n",
        "y_train = y_train.to_frame()\n",
        "y_test = y_test.to_frame()"
      ]
    },
    {
      "cell_type": "code",
      "execution_count": 18,
      "id": "ab6bebec",
      "metadata": {
        "id": "ab6bebec",
        "outputId": "f357c36c-9099-44a3-d9fb-7c7b3d6fd446"
      },
      "outputs": [
        {
          "data": {
            "application/vnd.microsoft.datawrangler.viewer.v0+json": {
              "columns": [
                {
                  "name": "index",
                  "rawType": "int64",
                  "type": "integer"
                },
                {
                  "name": "Age",
                  "rawType": "float64",
                  "type": "float"
                },
                {
                  "name": "Weight (lbs)",
                  "rawType": "float64",
                  "type": "float"
                },
                {
                  "name": "Daily Walk Distance (miles)",
                  "rawType": "float64",
                  "type": "float"
                },
                {
                  "name": "Hours of Sleep",
                  "rawType": "float64",
                  "type": "float"
                },
                {
                  "name": "Play Time (hrs)",
                  "rawType": "float64",
                  "type": "float"
                },
                {
                  "name": "Annual Vet Visits",
                  "rawType": "float64",
                  "type": "float"
                },
                {
                  "name": "Average Temperature (F)",
                  "rawType": "float64",
                  "type": "float"
                },
                {
                  "name": "Breed",
                  "rawType": "object",
                  "type": "string"
                },
                {
                  "name": "Breed Size",
                  "rawType": "object",
                  "type": "string"
                },
                {
                  "name": "Sex",
                  "rawType": "object",
                  "type": "string"
                },
                {
                  "name": "Diet",
                  "rawType": "object",
                  "type": "string"
                },
                {
                  "name": "Food Brand",
                  "rawType": "object",
                  "type": "string"
                },
                {
                  "name": "Other Pets in Household",
                  "rawType": "object",
                  "type": "string"
                },
                {
                  "name": "Medications",
                  "rawType": "object",
                  "type": "string"
                },
                {
                  "name": "Seizures",
                  "rawType": "object",
                  "type": "string"
                },
                {
                  "name": "Synthetic",
                  "rawType": "object",
                  "type": "string"
                }
              ],
              "ref": "fe477ade-12ce-4c13-a269-378d2194da21",
              "rows": [
                [
                  "4426",
                  "8.0",
                  "46.0",
                  "4.0",
                  "11.0",
                  "1.0",
                  "3.0",
                  "85.0",
                  "Australian Shepherd",
                  "Medium",
                  "Female",
                  "Wet food",
                  "Blue Buffalo",
                  "Yes",
                  "Yes",
                  "No",
                  "Yes"
                ],
                [
                  "1065",
                  "9.0",
                  "71.0",
                  "3.0",
                  "10.0",
                  "1.0",
                  "1.0",
                  "38.0",
                  "Rottweiler",
                  "Large",
                  "Female",
                  "Home cooked",
                  "Special",
                  "No",
                  "No",
                  "No",
                  "Yes"
                ],
                [
                  "2133",
                  "8.0",
                  "23.0",
                  "3.0",
                  "12.0",
                  "1.0",
                  "3.0",
                  "70.0",
                  "Chihuahua",
                  "Small",
                  "Male",
                  "Home cooked",
                  "Special",
                  "No",
                  "No",
                  "No",
                  "Yes"
                ],
                [
                  "2387",
                  "1.0",
                  "38.0",
                  "1.0",
                  "10.0",
                  "4.0",
                  "3.0",
                  "45.0",
                  "Poodle",
                  "Small",
                  "Male",
                  "Hard food",
                  "Royal Canin",
                  "No",
                  "Yes",
                  "No",
                  "Yes"
                ],
                [
                  "8366",
                  "13.0",
                  "43.0",
                  "4.0",
                  "8.0",
                  "1.0",
                  "4.0",
                  "65.0",
                  "Great Dane",
                  "Large",
                  "Male",
                  "Home cooked",
                  "Special",
                  "No",
                  "Yes",
                  "No",
                  "Yes"
                ],
                [
                  "6430",
                  "10.0",
                  "81.0",
                  "3.0",
                  "8.0",
                  "1.0",
                  "0.0",
                  "90.0",
                  "German Shepherd",
                  "Large",
                  "Male",
                  "Hard food",
                  "Nutro",
                  "Yes",
                  "Yes",
                  "No",
                  "Yes"
                ],
                [
                  "9446",
                  "10.0",
                  "43.0",
                  "0.0",
                  "12.0",
                  "0.0",
                  "3.0",
                  "58.0",
                  "Chihuahua",
                  "Small",
                  "Female",
                  "Hard food",
                  "Iams",
                  "Yes",
                  "Yes",
                  "No",
                  "Yes"
                ],
                [
                  "9138",
                  "3.0",
                  "67.0",
                  "1.0",
                  "11.0",
                  "2.0",
                  "0.0",
                  "77.0",
                  "Doberman",
                  "Large",
                  "Female",
                  "Home cooked",
                  "Special",
                  "Yes",
                  "Yes",
                  "No",
                  "Yes"
                ],
                [
                  "8856",
                  "10.0",
                  "31.0",
                  "1.0",
                  "10.0",
                  "3.0",
                  "2.0",
                  "60.0",
                  "Dachshund",
                  "Small",
                  "Male",
                  "Wet food",
                  "Royal Canin",
                  "No",
                  "Yes",
                  "No",
                  "Yes"
                ],
                [
                  "3506",
                  "7.0",
                  "83.0",
                  "5.0",
                  "11.0",
                  "3.0",
                  "1.0",
                  "30.0",
                  "German Shepherd",
                  "Large",
                  "Male",
                  "Home cooked",
                  "Special",
                  "Yes",
                  "Yes",
                  "No",
                  "Yes"
                ],
                [
                  "7266",
                  "6.0",
                  "28.0",
                  "3.0",
                  "12.0",
                  "1.0",
                  "2.0",
                  "74.0",
                  "Rottweiler",
                  "Large",
                  "Female",
                  "Hard food",
                  "Wellness",
                  "No",
                  "Yes",
                  "No",
                  "Yes"
                ],
                [
                  "3778",
                  "1.0",
                  "63.0",
                  "0.0",
                  "10.0",
                  "2.0",
                  "1.0",
                  "62.0",
                  "Australian Shepherd",
                  "Medium",
                  "Male",
                  "Hard food",
                  "Hill's Science",
                  "Yes",
                  "No",
                  "No",
                  "Yes"
                ],
                [
                  "1086",
                  "10.0",
                  "57.0",
                  "1.0",
                  "10.0",
                  "2.0",
                  "0.0",
                  "78.0",
                  "Great Dane",
                  "Large",
                  "Female",
                  "Home cooked",
                  "Special",
                  "Yes",
                  "No",
                  "No",
                  "Yes"
                ],
                [
                  "727",
                  "10.0",
                  "65.0",
                  "0.0",
                  "11.0",
                  "2.0",
                  "1.0",
                  "44.0",
                  "Poodle",
                  "Small",
                  "Female",
                  "Hard food",
                  "Nutro",
                  "No",
                  "No",
                  "No",
                  "Yes"
                ],
                [
                  "9078",
                  "3.0",
                  "49.0",
                  "2.0",
                  "14.0",
                  "3.0",
                  "0.0",
                  "46.0",
                  "Dachshund",
                  "Small",
                  "Male",
                  "Home cooked",
                  "Special",
                  "Yes",
                  "No",
                  "No",
                  "Yes"
                ],
                [
                  "2577",
                  "7.0",
                  "30.0",
                  "2.0",
                  "13.0",
                  "1.0",
                  "2.0",
                  "66.0",
                  "Beagle",
                  "Small",
                  "Male",
                  "Special diet",
                  "Nutro",
                  "No",
                  "No",
                  "No",
                  "Yes"
                ],
                [
                  "4316",
                  "6.0",
                  "44.0",
                  "4.0",
                  "12.0",
                  "1.0",
                  "2.0",
                  "48.0",
                  "Boxer",
                  "Medium",
                  "Male",
                  "Hard food",
                  "Blue Buffalo",
                  "Yes",
                  "No",
                  "No",
                  "Yes"
                ],
                [
                  "5409",
                  "8.0",
                  "36.0",
                  "3.0",
                  "13.0",
                  "1.0",
                  "1.0",
                  "44.0",
                  "Chihuahua",
                  "Small",
                  "Male",
                  "Home cooked",
                  "Special",
                  "Yes",
                  "No",
                  "No",
                  "Yes"
                ],
                [
                  "2288",
                  "7.0",
                  "35.0",
                  "2.0",
                  "11.0",
                  "3.0",
                  "2.0",
                  "40.0",
                  "German Shepherd",
                  "Large",
                  "Female",
                  "Hard food",
                  "Purina",
                  "No",
                  "Yes",
                  "No",
                  "Yes"
                ],
                [
                  "7450",
                  "12.0",
                  "55.0",
                  "3.0",
                  "10.0",
                  "4.0",
                  "0.0",
                  "82.0",
                  "Yorkshire Terrier",
                  "Small",
                  "Female",
                  "Special diet",
                  "Purina",
                  "Yes",
                  "No",
                  "No",
                  "Yes"
                ],
                [
                  "1358",
                  "9.0",
                  "51.0",
                  "4.0",
                  "12.0",
                  "2.0",
                  "2.0",
                  "73.0",
                  "Poodle",
                  "Small",
                  "Male",
                  "Home cooked",
                  "Special",
                  "No",
                  "Yes",
                  "No",
                  "Yes"
                ],
                [
                  "1815",
                  "9.0",
                  "63.0",
                  "2.0",
                  "10.0",
                  "3.0",
                  "2.0",
                  "51.0",
                  "Australian Shepherd",
                  "Medium",
                  "Male",
                  "Wet food",
                  "Blue Buffalo",
                  "No",
                  "Yes",
                  "Yes",
                  "Yes"
                ],
                [
                  "2818",
                  "5.0",
                  "69.0",
                  "3.0",
                  "11.0",
                  "2.0",
                  "2.0",
                  "84.0",
                  "Great Dane",
                  "Large",
                  "Male",
                  "Home cooked",
                  "Special",
                  "Yes",
                  "No",
                  "No",
                  "Yes"
                ],
                [
                  "6718",
                  "7.0",
                  "48.0",
                  "1.0",
                  "11.0",
                  "2.0",
                  "0.0",
                  "44.0",
                  "Doberman",
                  "Large",
                  "Male",
                  "Special diet",
                  "Pedigree",
                  "Yes",
                  "No",
                  "No",
                  "Yes"
                ],
                [
                  "6952",
                  "1.0",
                  "52.0",
                  "4.0",
                  "11.0",
                  "2.0",
                  "0.0",
                  "55.0",
                  "Yorkshire Terrier",
                  "Small",
                  "Male",
                  "Hard food",
                  "Nutro",
                  "No",
                  "No",
                  "No",
                  "Yes"
                ],
                [
                  "9574",
                  "10.0",
                  "53.0",
                  "2.0",
                  "14.0",
                  "3.0",
                  "1.0",
                  "78.0",
                  "Dachshund",
                  "Small",
                  "Female",
                  "Wet food",
                  "Hill's Science",
                  "No",
                  "No",
                  "No",
                  "Yes"
                ],
                [
                  "7411",
                  "5.0",
                  "50.0",
                  "4.0",
                  "12.0",
                  "0.0",
                  "0.0",
                  "78.0",
                  "Australian Shepherd",
                  "Medium",
                  "Male",
                  "Hard food",
                  "Wellness",
                  "No",
                  "Yes",
                  "No",
                  "Yes"
                ],
                [
                  "1392",
                  "12.0",
                  "62.0",
                  "0.0",
                  "10.0",
                  "1.0",
                  "3.0",
                  "52.0",
                  "Dachshund",
                  "Small",
                  "Female",
                  "Special diet",
                  "Purina",
                  "No",
                  "No",
                  "No",
                  "Yes"
                ],
                [
                  "2321",
                  "5.0",
                  "70.0",
                  "3.0",
                  "11.0",
                  "1.0",
                  "1.0",
                  "59.0",
                  "Australian Shepherd",
                  "Medium",
                  "Female",
                  "Special diet",
                  "Blue Buffalo",
                  "Yes",
                  "No",
                  "No",
                  "Yes"
                ],
                [
                  "7053",
                  "4.0",
                  "32.0",
                  "0.0",
                  "12.0",
                  "0.0",
                  "0.0",
                  "61.0",
                  "Poodle",
                  "Small",
                  "Male",
                  "Home cooked",
                  "Special",
                  "Yes",
                  "No",
                  "No",
                  "Yes"
                ],
                [
                  "4400",
                  "12.0",
                  "25.0",
                  "2.0",
                  "12.0",
                  "0.0",
                  "2.0",
                  "54.0",
                  "German Shepherd",
                  "Large",
                  "Female",
                  "Special diet",
                  "Wellness",
                  "Yes",
                  "Yes",
                  "No",
                  "Yes"
                ],
                [
                  "9233",
                  "2.0",
                  "34.0",
                  "5.0",
                  "10.0",
                  "2.0",
                  "1.0",
                  "59.0",
                  "Yorkshire Terrier",
                  "Small",
                  "Female",
                  "Home cooked",
                  "Special",
                  "Yes",
                  "No",
                  "No",
                  "Yes"
                ],
                [
                  "2611",
                  "7.0",
                  "51.0",
                  "3.0",
                  "11.0",
                  "0.0",
                  "2.0",
                  "35.0",
                  "Chihuahua",
                  "Small",
                  "Male",
                  "Wet food",
                  "Royal Canin",
                  "Yes",
                  "Yes",
                  "No",
                  "Yes"
                ],
                [
                  "5282",
                  "3.0",
                  "39.0",
                  "2.0",
                  "12.0",
                  "3.0",
                  "4.0",
                  "59.0",
                  "Siberian Husky",
                  "Medium",
                  "Male",
                  "Special diet",
                  "Hill's Science",
                  "Yes",
                  "No",
                  "No",
                  "Yes"
                ],
                [
                  "1141",
                  "11.0",
                  "54.0",
                  "2.0",
                  "12.0",
                  "1.0",
                  "2.0",
                  "100.0",
                  "Chihuahua",
                  "Small",
                  "Male",
                  "Special diet",
                  "Iams",
                  "Yes",
                  "Yes",
                  "No",
                  "Yes"
                ],
                [
                  "4356",
                  "4.0",
                  "39.0",
                  "3.0",
                  "8.0",
                  "2.0",
                  "2.0",
                  "74.0",
                  "Beagle",
                  "Small",
                  "Female",
                  "Special diet",
                  "Nutro",
                  "Yes",
                  "Yes",
                  "No",
                  "Yes"
                ],
                [
                  "4394",
                  "5.0",
                  "52.0",
                  "2.0",
                  "11.0",
                  "0.0",
                  "1.0",
                  "82.0",
                  "Yorkshire Terrier",
                  "Small",
                  "Male",
                  "Hard food",
                  "Nutro",
                  "Yes",
                  "Yes",
                  "No",
                  "Yes"
                ],
                [
                  "324",
                  "2.0",
                  "49.0",
                  "2.0",
                  "11.0",
                  "1.0",
                  "3.0",
                  "67.0",
                  "Yorkshire Terrier",
                  "Small",
                  "Male",
                  "Special diet",
                  "Purina",
                  "No",
                  "Yes",
                  "No",
                  "Yes"
                ],
                [
                  "501",
                  "12.0",
                  "42.0",
                  "0.0",
                  "14.0",
                  "2.0",
                  "2.0",
                  "66.0",
                  "Poodle",
                  "Small",
                  "Female",
                  "Wet food",
                  "Iams",
                  "Yes",
                  "Yes",
                  "No",
                  "Yes"
                ],
                [
                  "6531",
                  "13.0",
                  "42.0",
                  "2.0",
                  "9.0",
                  "2.0",
                  "2.0",
                  "85.0",
                  "Great Dane",
                  "Large",
                  "Female",
                  "Wet food",
                  "Nutro",
                  "Yes",
                  "Yes",
                  "No",
                  "Yes"
                ],
                [
                  "3158",
                  "6.0",
                  "44.0",
                  "2.0",
                  "11.0",
                  "0.0",
                  "1.0",
                  "50.0",
                  "Bulldog",
                  "Medium",
                  "Male",
                  "Wet food",
                  "Nutro",
                  "No",
                  "Yes",
                  "No",
                  "Yes"
                ],
                [
                  "4522",
                  "10.0",
                  "55.0",
                  "3.0",
                  "12.0",
                  "0.0",
                  "3.0",
                  "65.0",
                  "Boxer",
                  "Medium",
                  "Male",
                  "Wet food",
                  "Hill's Science",
                  "No",
                  "No",
                  "No",
                  "Yes"
                ],
                [
                  "9630",
                  "11.0",
                  "77.0",
                  "6.0",
                  "10.0",
                  "2.0",
                  "2.0",
                  "60.0",
                  "Siberian Husky",
                  "Medium",
                  "Female",
                  "Hard food",
                  "Wellness",
                  "Yes",
                  "No",
                  "No",
                  "Yes"
                ],
                [
                  "6014",
                  "2.0",
                  "43.0",
                  "4.0",
                  "11.0",
                  "1.0",
                  "1.0",
                  "54.0",
                  "Dachshund",
                  "Small",
                  "Male",
                  "Home cooked",
                  "Special",
                  "Yes",
                  "Yes",
                  "No",
                  "Yes"
                ],
                [
                  "3889",
                  "7.0",
                  "46.0",
                  "1.0",
                  "10.0",
                  "2.0",
                  "3.0",
                  "61.0",
                  "Siberian Husky",
                  "Medium",
                  "Female",
                  "Wet food",
                  "Purina",
                  "Yes",
                  "No",
                  "No",
                  "Yes"
                ],
                [
                  "8601",
                  "1.0",
                  "65.0",
                  "4.0",
                  "11.0",
                  "2.0",
                  "2.0",
                  "65.0",
                  "Dachshund",
                  "Small",
                  "Male",
                  "Hard food",
                  "Iams",
                  "Yes",
                  "No",
                  "No",
                  "Yes"
                ],
                [
                  "4194",
                  "1.0",
                  "67.0",
                  "5.0",
                  "11.0",
                  "0.0",
                  "2.0",
                  "44.0",
                  "Chihuahua",
                  "Small",
                  "Male",
                  "Special diet",
                  "Nutro",
                  "Yes",
                  "Yes",
                  "No",
                  "Yes"
                ],
                [
                  "3536",
                  "13.0",
                  "22.0",
                  "2.0",
                  "12.0",
                  "1.0",
                  "3.0",
                  "76.0",
                  "Yorkshire Terrier",
                  "Small",
                  "Female",
                  "Hard food",
                  "Nutro",
                  "Yes",
                  "Yes",
                  "No",
                  "Yes"
                ],
                [
                  "5488",
                  "13.0",
                  "55.0",
                  "4.0",
                  "11.0",
                  "2.0",
                  "2.0",
                  "30.0",
                  "Great Dane",
                  "Large",
                  "Female",
                  "Home cooked",
                  "Special",
                  "Yes",
                  "Yes",
                  "No",
                  "Yes"
                ],
                [
                  "4894",
                  "4.0",
                  "63.0",
                  "5.0",
                  "11.0",
                  "3.0",
                  "2.0",
                  "56.0",
                  "Poodle",
                  "Small",
                  "Male",
                  "Special diet",
                  "Purina",
                  "No",
                  "Yes",
                  "No",
                  "Yes"
                ]
              ],
              "shape": {
                "columns": 16,
                "rows": 4758
              }
            },
            "text/html": [
              "<div>\n",
              "<style scoped>\n",
              "    .dataframe tbody tr th:only-of-type {\n",
              "        vertical-align: middle;\n",
              "    }\n",
              "\n",
              "    .dataframe tbody tr th {\n",
              "        vertical-align: top;\n",
              "    }\n",
              "\n",
              "    .dataframe thead th {\n",
              "        text-align: right;\n",
              "    }\n",
              "</style>\n",
              "<table border=\"1\" class=\"dataframe\">\n",
              "  <thead>\n",
              "    <tr style=\"text-align: right;\">\n",
              "      <th></th>\n",
              "      <th>Age</th>\n",
              "      <th>Weight (lbs)</th>\n",
              "      <th>Daily Walk Distance (miles)</th>\n",
              "      <th>Hours of Sleep</th>\n",
              "      <th>Play Time (hrs)</th>\n",
              "      <th>Annual Vet Visits</th>\n",
              "      <th>Average Temperature (F)</th>\n",
              "      <th>Breed</th>\n",
              "      <th>Breed Size</th>\n",
              "      <th>Sex</th>\n",
              "      <th>Diet</th>\n",
              "      <th>Food Brand</th>\n",
              "      <th>Other Pets in Household</th>\n",
              "      <th>Medications</th>\n",
              "      <th>Seizures</th>\n",
              "      <th>Synthetic</th>\n",
              "    </tr>\n",
              "  </thead>\n",
              "  <tbody>\n",
              "    <tr>\n",
              "      <th>4426</th>\n",
              "      <td>8.0</td>\n",
              "      <td>46.0</td>\n",
              "      <td>4.0</td>\n",
              "      <td>11.0</td>\n",
              "      <td>1.0</td>\n",
              "      <td>3.0</td>\n",
              "      <td>85.0</td>\n",
              "      <td>Australian Shepherd</td>\n",
              "      <td>Medium</td>\n",
              "      <td>Female</td>\n",
              "      <td>Wet food</td>\n",
              "      <td>Blue Buffalo</td>\n",
              "      <td>Yes</td>\n",
              "      <td>Yes</td>\n",
              "      <td>No</td>\n",
              "      <td>Yes</td>\n",
              "    </tr>\n",
              "    <tr>\n",
              "      <th>1065</th>\n",
              "      <td>9.0</td>\n",
              "      <td>71.0</td>\n",
              "      <td>3.0</td>\n",
              "      <td>10.0</td>\n",
              "      <td>1.0</td>\n",
              "      <td>1.0</td>\n",
              "      <td>38.0</td>\n",
              "      <td>Rottweiler</td>\n",
              "      <td>Large</td>\n",
              "      <td>Female</td>\n",
              "      <td>Home cooked</td>\n",
              "      <td>Special</td>\n",
              "      <td>No</td>\n",
              "      <td>No</td>\n",
              "      <td>No</td>\n",
              "      <td>Yes</td>\n",
              "    </tr>\n",
              "    <tr>\n",
              "      <th>2133</th>\n",
              "      <td>8.0</td>\n",
              "      <td>23.0</td>\n",
              "      <td>3.0</td>\n",
              "      <td>12.0</td>\n",
              "      <td>1.0</td>\n",
              "      <td>3.0</td>\n",
              "      <td>70.0</td>\n",
              "      <td>Chihuahua</td>\n",
              "      <td>Small</td>\n",
              "      <td>Male</td>\n",
              "      <td>Home cooked</td>\n",
              "      <td>Special</td>\n",
              "      <td>No</td>\n",
              "      <td>No</td>\n",
              "      <td>No</td>\n",
              "      <td>Yes</td>\n",
              "    </tr>\n",
              "    <tr>\n",
              "      <th>2387</th>\n",
              "      <td>1.0</td>\n",
              "      <td>38.0</td>\n",
              "      <td>1.0</td>\n",
              "      <td>10.0</td>\n",
              "      <td>4.0</td>\n",
              "      <td>3.0</td>\n",
              "      <td>45.0</td>\n",
              "      <td>Poodle</td>\n",
              "      <td>Small</td>\n",
              "      <td>Male</td>\n",
              "      <td>Hard food</td>\n",
              "      <td>Royal Canin</td>\n",
              "      <td>No</td>\n",
              "      <td>Yes</td>\n",
              "      <td>No</td>\n",
              "      <td>Yes</td>\n",
              "    </tr>\n",
              "    <tr>\n",
              "      <th>8366</th>\n",
              "      <td>13.0</td>\n",
              "      <td>43.0</td>\n",
              "      <td>4.0</td>\n",
              "      <td>8.0</td>\n",
              "      <td>1.0</td>\n",
              "      <td>4.0</td>\n",
              "      <td>65.0</td>\n",
              "      <td>Great Dane</td>\n",
              "      <td>Large</td>\n",
              "      <td>Male</td>\n",
              "      <td>Home cooked</td>\n",
              "      <td>Special</td>\n",
              "      <td>No</td>\n",
              "      <td>Yes</td>\n",
              "      <td>No</td>\n",
              "      <td>Yes</td>\n",
              "    </tr>\n",
              "    <tr>\n",
              "      <th>...</th>\n",
              "      <td>...</td>\n",
              "      <td>...</td>\n",
              "      <td>...</td>\n",
              "      <td>...</td>\n",
              "      <td>...</td>\n",
              "      <td>...</td>\n",
              "      <td>...</td>\n",
              "      <td>...</td>\n",
              "      <td>...</td>\n",
              "      <td>...</td>\n",
              "      <td>...</td>\n",
              "      <td>...</td>\n",
              "      <td>...</td>\n",
              "      <td>...</td>\n",
              "      <td>...</td>\n",
              "      <td>...</td>\n",
              "    </tr>\n",
              "    <tr>\n",
              "      <th>6281</th>\n",
              "      <td>3.0</td>\n",
              "      <td>88.0</td>\n",
              "      <td>2.0</td>\n",
              "      <td>11.0</td>\n",
              "      <td>2.0</td>\n",
              "      <td>2.0</td>\n",
              "      <td>60.0</td>\n",
              "      <td>Labrador Retriever</td>\n",
              "      <td>Large</td>\n",
              "      <td>Female</td>\n",
              "      <td>Hard food</td>\n",
              "      <td>Pedigree</td>\n",
              "      <td>No</td>\n",
              "      <td>No</td>\n",
              "      <td>No</td>\n",
              "      <td>Yes</td>\n",
              "    </tr>\n",
              "    <tr>\n",
              "      <th>8710</th>\n",
              "      <td>6.0</td>\n",
              "      <td>59.0</td>\n",
              "      <td>3.0</td>\n",
              "      <td>9.0</td>\n",
              "      <td>3.0</td>\n",
              "      <td>0.0</td>\n",
              "      <td>72.0</td>\n",
              "      <td>Golden Retriever</td>\n",
              "      <td>Large</td>\n",
              "      <td>Female</td>\n",
              "      <td>Hard food</td>\n",
              "      <td>Blue Buffalo</td>\n",
              "      <td>Yes</td>\n",
              "      <td>No</td>\n",
              "      <td>No</td>\n",
              "      <td>Yes</td>\n",
              "    </tr>\n",
              "    <tr>\n",
              "      <th>8775</th>\n",
              "      <td>2.0</td>\n",
              "      <td>46.0</td>\n",
              "      <td>1.0</td>\n",
              "      <td>9.0</td>\n",
              "      <td>0.0</td>\n",
              "      <td>4.0</td>\n",
              "      <td>72.0</td>\n",
              "      <td>Yorkshire Terrier</td>\n",
              "      <td>Small</td>\n",
              "      <td>Female</td>\n",
              "      <td>Wet food</td>\n",
              "      <td>Blue Buffalo</td>\n",
              "      <td>Yes</td>\n",
              "      <td>No</td>\n",
              "      <td>No</td>\n",
              "      <td>Yes</td>\n",
              "    </tr>\n",
              "    <tr>\n",
              "      <th>9059</th>\n",
              "      <td>1.0</td>\n",
              "      <td>42.0</td>\n",
              "      <td>1.0</td>\n",
              "      <td>12.0</td>\n",
              "      <td>2.0</td>\n",
              "      <td>2.0</td>\n",
              "      <td>56.0</td>\n",
              "      <td>Labrador Retriever</td>\n",
              "      <td>Large</td>\n",
              "      <td>Female</td>\n",
              "      <td>Home cooked</td>\n",
              "      <td>Special</td>\n",
              "      <td>Yes</td>\n",
              "      <td>Yes</td>\n",
              "      <td>No</td>\n",
              "      <td>Yes</td>\n",
              "    </tr>\n",
              "    <tr>\n",
              "      <th>1396</th>\n",
              "      <td>1.0</td>\n",
              "      <td>41.0</td>\n",
              "      <td>0.0</td>\n",
              "      <td>12.0</td>\n",
              "      <td>2.0</td>\n",
              "      <td>1.0</td>\n",
              "      <td>59.0</td>\n",
              "      <td>Labrador Retriever</td>\n",
              "      <td>Large</td>\n",
              "      <td>Male</td>\n",
              "      <td>Home cooked</td>\n",
              "      <td>Special</td>\n",
              "      <td>Yes</td>\n",
              "      <td>No</td>\n",
              "      <td>No</td>\n",
              "      <td>Yes</td>\n",
              "    </tr>\n",
              "  </tbody>\n",
              "</table>\n",
              "<p>4758 rows × 16 columns</p>\n",
              "</div>"
            ],
            "text/plain": [
              "       Age  Weight (lbs)  Daily Walk Distance (miles)  Hours of Sleep  \\\n",
              "4426   8.0          46.0                          4.0            11.0   \n",
              "1065   9.0          71.0                          3.0            10.0   \n",
              "2133   8.0          23.0                          3.0            12.0   \n",
              "2387   1.0          38.0                          1.0            10.0   \n",
              "8366  13.0          43.0                          4.0             8.0   \n",
              "...    ...           ...                          ...             ...   \n",
              "6281   3.0          88.0                          2.0            11.0   \n",
              "8710   6.0          59.0                          3.0             9.0   \n",
              "8775   2.0          46.0                          1.0             9.0   \n",
              "9059   1.0          42.0                          1.0            12.0   \n",
              "1396   1.0          41.0                          0.0            12.0   \n",
              "\n",
              "      Play Time (hrs)  Annual Vet Visits  Average Temperature (F)  \\\n",
              "4426              1.0                3.0                     85.0   \n",
              "1065              1.0                1.0                     38.0   \n",
              "2133              1.0                3.0                     70.0   \n",
              "2387              4.0                3.0                     45.0   \n",
              "8366              1.0                4.0                     65.0   \n",
              "...               ...                ...                      ...   \n",
              "6281              2.0                2.0                     60.0   \n",
              "8710              3.0                0.0                     72.0   \n",
              "8775              0.0                4.0                     72.0   \n",
              "9059              2.0                2.0                     56.0   \n",
              "1396              2.0                1.0                     59.0   \n",
              "\n",
              "                    Breed Breed Size     Sex         Diet    Food Brand  \\\n",
              "4426  Australian Shepherd     Medium  Female     Wet food  Blue Buffalo   \n",
              "1065           Rottweiler      Large  Female  Home cooked       Special   \n",
              "2133            Chihuahua      Small    Male  Home cooked       Special   \n",
              "2387               Poodle      Small    Male    Hard food   Royal Canin   \n",
              "8366           Great Dane      Large    Male  Home cooked       Special   \n",
              "...                   ...        ...     ...          ...           ...   \n",
              "6281   Labrador Retriever      Large  Female    Hard food      Pedigree   \n",
              "8710     Golden Retriever      Large  Female    Hard food  Blue Buffalo   \n",
              "8775    Yorkshire Terrier      Small  Female     Wet food  Blue Buffalo   \n",
              "9059   Labrador Retriever      Large  Female  Home cooked       Special   \n",
              "1396   Labrador Retriever      Large    Male  Home cooked       Special   \n",
              "\n",
              "     Other Pets in Household Medications Seizures Synthetic  \n",
              "4426                     Yes         Yes       No       Yes  \n",
              "1065                      No          No       No       Yes  \n",
              "2133                      No          No       No       Yes  \n",
              "2387                      No         Yes       No       Yes  \n",
              "8366                      No         Yes       No       Yes  \n",
              "...                      ...         ...      ...       ...  \n",
              "6281                      No          No       No       Yes  \n",
              "8710                     Yes          No       No       Yes  \n",
              "8775                     Yes          No       No       Yes  \n",
              "9059                     Yes         Yes       No       Yes  \n",
              "1396                     Yes          No       No       Yes  \n",
              "\n",
              "[4758 rows x 16 columns]"
            ]
          },
          "execution_count": 18,
          "metadata": {},
          "output_type": "execute_result"
        }
      ],
      "source": [
        "X_train"
      ]
    },
    {
      "cell_type": "code",
      "execution_count": 19,
      "id": "cf0ad936",
      "metadata": {},
      "outputs": [
        {
          "name": "stdout",
          "output_type": "stream",
          "text": [
            "num_imputer_dict:\n",
            " {'mean': SimpleImputer(), 'median': SimpleImputer(strategy='median'), 'constant': SimpleImputer(strategy='constant')}\n",
            "cate_imputer_dict\n",
            " {'most': SimpleImputer(strategy='most_frequent'), 'constant': SimpleImputer(strategy='constant')}\n"
          ]
        }
      ],
      "source": [
        "num_imputer_dict = tabular.get_preprocesser(\"num_impute\", \"all\")\n",
        "cate_imputer_dict = tabular.get_preprocesser(\"cate_impute\", \"all\")\n",
        "\n",
        "print(\"num_imputer_dict:\\n\", num_imputer_dict)\n",
        "print(\"cate_imputer_dict\\n\", cate_imputer_dict)"
      ]
    },
    {
      "cell_type": "code",
      "execution_count": 20,
      "id": "1f061ee1",
      "metadata": {
        "id": "1f061ee1"
      },
      "outputs": [],
      "source": [
        "missing_config = { # Example of config\n",
        "    \"numeric\": (num_imputer_dict[\"mean\"], [0, 1, 2, 3]),\n",
        "    \"categorical\": (cate_imputer_dict[\"most\"], [4, 5])\n",
        "}\n",
        "\n",
        "missing_value_pipeline = tabular.make_column_pipeline(missing_config)"
      ]
    },
    {
      "cell_type": "code",
      "execution_count": 21,
      "id": "2143c056",
      "metadata": {},
      "outputs": [
        {
          "name": "stdout",
          "output_type": "stream",
          "text": [
            "scaler_dict:\n",
            " {'standard': StandardScaler(), 'minmax': MinMaxScaler(), 'robust': RobustScaler(), 'log1p_robust': Log1pRobustScaler()}\n"
          ]
        }
      ],
      "source": [
        "scaler_dict = tabular.get_preprocesser(\"scale\", \"all\")\n",
        "\n",
        "print(\"scaler_dict:\\n\", scaler_dict)"
      ]
    },
    {
      "cell_type": "code",
      "execution_count": 22,
      "id": "41f0e0dd",
      "metadata": {
        "id": "41f0e0dd"
      },
      "outputs": [],
      "source": [
        "scaling_config = { # Example of config\n",
        "    \"std_scaler\": (scaler_dict[\"standard\"], np.arange(7))\n",
        "}\n",
        "\n",
        "scaling_pipeline = tabular.make_column_pipeline(scaling_config)"
      ]
    },
    {
      "cell_type": "code",
      "execution_count": 23,
      "id": "f1b08bb8",
      "metadata": {},
      "outputs": [
        {
          "name": "stdout",
          "output_type": "stream",
          "text": [
            "pca_dict:\n",
            " {'pca_0.95_auto': PCA(n_components=0.95), 'pca_0.95_full': PCA(n_components=0.99, svd_solver='full'), 'pca_0.99_auto': PCA(n_components=0.99), 'pca_0.99_full': PCA(n_components=0.99, svd_solver='full')}\n"
          ]
        }
      ],
      "source": [
        "pca_dict = tabular.get_preprocesser(\"pca\", \"all\")\n",
        "\n",
        "print(\"pca_dict:\\n\", pca_dict)"
      ]
    },
    {
      "cell_type": "code",
      "execution_count": 24,
      "id": "56ec7c31",
      "metadata": {},
      "outputs": [],
      "source": [
        "pca_config = {\n",
        "    \"pca_0.99_auto\": (pca_dict[\"pca_0.95_auto\"], np.arange(7))\n",
        "}\n",
        "\n",
        "pca_pipeline = tabular.make_column_pipeline(pca_config)"
      ]
    },
    {
      "cell_type": "code",
      "execution_count": 25,
      "id": "2e434971",
      "metadata": {},
      "outputs": [
        {
          "name": "stdout",
          "output_type": "stream",
          "text": [
            "encoder_dict:\n",
            " {'onehot': OneHotEncoder(handle_unknown='ignore', sparse_output=False), 'ordinal': OrdinalEncoder(handle_unknown='use_encoded_value', unknown_value=-1)}\n"
          ]
        }
      ],
      "source": [
        "encoder_dict = tabular.get_preprocesser(\"encode\", \"all\")\n",
        "\n",
        "print(\"encoder_dict:\\n\", encoder_dict)"
      ]
    },
    {
      "cell_type": "code",
      "execution_count": 26,
      "id": "1350a651",
      "metadata": {
        "id": "1350a651"
      },
      "outputs": [],
      "source": [
        "encoding_config = { # Example of config\n",
        "    \"onehot_encoder\": (encoder_dict[\"ordinal\"], np.arange(7, 16))\n",
        "}\n",
        "\n",
        "# Default encoding pipeline\n",
        "encoding_pipeline = tabular.make_column_pipeline(encoding_config)"
      ]
    },
    {
      "cell_type": "markdown",
      "id": "45f3253f",
      "metadata": {},
      "source": [
        "## Processing pipeline"
      ]
    },
    {
      "cell_type": "code",
      "execution_count": 27,
      "id": "cd274c19",
      "metadata": {
        "id": "cd274c19",
        "outputId": "2517a7fa-e312-4582-bba1-34142d1f6f56"
      },
      "outputs": [],
      "source": [
        "# Preprocessing pipeline\n",
        "preprocessing_pipeline = Pipeline(steps=[\n",
        "    # (\"missing\", missing_value_pipeline),\n",
        "    (\"scaling\", scaling_pipeline),\n",
        "    # (\"pca\", pca_pipeline),\n",
        "    (\"encoding\", encoding_pipeline)\n",
        "])"
      ]
    },
    {
      "cell_type": "markdown",
      "id": "922442c7",
      "metadata": {
        "id": "922442c7"
      },
      "source": [
        "# **Train & Evaluate Model**\n"
      ]
    },
    {
      "cell_type": "code",
      "execution_count": 28,
      "id": "b2da3aa2",
      "metadata": {
        "id": "b2da3aa2"
      },
      "outputs": [],
      "source": [
        "y_encoder = OrdinalEncoder(handle_unknown='use_encoded_value', unknown_value=-1)\n",
        "y_train = y_encoder.fit_transform(y_train)\n",
        "y_test = y_encoder.transform(y_test)"
      ]
    },
    {
      "cell_type": "code",
      "execution_count": 29,
      "id": "27c373d4",
      "metadata": {},
      "outputs": [],
      "source": [
        "X_train = preprocessing_pipeline.fit_transform(X_train)\n",
        "X_test = preprocessing_pipeline.transform(X_test)"
      ]
    },
    {
      "cell_type": "code",
      "execution_count": 30,
      "id": "ec408b40",
      "metadata": {
        "id": "ec408b40"
      },
      "outputs": [],
      "source": [
        "from sklearn.model_selection import ParameterGrid\n",
        "# Model chosing\n",
        "param_grid = [\n",
        "    {\n",
        "        \"model\": [LogisticRegression()],\n",
        "    },\n",
        "    {\n",
        "        \"model\": [RandomForestClassifier()],\n",
        "    },\n",
        "    {\n",
        "        \"model\": [SVC()],\n",
        "    },\n",
        "    {\n",
        "        \"model\": [MLPClassifier()],\n",
        "    }\n",
        "]\n",
        "grid = ParameterGrid(param_grid=param_grid)"
      ]
    },
    {
      "cell_type": "code",
      "execution_count": 31,
      "id": "0dfbd38f",
      "metadata": {
        "id": "0dfbd38f",
        "outputId": "f6b6b3c1-16f6-4683-bad2-5e98cd1e7ec8"
      },
      "outputs": [
        {
          "name": "stdout",
          "output_type": "stream",
          "text": [
            "                   Params  accuracy  precision    recall        f1\n",
            "0      LogisticRegression  0.789076   0.823705  0.917869  0.868241\n",
            "1  RandomForestClassifier  0.853782   0.879833  0.934517  0.906351\n",
            "2                     SVC  0.797479   0.803309  0.970033  0.878834\n",
            "3           MLPClassifier  0.822689   0.878289  0.889012  0.883618\n"
          ]
        }
      ],
      "source": [
        "results = []\n",
        "\n",
        "for params in grid:\n",
        "    # Tạo pipeline với model tương ứng\n",
        "    pipe = Pipeline([\n",
        "        # (\"preprocess\", preprocessing_pipeline),\n",
        "        (\"model\", params[\"model\"])\n",
        "    ])\n",
        "    pipe.set_params(**params)\n",
        "    pipe.set_output(transform=\"pandas\")\n",
        "\n",
        "    pipe.fit(X_train, y_train)\n",
        "    y_pred = pipe.predict(X_test)\n",
        "\n",
        "    acc = accuracy_score(y_test, y_pred)\n",
        "    pre = precision_score(y_test, y_pred)\n",
        "    recall = recall_score(y_test, y_pred)\n",
        "    f1  = f1_score(y_test, y_pred)\n",
        "\n",
        "    # Lưu kết quả\n",
        "    results.append({\n",
        "        \"Params\": params[\"model\"].__class__.__name__,\n",
        "        \"accuracy\": acc,\n",
        "        \"precision\": pre,\n",
        "        \"recall\": recall,\n",
        "        \"f1\": f1\n",
        "    })\n",
        "\n",
        "# Xuất kết quả ra DataFrame\n",
        "df_results = pd.DataFrame(results)\n",
        "print(df_results)"
      ]
    },
    {
      "cell_type": "markdown",
      "id": "491fb60c",
      "metadata": {},
      "source": [
        "# **Autotrain model with multi config**"
      ]
    },
    {
      "cell_type": "code",
      "execution_count": 32,
      "id": "06245ac7",
      "metadata": {},
      "outputs": [],
      "source": [
        "preprocess_config = [\n",
        "    {\n",
        "        \"num_impute\": num_impute,\n",
        "        \"cate_impute\": cate_impute,\n",
        "        \"scale\": scale,\n",
        "        \"pca\": pca,\n",
        "        \"encode\": encode\n",
        "    }\n",
        "    for num_impute in [\"none\", \"mean\", \"median\"]\n",
        "    for cate_impute in [\"none\", \"most\"]\n",
        "    for scale in [\"none\", \"standard\", \"minmax\"]\n",
        "    for pca in [\"none\", \"pca_0.95_auto\", \"pca_0.95_full\", \"pca_0.99_auto\", \"pca_0.99_full\"]\n",
        "    for encode in [\"onehot\", \"ordinal\"]\n",
        "]\n",
        "# You can make a new param grid for multi model"
      ]
    },
    {
      "cell_type": "code",
      "execution_count": 33,
      "id": "bc9d5210",
      "metadata": {},
      "outputs": [],
      "source": [
        "main_data = df[use_cols]"
      ]
    },
    {
      "cell_type": "code",
      "execution_count": 34,
      "id": "d4a345ad",
      "metadata": {},
      "outputs": [
        {
          "data": {
            "application/vnd.microsoft.datawrangler.viewer.v0+json": {
              "columns": [
                {
                  "name": "index",
                  "rawType": "int64",
                  "type": "integer"
                },
                {
                  "name": "Age",
                  "rawType": "float64",
                  "type": "float"
                },
                {
                  "name": "Weight (lbs)",
                  "rawType": "float64",
                  "type": "float"
                },
                {
                  "name": "Daily Walk Distance (miles)",
                  "rawType": "float64",
                  "type": "float"
                },
                {
                  "name": "Hours of Sleep",
                  "rawType": "float64",
                  "type": "float"
                },
                {
                  "name": "Play Time (hrs)",
                  "rawType": "float64",
                  "type": "float"
                },
                {
                  "name": "Annual Vet Visits",
                  "rawType": "float64",
                  "type": "float"
                },
                {
                  "name": "Average Temperature (F)",
                  "rawType": "float64",
                  "type": "float"
                },
                {
                  "name": "Breed",
                  "rawType": "object",
                  "type": "unknown"
                },
                {
                  "name": "Breed Size",
                  "rawType": "object",
                  "type": "unknown"
                },
                {
                  "name": "Sex",
                  "rawType": "object",
                  "type": "unknown"
                },
                {
                  "name": "Diet",
                  "rawType": "object",
                  "type": "unknown"
                },
                {
                  "name": "Food Brand",
                  "rawType": "object",
                  "type": "unknown"
                },
                {
                  "name": "Other Pets in Household",
                  "rawType": "object",
                  "type": "unknown"
                },
                {
                  "name": "Medications",
                  "rawType": "object",
                  "type": "unknown"
                },
                {
                  "name": "Seizures",
                  "rawType": "object",
                  "type": "unknown"
                },
                {
                  "name": "Synthetic",
                  "rawType": "object",
                  "type": "unknown"
                },
                {
                  "name": "Healthy",
                  "rawType": "object",
                  "type": "unknown"
                }
              ],
              "ref": "abd693b6-b5c3-4432-abc9-9a1a7e0ffad3",
              "rows": [
                [
                  "0",
                  "3.0",
                  "60.0",
                  "5.0",
                  "12.0",
                  "1.0",
                  "1.0",
                  "30.0",
                  "Australian Shepherd",
                  "Medium",
                  "Male",
                  null,
                  "Wellness",
                  "No",
                  "Yes",
                  "No",
                  "Yes",
                  "Yes"
                ],
                [
                  "1",
                  "4.0",
                  "57.0",
                  "2.0",
                  "11.0",
                  "3.0",
                  "0.0",
                  "47.0",
                  "Dachshund",
                  null,
                  "Female",
                  "Home cooked",
                  "Special",
                  "Yes",
                  "No",
                  "No",
                  "Yes",
                  null
                ],
                [
                  "2",
                  "12.0",
                  "67.0",
                  "1.0",
                  "10.0",
                  "1.0",
                  "0.0",
                  "92.0",
                  "Chihuahua",
                  "Small",
                  "Female",
                  "Home cooked",
                  "Special",
                  "Yes",
                  "No",
                  "No",
                  "Yes",
                  "Yes"
                ],
                [
                  "3",
                  "13.0",
                  "35.0",
                  "4.0",
                  "12.0",
                  null,
                  "1.0",
                  "75.0",
                  "Siberian Husky",
                  "Medium",
                  "Male",
                  null,
                  "Special",
                  "No",
                  "No",
                  "No",
                  "Yes",
                  "Yes"
                ],
                [
                  "4",
                  "13.0",
                  "35.0",
                  "3.0",
                  "9.0",
                  "1.0",
                  "0.0",
                  "64.0",
                  "Boxer",
                  "Medium",
                  "Male",
                  "Wet food",
                  "Purina",
                  "Yes",
                  "Yes",
                  "No",
                  "Yes",
                  "No"
                ],
                [
                  "5",
                  "2.0",
                  "42.0",
                  "0.0",
                  "11.0",
                  "3.0",
                  "2.0",
                  "85.0",
                  "Australian Shepherd",
                  "Medium",
                  "Female",
                  "Wet food",
                  "Iams",
                  "Yes",
                  "No",
                  "No",
                  "Yes",
                  "Yes"
                ],
                [
                  "6",
                  "8.0",
                  null,
                  "2.0",
                  "8.0",
                  "1.0",
                  "0.0",
                  "53.0",
                  "Labrador Retriever",
                  null,
                  "Male",
                  "Special diet",
                  "Blue Buffalo",
                  "No",
                  "No",
                  "No",
                  "Yes",
                  "Yes"
                ],
                [
                  "7",
                  "11.0",
                  "66.0",
                  "2.0",
                  "9.0",
                  "2.0",
                  "2.0",
                  "85.0",
                  "Boxer",
                  "Medium",
                  "Female",
                  "Home cooked",
                  "Special",
                  "No",
                  "Yes",
                  "Yes",
                  null,
                  "No"
                ],
                [
                  "8",
                  "12.0",
                  "28.0",
                  "2.0",
                  "11.0",
                  "2.0",
                  "0.0",
                  "65.0",
                  "Australian Shepherd",
                  "Medium",
                  "Male",
                  "Special diet",
                  "Royal Canin",
                  "Yes",
                  "Yes",
                  "No",
                  "Yes",
                  "No"
                ],
                [
                  "9",
                  "11.0",
                  "49.0",
                  "3.0",
                  "11.0",
                  null,
                  "0.0",
                  "38.0",
                  "Bulldog",
                  "Medium",
                  "Female",
                  "Wet food",
                  "Wellness",
                  "No",
                  "Yes",
                  "No",
                  "Yes",
                  "No"
                ],
                [
                  "10",
                  "2.0",
                  "64.0",
                  "3.0",
                  "11.0",
                  "2.0",
                  "1.0",
                  "87.0",
                  "Rottweiler",
                  "Large",
                  "Male",
                  "Hard food",
                  "Blue Buffalo",
                  "Yes",
                  "Yes",
                  "No",
                  "Yes",
                  "Yes"
                ],
                [
                  "11",
                  null,
                  "20.0",
                  "2.0",
                  "13.0",
                  "3.0",
                  "1.0",
                  "78.0",
                  "Siberian Husky",
                  "Medium",
                  "Female",
                  "Hard food",
                  "Blue Buffalo",
                  "Yes",
                  "Yes",
                  "No",
                  "Yes",
                  "No"
                ],
                [
                  "12",
                  "5.0",
                  "33.0",
                  "2.0",
                  "10.0",
                  "1.0",
                  "1.0",
                  "37.0",
                  "Boxer",
                  "Medium",
                  "Male",
                  "Special diet",
                  "Wellness",
                  "Yes",
                  "Yes",
                  "No",
                  "Yes",
                  null
                ],
                [
                  "13",
                  "10.0",
                  "56.0",
                  "3.0",
                  "10.0",
                  null,
                  "1.0",
                  "90.0",
                  "German Shepherd",
                  "Large",
                  "Female",
                  "Hard food",
                  "Royal Canin",
                  "Yes",
                  "No",
                  "No",
                  "Yes",
                  "Yes"
                ],
                [
                  "14",
                  "8.0",
                  "67.0",
                  "2.0",
                  "10.0",
                  "0.0",
                  "0.0",
                  "42.0",
                  "Golden Retriever",
                  "Large",
                  "Male",
                  "Home cooked",
                  "Special",
                  "Yes",
                  "No",
                  "No",
                  "Yes",
                  null
                ],
                [
                  "15",
                  "13.0",
                  "48.0",
                  "3.0",
                  "8.0",
                  "2.0",
                  "4.0",
                  "54.0",
                  "Poodle",
                  "Small",
                  "Male",
                  "Hard food",
                  "Wellness",
                  "No",
                  "No",
                  "Yes",
                  "Yes",
                  "Yes"
                ],
                [
                  "16",
                  "4.0",
                  "66.0",
                  "2.0",
                  "11.0",
                  "1.0",
                  "1.0",
                  "77.0",
                  "Doberman",
                  "Large",
                  "Male",
                  "Hard food",
                  "Royal Canin",
                  "No",
                  "No",
                  "No",
                  "Yes",
                  "Yes"
                ],
                [
                  "17",
                  "2.0",
                  "46.0",
                  "2.0",
                  "8.0",
                  "2.0",
                  "1.0",
                  "48.0",
                  "Boxer",
                  "Medium",
                  "Female",
                  "Special diet",
                  "Nutro",
                  "No",
                  "Yes",
                  "No",
                  "Yes",
                  "Yes"
                ],
                [
                  "18",
                  "11.0",
                  "87.0",
                  "3.0",
                  "13.0",
                  "2.0",
                  "0.0",
                  "70.0",
                  "Bulldog",
                  "Medium",
                  "Female",
                  "Special diet",
                  "Purina",
                  "No",
                  "No",
                  "No",
                  "Yes",
                  "No"
                ],
                [
                  "19",
                  "11.0",
                  "44.0",
                  "4.0",
                  "10.0",
                  "1.0",
                  "0.0",
                  "63.0",
                  "Great Dane",
                  "Large",
                  "Female",
                  "Hard food",
                  "Purina",
                  "Yes",
                  "No",
                  "No",
                  "Yes",
                  "No"
                ],
                [
                  "20",
                  "7.0",
                  "46.0",
                  null,
                  "11.0",
                  "0.0",
                  "2.0",
                  "70.0",
                  "Poodle",
                  "Small",
                  "Female",
                  null,
                  "Wellness",
                  "Yes",
                  "No",
                  "No",
                  "Yes",
                  "Yes"
                ],
                [
                  "21",
                  "3.0",
                  "26.0",
                  "3.0",
                  "12.0",
                  "1.0",
                  "1.0",
                  "82.0",
                  "Chihuahua",
                  "Small",
                  "Male",
                  "Special diet",
                  "Iams",
                  "No",
                  "Yes",
                  "No",
                  "Yes",
                  "Yes"
                ],
                [
                  "22",
                  "11.0",
                  "38.0",
                  "1.0",
                  "12.0",
                  "1.0",
                  "1.0",
                  "100.0",
                  "German Shepherd",
                  "Large",
                  "Female",
                  "Wet food",
                  "Purina",
                  "Yes",
                  "No",
                  "No",
                  "Yes",
                  "Yes"
                ],
                [
                  "23",
                  "9.0",
                  "65.0",
                  "3.0",
                  "12.0",
                  "1.0",
                  null,
                  "74.0",
                  "Bulldog",
                  "Medium",
                  "Male",
                  "Special diet",
                  "Wellness",
                  "No",
                  "No",
                  "No",
                  "Yes",
                  "Yes"
                ],
                [
                  "24",
                  "6.0",
                  "65.0",
                  "1.0",
                  "8.0",
                  null,
                  "1.0",
                  "74.0",
                  "Great Dane",
                  "Large",
                  "Male",
                  "Special diet",
                  "Blue Buffalo",
                  "Yes",
                  "Yes",
                  "No",
                  "Yes",
                  "Yes"
                ],
                [
                  "25",
                  "10.0",
                  "15.0",
                  "3.0",
                  "8.0",
                  "3.0",
                  "1.0",
                  "72.0",
                  "Chihuahua",
                  "Small",
                  "Male",
                  "Wet food",
                  "Wellness",
                  "No",
                  "Yes",
                  "No",
                  "Yes",
                  "No"
                ],
                [
                  "26",
                  "11.0",
                  "52.0",
                  "4.0",
                  "11.0",
                  "1.0",
                  "0.0",
                  "75.0",
                  "Beagle",
                  "Small",
                  "Male",
                  "Special diet",
                  "Nutro",
                  "Yes",
                  "Yes",
                  "No",
                  "Yes",
                  "Yes"
                ],
                [
                  "27",
                  "13.0",
                  "32.0",
                  "4.0",
                  "13.0",
                  "2.0",
                  "2.0",
                  "66.0",
                  "Poodle",
                  "Small",
                  "Female",
                  "Wet food",
                  "Pedigree",
                  "No",
                  "No",
                  null,
                  "Yes",
                  "Yes"
                ],
                [
                  "28",
                  "13.0",
                  "26.0",
                  "5.0",
                  "10.0",
                  "1.0",
                  "2.0",
                  "54.0",
                  "Siberian Husky",
                  "Medium",
                  "Female",
                  "Hard food",
                  "Hill's Science",
                  "No",
                  "No",
                  "No",
                  "Yes",
                  "Yes"
                ],
                [
                  "29",
                  "2.0",
                  "66.0",
                  "1.0",
                  "14.0",
                  "1.0",
                  "1.0",
                  "43.0",
                  "Rottweiler",
                  "Large",
                  "Male",
                  "Home cooked",
                  "Special",
                  "Yes",
                  "Yes",
                  "No",
                  "Yes",
                  "Yes"
                ],
                [
                  "30",
                  "13.0",
                  null,
                  "0.0",
                  "10.0",
                  "2.0",
                  "2.0",
                  "61.0",
                  "Poodle",
                  "Small",
                  "Male",
                  "Hard food",
                  "Iams",
                  "No",
                  null,
                  "No",
                  "Yes",
                  "Yes"
                ],
                [
                  "31",
                  "5.0",
                  "63.0",
                  "4.0",
                  "10.0",
                  "2.0",
                  "0.0",
                  "61.0",
                  "German Shepherd",
                  "Large",
                  "Female",
                  "Special diet",
                  "Nutro",
                  "No",
                  "No",
                  "No",
                  "Yes",
                  "Yes"
                ],
                [
                  "32",
                  "13.0",
                  "43.0",
                  "4.0",
                  "11.0",
                  "1.0",
                  "3.0",
                  "33.0",
                  "Rottweiler",
                  "Large",
                  "Female",
                  "Special diet",
                  "Nutro",
                  "No",
                  "Yes",
                  "No",
                  "Yes",
                  "No"
                ],
                [
                  "33",
                  "10.0",
                  "69.0",
                  "1.0",
                  "10.0",
                  "3.0",
                  "4.0",
                  "52.0",
                  "Australian Shepherd",
                  "Medium",
                  "Male",
                  "Hard food",
                  "Wellness",
                  "No",
                  "No",
                  "No",
                  "Yes",
                  "Yes"
                ],
                [
                  "34",
                  "8.0",
                  "56.0",
                  "3.0",
                  "12.0",
                  "2.0",
                  "2.0",
                  "82.0",
                  "Australian Shepherd",
                  "Medium",
                  "Male",
                  "Special diet",
                  "Wellness",
                  "No",
                  "No",
                  "No",
                  "Yes",
                  "Yes"
                ],
                [
                  "35",
                  "2.0",
                  "58.0",
                  "2.0",
                  "9.0",
                  "1.0",
                  "2.0",
                  "70.0",
                  "Bulldog",
                  "Medium",
                  "Male",
                  "Wet food",
                  "Wellness",
                  "No",
                  "Yes",
                  "No",
                  "Yes",
                  "Yes"
                ],
                [
                  "36",
                  "4.0",
                  "69.0",
                  "2.0",
                  "11.0",
                  "0.0",
                  "1.0",
                  "40.0",
                  "Siberian Husky",
                  "Medium",
                  "Female",
                  "Hard food",
                  "Purina",
                  "Yes",
                  "No",
                  "Yes",
                  "Yes",
                  "No"
                ],
                [
                  "37",
                  "13.0",
                  "27.0",
                  "0.0",
                  "13.0",
                  "1.0",
                  "2.0",
                  "99.0",
                  "Rottweiler",
                  "Large",
                  "Female",
                  "Home cooked",
                  "Special",
                  "Yes",
                  "Yes",
                  "No",
                  "Yes",
                  "Yes"
                ],
                [
                  "38",
                  "9.0",
                  "65.0",
                  "3.0",
                  "9.0",
                  "2.0",
                  "2.0",
                  "48.0",
                  "Golden Retriever",
                  "Large",
                  "Female",
                  "Wet food",
                  "Purina",
                  "Yes",
                  "Yes",
                  "No",
                  "Yes",
                  "No"
                ],
                [
                  "39",
                  "10.0",
                  "51.0",
                  "3.0",
                  "12.0",
                  null,
                  "2.0",
                  "93.0",
                  "Dachshund",
                  "Small",
                  "Male",
                  "Wet food",
                  "Wellness",
                  "Yes",
                  "No",
                  "No",
                  "Yes",
                  "Yes"
                ],
                [
                  "40",
                  "12.0",
                  "59.0",
                  "6.0",
                  "10.0",
                  "2.0",
                  "1.0",
                  "68.0",
                  "Australian Shepherd",
                  null,
                  "Female",
                  "Home cooked",
                  "Special",
                  "No",
                  "No",
                  "Yes",
                  "Yes",
                  "Yes"
                ],
                [
                  "41",
                  "9.0",
                  "31.0",
                  "4.0",
                  "13.0",
                  "2.0",
                  "0.0",
                  "55.0",
                  "Poodle",
                  "Small",
                  "Female",
                  "Special diet",
                  "Pedigree",
                  "No",
                  "No",
                  "No",
                  "Yes",
                  "Yes"
                ],
                [
                  "42",
                  "12.0",
                  "33.0",
                  "3.0",
                  "12.0",
                  "3.0",
                  "0.0",
                  null,
                  "Bulldog",
                  "Medium",
                  null,
                  "Wet food",
                  "Wellness",
                  "Yes",
                  "Yes",
                  "No",
                  "Yes",
                  "No"
                ],
                [
                  "43",
                  "2.0",
                  "69.0",
                  "1.0",
                  "11.0",
                  "0.0",
                  "1.0",
                  "67.0",
                  "Great Dane",
                  "Large",
                  "Male",
                  "Hard food",
                  "Wellness",
                  "No",
                  "No",
                  "No",
                  "Yes",
                  "Yes"
                ],
                [
                  "44",
                  "2.0",
                  "45.0",
                  "3.0",
                  "9.0",
                  "1.0",
                  "0.0",
                  "74.0",
                  "Yorkshire Terrier",
                  "Small",
                  "Female",
                  "Hard food",
                  "Wellness",
                  "No",
                  "No",
                  "No",
                  "Yes",
                  "Yes"
                ],
                [
                  "45",
                  "4.0",
                  "64.0",
                  "5.0",
                  "12.0",
                  null,
                  "2.0",
                  "69.0",
                  "Golden Retriever",
                  "Large",
                  "Male",
                  "Wet food",
                  "Royal Canin",
                  "No",
                  "No",
                  "No",
                  "Yes",
                  "Yes"
                ],
                [
                  "46",
                  "13.0",
                  "10.0",
                  "0.0",
                  "13.0",
                  "1.0",
                  "0.0",
                  "54.0",
                  "Chihuahua",
                  "Small",
                  "Female",
                  "Wet food",
                  "Blue Buffalo",
                  "Yes",
                  "No",
                  "No",
                  "Yes",
                  "No"
                ],
                [
                  "47",
                  "12.0",
                  "41.0",
                  "3.0",
                  "10.0",
                  "1.0",
                  "0.0",
                  "56.0",
                  "Great Dane",
                  "Large",
                  "Female",
                  "Hard food",
                  "Blue Buffalo",
                  "Yes",
                  "No",
                  "No",
                  "Yes",
                  "No"
                ],
                [
                  "48",
                  null,
                  "48.0",
                  "4.0",
                  "12.0",
                  "0.0",
                  "0.0",
                  "49.0",
                  "Rottweiler",
                  "Large",
                  null,
                  "Wet food",
                  "Pedigree",
                  "No",
                  "No",
                  "No",
                  "Yes",
                  "No"
                ],
                [
                  "49",
                  "9.0",
                  "61.0",
                  "1.0",
                  "10.0",
                  "2.0",
                  "0.0",
                  "47.0",
                  "Poodle",
                  "Small",
                  "Female",
                  "Special diet",
                  "Nutro",
                  "No",
                  "No",
                  "No",
                  "Yes",
                  "Yes"
                ]
              ],
              "shape": {
                "columns": 17,
                "rows": 10000
              }
            },
            "text/html": [
              "<div>\n",
              "<style scoped>\n",
              "    .dataframe tbody tr th:only-of-type {\n",
              "        vertical-align: middle;\n",
              "    }\n",
              "\n",
              "    .dataframe tbody tr th {\n",
              "        vertical-align: top;\n",
              "    }\n",
              "\n",
              "    .dataframe thead th {\n",
              "        text-align: right;\n",
              "    }\n",
              "</style>\n",
              "<table border=\"1\" class=\"dataframe\">\n",
              "  <thead>\n",
              "    <tr style=\"text-align: right;\">\n",
              "      <th></th>\n",
              "      <th>Age</th>\n",
              "      <th>Weight (lbs)</th>\n",
              "      <th>Daily Walk Distance (miles)</th>\n",
              "      <th>Hours of Sleep</th>\n",
              "      <th>Play Time (hrs)</th>\n",
              "      <th>Annual Vet Visits</th>\n",
              "      <th>Average Temperature (F)</th>\n",
              "      <th>Breed</th>\n",
              "      <th>Breed Size</th>\n",
              "      <th>Sex</th>\n",
              "      <th>Diet</th>\n",
              "      <th>Food Brand</th>\n",
              "      <th>Other Pets in Household</th>\n",
              "      <th>Medications</th>\n",
              "      <th>Seizures</th>\n",
              "      <th>Synthetic</th>\n",
              "      <th>Healthy</th>\n",
              "    </tr>\n",
              "  </thead>\n",
              "  <tbody>\n",
              "    <tr>\n",
              "      <th>0</th>\n",
              "      <td>3.0</td>\n",
              "      <td>60.0</td>\n",
              "      <td>5.0</td>\n",
              "      <td>12.0</td>\n",
              "      <td>1.0</td>\n",
              "      <td>1.0</td>\n",
              "      <td>30.0</td>\n",
              "      <td>Australian Shepherd</td>\n",
              "      <td>Medium</td>\n",
              "      <td>Male</td>\n",
              "      <td>NaN</td>\n",
              "      <td>Wellness</td>\n",
              "      <td>No</td>\n",
              "      <td>Yes</td>\n",
              "      <td>No</td>\n",
              "      <td>Yes</td>\n",
              "      <td>Yes</td>\n",
              "    </tr>\n",
              "    <tr>\n",
              "      <th>1</th>\n",
              "      <td>4.0</td>\n",
              "      <td>57.0</td>\n",
              "      <td>2.0</td>\n",
              "      <td>11.0</td>\n",
              "      <td>3.0</td>\n",
              "      <td>0.0</td>\n",
              "      <td>47.0</td>\n",
              "      <td>Dachshund</td>\n",
              "      <td>NaN</td>\n",
              "      <td>Female</td>\n",
              "      <td>Home cooked</td>\n",
              "      <td>Special</td>\n",
              "      <td>Yes</td>\n",
              "      <td>No</td>\n",
              "      <td>No</td>\n",
              "      <td>Yes</td>\n",
              "      <td>NaN</td>\n",
              "    </tr>\n",
              "    <tr>\n",
              "      <th>2</th>\n",
              "      <td>12.0</td>\n",
              "      <td>67.0</td>\n",
              "      <td>1.0</td>\n",
              "      <td>10.0</td>\n",
              "      <td>1.0</td>\n",
              "      <td>0.0</td>\n",
              "      <td>92.0</td>\n",
              "      <td>Chihuahua</td>\n",
              "      <td>Small</td>\n",
              "      <td>Female</td>\n",
              "      <td>Home cooked</td>\n",
              "      <td>Special</td>\n",
              "      <td>Yes</td>\n",
              "      <td>No</td>\n",
              "      <td>No</td>\n",
              "      <td>Yes</td>\n",
              "      <td>Yes</td>\n",
              "    </tr>\n",
              "    <tr>\n",
              "      <th>3</th>\n",
              "      <td>13.0</td>\n",
              "      <td>35.0</td>\n",
              "      <td>4.0</td>\n",
              "      <td>12.0</td>\n",
              "      <td>NaN</td>\n",
              "      <td>1.0</td>\n",
              "      <td>75.0</td>\n",
              "      <td>Siberian Husky</td>\n",
              "      <td>Medium</td>\n",
              "      <td>Male</td>\n",
              "      <td>NaN</td>\n",
              "      <td>Special</td>\n",
              "      <td>No</td>\n",
              "      <td>No</td>\n",
              "      <td>No</td>\n",
              "      <td>Yes</td>\n",
              "      <td>Yes</td>\n",
              "    </tr>\n",
              "    <tr>\n",
              "      <th>4</th>\n",
              "      <td>13.0</td>\n",
              "      <td>35.0</td>\n",
              "      <td>3.0</td>\n",
              "      <td>9.0</td>\n",
              "      <td>1.0</td>\n",
              "      <td>0.0</td>\n",
              "      <td>64.0</td>\n",
              "      <td>Boxer</td>\n",
              "      <td>Medium</td>\n",
              "      <td>Male</td>\n",
              "      <td>Wet food</td>\n",
              "      <td>Purina</td>\n",
              "      <td>Yes</td>\n",
              "      <td>Yes</td>\n",
              "      <td>No</td>\n",
              "      <td>Yes</td>\n",
              "      <td>No</td>\n",
              "    </tr>\n",
              "    <tr>\n",
              "      <th>...</th>\n",
              "      <td>...</td>\n",
              "      <td>...</td>\n",
              "      <td>...</td>\n",
              "      <td>...</td>\n",
              "      <td>...</td>\n",
              "      <td>...</td>\n",
              "      <td>...</td>\n",
              "      <td>...</td>\n",
              "      <td>...</td>\n",
              "      <td>...</td>\n",
              "      <td>...</td>\n",
              "      <td>...</td>\n",
              "      <td>...</td>\n",
              "      <td>...</td>\n",
              "      <td>...</td>\n",
              "      <td>...</td>\n",
              "      <td>...</td>\n",
              "    </tr>\n",
              "    <tr>\n",
              "      <th>9995</th>\n",
              "      <td>3.0</td>\n",
              "      <td>62.0</td>\n",
              "      <td>3.0</td>\n",
              "      <td>12.0</td>\n",
              "      <td>3.0</td>\n",
              "      <td>1.0</td>\n",
              "      <td>65.0</td>\n",
              "      <td>Yorkshire Terrier</td>\n",
              "      <td>Small</td>\n",
              "      <td>Female</td>\n",
              "      <td>Wet food</td>\n",
              "      <td>Wellness</td>\n",
              "      <td>No</td>\n",
              "      <td>No</td>\n",
              "      <td>No</td>\n",
              "      <td>Yes</td>\n",
              "      <td>Yes</td>\n",
              "    </tr>\n",
              "    <tr>\n",
              "      <th>9996</th>\n",
              "      <td>1.0</td>\n",
              "      <td>39.0</td>\n",
              "      <td>2.0</td>\n",
              "      <td>13.0</td>\n",
              "      <td>0.0</td>\n",
              "      <td>0.0</td>\n",
              "      <td>54.0</td>\n",
              "      <td>Dachshund</td>\n",
              "      <td>Small</td>\n",
              "      <td>Male</td>\n",
              "      <td>Special diet</td>\n",
              "      <td>Purina</td>\n",
              "      <td>No</td>\n",
              "      <td>No</td>\n",
              "      <td>Yes</td>\n",
              "      <td>Yes</td>\n",
              "      <td>NaN</td>\n",
              "    </tr>\n",
              "    <tr>\n",
              "      <th>9997</th>\n",
              "      <td>10.0</td>\n",
              "      <td>40.0</td>\n",
              "      <td>0.0</td>\n",
              "      <td>12.0</td>\n",
              "      <td>2.0</td>\n",
              "      <td>1.0</td>\n",
              "      <td>60.0</td>\n",
              "      <td>German Shepherd</td>\n",
              "      <td>Large</td>\n",
              "      <td>NaN</td>\n",
              "      <td>Hard food</td>\n",
              "      <td>Royal Canin</td>\n",
              "      <td>No</td>\n",
              "      <td>Yes</td>\n",
              "      <td>No</td>\n",
              "      <td>Yes</td>\n",
              "      <td>NaN</td>\n",
              "    </tr>\n",
              "    <tr>\n",
              "      <th>9998</th>\n",
              "      <td>13.0</td>\n",
              "      <td>57.0</td>\n",
              "      <td>1.0</td>\n",
              "      <td>9.0</td>\n",
              "      <td>2.0</td>\n",
              "      <td>0.0</td>\n",
              "      <td>53.0</td>\n",
              "      <td>Boxer</td>\n",
              "      <td>Medium</td>\n",
              "      <td>Female</td>\n",
              "      <td>Special diet</td>\n",
              "      <td>Hill's Science</td>\n",
              "      <td>No</td>\n",
              "      <td>No</td>\n",
              "      <td>Yes</td>\n",
              "      <td>Yes</td>\n",
              "      <td>No</td>\n",
              "    </tr>\n",
              "    <tr>\n",
              "      <th>9999</th>\n",
              "      <td>6.0</td>\n",
              "      <td>70.0</td>\n",
              "      <td>2.0</td>\n",
              "      <td>12.0</td>\n",
              "      <td>2.0</td>\n",
              "      <td>4.0</td>\n",
              "      <td>55.0</td>\n",
              "      <td>Siberian Husky</td>\n",
              "      <td>Medium</td>\n",
              "      <td>Male</td>\n",
              "      <td>Hard food</td>\n",
              "      <td>Pedigree</td>\n",
              "      <td>No</td>\n",
              "      <td>Yes</td>\n",
              "      <td>No</td>\n",
              "      <td>Yes</td>\n",
              "      <td>Yes</td>\n",
              "    </tr>\n",
              "  </tbody>\n",
              "</table>\n",
              "<p>10000 rows × 17 columns</p>\n",
              "</div>"
            ],
            "text/plain": [
              "       Age  Weight (lbs)  Daily Walk Distance (miles)  Hours of Sleep  \\\n",
              "0      3.0          60.0                          5.0            12.0   \n",
              "1      4.0          57.0                          2.0            11.0   \n",
              "2     12.0          67.0                          1.0            10.0   \n",
              "3     13.0          35.0                          4.0            12.0   \n",
              "4     13.0          35.0                          3.0             9.0   \n",
              "...    ...           ...                          ...             ...   \n",
              "9995   3.0          62.0                          3.0            12.0   \n",
              "9996   1.0          39.0                          2.0            13.0   \n",
              "9997  10.0          40.0                          0.0            12.0   \n",
              "9998  13.0          57.0                          1.0             9.0   \n",
              "9999   6.0          70.0                          2.0            12.0   \n",
              "\n",
              "      Play Time (hrs)  Annual Vet Visits  Average Temperature (F)  \\\n",
              "0                 1.0                1.0                     30.0   \n",
              "1                 3.0                0.0                     47.0   \n",
              "2                 1.0                0.0                     92.0   \n",
              "3                 NaN                1.0                     75.0   \n",
              "4                 1.0                0.0                     64.0   \n",
              "...               ...                ...                      ...   \n",
              "9995              3.0                1.0                     65.0   \n",
              "9996              0.0                0.0                     54.0   \n",
              "9997              2.0                1.0                     60.0   \n",
              "9998              2.0                0.0                     53.0   \n",
              "9999              2.0                4.0                     55.0   \n",
              "\n",
              "                    Breed Breed Size     Sex          Diet      Food Brand  \\\n",
              "0     Australian Shepherd     Medium    Male           NaN        Wellness   \n",
              "1               Dachshund        NaN  Female   Home cooked         Special   \n",
              "2               Chihuahua      Small  Female   Home cooked         Special   \n",
              "3          Siberian Husky     Medium    Male           NaN         Special   \n",
              "4                   Boxer     Medium    Male      Wet food          Purina   \n",
              "...                   ...        ...     ...           ...             ...   \n",
              "9995    Yorkshire Terrier      Small  Female      Wet food        Wellness   \n",
              "9996            Dachshund      Small    Male  Special diet          Purina   \n",
              "9997      German Shepherd      Large     NaN     Hard food     Royal Canin   \n",
              "9998                Boxer     Medium  Female  Special diet  Hill's Science   \n",
              "9999       Siberian Husky     Medium    Male     Hard food        Pedigree   \n",
              "\n",
              "     Other Pets in Household Medications Seizures Synthetic Healthy  \n",
              "0                         No         Yes       No       Yes     Yes  \n",
              "1                        Yes          No       No       Yes     NaN  \n",
              "2                        Yes          No       No       Yes     Yes  \n",
              "3                         No          No       No       Yes     Yes  \n",
              "4                        Yes         Yes       No       Yes      No  \n",
              "...                      ...         ...      ...       ...     ...  \n",
              "9995                      No          No       No       Yes     Yes  \n",
              "9996                      No          No      Yes       Yes     NaN  \n",
              "9997                      No         Yes       No       Yes     NaN  \n",
              "9998                      No          No      Yes       Yes      No  \n",
              "9999                      No         Yes       No       Yes     Yes  \n",
              "\n",
              "[10000 rows x 17 columns]"
            ]
          },
          "execution_count": 34,
          "metadata": {},
          "output_type": "execute_result"
        }
      ],
      "source": [
        "main_data"
      ]
    },
    {
      "cell_type": "code",
      "execution_count": 35,
      "id": "17134656",
      "metadata": {},
      "outputs": [],
      "source": [
        "split_datasets = tabular.preprocess(preprocess_config, main_data, \"Healthy\")"
      ]
    },
    {
      "cell_type": "code",
      "execution_count": 36,
      "id": "a55369b2",
      "metadata": {},
      "outputs": [
        {
          "data": {
            "application/vnd.microsoft.datawrangler.viewer.v0+json": {
              "columns": [
                {
                  "name": "index",
                  "rawType": "int64",
                  "type": "integer"
                },
                {
                  "name": "num_impute",
                  "rawType": "object",
                  "type": "string"
                },
                {
                  "name": "cate_impute",
                  "rawType": "object",
                  "type": "string"
                },
                {
                  "name": "scale",
                  "rawType": "object",
                  "type": "string"
                },
                {
                  "name": "pca",
                  "rawType": "object",
                  "type": "string"
                },
                {
                  "name": "encode",
                  "rawType": "object",
                  "type": "string"
                },
                {
                  "name": "data",
                  "rawType": "object",
                  "type": "unknown"
                }
              ],
              "ref": "fc76dcba-888f-49c2-90c2-7320f90606ab",
              "rows": [
                [
                  "0",
                  "none",
                  "none",
                  "none",
                  "none",
                  "onehot",
                  "(array([[ 1.,  0.,  0., ...,  1.,  3., 85.],\n       [ 0.,  0.,  0., ...,  1.,  1., 38.],\n       [ 0.,  0.,  0., ...,  1.,  3., 70.],\n       ...,\n       [ 0.,  0.,  0., ...,  0.,  4., 72.],\n       [ 0.,  0.,  0., ...,  2.,  2., 56.],\n       [ 0.,  0.,  0., ...,  2.,  1., 59.]], shape=(4758, 47)), array([[ 0.,  0.,  0., ...,  1.,  0., 44.],\n       [ 0.,  0.,  0., ...,  2.,  1., 82.],\n       [ 0.,  0.,  0., ...,  2.,  3., 56.],\n       ...,\n       [ 0.,  0.,  0., ...,  3.,  1., 72.],\n       [ 0.,  1.,  0., ...,  0.,  3., 57.],\n       [ 1.,  0.,  0., ...,  2.,  3., 99.]], shape=(1190, 47)), 4426    Yes\n1065    Yes\n2133    Yes\n2387     No\n8366     No\n       ... \n6281    Yes\n8710    Yes\n8775    Yes\n9059     No\n1396    Yes\nName: Healthy, Length: 4758, dtype: object, 5590    Yes\n6107    Yes\n2379     No\n9865     No\n6550    Yes\n       ... \n7952    Yes\n3815    Yes\n25       No\n1869    Yes\n7288     No\nName: Healthy, Length: 1190, dtype: object)"
                ],
                [
                  "1",
                  "none",
                  "none",
                  "none",
                  "none",
                  "ordinal",
                  "(array([[ 0.,  1.,  0., ...,  1.,  3., 85.],\n       [12.,  0.,  0., ...,  1.,  1., 38.],\n       [ 4.,  2.,  1., ...,  1.,  3., 70.],\n       ...,\n       [14.,  2.,  0., ...,  0.,  4., 72.],\n       [10.,  0.,  0., ...,  2.,  2., 56.],\n       [10.,  0.,  1., ...,  2.,  1., 59.]], shape=(4758, 16)), array([[11.,  2.,  1., ...,  1.,  0., 44.],\n       [ 9.,  0.,  1., ...,  2.,  1., 82.],\n       [13.,  1.,  0., ...,  2.,  3., 56.],\n       ...,\n       [ 4.,  2.,  1., ...,  3.,  1., 72.],\n       [ 1.,  2.,  1., ...,  0.,  3., 57.],\n       [ 0.,  1.,  1., ...,  2.,  3., 99.]], shape=(1190, 16)), 4426    Yes\n1065    Yes\n2133    Yes\n2387     No\n8366     No\n       ... \n6281    Yes\n8710    Yes\n8775    Yes\n9059     No\n1396    Yes\nName: Healthy, Length: 4758, dtype: object, 5590    Yes\n6107    Yes\n2379     No\n9865     No\n6550    Yes\n       ... \n7952    Yes\n3815    Yes\n25       No\n1869    Yes\n7288     No\nName: Healthy, Length: 1190, dtype: object)"
                ],
                [
                  "2",
                  "none",
                  "none",
                  "none",
                  "pca_0.95_auto",
                  "onehot",
                  "(array([[-16.38644189,  13.05096818,   1.        , ...,   1.        ,\n          0.        ,   1.        ],\n       [ 32.98184958,  -6.85308159,   0.        , ...,   1.        ,\n          0.        ,   1.        ],\n       [-24.35178766, -13.22737857,   0.        , ...,   1.        ,\n          0.        ,   1.        ],\n       ...,\n       [ -8.03006854,   3.09472243,   0.        , ...,   1.        ,\n          0.        ,   1.        ],\n       [ -0.79954614, -11.73968467,   0.        , ...,   1.        ,\n          0.        ,   1.        ],\n       [ -3.49652735, -10.08344267,   0.        , ...,   1.        ,\n          0.        ,   1.        ]], shape=(4758, 42)), array([[ 30.65887462,  -0.97924475,   0.        , ...,   1.        ,\n          0.        ,   1.        ],\n       [-14.46106215,  10.75084739,   0.        , ...,   1.        ,\n          0.        ,   1.        ],\n       [ 22.17412254,   7.57525261,   0.        , ...,   1.        ,\n          0.        ,   1.        ],\n       ...,\n       [-31.76567654, -16.82868912,   0.        , ...,   1.        ,\n          0.        ,   1.        ],\n       [ 19.234006  ,   6.38750111,   0.        , ...,   1.        ,\n          0.        ,   1.        ],\n       [-48.36566596,   4.49221177,   1.        , ...,   1.        ,\n          0.        ,   1.        ]], shape=(1190, 42)), 4426    Yes\n1065    Yes\n2133    Yes\n2387     No\n8366     No\n       ... \n6281    Yes\n8710    Yes\n8775    Yes\n9059     No\n1396    Yes\nName: Healthy, Length: 4758, dtype: object, 5590    Yes\n6107    Yes\n2379     No\n9865     No\n6550    Yes\n       ... \n7952    Yes\n3815    Yes\n25       No\n1869    Yes\n7288     No\nName: Healthy, Length: 1190, dtype: object)"
                ],
                [
                  "3",
                  "none",
                  "none",
                  "none",
                  "pca_0.95_auto",
                  "ordinal",
                  "(array([[-16.38644189,  13.05096818,   0.        , ...,   1.        ,\n          0.        ,   0.        ],\n       [ 32.98184958,  -6.85308159,  12.        , ...,   0.        ,\n          0.        ,   0.        ],\n       [-24.35178766, -13.22737857,   4.        , ...,   0.        ,\n          0.        ,   0.        ],\n       ...,\n       [ -8.03006854,   3.09472243,  14.        , ...,   0.        ,\n          0.        ,   0.        ],\n       [ -0.79954614, -11.73968467,  10.        , ...,   1.        ,\n          0.        ,   0.        ],\n       [ -3.49652735, -10.08344267,  10.        , ...,   0.        ,\n          0.        ,   0.        ]], shape=(4758, 11)), array([[ 30.65887462,  -0.97924475,  11.        , ...,   0.        ,\n          0.        ,   0.        ],\n       [-14.46106215,  10.75084739,   9.        , ...,   0.        ,\n          0.        ,   0.        ],\n       [ 22.17412254,   7.57525261,  13.        , ...,   1.        ,\n          0.        ,   0.        ],\n       ...,\n       [-31.76567654, -16.82868912,   4.        , ...,   1.        ,\n          0.        ,   0.        ],\n       [ 19.234006  ,   6.38750111,   1.        , ...,   0.        ,\n          0.        ,   0.        ],\n       [-48.36566596,   4.49221177,   0.        , ...,   0.        ,\n          0.        ,   0.        ]], shape=(1190, 11)), 4426    Yes\n1065    Yes\n2133    Yes\n2387     No\n8366     No\n       ... \n6281    Yes\n8710    Yes\n8775    Yes\n9059     No\n1396    Yes\nName: Healthy, Length: 4758, dtype: object, 5590    Yes\n6107    Yes\n2379     No\n9865     No\n6550    Yes\n       ... \n7952    Yes\n3815    Yes\n25       No\n1869    Yes\n7288     No\nName: Healthy, Length: 1190, dtype: object)"
                ],
                [
                  "4",
                  "none",
                  "none",
                  "none",
                  "pca_0.95_full",
                  "onehot",
                  "(array([[-16.38644189,  13.05096818,   0.86138103, ...,   1.        ,\n          0.        ,   1.        ],\n       [ 32.98184958,  -6.85308159,   1.92893011, ...,   1.        ,\n          0.        ,   1.        ],\n       [-24.35178766, -13.22737857,   0.93222194, ...,   1.        ,\n          0.        ,   1.        ],\n       ...,\n       [ -8.03006854,   3.09472243,  -5.09605119, ...,   1.        ,\n          0.        ,   1.        ],\n       [ -0.79954614, -11.73968467,  -6.04443154, ...,   1.        ,\n          0.        ,   1.        ],\n       [ -3.49652735, -10.08344267,  -6.03520317, ...,   1.        ,\n          0.        ,   1.        ]], shape=(4758, 44)), array([[ 30.65887462,  -0.97924475,   4.89925144, ...,   1.        ,\n          0.        ,   1.        ],\n       [-14.46106215,  10.75084739,  -5.1018334 , ...,   1.        ,\n          0.        ,   1.        ],\n       [ 22.17412254,   7.57525261,   4.89154968, ...,   1.        ,\n          0.        ,   1.        ],\n       ...,\n       [-31.76567654, -16.82868912,   2.93705772, ...,   1.        ,\n          0.        ,   1.        ],\n       [ 19.234006  ,   6.38750111,  -5.11529738, ...,   1.        ,\n          0.        ,   1.        ],\n       [-48.36566596,   4.49221177,   4.90408129, ...,   1.        ,\n          0.        ,   1.        ]], shape=(1190, 44)), 4426    Yes\n1065    Yes\n2133    Yes\n2387     No\n8366     No\n       ... \n6281    Yes\n8710    Yes\n8775    Yes\n9059     No\n1396    Yes\nName: Healthy, Length: 4758, dtype: object, 5590    Yes\n6107    Yes\n2379     No\n9865     No\n6550    Yes\n       ... \n7952    Yes\n3815    Yes\n25       No\n1869    Yes\n7288     No\nName: Healthy, Length: 1190, dtype: object)"
                ],
                [
                  "5",
                  "none",
                  "none",
                  "none",
                  "pca_0.95_full",
                  "ordinal",
                  "(array([[-16.38644189,  13.05096818,   0.86138103, ...,   1.        ,\n          0.        ,   0.        ],\n       [ 32.98184958,  -6.85308159,   1.92893011, ...,   0.        ,\n          0.        ,   0.        ],\n       [-24.35178766, -13.22737857,   0.93222194, ...,   0.        ,\n          0.        ,   0.        ],\n       ...,\n       [ -8.03006854,   3.09472243,  -5.09605119, ...,   0.        ,\n          0.        ,   0.        ],\n       [ -0.79954614, -11.73968467,  -6.04443154, ...,   1.        ,\n          0.        ,   0.        ],\n       [ -3.49652735, -10.08344267,  -6.03520317, ...,   0.        ,\n          0.        ,   0.        ]], shape=(4758, 13)), array([[ 30.65887462,  -0.97924475,   4.89925144, ...,   0.        ,\n          0.        ,   0.        ],\n       [-14.46106215,  10.75084739,  -5.1018334 , ...,   0.        ,\n          0.        ,   0.        ],\n       [ 22.17412254,   7.57525261,   4.89154968, ...,   1.        ,\n          0.        ,   0.        ],\n       ...,\n       [-31.76567654, -16.82868912,   2.93705772, ...,   1.        ,\n          0.        ,   0.        ],\n       [ 19.234006  ,   6.38750111,  -5.11529738, ...,   0.        ,\n          0.        ,   0.        ],\n       [-48.36566596,   4.49221177,   4.90408129, ...,   0.        ,\n          0.        ,   0.        ]], shape=(1190, 13)), 4426    Yes\n1065    Yes\n2133    Yes\n2387     No\n8366     No\n       ... \n6281    Yes\n8710    Yes\n8775    Yes\n9059     No\n1396    Yes\nName: Healthy, Length: 4758, dtype: object, 5590    Yes\n6107    Yes\n2379     No\n9865     No\n6550    Yes\n       ... \n7952    Yes\n3815    Yes\n25       No\n1869    Yes\n7288     No\nName: Healthy, Length: 1190, dtype: object)"
                ],
                [
                  "6",
                  "none",
                  "none",
                  "none",
                  "pca_0.99_auto",
                  "onehot",
                  "(array([[-16.38644189,  13.05096818,   0.86138103, ...,   1.        ,\n          0.        ,   1.        ],\n       [ 32.98184958,  -6.85308159,   1.92893011, ...,   1.        ,\n          0.        ,   1.        ],\n       [-24.35178766, -13.22737857,   0.93222194, ...,   1.        ,\n          0.        ,   1.        ],\n       ...,\n       [ -8.03006854,   3.09472243,  -5.09605119, ...,   1.        ,\n          0.        ,   1.        ],\n       [ -0.79954614, -11.73968467,  -6.04443154, ...,   1.        ,\n          0.        ,   1.        ],\n       [ -3.49652735, -10.08344267,  -6.03520317, ...,   1.        ,\n          0.        ,   1.        ]], shape=(4758, 44)), array([[ 30.65887462,  -0.97924475,   4.89925144, ...,   1.        ,\n          0.        ,   1.        ],\n       [-14.46106215,  10.75084739,  -5.1018334 , ...,   1.        ,\n          0.        ,   1.        ],\n       [ 22.17412254,   7.57525261,   4.89154968, ...,   1.        ,\n          0.        ,   1.        ],\n       ...,\n       [-31.76567654, -16.82868912,   2.93705772, ...,   1.        ,\n          0.        ,   1.        ],\n       [ 19.234006  ,   6.38750111,  -5.11529738, ...,   1.        ,\n          0.        ,   1.        ],\n       [-48.36566596,   4.49221177,   4.90408129, ...,   1.        ,\n          0.        ,   1.        ]], shape=(1190, 44)), 4426    Yes\n1065    Yes\n2133    Yes\n2387     No\n8366     No\n       ... \n6281    Yes\n8710    Yes\n8775    Yes\n9059     No\n1396    Yes\nName: Healthy, Length: 4758, dtype: object, 5590    Yes\n6107    Yes\n2379     No\n9865     No\n6550    Yes\n       ... \n7952    Yes\n3815    Yes\n25       No\n1869    Yes\n7288     No\nName: Healthy, Length: 1190, dtype: object)"
                ],
                [
                  "7",
                  "none",
                  "none",
                  "none",
                  "pca_0.99_auto",
                  "ordinal",
                  "(array([[-16.38644189,  13.05096818,   0.86138103, ...,   1.        ,\n          0.        ,   0.        ],\n       [ 32.98184958,  -6.85308159,   1.92893011, ...,   0.        ,\n          0.        ,   0.        ],\n       [-24.35178766, -13.22737857,   0.93222194, ...,   0.        ,\n          0.        ,   0.        ],\n       ...,\n       [ -8.03006854,   3.09472243,  -5.09605119, ...,   0.        ,\n          0.        ,   0.        ],\n       [ -0.79954614, -11.73968467,  -6.04443154, ...,   1.        ,\n          0.        ,   0.        ],\n       [ -3.49652735, -10.08344267,  -6.03520317, ...,   0.        ,\n          0.        ,   0.        ]], shape=(4758, 13)), array([[ 30.65887462,  -0.97924475,   4.89925144, ...,   0.        ,\n          0.        ,   0.        ],\n       [-14.46106215,  10.75084739,  -5.1018334 , ...,   0.        ,\n          0.        ,   0.        ],\n       [ 22.17412254,   7.57525261,   4.89154968, ...,   1.        ,\n          0.        ,   0.        ],\n       ...,\n       [-31.76567654, -16.82868912,   2.93705772, ...,   1.        ,\n          0.        ,   0.        ],\n       [ 19.234006  ,   6.38750111,  -5.11529738, ...,   0.        ,\n          0.        ,   0.        ],\n       [-48.36566596,   4.49221177,   4.90408129, ...,   0.        ,\n          0.        ,   0.        ]], shape=(1190, 13)), 4426    Yes\n1065    Yes\n2133    Yes\n2387     No\n8366     No\n       ... \n6281    Yes\n8710    Yes\n8775    Yes\n9059     No\n1396    Yes\nName: Healthy, Length: 4758, dtype: object, 5590    Yes\n6107    Yes\n2379     No\n9865     No\n6550    Yes\n       ... \n7952    Yes\n3815    Yes\n25       No\n1869    Yes\n7288     No\nName: Healthy, Length: 1190, dtype: object)"
                ],
                [
                  "8",
                  "none",
                  "none",
                  "none",
                  "pca_0.99_full",
                  "onehot",
                  "(array([[-16.38644189,  13.05096818,   0.86138103, ...,   1.        ,\n          0.        ,   1.        ],\n       [ 32.98184958,  -6.85308159,   1.92893011, ...,   1.        ,\n          0.        ,   1.        ],\n       [-24.35178766, -13.22737857,   0.93222194, ...,   1.        ,\n          0.        ,   1.        ],\n       ...,\n       [ -8.03006854,   3.09472243,  -5.09605119, ...,   1.        ,\n          0.        ,   1.        ],\n       [ -0.79954614, -11.73968467,  -6.04443154, ...,   1.        ,\n          0.        ,   1.        ],\n       [ -3.49652735, -10.08344267,  -6.03520317, ...,   1.        ,\n          0.        ,   1.        ]], shape=(4758, 44)), array([[ 30.65887462,  -0.97924475,   4.89925144, ...,   1.        ,\n          0.        ,   1.        ],\n       [-14.46106215,  10.75084739,  -5.1018334 , ...,   1.        ,\n          0.        ,   1.        ],\n       [ 22.17412254,   7.57525261,   4.89154968, ...,   1.        ,\n          0.        ,   1.        ],\n       ...,\n       [-31.76567654, -16.82868912,   2.93705772, ...,   1.        ,\n          0.        ,   1.        ],\n       [ 19.234006  ,   6.38750111,  -5.11529738, ...,   1.        ,\n          0.        ,   1.        ],\n       [-48.36566596,   4.49221177,   4.90408129, ...,   1.        ,\n          0.        ,   1.        ]], shape=(1190, 44)), 4426    Yes\n1065    Yes\n2133    Yes\n2387     No\n8366     No\n       ... \n6281    Yes\n8710    Yes\n8775    Yes\n9059     No\n1396    Yes\nName: Healthy, Length: 4758, dtype: object, 5590    Yes\n6107    Yes\n2379     No\n9865     No\n6550    Yes\n       ... \n7952    Yes\n3815    Yes\n25       No\n1869    Yes\n7288     No\nName: Healthy, Length: 1190, dtype: object)"
                ],
                [
                  "9",
                  "none",
                  "none",
                  "none",
                  "pca_0.99_full",
                  "ordinal",
                  "(array([[-16.38644189,  13.05096818,   0.86138103, ...,   1.        ,\n          0.        ,   0.        ],\n       [ 32.98184958,  -6.85308159,   1.92893011, ...,   0.        ,\n          0.        ,   0.        ],\n       [-24.35178766, -13.22737857,   0.93222194, ...,   0.        ,\n          0.        ,   0.        ],\n       ...,\n       [ -8.03006854,   3.09472243,  -5.09605119, ...,   0.        ,\n          0.        ,   0.        ],\n       [ -0.79954614, -11.73968467,  -6.04443154, ...,   1.        ,\n          0.        ,   0.        ],\n       [ -3.49652735, -10.08344267,  -6.03520317, ...,   0.        ,\n          0.        ,   0.        ]], shape=(4758, 13)), array([[ 30.65887462,  -0.97924475,   4.89925144, ...,   0.        ,\n          0.        ,   0.        ],\n       [-14.46106215,  10.75084739,  -5.1018334 , ...,   0.        ,\n          0.        ,   0.        ],\n       [ 22.17412254,   7.57525261,   4.89154968, ...,   1.        ,\n          0.        ,   0.        ],\n       ...,\n       [-31.76567654, -16.82868912,   2.93705772, ...,   1.        ,\n          0.        ,   0.        ],\n       [ 19.234006  ,   6.38750111,  -5.11529738, ...,   0.        ,\n          0.        ,   0.        ],\n       [-48.36566596,   4.49221177,   4.90408129, ...,   0.        ,\n          0.        ,   0.        ]], shape=(1190, 13)), 4426    Yes\n1065    Yes\n2133    Yes\n2387     No\n8366     No\n       ... \n6281    Yes\n8710    Yes\n8775    Yes\n9059     No\n1396    Yes\nName: Healthy, Length: 4758, dtype: object, 5590    Yes\n6107    Yes\n2379     No\n9865     No\n6550    Yes\n       ... \n7952    Yes\n3815    Yes\n25       No\n1869    Yes\n7288     No\nName: Healthy, Length: 1190, dtype: object)"
                ],
                [
                  "10",
                  "none",
                  "none",
                  "standard",
                  "none",
                  "onehot",
                  "(array([[ 0.24331483, -0.27720595,  1.00161916, ...,  1.        ,\n         0.        ,  1.        ],\n       [ 0.50957334,  1.39074125,  0.31836411, ...,  1.        ,\n         0.        ,  1.        ],\n       [ 0.24331483, -1.81171738,  0.31836411, ...,  1.        ,\n         0.        ,  1.        ],\n       ...,\n       [-1.3542362 , -0.27720595, -1.04814598, ...,  1.        ,\n         0.        ,  1.        ],\n       [-1.6204947 , -0.54407751, -1.04814598, ...,  1.        ,\n         0.        ,  1.        ],\n       [-1.6204947 , -0.61079539, -1.73140103, ...,  1.        ,\n         0.        ,  1.        ]], shape=(4758, 47)), array([[ 1.30834885,  1.52417702,  2.36812925, ...,  1.        ,\n         0.        ,  1.        ],\n       [-1.3542362 , -0.27720595, -1.04814598, ...,  1.        ,\n         0.        ,  1.        ],\n       [ 1.30834885,  1.45745914,  0.31836411, ...,  1.        ,\n         0.        ,  1.        ],\n       ...,\n       [ 0.77583184, -2.34546049,  0.31836411, ...,  1.        ,\n         0.        ,  1.        ],\n       [-1.3542362 ,  1.25730547,  1.00161916, ...,  1.        ,\n         0.        ,  1.        ],\n       [ 1.30834885, -2.2787426 , -1.04814598, ...,  1.        ,\n         0.        ,  1.        ]], shape=(1190, 47)), 4426    Yes\n1065    Yes\n2133    Yes\n2387     No\n8366     No\n       ... \n6281    Yes\n8710    Yes\n8775    Yes\n9059     No\n1396    Yes\nName: Healthy, Length: 4758, dtype: object, 5590    Yes\n6107    Yes\n2379     No\n9865     No\n6550    Yes\n       ... \n7952    Yes\n3815    Yes\n25       No\n1869    Yes\n7288     No\nName: Healthy, Length: 1190, dtype: object)"
                ],
                [
                  "11",
                  "none",
                  "none",
                  "standard",
                  "none",
                  "ordinal",
                  "(array([[ 0.24331483, -0.27720595,  1.00161916, ...,  1.        ,\n         0.        ,  0.        ],\n       [ 0.50957334,  1.39074125,  0.31836411, ...,  0.        ,\n         0.        ,  0.        ],\n       [ 0.24331483, -1.81171738,  0.31836411, ...,  0.        ,\n         0.        ,  0.        ],\n       ...,\n       [-1.3542362 , -0.27720595, -1.04814598, ...,  0.        ,\n         0.        ,  0.        ],\n       [-1.6204947 , -0.54407751, -1.04814598, ...,  1.        ,\n         0.        ,  0.        ],\n       [-1.6204947 , -0.61079539, -1.73140103, ...,  0.        ,\n         0.        ,  0.        ]], shape=(4758, 16)), array([[ 1.30834885,  1.52417702,  2.36812925, ...,  0.        ,\n         0.        ,  0.        ],\n       [-1.3542362 , -0.27720595, -1.04814598, ...,  0.        ,\n         0.        ,  0.        ],\n       [ 1.30834885,  1.45745914,  0.31836411, ...,  1.        ,\n         0.        ,  0.        ],\n       ...,\n       [ 0.77583184, -2.34546049,  0.31836411, ...,  1.        ,\n         0.        ,  0.        ],\n       [-1.3542362 ,  1.25730547,  1.00161916, ...,  0.        ,\n         0.        ,  0.        ],\n       [ 1.30834885, -2.2787426 , -1.04814598, ...,  0.        ,\n         0.        ,  0.        ]], shape=(1190, 16)), 4426    Yes\n1065    Yes\n2133    Yes\n2387     No\n8366     No\n       ... \n6281    Yes\n8710    Yes\n8775    Yes\n9059     No\n1396    Yes\nName: Healthy, Length: 4758, dtype: object, 5590    Yes\n6107    Yes\n2379     No\n9865     No\n6550    Yes\n       ... \n7952    Yes\n3815    Yes\n25       No\n1869    Yes\n7288     No\nName: Healthy, Length: 1190, dtype: object)"
                ],
                [
                  "12",
                  "none",
                  "none",
                  "standard",
                  "pca_0.95_auto",
                  "onehot",
                  "(array([[ 0.72936417, -0.32713931,  0.22921515, ...,  1.        ,\n         0.        ,  1.        ],\n       [-1.45669056,  0.36389445,  0.0067495 , ...,  1.        ,\n         0.        ,  1.        ],\n       [ 0.84021021, -0.99747456,  0.89421467, ...,  1.        ,\n         0.        ,  1.        ],\n       ...,\n       [ 1.10088397,  0.65382746,  0.90491981, ...,  1.        ,\n         0.        ,  1.        ],\n       [-0.36434658,  0.13242875,  0.87437886, ...,  1.        ,\n         0.        ,  1.        ],\n       [ 0.1478347 ,  0.11400627,  0.5353114 , ...,  1.        ,\n         0.        ,  1.        ]], shape=(4758, 47)), array([[-2.18338475, -1.57131391,  0.03111132, ...,  1.        ,\n         0.        ,  1.        ],\n       [ 0.98836099,  0.975159  , -1.2600204 , ...,  1.        ,\n         0.        ,  1.        ],\n       [-0.8587146 ,  1.02915477,  1.48504683, ...,  1.        ,\n         0.        ,  1.        ],\n       ...,\n       [ 0.91379282,  0.71736902, -2.35150426, ...,  1.        ,\n         0.        ,  1.        ],\n       [-1.27714103, -0.84181863,  1.39574696, ...,  1.        ,\n         0.        ,  1.        ],\n       [ 3.07052942,  0.4600463 ,  0.30827757, ...,  1.        ,\n         0.        ,  1.        ]], shape=(1190, 47)), 4426    Yes\n1065    Yes\n2133    Yes\n2387     No\n8366     No\n       ... \n6281    Yes\n8710    Yes\n8775    Yes\n9059     No\n1396    Yes\nName: Healthy, Length: 4758, dtype: object, 5590    Yes\n6107    Yes\n2379     No\n9865     No\n6550    Yes\n       ... \n7952    Yes\n3815    Yes\n25       No\n1869    Yes\n7288     No\nName: Healthy, Length: 1190, dtype: object)"
                ],
                [
                  "13",
                  "none",
                  "none",
                  "standard",
                  "pca_0.95_auto",
                  "ordinal",
                  "(array([[ 0.72936417, -0.32713931,  0.22921515, ...,  1.        ,\n         0.        ,  0.        ],\n       [-1.45669056,  0.36389445,  0.0067495 , ...,  0.        ,\n         0.        ,  0.        ],\n       [ 0.84021021, -0.99747456,  0.89421467, ...,  0.        ,\n         0.        ,  0.        ],\n       ...,\n       [ 1.10088397,  0.65382746,  0.90491981, ...,  0.        ,\n         0.        ,  0.        ],\n       [-0.36434658,  0.13242875,  0.87437886, ...,  1.        ,\n         0.        ,  0.        ],\n       [ 0.1478347 ,  0.11400627,  0.5353114 , ...,  0.        ,\n         0.        ,  0.        ]], shape=(4758, 16)), array([[-2.18338475, -1.57131391,  0.03111132, ...,  0.        ,\n         0.        ,  0.        ],\n       [ 0.98836099,  0.975159  , -1.2600204 , ...,  0.        ,\n         0.        ,  0.        ],\n       [-0.8587146 ,  1.02915477,  1.48504683, ...,  1.        ,\n         0.        ,  0.        ],\n       ...,\n       [ 0.91379282,  0.71736902, -2.35150426, ...,  1.        ,\n         0.        ,  0.        ],\n       [-1.27714103, -0.84181863,  1.39574696, ...,  0.        ,\n         0.        ,  0.        ],\n       [ 3.07052942,  0.4600463 ,  0.30827757, ...,  0.        ,\n         0.        ,  0.        ]], shape=(1190, 16)), 4426    Yes\n1065    Yes\n2133    Yes\n2387     No\n8366     No\n       ... \n6281    Yes\n8710    Yes\n8775    Yes\n9059     No\n1396    Yes\nName: Healthy, Length: 4758, dtype: object, 5590    Yes\n6107    Yes\n2379     No\n9865     No\n6550    Yes\n       ... \n7952    Yes\n3815    Yes\n25       No\n1869    Yes\n7288     No\nName: Healthy, Length: 1190, dtype: object)"
                ],
                [
                  "14",
                  "none",
                  "none",
                  "standard",
                  "pca_0.95_full",
                  "onehot",
                  "(array([[ 0.72936417, -0.32713931,  0.22921515, ...,  1.        ,\n         0.        ,  1.        ],\n       [-1.45669056,  0.36389445,  0.0067495 , ...,  1.        ,\n         0.        ,  1.        ],\n       [ 0.84021021, -0.99747456,  0.89421467, ...,  1.        ,\n         0.        ,  1.        ],\n       ...,\n       [ 1.10088397,  0.65382746,  0.90491981, ...,  1.        ,\n         0.        ,  1.        ],\n       [-0.36434658,  0.13242875,  0.87437886, ...,  1.        ,\n         0.        ,  1.        ],\n       [ 0.1478347 ,  0.11400627,  0.5353114 , ...,  1.        ,\n         0.        ,  1.        ]], shape=(4758, 47)), array([[-2.18338475, -1.57131391,  0.03111132, ...,  1.        ,\n         0.        ,  1.        ],\n       [ 0.98836099,  0.975159  , -1.2600204 , ...,  1.        ,\n         0.        ,  1.        ],\n       [-0.8587146 ,  1.02915477,  1.48504683, ...,  1.        ,\n         0.        ,  1.        ],\n       ...,\n       [ 0.91379282,  0.71736902, -2.35150426, ...,  1.        ,\n         0.        ,  1.        ],\n       [-1.27714103, -0.84181863,  1.39574696, ...,  1.        ,\n         0.        ,  1.        ],\n       [ 3.07052942,  0.4600463 ,  0.30827757, ...,  1.        ,\n         0.        ,  1.        ]], shape=(1190, 47)), 4426    Yes\n1065    Yes\n2133    Yes\n2387     No\n8366     No\n       ... \n6281    Yes\n8710    Yes\n8775    Yes\n9059     No\n1396    Yes\nName: Healthy, Length: 4758, dtype: object, 5590    Yes\n6107    Yes\n2379     No\n9865     No\n6550    Yes\n       ... \n7952    Yes\n3815    Yes\n25       No\n1869    Yes\n7288     No\nName: Healthy, Length: 1190, dtype: object)"
                ],
                [
                  "15",
                  "none",
                  "none",
                  "standard",
                  "pca_0.95_full",
                  "ordinal",
                  "(array([[ 0.72936417, -0.32713931,  0.22921515, ...,  1.        ,\n         0.        ,  0.        ],\n       [-1.45669056,  0.36389445,  0.0067495 , ...,  0.        ,\n         0.        ,  0.        ],\n       [ 0.84021021, -0.99747456,  0.89421467, ...,  0.        ,\n         0.        ,  0.        ],\n       ...,\n       [ 1.10088397,  0.65382746,  0.90491981, ...,  0.        ,\n         0.        ,  0.        ],\n       [-0.36434658,  0.13242875,  0.87437886, ...,  1.        ,\n         0.        ,  0.        ],\n       [ 0.1478347 ,  0.11400627,  0.5353114 , ...,  0.        ,\n         0.        ,  0.        ]], shape=(4758, 16)), array([[-2.18338475, -1.57131391,  0.03111132, ...,  0.        ,\n         0.        ,  0.        ],\n       [ 0.98836099,  0.975159  , -1.2600204 , ...,  0.        ,\n         0.        ,  0.        ],\n       [-0.8587146 ,  1.02915477,  1.48504683, ...,  1.        ,\n         0.        ,  0.        ],\n       ...,\n       [ 0.91379282,  0.71736902, -2.35150426, ...,  1.        ,\n         0.        ,  0.        ],\n       [-1.27714103, -0.84181863,  1.39574696, ...,  0.        ,\n         0.        ,  0.        ],\n       [ 3.07052942,  0.4600463 ,  0.30827757, ...,  0.        ,\n         0.        ,  0.        ]], shape=(1190, 16)), 4426    Yes\n1065    Yes\n2133    Yes\n2387     No\n8366     No\n       ... \n6281    Yes\n8710    Yes\n8775    Yes\n9059     No\n1396    Yes\nName: Healthy, Length: 4758, dtype: object, 5590    Yes\n6107    Yes\n2379     No\n9865     No\n6550    Yes\n       ... \n7952    Yes\n3815    Yes\n25       No\n1869    Yes\n7288     No\nName: Healthy, Length: 1190, dtype: object)"
                ],
                [
                  "16",
                  "none",
                  "none",
                  "standard",
                  "pca_0.99_auto",
                  "onehot",
                  "(array([[ 0.72936417, -0.32713931,  0.22921515, ...,  1.        ,\n         0.        ,  1.        ],\n       [-1.45669056,  0.36389445,  0.0067495 , ...,  1.        ,\n         0.        ,  1.        ],\n       [ 0.84021021, -0.99747456,  0.89421467, ...,  1.        ,\n         0.        ,  1.        ],\n       ...,\n       [ 1.10088397,  0.65382746,  0.90491981, ...,  1.        ,\n         0.        ,  1.        ],\n       [-0.36434658,  0.13242875,  0.87437886, ...,  1.        ,\n         0.        ,  1.        ],\n       [ 0.1478347 ,  0.11400627,  0.5353114 , ...,  1.        ,\n         0.        ,  1.        ]], shape=(4758, 47)), array([[-2.18338475, -1.57131391,  0.03111132, ...,  1.        ,\n         0.        ,  1.        ],\n       [ 0.98836099,  0.975159  , -1.2600204 , ...,  1.        ,\n         0.        ,  1.        ],\n       [-0.8587146 ,  1.02915477,  1.48504683, ...,  1.        ,\n         0.        ,  1.        ],\n       ...,\n       [ 0.91379282,  0.71736902, -2.35150426, ...,  1.        ,\n         0.        ,  1.        ],\n       [-1.27714103, -0.84181863,  1.39574696, ...,  1.        ,\n         0.        ,  1.        ],\n       [ 3.07052942,  0.4600463 ,  0.30827757, ...,  1.        ,\n         0.        ,  1.        ]], shape=(1190, 47)), 4426    Yes\n1065    Yes\n2133    Yes\n2387     No\n8366     No\n       ... \n6281    Yes\n8710    Yes\n8775    Yes\n9059     No\n1396    Yes\nName: Healthy, Length: 4758, dtype: object, 5590    Yes\n6107    Yes\n2379     No\n9865     No\n6550    Yes\n       ... \n7952    Yes\n3815    Yes\n25       No\n1869    Yes\n7288     No\nName: Healthy, Length: 1190, dtype: object)"
                ],
                [
                  "17",
                  "none",
                  "none",
                  "standard",
                  "pca_0.99_auto",
                  "ordinal",
                  "(array([[ 0.72936417, -0.32713931,  0.22921515, ...,  1.        ,\n         0.        ,  0.        ],\n       [-1.45669056,  0.36389445,  0.0067495 , ...,  0.        ,\n         0.        ,  0.        ],\n       [ 0.84021021, -0.99747456,  0.89421467, ...,  0.        ,\n         0.        ,  0.        ],\n       ...,\n       [ 1.10088397,  0.65382746,  0.90491981, ...,  0.        ,\n         0.        ,  0.        ],\n       [-0.36434658,  0.13242875,  0.87437886, ...,  1.        ,\n         0.        ,  0.        ],\n       [ 0.1478347 ,  0.11400627,  0.5353114 , ...,  0.        ,\n         0.        ,  0.        ]], shape=(4758, 16)), array([[-2.18338475, -1.57131391,  0.03111132, ...,  0.        ,\n         0.        ,  0.        ],\n       [ 0.98836099,  0.975159  , -1.2600204 , ...,  0.        ,\n         0.        ,  0.        ],\n       [-0.8587146 ,  1.02915477,  1.48504683, ...,  1.        ,\n         0.        ,  0.        ],\n       ...,\n       [ 0.91379282,  0.71736902, -2.35150426, ...,  1.        ,\n         0.        ,  0.        ],\n       [-1.27714103, -0.84181863,  1.39574696, ...,  0.        ,\n         0.        ,  0.        ],\n       [ 3.07052942,  0.4600463 ,  0.30827757, ...,  0.        ,\n         0.        ,  0.        ]], shape=(1190, 16)), 4426    Yes\n1065    Yes\n2133    Yes\n2387     No\n8366     No\n       ... \n6281    Yes\n8710    Yes\n8775    Yes\n9059     No\n1396    Yes\nName: Healthy, Length: 4758, dtype: object, 5590    Yes\n6107    Yes\n2379     No\n9865     No\n6550    Yes\n       ... \n7952    Yes\n3815    Yes\n25       No\n1869    Yes\n7288     No\nName: Healthy, Length: 1190, dtype: object)"
                ],
                [
                  "18",
                  "none",
                  "none",
                  "standard",
                  "pca_0.99_full",
                  "onehot",
                  "(array([[ 0.72936417, -0.32713931,  0.22921515, ...,  1.        ,\n         0.        ,  1.        ],\n       [-1.45669056,  0.36389445,  0.0067495 , ...,  1.        ,\n         0.        ,  1.        ],\n       [ 0.84021021, -0.99747456,  0.89421467, ...,  1.        ,\n         0.        ,  1.        ],\n       ...,\n       [ 1.10088397,  0.65382746,  0.90491981, ...,  1.        ,\n         0.        ,  1.        ],\n       [-0.36434658,  0.13242875,  0.87437886, ...,  1.        ,\n         0.        ,  1.        ],\n       [ 0.1478347 ,  0.11400627,  0.5353114 , ...,  1.        ,\n         0.        ,  1.        ]], shape=(4758, 47)), array([[-2.18338475, -1.57131391,  0.03111132, ...,  1.        ,\n         0.        ,  1.        ],\n       [ 0.98836099,  0.975159  , -1.2600204 , ...,  1.        ,\n         0.        ,  1.        ],\n       [-0.8587146 ,  1.02915477,  1.48504683, ...,  1.        ,\n         0.        ,  1.        ],\n       ...,\n       [ 0.91379282,  0.71736902, -2.35150426, ...,  1.        ,\n         0.        ,  1.        ],\n       [-1.27714103, -0.84181863,  1.39574696, ...,  1.        ,\n         0.        ,  1.        ],\n       [ 3.07052942,  0.4600463 ,  0.30827757, ...,  1.        ,\n         0.        ,  1.        ]], shape=(1190, 47)), 4426    Yes\n1065    Yes\n2133    Yes\n2387     No\n8366     No\n       ... \n6281    Yes\n8710    Yes\n8775    Yes\n9059     No\n1396    Yes\nName: Healthy, Length: 4758, dtype: object, 5590    Yes\n6107    Yes\n2379     No\n9865     No\n6550    Yes\n       ... \n7952    Yes\n3815    Yes\n25       No\n1869    Yes\n7288     No\nName: Healthy, Length: 1190, dtype: object)"
                ],
                [
                  "19",
                  "none",
                  "none",
                  "standard",
                  "pca_0.99_full",
                  "ordinal",
                  "(array([[ 0.72936417, -0.32713931,  0.22921515, ...,  1.        ,\n         0.        ,  0.        ],\n       [-1.45669056,  0.36389445,  0.0067495 , ...,  0.        ,\n         0.        ,  0.        ],\n       [ 0.84021021, -0.99747456,  0.89421467, ...,  0.        ,\n         0.        ,  0.        ],\n       ...,\n       [ 1.10088397,  0.65382746,  0.90491981, ...,  0.        ,\n         0.        ,  0.        ],\n       [-0.36434658,  0.13242875,  0.87437886, ...,  1.        ,\n         0.        ,  0.        ],\n       [ 0.1478347 ,  0.11400627,  0.5353114 , ...,  0.        ,\n         0.        ,  0.        ]], shape=(4758, 16)), array([[-2.18338475, -1.57131391,  0.03111132, ...,  0.        ,\n         0.        ,  0.        ],\n       [ 0.98836099,  0.975159  , -1.2600204 , ...,  0.        ,\n         0.        ,  0.        ],\n       [-0.8587146 ,  1.02915477,  1.48504683, ...,  1.        ,\n         0.        ,  0.        ],\n       ...,\n       [ 0.91379282,  0.71736902, -2.35150426, ...,  1.        ,\n         0.        ,  0.        ],\n       [-1.27714103, -0.84181863,  1.39574696, ...,  0.        ,\n         0.        ,  0.        ],\n       [ 3.07052942,  0.4600463 ,  0.30827757, ...,  0.        ,\n         0.        ,  0.        ]], shape=(1190, 16)), 4426    Yes\n1065    Yes\n2133    Yes\n2387     No\n8366     No\n       ... \n6281    Yes\n8710    Yes\n8775    Yes\n9059     No\n1396    Yes\nName: Healthy, Length: 4758, dtype: object, 5590    Yes\n6107    Yes\n2379     No\n9865     No\n6550    Yes\n       ... \n7952    Yes\n3815    Yes\n25       No\n1869    Yes\n7288     No\nName: Healthy, Length: 1190, dtype: object)"
                ],
                [
                  "20",
                  "none",
                  "none",
                  "minmax",
                  "none",
                  "onehot",
                  "(array([[0.58333333, 0.39130435, 0.5       , ..., 1.        , 0.        ,\n        1.        ],\n       [0.66666667, 0.66304348, 0.375     , ..., 1.        , 0.        ,\n        1.        ],\n       [0.58333333, 0.14130435, 0.375     , ..., 1.        , 0.        ,\n        1.        ],\n       ...,\n       [0.08333333, 0.39130435, 0.125     , ..., 1.        , 0.        ,\n        1.        ],\n       [0.        , 0.34782609, 0.125     , ..., 1.        , 0.        ,\n        1.        ],\n       [0.        , 0.33695652, 0.        , ..., 1.        , 0.        ,\n        1.        ]], shape=(4758, 47)), array([[0.91666667, 0.68478261, 0.75      , ..., 1.        , 0.        ,\n        1.        ],\n       [0.08333333, 0.39130435, 0.125     , ..., 1.        , 0.        ,\n        1.        ],\n       [0.91666667, 0.67391304, 0.375     , ..., 1.        , 0.        ,\n        1.        ],\n       ...,\n       [0.75      , 0.05434783, 0.375     , ..., 1.        , 0.        ,\n        1.        ],\n       [0.08333333, 0.64130435, 0.5       , ..., 1.        , 0.        ,\n        1.        ],\n       [0.91666667, 0.06521739, 0.125     , ..., 1.        , 0.        ,\n        1.        ]], shape=(1190, 47)), 4426    Yes\n1065    Yes\n2133    Yes\n2387     No\n8366     No\n       ... \n6281    Yes\n8710    Yes\n8775    Yes\n9059     No\n1396    Yes\nName: Healthy, Length: 4758, dtype: object, 5590    Yes\n6107    Yes\n2379     No\n9865     No\n6550    Yes\n       ... \n7952    Yes\n3815    Yes\n25       No\n1869    Yes\n7288     No\nName: Healthy, Length: 1190, dtype: object)"
                ],
                [
                  "21",
                  "none",
                  "none",
                  "minmax",
                  "none",
                  "ordinal",
                  "(array([[0.58333333, 0.39130435, 0.5       , ..., 1.        , 0.        ,\n        0.        ],\n       [0.66666667, 0.66304348, 0.375     , ..., 0.        , 0.        ,\n        0.        ],\n       [0.58333333, 0.14130435, 0.375     , ..., 0.        , 0.        ,\n        0.        ],\n       ...,\n       [0.08333333, 0.39130435, 0.125     , ..., 0.        , 0.        ,\n        0.        ],\n       [0.        , 0.34782609, 0.125     , ..., 1.        , 0.        ,\n        0.        ],\n       [0.        , 0.33695652, 0.        , ..., 0.        , 0.        ,\n        0.        ]], shape=(4758, 16)), array([[0.91666667, 0.68478261, 0.75      , ..., 0.        , 0.        ,\n        0.        ],\n       [0.08333333, 0.39130435, 0.125     , ..., 0.        , 0.        ,\n        0.        ],\n       [0.91666667, 0.67391304, 0.375     , ..., 1.        , 0.        ,\n        0.        ],\n       ...,\n       [0.75      , 0.05434783, 0.375     , ..., 1.        , 0.        ,\n        0.        ],\n       [0.08333333, 0.64130435, 0.5       , ..., 0.        , 0.        ,\n        0.        ],\n       [0.91666667, 0.06521739, 0.125     , ..., 0.        , 0.        ,\n        0.        ]], shape=(1190, 16)), 4426    Yes\n1065    Yes\n2133    Yes\n2387     No\n8366     No\n       ... \n6281    Yes\n8710    Yes\n8775    Yes\n9059     No\n1396    Yes\nName: Healthy, Length: 4758, dtype: object, 5590    Yes\n6107    Yes\n2379     No\n9865     No\n6550    Yes\n       ... \n7952    Yes\n3815    Yes\n25       No\n1869    Yes\n7288     No\nName: Healthy, Length: 1190, dtype: object)"
                ],
                [
                  "22",
                  "none",
                  "none",
                  "minmax",
                  "pca_0.95_auto",
                  "onehot",
                  "(array([[ 0.05049221,  0.38107123,  0.0653541 , ...,  1.        ,\n         0.        ,  1.        ],\n       [ 0.16103344, -0.10840297, -0.05020818, ...,  1.        ,\n         0.        ,  1.        ],\n       [ 0.05151738,  0.39210722,  0.2041109 , ...,  1.        ,\n         0.        ,  1.        ],\n       ...,\n       [-0.46261613,  0.58863532, -0.04245039, ...,  1.        ,\n         0.        ,  1.        ],\n       [-0.51156112,  0.12384762,  0.05911347, ...,  1.        ,\n         0.        ,  1.        ],\n       [-0.49312211, -0.12205375,  0.06154018, ...,  1.        ,\n         0.        ,  1.        ]], shape=(4758, 47)), array([[ 0.42561748, -0.33097991,  0.34631534, ...,  1.        ,\n         0.        ,  1.        ],\n       [-0.41373676, -0.14458876, -0.34041123, ...,  1.        ,\n         0.        ,  1.        ],\n       [ 0.38381053,  0.4255307 ,  0.04417449, ...,  1.        ,\n         0.        ,  1.        ],\n       ...,\n       [ 0.2431493 , -0.11042433, -0.62163207, ...,  1.        ,\n         0.        ,  1.        ],\n       [-0.44941262,  0.35415316,  0.35894043, ...,  1.        ,\n         0.        ,  1.        ],\n       [ 0.39003525,  0.4165876 , -0.09240113, ...,  1.        ,\n         0.        ,  1.        ]], shape=(1190, 47)), 4426    Yes\n1065    Yes\n2133    Yes\n2387     No\n8366     No\n       ... \n6281    Yes\n8710    Yes\n8775    Yes\n9059     No\n1396    Yes\nName: Healthy, Length: 4758, dtype: object, 5590    Yes\n6107    Yes\n2379     No\n9865     No\n6550    Yes\n       ... \n7952    Yes\n3815    Yes\n25       No\n1869    Yes\n7288     No\nName: Healthy, Length: 1190, dtype: object)"
                ],
                [
                  "23",
                  "none",
                  "none",
                  "minmax",
                  "pca_0.95_auto",
                  "ordinal",
                  "(array([[ 0.05049221,  0.38107123,  0.0653541 , ...,  1.        ,\n         0.        ,  0.        ],\n       [ 0.16103344, -0.10840297, -0.05020818, ...,  0.        ,\n         0.        ,  0.        ],\n       [ 0.05151738,  0.39210722,  0.2041109 , ...,  0.        ,\n         0.        ,  0.        ],\n       ...,\n       [-0.46261613,  0.58863532, -0.04245039, ...,  0.        ,\n         0.        ,  0.        ],\n       [-0.51156112,  0.12384762,  0.05911347, ...,  1.        ,\n         0.        ,  0.        ],\n       [-0.49312211, -0.12205375,  0.06154018, ...,  0.        ,\n         0.        ,  0.        ]], shape=(4758, 16)), array([[ 0.42561748, -0.33097991,  0.34631534, ...,  0.        ,\n         0.        ,  0.        ],\n       [-0.41373676, -0.14458876, -0.34041123, ...,  0.        ,\n         0.        ,  0.        ],\n       [ 0.38381053,  0.4255307 ,  0.04417449, ...,  1.        ,\n         0.        ,  0.        ],\n       ...,\n       [ 0.2431493 , -0.11042433, -0.62163207, ...,  1.        ,\n         0.        ,  0.        ],\n       [-0.44941262,  0.35415316,  0.35894043, ...,  0.        ,\n         0.        ,  0.        ],\n       [ 0.39003525,  0.4165876 , -0.09240113, ...,  0.        ,\n         0.        ,  0.        ]], shape=(1190, 16)), 4426    Yes\n1065    Yes\n2133    Yes\n2387     No\n8366     No\n       ... \n6281    Yes\n8710    Yes\n8775    Yes\n9059     No\n1396    Yes\nName: Healthy, Length: 4758, dtype: object, 5590    Yes\n6107    Yes\n2379     No\n9865     No\n6550    Yes\n       ... \n7952    Yes\n3815    Yes\n25       No\n1869    Yes\n7288     No\nName: Healthy, Length: 1190, dtype: object)"
                ],
                [
                  "24",
                  "none",
                  "none",
                  "minmax",
                  "pca_0.95_full",
                  "onehot",
                  "(array([[ 0.05049221,  0.38107123,  0.0653541 , ...,  1.        ,\n         0.        ,  1.        ],\n       [ 0.16103344, -0.10840297, -0.05020818, ...,  1.        ,\n         0.        ,  1.        ],\n       [ 0.05151738,  0.39210722,  0.2041109 , ...,  1.        ,\n         0.        ,  1.        ],\n       ...,\n       [-0.46261613,  0.58863532, -0.04245039, ...,  1.        ,\n         0.        ,  1.        ],\n       [-0.51156112,  0.12384762,  0.05911347, ...,  1.        ,\n         0.        ,  1.        ],\n       [-0.49312211, -0.12205375,  0.06154018, ...,  1.        ,\n         0.        ,  1.        ]], shape=(4758, 47)), array([[ 0.42561748, -0.33097991,  0.34631534, ...,  1.        ,\n         0.        ,  1.        ],\n       [-0.41373676, -0.14458876, -0.34041123, ...,  1.        ,\n         0.        ,  1.        ],\n       [ 0.38381053,  0.4255307 ,  0.04417449, ...,  1.        ,\n         0.        ,  1.        ],\n       ...,\n       [ 0.2431493 , -0.11042433, -0.62163207, ...,  1.        ,\n         0.        ,  1.        ],\n       [-0.44941262,  0.35415316,  0.35894043, ...,  1.        ,\n         0.        ,  1.        ],\n       [ 0.39003525,  0.4165876 , -0.09240113, ...,  1.        ,\n         0.        ,  1.        ]], shape=(1190, 47)), 4426    Yes\n1065    Yes\n2133    Yes\n2387     No\n8366     No\n       ... \n6281    Yes\n8710    Yes\n8775    Yes\n9059     No\n1396    Yes\nName: Healthy, Length: 4758, dtype: object, 5590    Yes\n6107    Yes\n2379     No\n9865     No\n6550    Yes\n       ... \n7952    Yes\n3815    Yes\n25       No\n1869    Yes\n7288     No\nName: Healthy, Length: 1190, dtype: object)"
                ],
                [
                  "25",
                  "none",
                  "none",
                  "minmax",
                  "pca_0.95_full",
                  "ordinal",
                  "(array([[ 0.05049221,  0.38107123,  0.0653541 , ...,  1.        ,\n         0.        ,  0.        ],\n       [ 0.16103344, -0.10840297, -0.05020818, ...,  0.        ,\n         0.        ,  0.        ],\n       [ 0.05151738,  0.39210722,  0.2041109 , ...,  0.        ,\n         0.        ,  0.        ],\n       ...,\n       [-0.46261613,  0.58863532, -0.04245039, ...,  0.        ,\n         0.        ,  0.        ],\n       [-0.51156112,  0.12384762,  0.05911347, ...,  1.        ,\n         0.        ,  0.        ],\n       [-0.49312211, -0.12205375,  0.06154018, ...,  0.        ,\n         0.        ,  0.        ]], shape=(4758, 16)), array([[ 0.42561748, -0.33097991,  0.34631534, ...,  0.        ,\n         0.        ,  0.        ],\n       [-0.41373676, -0.14458876, -0.34041123, ...,  0.        ,\n         0.        ,  0.        ],\n       [ 0.38381053,  0.4255307 ,  0.04417449, ...,  1.        ,\n         0.        ,  0.        ],\n       ...,\n       [ 0.2431493 , -0.11042433, -0.62163207, ...,  1.        ,\n         0.        ,  0.        ],\n       [-0.44941262,  0.35415316,  0.35894043, ...,  0.        ,\n         0.        ,  0.        ],\n       [ 0.39003525,  0.4165876 , -0.09240113, ...,  0.        ,\n         0.        ,  0.        ]], shape=(1190, 16)), 4426    Yes\n1065    Yes\n2133    Yes\n2387     No\n8366     No\n       ... \n6281    Yes\n8710    Yes\n8775    Yes\n9059     No\n1396    Yes\nName: Healthy, Length: 4758, dtype: object, 5590    Yes\n6107    Yes\n2379     No\n9865     No\n6550    Yes\n       ... \n7952    Yes\n3815    Yes\n25       No\n1869    Yes\n7288     No\nName: Healthy, Length: 1190, dtype: object)"
                ],
                [
                  "26",
                  "none",
                  "none",
                  "minmax",
                  "pca_0.99_auto",
                  "onehot",
                  "(array([[ 0.05049221,  0.38107123,  0.0653541 , ...,  1.        ,\n         0.        ,  1.        ],\n       [ 0.16103344, -0.10840297, -0.05020818, ...,  1.        ,\n         0.        ,  1.        ],\n       [ 0.05151738,  0.39210722,  0.2041109 , ...,  1.        ,\n         0.        ,  1.        ],\n       ...,\n       [-0.46261613,  0.58863532, -0.04245039, ...,  1.        ,\n         0.        ,  1.        ],\n       [-0.51156112,  0.12384762,  0.05911347, ...,  1.        ,\n         0.        ,  1.        ],\n       [-0.49312211, -0.12205375,  0.06154018, ...,  1.        ,\n         0.        ,  1.        ]], shape=(4758, 47)), array([[ 0.42561748, -0.33097991,  0.34631534, ...,  1.        ,\n         0.        ,  1.        ],\n       [-0.41373676, -0.14458876, -0.34041123, ...,  1.        ,\n         0.        ,  1.        ],\n       [ 0.38381053,  0.4255307 ,  0.04417449, ...,  1.        ,\n         0.        ,  1.        ],\n       ...,\n       [ 0.2431493 , -0.11042433, -0.62163207, ...,  1.        ,\n         0.        ,  1.        ],\n       [-0.44941262,  0.35415316,  0.35894043, ...,  1.        ,\n         0.        ,  1.        ],\n       [ 0.39003525,  0.4165876 , -0.09240113, ...,  1.        ,\n         0.        ,  1.        ]], shape=(1190, 47)), 4426    Yes\n1065    Yes\n2133    Yes\n2387     No\n8366     No\n       ... \n6281    Yes\n8710    Yes\n8775    Yes\n9059     No\n1396    Yes\nName: Healthy, Length: 4758, dtype: object, 5590    Yes\n6107    Yes\n2379     No\n9865     No\n6550    Yes\n       ... \n7952    Yes\n3815    Yes\n25       No\n1869    Yes\n7288     No\nName: Healthy, Length: 1190, dtype: object)"
                ],
                [
                  "27",
                  "none",
                  "none",
                  "minmax",
                  "pca_0.99_auto",
                  "ordinal",
                  "(array([[ 0.05049221,  0.38107123,  0.0653541 , ...,  1.        ,\n         0.        ,  0.        ],\n       [ 0.16103344, -0.10840297, -0.05020818, ...,  0.        ,\n         0.        ,  0.        ],\n       [ 0.05151738,  0.39210722,  0.2041109 , ...,  0.        ,\n         0.        ,  0.        ],\n       ...,\n       [-0.46261613,  0.58863532, -0.04245039, ...,  0.        ,\n         0.        ,  0.        ],\n       [-0.51156112,  0.12384762,  0.05911347, ...,  1.        ,\n         0.        ,  0.        ],\n       [-0.49312211, -0.12205375,  0.06154018, ...,  0.        ,\n         0.        ,  0.        ]], shape=(4758, 16)), array([[ 0.42561748, -0.33097991,  0.34631534, ...,  0.        ,\n         0.        ,  0.        ],\n       [-0.41373676, -0.14458876, -0.34041123, ...,  0.        ,\n         0.        ,  0.        ],\n       [ 0.38381053,  0.4255307 ,  0.04417449, ...,  1.        ,\n         0.        ,  0.        ],\n       ...,\n       [ 0.2431493 , -0.11042433, -0.62163207, ...,  1.        ,\n         0.        ,  0.        ],\n       [-0.44941262,  0.35415316,  0.35894043, ...,  0.        ,\n         0.        ,  0.        ],\n       [ 0.39003525,  0.4165876 , -0.09240113, ...,  0.        ,\n         0.        ,  0.        ]], shape=(1190, 16)), 4426    Yes\n1065    Yes\n2133    Yes\n2387     No\n8366     No\n       ... \n6281    Yes\n8710    Yes\n8775    Yes\n9059     No\n1396    Yes\nName: Healthy, Length: 4758, dtype: object, 5590    Yes\n6107    Yes\n2379     No\n9865     No\n6550    Yes\n       ... \n7952    Yes\n3815    Yes\n25       No\n1869    Yes\n7288     No\nName: Healthy, Length: 1190, dtype: object)"
                ],
                [
                  "28",
                  "none",
                  "none",
                  "minmax",
                  "pca_0.99_full",
                  "onehot",
                  "(array([[ 0.05049221,  0.38107123,  0.0653541 , ...,  1.        ,\n         0.        ,  1.        ],\n       [ 0.16103344, -0.10840297, -0.05020818, ...,  1.        ,\n         0.        ,  1.        ],\n       [ 0.05151738,  0.39210722,  0.2041109 , ...,  1.        ,\n         0.        ,  1.        ],\n       ...,\n       [-0.46261613,  0.58863532, -0.04245039, ...,  1.        ,\n         0.        ,  1.        ],\n       [-0.51156112,  0.12384762,  0.05911347, ...,  1.        ,\n         0.        ,  1.        ],\n       [-0.49312211, -0.12205375,  0.06154018, ...,  1.        ,\n         0.        ,  1.        ]], shape=(4758, 47)), array([[ 0.42561748, -0.33097991,  0.34631534, ...,  1.        ,\n         0.        ,  1.        ],\n       [-0.41373676, -0.14458876, -0.34041123, ...,  1.        ,\n         0.        ,  1.        ],\n       [ 0.38381053,  0.4255307 ,  0.04417449, ...,  1.        ,\n         0.        ,  1.        ],\n       ...,\n       [ 0.2431493 , -0.11042433, -0.62163207, ...,  1.        ,\n         0.        ,  1.        ],\n       [-0.44941262,  0.35415316,  0.35894043, ...,  1.        ,\n         0.        ,  1.        ],\n       [ 0.39003525,  0.4165876 , -0.09240113, ...,  1.        ,\n         0.        ,  1.        ]], shape=(1190, 47)), 4426    Yes\n1065    Yes\n2133    Yes\n2387     No\n8366     No\n       ... \n6281    Yes\n8710    Yes\n8775    Yes\n9059     No\n1396    Yes\nName: Healthy, Length: 4758, dtype: object, 5590    Yes\n6107    Yes\n2379     No\n9865     No\n6550    Yes\n       ... \n7952    Yes\n3815    Yes\n25       No\n1869    Yes\n7288     No\nName: Healthy, Length: 1190, dtype: object)"
                ],
                [
                  "29",
                  "none",
                  "none",
                  "minmax",
                  "pca_0.99_full",
                  "ordinal",
                  "(array([[ 0.05049221,  0.38107123,  0.0653541 , ...,  1.        ,\n         0.        ,  0.        ],\n       [ 0.16103344, -0.10840297, -0.05020818, ...,  0.        ,\n         0.        ,  0.        ],\n       [ 0.05151738,  0.39210722,  0.2041109 , ...,  0.        ,\n         0.        ,  0.        ],\n       ...,\n       [-0.46261613,  0.58863532, -0.04245039, ...,  0.        ,\n         0.        ,  0.        ],\n       [-0.51156112,  0.12384762,  0.05911347, ...,  1.        ,\n         0.        ,  0.        ],\n       [-0.49312211, -0.12205375,  0.06154018, ...,  0.        ,\n         0.        ,  0.        ]], shape=(4758, 16)), array([[ 0.42561748, -0.33097991,  0.34631534, ...,  0.        ,\n         0.        ,  0.        ],\n       [-0.41373676, -0.14458876, -0.34041123, ...,  0.        ,\n         0.        ,  0.        ],\n       [ 0.38381053,  0.4255307 ,  0.04417449, ...,  1.        ,\n         0.        ,  0.        ],\n       ...,\n       [ 0.2431493 , -0.11042433, -0.62163207, ...,  1.        ,\n         0.        ,  0.        ],\n       [-0.44941262,  0.35415316,  0.35894043, ...,  0.        ,\n         0.        ,  0.        ],\n       [ 0.39003525,  0.4165876 , -0.09240113, ...,  0.        ,\n         0.        ,  0.        ]], shape=(1190, 16)), 4426    Yes\n1065    Yes\n2133    Yes\n2387     No\n8366     No\n       ... \n6281    Yes\n8710    Yes\n8775    Yes\n9059     No\n1396    Yes\nName: Healthy, Length: 4758, dtype: object, 5590    Yes\n6107    Yes\n2379     No\n9865     No\n6550    Yes\n       ... \n7952    Yes\n3815    Yes\n25       No\n1869    Yes\n7288     No\nName: Healthy, Length: 1190, dtype: object)"
                ],
                [
                  "30",
                  "none",
                  "most",
                  "none",
                  "none",
                  "onehot",
                  "(array([[ 1.,  0.,  0., ...,  1.,  3., 85.],\n       [ 0.,  0.,  0., ...,  1.,  1., 38.],\n       [ 0.,  0.,  0., ...,  1.,  3., 70.],\n       ...,\n       [ 0.,  0.,  0., ...,  0.,  4., 72.],\n       [ 0.,  0.,  0., ...,  2.,  2., 56.],\n       [ 0.,  0.,  0., ...,  2.,  1., 59.]], shape=(4758, 47)), array([[ 0.,  0.,  0., ...,  1.,  0., 44.],\n       [ 0.,  0.,  0., ...,  2.,  1., 82.],\n       [ 0.,  0.,  0., ...,  2.,  3., 56.],\n       ...,\n       [ 0.,  0.,  0., ...,  3.,  1., 72.],\n       [ 0.,  1.,  0., ...,  0.,  3., 57.],\n       [ 1.,  0.,  0., ...,  2.,  3., 99.]], shape=(1190, 47)), 4426    Yes\n1065    Yes\n2133    Yes\n2387     No\n8366     No\n       ... \n6281    Yes\n8710    Yes\n8775    Yes\n9059     No\n1396    Yes\nName: Healthy, Length: 4758, dtype: object, 5590    Yes\n6107    Yes\n2379     No\n9865     No\n6550    Yes\n       ... \n7952    Yes\n3815    Yes\n25       No\n1869    Yes\n7288     No\nName: Healthy, Length: 1190, dtype: object)"
                ],
                [
                  "31",
                  "none",
                  "most",
                  "none",
                  "none",
                  "ordinal",
                  "(array([[ 0.,  1.,  0., ...,  1.,  3., 85.],\n       [12.,  0.,  0., ...,  1.,  1., 38.],\n       [ 4.,  2.,  1., ...,  1.,  3., 70.],\n       ...,\n       [14.,  2.,  0., ...,  0.,  4., 72.],\n       [10.,  0.,  0., ...,  2.,  2., 56.],\n       [10.,  0.,  1., ...,  2.,  1., 59.]], shape=(4758, 16)), array([[11.,  2.,  1., ...,  1.,  0., 44.],\n       [ 9.,  0.,  1., ...,  2.,  1., 82.],\n       [13.,  1.,  0., ...,  2.,  3., 56.],\n       ...,\n       [ 4.,  2.,  1., ...,  3.,  1., 72.],\n       [ 1.,  2.,  1., ...,  0.,  3., 57.],\n       [ 0.,  1.,  1., ...,  2.,  3., 99.]], shape=(1190, 16)), 4426    Yes\n1065    Yes\n2133    Yes\n2387     No\n8366     No\n       ... \n6281    Yes\n8710    Yes\n8775    Yes\n9059     No\n1396    Yes\nName: Healthy, Length: 4758, dtype: object, 5590    Yes\n6107    Yes\n2379     No\n9865     No\n6550    Yes\n       ... \n7952    Yes\n3815    Yes\n25       No\n1869    Yes\n7288     No\nName: Healthy, Length: 1190, dtype: object)"
                ],
                [
                  "32",
                  "none",
                  "most",
                  "none",
                  "pca_0.95_auto",
                  "onehot",
                  "(array([[-16.38644189,  13.05096818,   1.        , ...,   1.        ,\n          0.        ,   1.        ],\n       [ 32.98184958,  -6.85308159,   0.        , ...,   1.        ,\n          0.        ,   1.        ],\n       [-24.35178766, -13.22737857,   0.        , ...,   1.        ,\n          0.        ,   1.        ],\n       ...,\n       [ -8.03006854,   3.09472243,   0.        , ...,   1.        ,\n          0.        ,   1.        ],\n       [ -0.79954614, -11.73968467,   0.        , ...,   1.        ,\n          0.        ,   1.        ],\n       [ -3.49652735, -10.08344267,   0.        , ...,   1.        ,\n          0.        ,   1.        ]], shape=(4758, 42)), array([[ 30.65887462,  -0.97924475,   0.        , ...,   1.        ,\n          0.        ,   1.        ],\n       [-14.46106215,  10.75084739,   0.        , ...,   1.        ,\n          0.        ,   1.        ],\n       [ 22.17412254,   7.57525261,   0.        , ...,   1.        ,\n          0.        ,   1.        ],\n       ...,\n       [-31.76567654, -16.82868912,   0.        , ...,   1.        ,\n          0.        ,   1.        ],\n       [ 19.234006  ,   6.38750111,   0.        , ...,   1.        ,\n          0.        ,   1.        ],\n       [-48.36566596,   4.49221177,   1.        , ...,   1.        ,\n          0.        ,   1.        ]], shape=(1190, 42)), 4426    Yes\n1065    Yes\n2133    Yes\n2387     No\n8366     No\n       ... \n6281    Yes\n8710    Yes\n8775    Yes\n9059     No\n1396    Yes\nName: Healthy, Length: 4758, dtype: object, 5590    Yes\n6107    Yes\n2379     No\n9865     No\n6550    Yes\n       ... \n7952    Yes\n3815    Yes\n25       No\n1869    Yes\n7288     No\nName: Healthy, Length: 1190, dtype: object)"
                ],
                [
                  "33",
                  "none",
                  "most",
                  "none",
                  "pca_0.95_auto",
                  "ordinal",
                  "(array([[-16.38644189,  13.05096818,   0.        , ...,   1.        ,\n          0.        ,   0.        ],\n       [ 32.98184958,  -6.85308159,  12.        , ...,   0.        ,\n          0.        ,   0.        ],\n       [-24.35178766, -13.22737857,   4.        , ...,   0.        ,\n          0.        ,   0.        ],\n       ...,\n       [ -8.03006854,   3.09472243,  14.        , ...,   0.        ,\n          0.        ,   0.        ],\n       [ -0.79954614, -11.73968467,  10.        , ...,   1.        ,\n          0.        ,   0.        ],\n       [ -3.49652735, -10.08344267,  10.        , ...,   0.        ,\n          0.        ,   0.        ]], shape=(4758, 11)), array([[ 30.65887462,  -0.97924475,  11.        , ...,   0.        ,\n          0.        ,   0.        ],\n       [-14.46106215,  10.75084739,   9.        , ...,   0.        ,\n          0.        ,   0.        ],\n       [ 22.17412254,   7.57525261,  13.        , ...,   1.        ,\n          0.        ,   0.        ],\n       ...,\n       [-31.76567654, -16.82868912,   4.        , ...,   1.        ,\n          0.        ,   0.        ],\n       [ 19.234006  ,   6.38750111,   1.        , ...,   0.        ,\n          0.        ,   0.        ],\n       [-48.36566596,   4.49221177,   0.        , ...,   0.        ,\n          0.        ,   0.        ]], shape=(1190, 11)), 4426    Yes\n1065    Yes\n2133    Yes\n2387     No\n8366     No\n       ... \n6281    Yes\n8710    Yes\n8775    Yes\n9059     No\n1396    Yes\nName: Healthy, Length: 4758, dtype: object, 5590    Yes\n6107    Yes\n2379     No\n9865     No\n6550    Yes\n       ... \n7952    Yes\n3815    Yes\n25       No\n1869    Yes\n7288     No\nName: Healthy, Length: 1190, dtype: object)"
                ],
                [
                  "34",
                  "none",
                  "most",
                  "none",
                  "pca_0.95_full",
                  "onehot",
                  "(array([[-16.38644189,  13.05096818,   0.86138103, ...,   1.        ,\n          0.        ,   1.        ],\n       [ 32.98184958,  -6.85308159,   1.92893011, ...,   1.        ,\n          0.        ,   1.        ],\n       [-24.35178766, -13.22737857,   0.93222194, ...,   1.        ,\n          0.        ,   1.        ],\n       ...,\n       [ -8.03006854,   3.09472243,  -5.09605119, ...,   1.        ,\n          0.        ,   1.        ],\n       [ -0.79954614, -11.73968467,  -6.04443154, ...,   1.        ,\n          0.        ,   1.        ],\n       [ -3.49652735, -10.08344267,  -6.03520317, ...,   1.        ,\n          0.        ,   1.        ]], shape=(4758, 44)), array([[ 30.65887462,  -0.97924475,   4.89925144, ...,   1.        ,\n          0.        ,   1.        ],\n       [-14.46106215,  10.75084739,  -5.1018334 , ...,   1.        ,\n          0.        ,   1.        ],\n       [ 22.17412254,   7.57525261,   4.89154968, ...,   1.        ,\n          0.        ,   1.        ],\n       ...,\n       [-31.76567654, -16.82868912,   2.93705772, ...,   1.        ,\n          0.        ,   1.        ],\n       [ 19.234006  ,   6.38750111,  -5.11529738, ...,   1.        ,\n          0.        ,   1.        ],\n       [-48.36566596,   4.49221177,   4.90408129, ...,   1.        ,\n          0.        ,   1.        ]], shape=(1190, 44)), 4426    Yes\n1065    Yes\n2133    Yes\n2387     No\n8366     No\n       ... \n6281    Yes\n8710    Yes\n8775    Yes\n9059     No\n1396    Yes\nName: Healthy, Length: 4758, dtype: object, 5590    Yes\n6107    Yes\n2379     No\n9865     No\n6550    Yes\n       ... \n7952    Yes\n3815    Yes\n25       No\n1869    Yes\n7288     No\nName: Healthy, Length: 1190, dtype: object)"
                ],
                [
                  "35",
                  "none",
                  "most",
                  "none",
                  "pca_0.95_full",
                  "ordinal",
                  "(array([[-16.38644189,  13.05096818,   0.86138103, ...,   1.        ,\n          0.        ,   0.        ],\n       [ 32.98184958,  -6.85308159,   1.92893011, ...,   0.        ,\n          0.        ,   0.        ],\n       [-24.35178766, -13.22737857,   0.93222194, ...,   0.        ,\n          0.        ,   0.        ],\n       ...,\n       [ -8.03006854,   3.09472243,  -5.09605119, ...,   0.        ,\n          0.        ,   0.        ],\n       [ -0.79954614, -11.73968467,  -6.04443154, ...,   1.        ,\n          0.        ,   0.        ],\n       [ -3.49652735, -10.08344267,  -6.03520317, ...,   0.        ,\n          0.        ,   0.        ]], shape=(4758, 13)), array([[ 30.65887462,  -0.97924475,   4.89925144, ...,   0.        ,\n          0.        ,   0.        ],\n       [-14.46106215,  10.75084739,  -5.1018334 , ...,   0.        ,\n          0.        ,   0.        ],\n       [ 22.17412254,   7.57525261,   4.89154968, ...,   1.        ,\n          0.        ,   0.        ],\n       ...,\n       [-31.76567654, -16.82868912,   2.93705772, ...,   1.        ,\n          0.        ,   0.        ],\n       [ 19.234006  ,   6.38750111,  -5.11529738, ...,   0.        ,\n          0.        ,   0.        ],\n       [-48.36566596,   4.49221177,   4.90408129, ...,   0.        ,\n          0.        ,   0.        ]], shape=(1190, 13)), 4426    Yes\n1065    Yes\n2133    Yes\n2387     No\n8366     No\n       ... \n6281    Yes\n8710    Yes\n8775    Yes\n9059     No\n1396    Yes\nName: Healthy, Length: 4758, dtype: object, 5590    Yes\n6107    Yes\n2379     No\n9865     No\n6550    Yes\n       ... \n7952    Yes\n3815    Yes\n25       No\n1869    Yes\n7288     No\nName: Healthy, Length: 1190, dtype: object)"
                ],
                [
                  "36",
                  "none",
                  "most",
                  "none",
                  "pca_0.99_auto",
                  "onehot",
                  "(array([[-16.38644189,  13.05096818,   0.86138103, ...,   1.        ,\n          0.        ,   1.        ],\n       [ 32.98184958,  -6.85308159,   1.92893011, ...,   1.        ,\n          0.        ,   1.        ],\n       [-24.35178766, -13.22737857,   0.93222194, ...,   1.        ,\n          0.        ,   1.        ],\n       ...,\n       [ -8.03006854,   3.09472243,  -5.09605119, ...,   1.        ,\n          0.        ,   1.        ],\n       [ -0.79954614, -11.73968467,  -6.04443154, ...,   1.        ,\n          0.        ,   1.        ],\n       [ -3.49652735, -10.08344267,  -6.03520317, ...,   1.        ,\n          0.        ,   1.        ]], shape=(4758, 44)), array([[ 30.65887462,  -0.97924475,   4.89925144, ...,   1.        ,\n          0.        ,   1.        ],\n       [-14.46106215,  10.75084739,  -5.1018334 , ...,   1.        ,\n          0.        ,   1.        ],\n       [ 22.17412254,   7.57525261,   4.89154968, ...,   1.        ,\n          0.        ,   1.        ],\n       ...,\n       [-31.76567654, -16.82868912,   2.93705772, ...,   1.        ,\n          0.        ,   1.        ],\n       [ 19.234006  ,   6.38750111,  -5.11529738, ...,   1.        ,\n          0.        ,   1.        ],\n       [-48.36566596,   4.49221177,   4.90408129, ...,   1.        ,\n          0.        ,   1.        ]], shape=(1190, 44)), 4426    Yes\n1065    Yes\n2133    Yes\n2387     No\n8366     No\n       ... \n6281    Yes\n8710    Yes\n8775    Yes\n9059     No\n1396    Yes\nName: Healthy, Length: 4758, dtype: object, 5590    Yes\n6107    Yes\n2379     No\n9865     No\n6550    Yes\n       ... \n7952    Yes\n3815    Yes\n25       No\n1869    Yes\n7288     No\nName: Healthy, Length: 1190, dtype: object)"
                ],
                [
                  "37",
                  "none",
                  "most",
                  "none",
                  "pca_0.99_auto",
                  "ordinal",
                  "(array([[-16.38644189,  13.05096818,   0.86138103, ...,   1.        ,\n          0.        ,   0.        ],\n       [ 32.98184958,  -6.85308159,   1.92893011, ...,   0.        ,\n          0.        ,   0.        ],\n       [-24.35178766, -13.22737857,   0.93222194, ...,   0.        ,\n          0.        ,   0.        ],\n       ...,\n       [ -8.03006854,   3.09472243,  -5.09605119, ...,   0.        ,\n          0.        ,   0.        ],\n       [ -0.79954614, -11.73968467,  -6.04443154, ...,   1.        ,\n          0.        ,   0.        ],\n       [ -3.49652735, -10.08344267,  -6.03520317, ...,   0.        ,\n          0.        ,   0.        ]], shape=(4758, 13)), array([[ 30.65887462,  -0.97924475,   4.89925144, ...,   0.        ,\n          0.        ,   0.        ],\n       [-14.46106215,  10.75084739,  -5.1018334 , ...,   0.        ,\n          0.        ,   0.        ],\n       [ 22.17412254,   7.57525261,   4.89154968, ...,   1.        ,\n          0.        ,   0.        ],\n       ...,\n       [-31.76567654, -16.82868912,   2.93705772, ...,   1.        ,\n          0.        ,   0.        ],\n       [ 19.234006  ,   6.38750111,  -5.11529738, ...,   0.        ,\n          0.        ,   0.        ],\n       [-48.36566596,   4.49221177,   4.90408129, ...,   0.        ,\n          0.        ,   0.        ]], shape=(1190, 13)), 4426    Yes\n1065    Yes\n2133    Yes\n2387     No\n8366     No\n       ... \n6281    Yes\n8710    Yes\n8775    Yes\n9059     No\n1396    Yes\nName: Healthy, Length: 4758, dtype: object, 5590    Yes\n6107    Yes\n2379     No\n9865     No\n6550    Yes\n       ... \n7952    Yes\n3815    Yes\n25       No\n1869    Yes\n7288     No\nName: Healthy, Length: 1190, dtype: object)"
                ],
                [
                  "38",
                  "none",
                  "most",
                  "none",
                  "pca_0.99_full",
                  "onehot",
                  "(array([[-16.38644189,  13.05096818,   0.86138103, ...,   1.        ,\n          0.        ,   1.        ],\n       [ 32.98184958,  -6.85308159,   1.92893011, ...,   1.        ,\n          0.        ,   1.        ],\n       [-24.35178766, -13.22737857,   0.93222194, ...,   1.        ,\n          0.        ,   1.        ],\n       ...,\n       [ -8.03006854,   3.09472243,  -5.09605119, ...,   1.        ,\n          0.        ,   1.        ],\n       [ -0.79954614, -11.73968467,  -6.04443154, ...,   1.        ,\n          0.        ,   1.        ],\n       [ -3.49652735, -10.08344267,  -6.03520317, ...,   1.        ,\n          0.        ,   1.        ]], shape=(4758, 44)), array([[ 30.65887462,  -0.97924475,   4.89925144, ...,   1.        ,\n          0.        ,   1.        ],\n       [-14.46106215,  10.75084739,  -5.1018334 , ...,   1.        ,\n          0.        ,   1.        ],\n       [ 22.17412254,   7.57525261,   4.89154968, ...,   1.        ,\n          0.        ,   1.        ],\n       ...,\n       [-31.76567654, -16.82868912,   2.93705772, ...,   1.        ,\n          0.        ,   1.        ],\n       [ 19.234006  ,   6.38750111,  -5.11529738, ...,   1.        ,\n          0.        ,   1.        ],\n       [-48.36566596,   4.49221177,   4.90408129, ...,   1.        ,\n          0.        ,   1.        ]], shape=(1190, 44)), 4426    Yes\n1065    Yes\n2133    Yes\n2387     No\n8366     No\n       ... \n6281    Yes\n8710    Yes\n8775    Yes\n9059     No\n1396    Yes\nName: Healthy, Length: 4758, dtype: object, 5590    Yes\n6107    Yes\n2379     No\n9865     No\n6550    Yes\n       ... \n7952    Yes\n3815    Yes\n25       No\n1869    Yes\n7288     No\nName: Healthy, Length: 1190, dtype: object)"
                ],
                [
                  "39",
                  "none",
                  "most",
                  "none",
                  "pca_0.99_full",
                  "ordinal",
                  "(array([[-16.38644189,  13.05096818,   0.86138103, ...,   1.        ,\n          0.        ,   0.        ],\n       [ 32.98184958,  -6.85308159,   1.92893011, ...,   0.        ,\n          0.        ,   0.        ],\n       [-24.35178766, -13.22737857,   0.93222194, ...,   0.        ,\n          0.        ,   0.        ],\n       ...,\n       [ -8.03006854,   3.09472243,  -5.09605119, ...,   0.        ,\n          0.        ,   0.        ],\n       [ -0.79954614, -11.73968467,  -6.04443154, ...,   1.        ,\n          0.        ,   0.        ],\n       [ -3.49652735, -10.08344267,  -6.03520317, ...,   0.        ,\n          0.        ,   0.        ]], shape=(4758, 13)), array([[ 30.65887462,  -0.97924475,   4.89925144, ...,   0.        ,\n          0.        ,   0.        ],\n       [-14.46106215,  10.75084739,  -5.1018334 , ...,   0.        ,\n          0.        ,   0.        ],\n       [ 22.17412254,   7.57525261,   4.89154968, ...,   1.        ,\n          0.        ,   0.        ],\n       ...,\n       [-31.76567654, -16.82868912,   2.93705772, ...,   1.        ,\n          0.        ,   0.        ],\n       [ 19.234006  ,   6.38750111,  -5.11529738, ...,   0.        ,\n          0.        ,   0.        ],\n       [-48.36566596,   4.49221177,   4.90408129, ...,   0.        ,\n          0.        ,   0.        ]], shape=(1190, 13)), 4426    Yes\n1065    Yes\n2133    Yes\n2387     No\n8366     No\n       ... \n6281    Yes\n8710    Yes\n8775    Yes\n9059     No\n1396    Yes\nName: Healthy, Length: 4758, dtype: object, 5590    Yes\n6107    Yes\n2379     No\n9865     No\n6550    Yes\n       ... \n7952    Yes\n3815    Yes\n25       No\n1869    Yes\n7288     No\nName: Healthy, Length: 1190, dtype: object)"
                ],
                [
                  "40",
                  "none",
                  "most",
                  "standard",
                  "none",
                  "onehot",
                  "(array([[ 0.24331483, -0.27720595,  1.00161916, ...,  1.        ,\n         0.        ,  1.        ],\n       [ 0.50957334,  1.39074125,  0.31836411, ...,  1.        ,\n         0.        ,  1.        ],\n       [ 0.24331483, -1.81171738,  0.31836411, ...,  1.        ,\n         0.        ,  1.        ],\n       ...,\n       [-1.3542362 , -0.27720595, -1.04814598, ...,  1.        ,\n         0.        ,  1.        ],\n       [-1.6204947 , -0.54407751, -1.04814598, ...,  1.        ,\n         0.        ,  1.        ],\n       [-1.6204947 , -0.61079539, -1.73140103, ...,  1.        ,\n         0.        ,  1.        ]], shape=(4758, 47)), array([[ 1.30834885,  1.52417702,  2.36812925, ...,  1.        ,\n         0.        ,  1.        ],\n       [-1.3542362 , -0.27720595, -1.04814598, ...,  1.        ,\n         0.        ,  1.        ],\n       [ 1.30834885,  1.45745914,  0.31836411, ...,  1.        ,\n         0.        ,  1.        ],\n       ...,\n       [ 0.77583184, -2.34546049,  0.31836411, ...,  1.        ,\n         0.        ,  1.        ],\n       [-1.3542362 ,  1.25730547,  1.00161916, ...,  1.        ,\n         0.        ,  1.        ],\n       [ 1.30834885, -2.2787426 , -1.04814598, ...,  1.        ,\n         0.        ,  1.        ]], shape=(1190, 47)), 4426    Yes\n1065    Yes\n2133    Yes\n2387     No\n8366     No\n       ... \n6281    Yes\n8710    Yes\n8775    Yes\n9059     No\n1396    Yes\nName: Healthy, Length: 4758, dtype: object, 5590    Yes\n6107    Yes\n2379     No\n9865     No\n6550    Yes\n       ... \n7952    Yes\n3815    Yes\n25       No\n1869    Yes\n7288     No\nName: Healthy, Length: 1190, dtype: object)"
                ],
                [
                  "41",
                  "none",
                  "most",
                  "standard",
                  "none",
                  "ordinal",
                  "(array([[ 0.24331483, -0.27720595,  1.00161916, ...,  1.        ,\n         0.        ,  0.        ],\n       [ 0.50957334,  1.39074125,  0.31836411, ...,  0.        ,\n         0.        ,  0.        ],\n       [ 0.24331483, -1.81171738,  0.31836411, ...,  0.        ,\n         0.        ,  0.        ],\n       ...,\n       [-1.3542362 , -0.27720595, -1.04814598, ...,  0.        ,\n         0.        ,  0.        ],\n       [-1.6204947 , -0.54407751, -1.04814598, ...,  1.        ,\n         0.        ,  0.        ],\n       [-1.6204947 , -0.61079539, -1.73140103, ...,  0.        ,\n         0.        ,  0.        ]], shape=(4758, 16)), array([[ 1.30834885,  1.52417702,  2.36812925, ...,  0.        ,\n         0.        ,  0.        ],\n       [-1.3542362 , -0.27720595, -1.04814598, ...,  0.        ,\n         0.        ,  0.        ],\n       [ 1.30834885,  1.45745914,  0.31836411, ...,  1.        ,\n         0.        ,  0.        ],\n       ...,\n       [ 0.77583184, -2.34546049,  0.31836411, ...,  1.        ,\n         0.        ,  0.        ],\n       [-1.3542362 ,  1.25730547,  1.00161916, ...,  0.        ,\n         0.        ,  0.        ],\n       [ 1.30834885, -2.2787426 , -1.04814598, ...,  0.        ,\n         0.        ,  0.        ]], shape=(1190, 16)), 4426    Yes\n1065    Yes\n2133    Yes\n2387     No\n8366     No\n       ... \n6281    Yes\n8710    Yes\n8775    Yes\n9059     No\n1396    Yes\nName: Healthy, Length: 4758, dtype: object, 5590    Yes\n6107    Yes\n2379     No\n9865     No\n6550    Yes\n       ... \n7952    Yes\n3815    Yes\n25       No\n1869    Yes\n7288     No\nName: Healthy, Length: 1190, dtype: object)"
                ],
                [
                  "42",
                  "none",
                  "most",
                  "standard",
                  "pca_0.95_auto",
                  "onehot",
                  "(array([[ 0.72936417, -0.32713931,  0.22921515, ...,  1.        ,\n         0.        ,  1.        ],\n       [-1.45669056,  0.36389445,  0.0067495 , ...,  1.        ,\n         0.        ,  1.        ],\n       [ 0.84021021, -0.99747456,  0.89421467, ...,  1.        ,\n         0.        ,  1.        ],\n       ...,\n       [ 1.10088397,  0.65382746,  0.90491981, ...,  1.        ,\n         0.        ,  1.        ],\n       [-0.36434658,  0.13242875,  0.87437886, ...,  1.        ,\n         0.        ,  1.        ],\n       [ 0.1478347 ,  0.11400627,  0.5353114 , ...,  1.        ,\n         0.        ,  1.        ]], shape=(4758, 47)), array([[-2.18338475, -1.57131391,  0.03111132, ...,  1.        ,\n         0.        ,  1.        ],\n       [ 0.98836099,  0.975159  , -1.2600204 , ...,  1.        ,\n         0.        ,  1.        ],\n       [-0.8587146 ,  1.02915477,  1.48504683, ...,  1.        ,\n         0.        ,  1.        ],\n       ...,\n       [ 0.91379282,  0.71736902, -2.35150426, ...,  1.        ,\n         0.        ,  1.        ],\n       [-1.27714103, -0.84181863,  1.39574696, ...,  1.        ,\n         0.        ,  1.        ],\n       [ 3.07052942,  0.4600463 ,  0.30827757, ...,  1.        ,\n         0.        ,  1.        ]], shape=(1190, 47)), 4426    Yes\n1065    Yes\n2133    Yes\n2387     No\n8366     No\n       ... \n6281    Yes\n8710    Yes\n8775    Yes\n9059     No\n1396    Yes\nName: Healthy, Length: 4758, dtype: object, 5590    Yes\n6107    Yes\n2379     No\n9865     No\n6550    Yes\n       ... \n7952    Yes\n3815    Yes\n25       No\n1869    Yes\n7288     No\nName: Healthy, Length: 1190, dtype: object)"
                ],
                [
                  "43",
                  "none",
                  "most",
                  "standard",
                  "pca_0.95_auto",
                  "ordinal",
                  "(array([[ 0.72936417, -0.32713931,  0.22921515, ...,  1.        ,\n         0.        ,  0.        ],\n       [-1.45669056,  0.36389445,  0.0067495 , ...,  0.        ,\n         0.        ,  0.        ],\n       [ 0.84021021, -0.99747456,  0.89421467, ...,  0.        ,\n         0.        ,  0.        ],\n       ...,\n       [ 1.10088397,  0.65382746,  0.90491981, ...,  0.        ,\n         0.        ,  0.        ],\n       [-0.36434658,  0.13242875,  0.87437886, ...,  1.        ,\n         0.        ,  0.        ],\n       [ 0.1478347 ,  0.11400627,  0.5353114 , ...,  0.        ,\n         0.        ,  0.        ]], shape=(4758, 16)), array([[-2.18338475, -1.57131391,  0.03111132, ...,  0.        ,\n         0.        ,  0.        ],\n       [ 0.98836099,  0.975159  , -1.2600204 , ...,  0.        ,\n         0.        ,  0.        ],\n       [-0.8587146 ,  1.02915477,  1.48504683, ...,  1.        ,\n         0.        ,  0.        ],\n       ...,\n       [ 0.91379282,  0.71736902, -2.35150426, ...,  1.        ,\n         0.        ,  0.        ],\n       [-1.27714103, -0.84181863,  1.39574696, ...,  0.        ,\n         0.        ,  0.        ],\n       [ 3.07052942,  0.4600463 ,  0.30827757, ...,  0.        ,\n         0.        ,  0.        ]], shape=(1190, 16)), 4426    Yes\n1065    Yes\n2133    Yes\n2387     No\n8366     No\n       ... \n6281    Yes\n8710    Yes\n8775    Yes\n9059     No\n1396    Yes\nName: Healthy, Length: 4758, dtype: object, 5590    Yes\n6107    Yes\n2379     No\n9865     No\n6550    Yes\n       ... \n7952    Yes\n3815    Yes\n25       No\n1869    Yes\n7288     No\nName: Healthy, Length: 1190, dtype: object)"
                ],
                [
                  "44",
                  "none",
                  "most",
                  "standard",
                  "pca_0.95_full",
                  "onehot",
                  "(array([[ 0.72936417, -0.32713931,  0.22921515, ...,  1.        ,\n         0.        ,  1.        ],\n       [-1.45669056,  0.36389445,  0.0067495 , ...,  1.        ,\n         0.        ,  1.        ],\n       [ 0.84021021, -0.99747456,  0.89421467, ...,  1.        ,\n         0.        ,  1.        ],\n       ...,\n       [ 1.10088397,  0.65382746,  0.90491981, ...,  1.        ,\n         0.        ,  1.        ],\n       [-0.36434658,  0.13242875,  0.87437886, ...,  1.        ,\n         0.        ,  1.        ],\n       [ 0.1478347 ,  0.11400627,  0.5353114 , ...,  1.        ,\n         0.        ,  1.        ]], shape=(4758, 47)), array([[-2.18338475, -1.57131391,  0.03111132, ...,  1.        ,\n         0.        ,  1.        ],\n       [ 0.98836099,  0.975159  , -1.2600204 , ...,  1.        ,\n         0.        ,  1.        ],\n       [-0.8587146 ,  1.02915477,  1.48504683, ...,  1.        ,\n         0.        ,  1.        ],\n       ...,\n       [ 0.91379282,  0.71736902, -2.35150426, ...,  1.        ,\n         0.        ,  1.        ],\n       [-1.27714103, -0.84181863,  1.39574696, ...,  1.        ,\n         0.        ,  1.        ],\n       [ 3.07052942,  0.4600463 ,  0.30827757, ...,  1.        ,\n         0.        ,  1.        ]], shape=(1190, 47)), 4426    Yes\n1065    Yes\n2133    Yes\n2387     No\n8366     No\n       ... \n6281    Yes\n8710    Yes\n8775    Yes\n9059     No\n1396    Yes\nName: Healthy, Length: 4758, dtype: object, 5590    Yes\n6107    Yes\n2379     No\n9865     No\n6550    Yes\n       ... \n7952    Yes\n3815    Yes\n25       No\n1869    Yes\n7288     No\nName: Healthy, Length: 1190, dtype: object)"
                ],
                [
                  "45",
                  "none",
                  "most",
                  "standard",
                  "pca_0.95_full",
                  "ordinal",
                  "(array([[ 0.72936417, -0.32713931,  0.22921515, ...,  1.        ,\n         0.        ,  0.        ],\n       [-1.45669056,  0.36389445,  0.0067495 , ...,  0.        ,\n         0.        ,  0.        ],\n       [ 0.84021021, -0.99747456,  0.89421467, ...,  0.        ,\n         0.        ,  0.        ],\n       ...,\n       [ 1.10088397,  0.65382746,  0.90491981, ...,  0.        ,\n         0.        ,  0.        ],\n       [-0.36434658,  0.13242875,  0.87437886, ...,  1.        ,\n         0.        ,  0.        ],\n       [ 0.1478347 ,  0.11400627,  0.5353114 , ...,  0.        ,\n         0.        ,  0.        ]], shape=(4758, 16)), array([[-2.18338475, -1.57131391,  0.03111132, ...,  0.        ,\n         0.        ,  0.        ],\n       [ 0.98836099,  0.975159  , -1.2600204 , ...,  0.        ,\n         0.        ,  0.        ],\n       [-0.8587146 ,  1.02915477,  1.48504683, ...,  1.        ,\n         0.        ,  0.        ],\n       ...,\n       [ 0.91379282,  0.71736902, -2.35150426, ...,  1.        ,\n         0.        ,  0.        ],\n       [-1.27714103, -0.84181863,  1.39574696, ...,  0.        ,\n         0.        ,  0.        ],\n       [ 3.07052942,  0.4600463 ,  0.30827757, ...,  0.        ,\n         0.        ,  0.        ]], shape=(1190, 16)), 4426    Yes\n1065    Yes\n2133    Yes\n2387     No\n8366     No\n       ... \n6281    Yes\n8710    Yes\n8775    Yes\n9059     No\n1396    Yes\nName: Healthy, Length: 4758, dtype: object, 5590    Yes\n6107    Yes\n2379     No\n9865     No\n6550    Yes\n       ... \n7952    Yes\n3815    Yes\n25       No\n1869    Yes\n7288     No\nName: Healthy, Length: 1190, dtype: object)"
                ],
                [
                  "46",
                  "none",
                  "most",
                  "standard",
                  "pca_0.99_auto",
                  "onehot",
                  "(array([[ 0.72936417, -0.32713931,  0.22921515, ...,  1.        ,\n         0.        ,  1.        ],\n       [-1.45669056,  0.36389445,  0.0067495 , ...,  1.        ,\n         0.        ,  1.        ],\n       [ 0.84021021, -0.99747456,  0.89421467, ...,  1.        ,\n         0.        ,  1.        ],\n       ...,\n       [ 1.10088397,  0.65382746,  0.90491981, ...,  1.        ,\n         0.        ,  1.        ],\n       [-0.36434658,  0.13242875,  0.87437886, ...,  1.        ,\n         0.        ,  1.        ],\n       [ 0.1478347 ,  0.11400627,  0.5353114 , ...,  1.        ,\n         0.        ,  1.        ]], shape=(4758, 47)), array([[-2.18338475, -1.57131391,  0.03111132, ...,  1.        ,\n         0.        ,  1.        ],\n       [ 0.98836099,  0.975159  , -1.2600204 , ...,  1.        ,\n         0.        ,  1.        ],\n       [-0.8587146 ,  1.02915477,  1.48504683, ...,  1.        ,\n         0.        ,  1.        ],\n       ...,\n       [ 0.91379282,  0.71736902, -2.35150426, ...,  1.        ,\n         0.        ,  1.        ],\n       [-1.27714103, -0.84181863,  1.39574696, ...,  1.        ,\n         0.        ,  1.        ],\n       [ 3.07052942,  0.4600463 ,  0.30827757, ...,  1.        ,\n         0.        ,  1.        ]], shape=(1190, 47)), 4426    Yes\n1065    Yes\n2133    Yes\n2387     No\n8366     No\n       ... \n6281    Yes\n8710    Yes\n8775    Yes\n9059     No\n1396    Yes\nName: Healthy, Length: 4758, dtype: object, 5590    Yes\n6107    Yes\n2379     No\n9865     No\n6550    Yes\n       ... \n7952    Yes\n3815    Yes\n25       No\n1869    Yes\n7288     No\nName: Healthy, Length: 1190, dtype: object)"
                ],
                [
                  "47",
                  "none",
                  "most",
                  "standard",
                  "pca_0.99_auto",
                  "ordinal",
                  "(array([[ 0.72936417, -0.32713931,  0.22921515, ...,  1.        ,\n         0.        ,  0.        ],\n       [-1.45669056,  0.36389445,  0.0067495 , ...,  0.        ,\n         0.        ,  0.        ],\n       [ 0.84021021, -0.99747456,  0.89421467, ...,  0.        ,\n         0.        ,  0.        ],\n       ...,\n       [ 1.10088397,  0.65382746,  0.90491981, ...,  0.        ,\n         0.        ,  0.        ],\n       [-0.36434658,  0.13242875,  0.87437886, ...,  1.        ,\n         0.        ,  0.        ],\n       [ 0.1478347 ,  0.11400627,  0.5353114 , ...,  0.        ,\n         0.        ,  0.        ]], shape=(4758, 16)), array([[-2.18338475, -1.57131391,  0.03111132, ...,  0.        ,\n         0.        ,  0.        ],\n       [ 0.98836099,  0.975159  , -1.2600204 , ...,  0.        ,\n         0.        ,  0.        ],\n       [-0.8587146 ,  1.02915477,  1.48504683, ...,  1.        ,\n         0.        ,  0.        ],\n       ...,\n       [ 0.91379282,  0.71736902, -2.35150426, ...,  1.        ,\n         0.        ,  0.        ],\n       [-1.27714103, -0.84181863,  1.39574696, ...,  0.        ,\n         0.        ,  0.        ],\n       [ 3.07052942,  0.4600463 ,  0.30827757, ...,  0.        ,\n         0.        ,  0.        ]], shape=(1190, 16)), 4426    Yes\n1065    Yes\n2133    Yes\n2387     No\n8366     No\n       ... \n6281    Yes\n8710    Yes\n8775    Yes\n9059     No\n1396    Yes\nName: Healthy, Length: 4758, dtype: object, 5590    Yes\n6107    Yes\n2379     No\n9865     No\n6550    Yes\n       ... \n7952    Yes\n3815    Yes\n25       No\n1869    Yes\n7288     No\nName: Healthy, Length: 1190, dtype: object)"
                ],
                [
                  "48",
                  "none",
                  "most",
                  "standard",
                  "pca_0.99_full",
                  "onehot",
                  "(array([[ 0.72936417, -0.32713931,  0.22921515, ...,  1.        ,\n         0.        ,  1.        ],\n       [-1.45669056,  0.36389445,  0.0067495 , ...,  1.        ,\n         0.        ,  1.        ],\n       [ 0.84021021, -0.99747456,  0.89421467, ...,  1.        ,\n         0.        ,  1.        ],\n       ...,\n       [ 1.10088397,  0.65382746,  0.90491981, ...,  1.        ,\n         0.        ,  1.        ],\n       [-0.36434658,  0.13242875,  0.87437886, ...,  1.        ,\n         0.        ,  1.        ],\n       [ 0.1478347 ,  0.11400627,  0.5353114 , ...,  1.        ,\n         0.        ,  1.        ]], shape=(4758, 47)), array([[-2.18338475, -1.57131391,  0.03111132, ...,  1.        ,\n         0.        ,  1.        ],\n       [ 0.98836099,  0.975159  , -1.2600204 , ...,  1.        ,\n         0.        ,  1.        ],\n       [-0.8587146 ,  1.02915477,  1.48504683, ...,  1.        ,\n         0.        ,  1.        ],\n       ...,\n       [ 0.91379282,  0.71736902, -2.35150426, ...,  1.        ,\n         0.        ,  1.        ],\n       [-1.27714103, -0.84181863,  1.39574696, ...,  1.        ,\n         0.        ,  1.        ],\n       [ 3.07052942,  0.4600463 ,  0.30827757, ...,  1.        ,\n         0.        ,  1.        ]], shape=(1190, 47)), 4426    Yes\n1065    Yes\n2133    Yes\n2387     No\n8366     No\n       ... \n6281    Yes\n8710    Yes\n8775    Yes\n9059     No\n1396    Yes\nName: Healthy, Length: 4758, dtype: object, 5590    Yes\n6107    Yes\n2379     No\n9865     No\n6550    Yes\n       ... \n7952    Yes\n3815    Yes\n25       No\n1869    Yes\n7288     No\nName: Healthy, Length: 1190, dtype: object)"
                ],
                [
                  "49",
                  "none",
                  "most",
                  "standard",
                  "pca_0.99_full",
                  "ordinal",
                  "(array([[ 0.72936417, -0.32713931,  0.22921515, ...,  1.        ,\n         0.        ,  0.        ],\n       [-1.45669056,  0.36389445,  0.0067495 , ...,  0.        ,\n         0.        ,  0.        ],\n       [ 0.84021021, -0.99747456,  0.89421467, ...,  0.        ,\n         0.        ,  0.        ],\n       ...,\n       [ 1.10088397,  0.65382746,  0.90491981, ...,  0.        ,\n         0.        ,  0.        ],\n       [-0.36434658,  0.13242875,  0.87437886, ...,  1.        ,\n         0.        ,  0.        ],\n       [ 0.1478347 ,  0.11400627,  0.5353114 , ...,  0.        ,\n         0.        ,  0.        ]], shape=(4758, 16)), array([[-2.18338475, -1.57131391,  0.03111132, ...,  0.        ,\n         0.        ,  0.        ],\n       [ 0.98836099,  0.975159  , -1.2600204 , ...,  0.        ,\n         0.        ,  0.        ],\n       [-0.8587146 ,  1.02915477,  1.48504683, ...,  1.        ,\n         0.        ,  0.        ],\n       ...,\n       [ 0.91379282,  0.71736902, -2.35150426, ...,  1.        ,\n         0.        ,  0.        ],\n       [-1.27714103, -0.84181863,  1.39574696, ...,  0.        ,\n         0.        ,  0.        ],\n       [ 3.07052942,  0.4600463 ,  0.30827757, ...,  0.        ,\n         0.        ,  0.        ]], shape=(1190, 16)), 4426    Yes\n1065    Yes\n2133    Yes\n2387     No\n8366     No\n       ... \n6281    Yes\n8710    Yes\n8775    Yes\n9059     No\n1396    Yes\nName: Healthy, Length: 4758, dtype: object, 5590    Yes\n6107    Yes\n2379     No\n9865     No\n6550    Yes\n       ... \n7952    Yes\n3815    Yes\n25       No\n1869    Yes\n7288     No\nName: Healthy, Length: 1190, dtype: object)"
                ]
              ],
              "shape": {
                "columns": 6,
                "rows": 180
              }
            },
            "text/html": [
              "<div>\n",
              "<style scoped>\n",
              "    .dataframe tbody tr th:only-of-type {\n",
              "        vertical-align: middle;\n",
              "    }\n",
              "\n",
              "    .dataframe tbody tr th {\n",
              "        vertical-align: top;\n",
              "    }\n",
              "\n",
              "    .dataframe thead th {\n",
              "        text-align: right;\n",
              "    }\n",
              "</style>\n",
              "<table border=\"1\" class=\"dataframe\">\n",
              "  <thead>\n",
              "    <tr style=\"text-align: right;\">\n",
              "      <th></th>\n",
              "      <th>num_impute</th>\n",
              "      <th>cate_impute</th>\n",
              "      <th>scale</th>\n",
              "      <th>pca</th>\n",
              "      <th>encode</th>\n",
              "      <th>data</th>\n",
              "    </tr>\n",
              "  </thead>\n",
              "  <tbody>\n",
              "    <tr>\n",
              "      <th>0</th>\n",
              "      <td>none</td>\n",
              "      <td>none</td>\n",
              "      <td>none</td>\n",
              "      <td>none</td>\n",
              "      <td>onehot</td>\n",
              "      <td>([[1.0, 0.0, 0.0, 0.0, 0.0, 0.0, 0.0, 0.0, 0.0...</td>\n",
              "    </tr>\n",
              "    <tr>\n",
              "      <th>1</th>\n",
              "      <td>none</td>\n",
              "      <td>none</td>\n",
              "      <td>none</td>\n",
              "      <td>none</td>\n",
              "      <td>ordinal</td>\n",
              "      <td>([[0.0, 1.0, 0.0, 3.0, 0.0, 1.0, 1.0, 0.0, 0.0...</td>\n",
              "    </tr>\n",
              "    <tr>\n",
              "      <th>2</th>\n",
              "      <td>none</td>\n",
              "      <td>none</td>\n",
              "      <td>none</td>\n",
              "      <td>pca_0.95_auto</td>\n",
              "      <td>onehot</td>\n",
              "      <td>([[-16.386441885617472, 13.050968178787144, 1....</td>\n",
              "    </tr>\n",
              "    <tr>\n",
              "      <th>3</th>\n",
              "      <td>none</td>\n",
              "      <td>none</td>\n",
              "      <td>none</td>\n",
              "      <td>pca_0.95_auto</td>\n",
              "      <td>ordinal</td>\n",
              "      <td>([[-16.386441885617472, 13.050968178787144, 0....</td>\n",
              "    </tr>\n",
              "    <tr>\n",
              "      <th>4</th>\n",
              "      <td>none</td>\n",
              "      <td>none</td>\n",
              "      <td>none</td>\n",
              "      <td>pca_0.95_full</td>\n",
              "      <td>onehot</td>\n",
              "      <td>([[-16.386441885617177, 13.050968178787565, 0....</td>\n",
              "    </tr>\n",
              "    <tr>\n",
              "      <th>...</th>\n",
              "      <td>...</td>\n",
              "      <td>...</td>\n",
              "      <td>...</td>\n",
              "      <td>...</td>\n",
              "      <td>...</td>\n",
              "      <td>...</td>\n",
              "    </tr>\n",
              "    <tr>\n",
              "      <th>175</th>\n",
              "      <td>median</td>\n",
              "      <td>most</td>\n",
              "      <td>minmax</td>\n",
              "      <td>pca_0.95_full</td>\n",
              "      <td>ordinal</td>\n",
              "      <td>([[0.05049220710291431, 0.381071232714187, 0.0...</td>\n",
              "    </tr>\n",
              "    <tr>\n",
              "      <th>176</th>\n",
              "      <td>median</td>\n",
              "      <td>most</td>\n",
              "      <td>minmax</td>\n",
              "      <td>pca_0.99_auto</td>\n",
              "      <td>onehot</td>\n",
              "      <td>([[0.050492207102916076, 0.3810712327141874, 0...</td>\n",
              "    </tr>\n",
              "    <tr>\n",
              "      <th>177</th>\n",
              "      <td>median</td>\n",
              "      <td>most</td>\n",
              "      <td>minmax</td>\n",
              "      <td>pca_0.99_auto</td>\n",
              "      <td>ordinal</td>\n",
              "      <td>([[0.050492207102916076, 0.3810712327141874, 0...</td>\n",
              "    </tr>\n",
              "    <tr>\n",
              "      <th>178</th>\n",
              "      <td>median</td>\n",
              "      <td>most</td>\n",
              "      <td>minmax</td>\n",
              "      <td>pca_0.99_full</td>\n",
              "      <td>onehot</td>\n",
              "      <td>([[0.05049220710291431, 0.381071232714187, 0.0...</td>\n",
              "    </tr>\n",
              "    <tr>\n",
              "      <th>179</th>\n",
              "      <td>median</td>\n",
              "      <td>most</td>\n",
              "      <td>minmax</td>\n",
              "      <td>pca_0.99_full</td>\n",
              "      <td>ordinal</td>\n",
              "      <td>([[0.05049220710291431, 0.381071232714187, 0.0...</td>\n",
              "    </tr>\n",
              "  </tbody>\n",
              "</table>\n",
              "<p>180 rows × 6 columns</p>\n",
              "</div>"
            ],
            "text/plain": [
              "    num_impute cate_impute   scale            pca   encode  \\\n",
              "0         none        none    none           none   onehot   \n",
              "1         none        none    none           none  ordinal   \n",
              "2         none        none    none  pca_0.95_auto   onehot   \n",
              "3         none        none    none  pca_0.95_auto  ordinal   \n",
              "4         none        none    none  pca_0.95_full   onehot   \n",
              "..         ...         ...     ...            ...      ...   \n",
              "175     median        most  minmax  pca_0.95_full  ordinal   \n",
              "176     median        most  minmax  pca_0.99_auto   onehot   \n",
              "177     median        most  minmax  pca_0.99_auto  ordinal   \n",
              "178     median        most  minmax  pca_0.99_full   onehot   \n",
              "179     median        most  minmax  pca_0.99_full  ordinal   \n",
              "\n",
              "                                                  data  \n",
              "0    ([[1.0, 0.0, 0.0, 0.0, 0.0, 0.0, 0.0, 0.0, 0.0...  \n",
              "1    ([[0.0, 1.0, 0.0, 3.0, 0.0, 1.0, 1.0, 0.0, 0.0...  \n",
              "2    ([[-16.386441885617472, 13.050968178787144, 1....  \n",
              "3    ([[-16.386441885617472, 13.050968178787144, 0....  \n",
              "4    ([[-16.386441885617177, 13.050968178787565, 0....  \n",
              "..                                                 ...  \n",
              "175  ([[0.05049220710291431, 0.381071232714187, 0.0...  \n",
              "176  ([[0.050492207102916076, 0.3810712327141874, 0...  \n",
              "177  ([[0.050492207102916076, 0.3810712327141874, 0...  \n",
              "178  ([[0.05049220710291431, 0.381071232714187, 0.0...  \n",
              "179  ([[0.05049220710291431, 0.381071232714187, 0.0...  \n",
              "\n",
              "[180 rows x 6 columns]"
            ]
          },
          "execution_count": 36,
          "metadata": {},
          "output_type": "execute_result"
        }
      ],
      "source": [
        "split_datasets"
      ]
    },
    {
      "cell_type": "code",
      "execution_count": 40,
      "id": "37620942",
      "metadata": {},
      "outputs": [
        {
          "data": {
            "text/plain": [
              "<module 'modules.tabular' from '/home/nhan/BT_ML/ML-DL-utils/notebooks/../modules/tabular.py'>"
            ]
          },
          "execution_count": 40,
          "metadata": {},
          "output_type": "execute_result"
        }
      ],
      "source": [
        "importlib.reload(tabular)"
      ]
    },
    {
      "cell_type": "code",
      "execution_count": 41,
      "id": "3b062d54",
      "metadata": {},
      "outputs": [
        {
          "name": "stdout",
          "output_type": "stream",
          "text": [
            "Training LogisticRegression\n"
          ]
        },
        {
          "name": "stderr",
          "output_type": "stream",
          "text": [
            "Training: 100%|██████████| 180/180 [00:02<00:00, 61.53it/s] \n"
          ]
        },
        {
          "name": "stdout",
          "output_type": "stream",
          "text": [
            "Training RandomForestClassifier\n"
          ]
        },
        {
          "name": "stderr",
          "output_type": "stream",
          "text": [
            "Training: 100%|██████████| 180/180 [01:44<00:00,  1.72it/s]\n"
          ]
        },
        {
          "name": "stdout",
          "output_type": "stream",
          "text": [
            "Training SVC\n"
          ]
        },
        {
          "name": "stderr",
          "output_type": "stream",
          "text": [
            "Training: 100%|██████████| 180/180 [01:23<00:00,  2.16it/s]\n"
          ]
        },
        {
          "name": "stdout",
          "output_type": "stream",
          "text": [
            "Training MLPClassifier\n"
          ]
        },
        {
          "name": "stderr",
          "output_type": "stream",
          "text": [
            "Training: 100%|██████████| 180/180 [07:01<00:00,  2.34s/it]\n"
          ]
        }
      ],
      "source": [
        "for params in grid:\n",
        "    csv_path = os.path.join(model_result_path, f\"{params[\"model\"].__class__.__name__}.csv\") # Change .csv name if you train one model with different config\n",
        "    os.makedirs(model_result_path, exist_ok=True)\n",
        "    if not os.path.exists(csv_path):\n",
        "        print(f\"Training {params[\"model\"].__class__.__name__}\")\n",
        "        model_result = tabular.train_one_model(params, split_datasets, \"f1\", OrdinalEncoder(handle_unknown='use_encoded_value', unknown_value=-1))\n",
        "        model_result.to_csv(csv_path, index=False)\n",
        "    else:\n",
        "        print(f\"Model {params[\"model\"].__class__.__name__} has been trained before.\")"
      ]
    },
    {
      "cell_type": "code",
      "execution_count": null,
      "id": "c5bf7af5",
      "metadata": {},
      "outputs": [
        {
          "data": {
            "application/vnd.microsoft.datawrangler.viewer.v0+json": {
              "columns": [
                {
                  "name": "index",
                  "rawType": "int64",
                  "type": "integer"
                },
                {
                  "name": "num_impute",
                  "rawType": "object",
                  "type": "string"
                },
                {
                  "name": "cate_impute",
                  "rawType": "object",
                  "type": "string"
                },
                {
                  "name": "scale",
                  "rawType": "object",
                  "type": "string"
                },
                {
                  "name": "pca",
                  "rawType": "object",
                  "type": "string"
                },
                {
                  "name": "encode",
                  "rawType": "object",
                  "type": "string"
                },
                {
                  "name": "r2",
                  "rawType": "float64",
                  "type": "float"
                }
              ],
              "ref": "0ab057bd-e1dc-4b4d-9afa-95114d066ec6",
              "rows": [
                [
                  "40",
                  "none",
                  "none",
                  "log1p_robust",
                  "none",
                  "onehot",
                  "0.8271692570107161"
                ],
                [
                  "42",
                  "none",
                  "none",
                  "log1p_robust",
                  "pca_0.95_auto",
                  "onehot",
                  "0.8271692570107161"
                ],
                [
                  "92",
                  "none",
                  "most",
                  "log1p_robust",
                  "pca_0.95_auto",
                  "onehot",
                  "0.8271692570107161"
                ],
                [
                  "96",
                  "none",
                  "most",
                  "log1p_robust",
                  "pca_0.99_auto",
                  "onehot",
                  "0.8271692570107161"
                ],
                [
                  "90",
                  "none",
                  "most",
                  "log1p_robust",
                  "none",
                  "onehot",
                  "0.8271692570107161"
                ],
                [
                  "46",
                  "none",
                  "none",
                  "log1p_robust",
                  "pca_0.99_auto",
                  "onehot",
                  "0.8271692570107161"
                ],
                [
                  "142",
                  "mean",
                  "none",
                  "log1p_robust",
                  "pca_0.95_auto",
                  "onehot",
                  "0.8271692570107161"
                ],
                [
                  "246",
                  "median",
                  "none",
                  "log1p_robust",
                  "pca_0.99_auto",
                  "onehot",
                  "0.8271692570107161"
                ],
                [
                  "240",
                  "median",
                  "none",
                  "log1p_robust",
                  "none",
                  "onehot",
                  "0.8271692570107161"
                ],
                [
                  "242",
                  "median",
                  "none",
                  "log1p_robust",
                  "pca_0.95_auto",
                  "onehot",
                  "0.8271692570107161"
                ],
                [
                  "192",
                  "mean",
                  "most",
                  "log1p_robust",
                  "pca_0.95_auto",
                  "onehot",
                  "0.8271692570107161"
                ],
                [
                  "196",
                  "mean",
                  "most",
                  "log1p_robust",
                  "pca_0.99_auto",
                  "onehot",
                  "0.8271692570107161"
                ],
                [
                  "146",
                  "mean",
                  "none",
                  "log1p_robust",
                  "pca_0.99_auto",
                  "onehot",
                  "0.8271692570107161"
                ],
                [
                  "140",
                  "mean",
                  "none",
                  "log1p_robust",
                  "none",
                  "onehot",
                  "0.8271692570107161"
                ],
                [
                  "296",
                  "median",
                  "most",
                  "log1p_robust",
                  "pca_0.99_auto",
                  "onehot",
                  "0.8271692570107161"
                ],
                [
                  "290",
                  "median",
                  "most",
                  "log1p_robust",
                  "none",
                  "onehot",
                  "0.8271692570107161"
                ],
                [
                  "190",
                  "mean",
                  "most",
                  "log1p_robust",
                  "none",
                  "onehot",
                  "0.8271692570107161"
                ],
                [
                  "292",
                  "median",
                  "most",
                  "log1p_robust",
                  "pca_0.95_auto",
                  "onehot",
                  "0.8271692570107161"
                ],
                [
                  "248",
                  "median",
                  "none",
                  "log1p_robust",
                  "pca_0.99_full",
                  "onehot",
                  "0.8271692570107149"
                ],
                [
                  "244",
                  "median",
                  "none",
                  "log1p_robust",
                  "pca_0.95_full",
                  "onehot",
                  "0.8271692570107149"
                ],
                [
                  "144",
                  "mean",
                  "none",
                  "log1p_robust",
                  "pca_0.95_full",
                  "onehot",
                  "0.8271692570107149"
                ],
                [
                  "148",
                  "mean",
                  "none",
                  "log1p_robust",
                  "pca_0.99_full",
                  "onehot",
                  "0.8271692570107149"
                ],
                [
                  "298",
                  "median",
                  "most",
                  "log1p_robust",
                  "pca_0.99_full",
                  "onehot",
                  "0.8271692570107149"
                ],
                [
                  "294",
                  "median",
                  "most",
                  "log1p_robust",
                  "pca_0.95_full",
                  "onehot",
                  "0.8271692570107149"
                ],
                [
                  "194",
                  "mean",
                  "most",
                  "log1p_robust",
                  "pca_0.95_full",
                  "onehot",
                  "0.8271692570107149"
                ],
                [
                  "198",
                  "mean",
                  "most",
                  "log1p_robust",
                  "pca_0.99_full",
                  "onehot",
                  "0.8271692570107149"
                ],
                [
                  "48",
                  "none",
                  "none",
                  "log1p_robust",
                  "pca_0.99_full",
                  "onehot",
                  "0.8271692570107149"
                ],
                [
                  "44",
                  "none",
                  "none",
                  "log1p_robust",
                  "pca_0.95_full",
                  "onehot",
                  "0.8271692570107149"
                ],
                [
                  "98",
                  "none",
                  "most",
                  "log1p_robust",
                  "pca_0.99_full",
                  "onehot",
                  "0.8271692570107149"
                ],
                [
                  "94",
                  "none",
                  "most",
                  "log1p_robust",
                  "pca_0.95_full",
                  "onehot",
                  "0.8271692570107149"
                ],
                [
                  "43",
                  "none",
                  "none",
                  "log1p_robust",
                  "pca_0.95_auto",
                  "ordinal",
                  "0.8174901349306247"
                ],
                [
                  "93",
                  "none",
                  "most",
                  "log1p_robust",
                  "pca_0.95_auto",
                  "ordinal",
                  "0.8174901349306247"
                ],
                [
                  "97",
                  "none",
                  "most",
                  "log1p_robust",
                  "pca_0.99_auto",
                  "ordinal",
                  "0.8174901349306247"
                ],
                [
                  "47",
                  "none",
                  "none",
                  "log1p_robust",
                  "pca_0.99_auto",
                  "ordinal",
                  "0.8174901349306247"
                ],
                [
                  "193",
                  "mean",
                  "most",
                  "log1p_robust",
                  "pca_0.95_auto",
                  "ordinal",
                  "0.8174901349306247"
                ],
                [
                  "197",
                  "mean",
                  "most",
                  "log1p_robust",
                  "pca_0.99_auto",
                  "ordinal",
                  "0.8174901349306247"
                ],
                [
                  "297",
                  "median",
                  "most",
                  "log1p_robust",
                  "pca_0.99_auto",
                  "ordinal",
                  "0.8174901349306247"
                ],
                [
                  "293",
                  "median",
                  "most",
                  "log1p_robust",
                  "pca_0.95_auto",
                  "ordinal",
                  "0.8174901349306247"
                ],
                [
                  "143",
                  "mean",
                  "none",
                  "log1p_robust",
                  "pca_0.95_auto",
                  "ordinal",
                  "0.8174901349306247"
                ],
                [
                  "147",
                  "mean",
                  "none",
                  "log1p_robust",
                  "pca_0.99_auto",
                  "ordinal",
                  "0.8174901349306247"
                ],
                [
                  "247",
                  "median",
                  "none",
                  "log1p_robust",
                  "pca_0.99_auto",
                  "ordinal",
                  "0.8174901349306247"
                ],
                [
                  "243",
                  "median",
                  "none",
                  "log1p_robust",
                  "pca_0.95_auto",
                  "ordinal",
                  "0.8174901349306247"
                ],
                [
                  "249",
                  "median",
                  "none",
                  "log1p_robust",
                  "pca_0.99_full",
                  "ordinal",
                  "0.8174901349306234"
                ],
                [
                  "245",
                  "median",
                  "none",
                  "log1p_robust",
                  "pca_0.95_full",
                  "ordinal",
                  "0.8174901349306234"
                ],
                [
                  "145",
                  "mean",
                  "none",
                  "log1p_robust",
                  "pca_0.95_full",
                  "ordinal",
                  "0.8174901349306234"
                ],
                [
                  "149",
                  "mean",
                  "none",
                  "log1p_robust",
                  "pca_0.99_full",
                  "ordinal",
                  "0.8174901349306234"
                ],
                [
                  "95",
                  "none",
                  "most",
                  "log1p_robust",
                  "pca_0.95_full",
                  "ordinal",
                  "0.8174901349306234"
                ],
                [
                  "49",
                  "none",
                  "none",
                  "log1p_robust",
                  "pca_0.99_full",
                  "ordinal",
                  "0.8174901349306234"
                ],
                [
                  "45",
                  "none",
                  "none",
                  "log1p_robust",
                  "pca_0.95_full",
                  "ordinal",
                  "0.8174901349306234"
                ],
                [
                  "99",
                  "none",
                  "most",
                  "log1p_robust",
                  "pca_0.99_full",
                  "ordinal",
                  "0.8174901349306234"
                ]
              ],
              "shape": {
                "columns": 6,
                "rows": 300
              }
            },
            "text/html": [
              "<div>\n",
              "<style scoped>\n",
              "    .dataframe tbody tr th:only-of-type {\n",
              "        vertical-align: middle;\n",
              "    }\n",
              "\n",
              "    .dataframe tbody tr th {\n",
              "        vertical-align: top;\n",
              "    }\n",
              "\n",
              "    .dataframe thead th {\n",
              "        text-align: right;\n",
              "    }\n",
              "</style>\n",
              "<table border=\"1\" class=\"dataframe\">\n",
              "  <thead>\n",
              "    <tr style=\"text-align: right;\">\n",
              "      <th></th>\n",
              "      <th>num_impute</th>\n",
              "      <th>cate_impute</th>\n",
              "      <th>scale</th>\n",
              "      <th>pca</th>\n",
              "      <th>encode</th>\n",
              "      <th>r2</th>\n",
              "    </tr>\n",
              "  </thead>\n",
              "  <tbody>\n",
              "    <tr>\n",
              "      <th>40</th>\n",
              "      <td>none</td>\n",
              "      <td>none</td>\n",
              "      <td>log1p_robust</td>\n",
              "      <td>none</td>\n",
              "      <td>onehot</td>\n",
              "      <td>0.827169</td>\n",
              "    </tr>\n",
              "    <tr>\n",
              "      <th>42</th>\n",
              "      <td>none</td>\n",
              "      <td>none</td>\n",
              "      <td>log1p_robust</td>\n",
              "      <td>pca_0.95_auto</td>\n",
              "      <td>onehot</td>\n",
              "      <td>0.827169</td>\n",
              "    </tr>\n",
              "    <tr>\n",
              "      <th>92</th>\n",
              "      <td>none</td>\n",
              "      <td>most</td>\n",
              "      <td>log1p_robust</td>\n",
              "      <td>pca_0.95_auto</td>\n",
              "      <td>onehot</td>\n",
              "      <td>0.827169</td>\n",
              "    </tr>\n",
              "    <tr>\n",
              "      <th>96</th>\n",
              "      <td>none</td>\n",
              "      <td>most</td>\n",
              "      <td>log1p_robust</td>\n",
              "      <td>pca_0.99_auto</td>\n",
              "      <td>onehot</td>\n",
              "      <td>0.827169</td>\n",
              "    </tr>\n",
              "    <tr>\n",
              "      <th>90</th>\n",
              "      <td>none</td>\n",
              "      <td>most</td>\n",
              "      <td>log1p_robust</td>\n",
              "      <td>none</td>\n",
              "      <td>onehot</td>\n",
              "      <td>0.827169</td>\n",
              "    </tr>\n",
              "    <tr>\n",
              "      <th>...</th>\n",
              "      <td>...</td>\n",
              "      <td>...</td>\n",
              "      <td>...</td>\n",
              "      <td>...</td>\n",
              "      <td>...</td>\n",
              "      <td>...</td>\n",
              "    </tr>\n",
              "    <tr>\n",
              "      <th>223</th>\n",
              "      <td>median</td>\n",
              "      <td>none</td>\n",
              "      <td>minmax</td>\n",
              "      <td>pca_0.95_auto</td>\n",
              "      <td>ordinal</td>\n",
              "      <td>-347.767551</td>\n",
              "    </tr>\n",
              "    <tr>\n",
              "      <th>173</th>\n",
              "      <td>mean</td>\n",
              "      <td>most</td>\n",
              "      <td>minmax</td>\n",
              "      <td>pca_0.95_auto</td>\n",
              "      <td>ordinal</td>\n",
              "      <td>-347.767551</td>\n",
              "    </tr>\n",
              "    <tr>\n",
              "      <th>123</th>\n",
              "      <td>mean</td>\n",
              "      <td>none</td>\n",
              "      <td>minmax</td>\n",
              "      <td>pca_0.95_auto</td>\n",
              "      <td>ordinal</td>\n",
              "      <td>-347.767551</td>\n",
              "    </tr>\n",
              "    <tr>\n",
              "      <th>73</th>\n",
              "      <td>none</td>\n",
              "      <td>most</td>\n",
              "      <td>minmax</td>\n",
              "      <td>pca_0.95_auto</td>\n",
              "      <td>ordinal</td>\n",
              "      <td>-347.767551</td>\n",
              "    </tr>\n",
              "    <tr>\n",
              "      <th>273</th>\n",
              "      <td>median</td>\n",
              "      <td>most</td>\n",
              "      <td>minmax</td>\n",
              "      <td>pca_0.95_auto</td>\n",
              "      <td>ordinal</td>\n",
              "      <td>-347.767551</td>\n",
              "    </tr>\n",
              "  </tbody>\n",
              "</table>\n",
              "<p>300 rows × 6 columns</p>\n",
              "</div>"
            ],
            "text/plain": [
              "    num_impute cate_impute         scale            pca   encode          r2\n",
              "40        none        none  log1p_robust           none   onehot    0.827169\n",
              "42        none        none  log1p_robust  pca_0.95_auto   onehot    0.827169\n",
              "92        none        most  log1p_robust  pca_0.95_auto   onehot    0.827169\n",
              "96        none        most  log1p_robust  pca_0.99_auto   onehot    0.827169\n",
              "90        none        most  log1p_robust           none   onehot    0.827169\n",
              "..         ...         ...           ...            ...      ...         ...\n",
              "223     median        none        minmax  pca_0.95_auto  ordinal -347.767551\n",
              "173       mean        most        minmax  pca_0.95_auto  ordinal -347.767551\n",
              "123       mean        none        minmax  pca_0.95_auto  ordinal -347.767551\n",
              "73        none        most        minmax  pca_0.95_auto  ordinal -347.767551\n",
              "273     median        most        minmax  pca_0.95_auto  ordinal -347.767551\n",
              "\n",
              "[300 rows x 6 columns]"
            ]
          },
          "execution_count": 79,
          "metadata": {},
          "output_type": "execute_result"
        }
      ],
      "source": [
        "linear_results = pd.read_csv(os.path.join(model_result_path, f\"{grid[0][\"model\"].__class__.__name__}.csv\"))\n",
        "linear_results.sort_values(by=\"r2\", ascending=False)"
      ]
    },
    {
      "cell_type": "code",
      "execution_count": null,
      "id": "79960e0f",
      "metadata": {},
      "outputs": [
        {
          "data": {
            "application/vnd.microsoft.datawrangler.viewer.v0+json": {
              "columns": [
                {
                  "name": "index",
                  "rawType": "int64",
                  "type": "integer"
                },
                {
                  "name": "num_impute",
                  "rawType": "object",
                  "type": "string"
                },
                {
                  "name": "cate_impute",
                  "rawType": "object",
                  "type": "string"
                },
                {
                  "name": "scale",
                  "rawType": "object",
                  "type": "string"
                },
                {
                  "name": "pca",
                  "rawType": "object",
                  "type": "string"
                },
                {
                  "name": "encode",
                  "rawType": "object",
                  "type": "string"
                },
                {
                  "name": "r2",
                  "rawType": "float64",
                  "type": "float"
                }
              ],
              "ref": "dfb1a8a2-c3c6-4ac0-aa54-cc542886cc2a",
              "rows": [
                [
                  "229",
                  "median",
                  "none",
                  "minmax",
                  "pca_0.99_auto",
                  "ordinal",
                  "0.995882123070175"
                ],
                [
                  "128",
                  "mean",
                  "none",
                  "minmax",
                  "pca_0.99_auto",
                  "onehot",
                  "0.995731303229639"
                ],
                [
                  "223",
                  "median",
                  "none",
                  "minmax",
                  "pca_0.95_auto",
                  "ordinal",
                  "0.9956310373811056"
                ],
                [
                  "177",
                  "mean",
                  "most",
                  "minmax",
                  "pca_0.99_auto",
                  "ordinal",
                  "0.9956104083406058"
                ],
                [
                  "226",
                  "median",
                  "none",
                  "minmax",
                  "pca_0.99_auto",
                  "onehot",
                  "0.9955884911003792"
                ],
                [
                  "168",
                  "mean",
                  "most",
                  "standard",
                  "pca_0.99_auto",
                  "onehot",
                  "0.9954854814689208"
                ],
                [
                  "68",
                  "none",
                  "most",
                  "standard",
                  "pca_0.99_auto",
                  "onehot",
                  "0.9954691786672474"
                ],
                [
                  "118",
                  "mean",
                  "none",
                  "standard",
                  "pca_0.99_auto",
                  "onehot",
                  "0.9954565448276528"
                ],
                [
                  "78",
                  "none",
                  "most",
                  "minmax",
                  "pca_0.99_auto",
                  "onehot",
                  "0.995453564904224"
                ],
                [
                  "262",
                  "median",
                  "most",
                  "standard",
                  "pca_0.95_auto",
                  "onehot",
                  "0.9954322665762784"
                ],
                [
                  "64",
                  "none",
                  "most",
                  "standard",
                  "pca_0.95_full",
                  "onehot",
                  "0.9954300431842372"
                ],
                [
                  "162",
                  "mean",
                  "most",
                  "standard",
                  "pca_0.95_auto",
                  "onehot",
                  "0.9954164238177058"
                ],
                [
                  "166",
                  "mean",
                  "most",
                  "standard",
                  "pca_0.99_auto",
                  "onehot",
                  "0.995406243516104"
                ],
                [
                  "66",
                  "none",
                  "most",
                  "standard",
                  "pca_0.99_auto",
                  "onehot",
                  "0.9954038297636018"
                ],
                [
                  "276",
                  "median",
                  "most",
                  "minmax",
                  "pca_0.99_auto",
                  "onehot",
                  "0.995376679373078"
                ],
                [
                  "164",
                  "mean",
                  "most",
                  "standard",
                  "pca_0.95_full",
                  "onehot",
                  "0.9953714810034212"
                ],
                [
                  "12",
                  "none",
                  "none",
                  "standard",
                  "pca_0.95_auto",
                  "onehot",
                  "0.9953587933661197"
                ],
                [
                  "112",
                  "mean",
                  "none",
                  "standard",
                  "pca_0.95_auto",
                  "onehot",
                  "0.9953558081549436"
                ],
                [
                  "214",
                  "median",
                  "none",
                  "standard",
                  "pca_0.95_full",
                  "onehot",
                  "0.9953304656000126"
                ],
                [
                  "114",
                  "mean",
                  "none",
                  "standard",
                  "pca_0.95_full",
                  "onehot",
                  "0.995305820279337"
                ],
                [
                  "218",
                  "median",
                  "none",
                  "standard",
                  "pca_0.99_auto",
                  "onehot",
                  "0.9953049051858678"
                ],
                [
                  "227",
                  "median",
                  "none",
                  "minmax",
                  "pca_0.99_auto",
                  "ordinal",
                  "0.995282852515888"
                ],
                [
                  "216",
                  "median",
                  "none",
                  "standard",
                  "pca_0.99_auto",
                  "onehot",
                  "0.9952803689114657"
                ],
                [
                  "14",
                  "none",
                  "none",
                  "standard",
                  "pca_0.95_full",
                  "onehot",
                  "0.9952763875026278"
                ],
                [
                  "219",
                  "median",
                  "none",
                  "standard",
                  "pca_0.99_auto",
                  "ordinal",
                  "0.9952733764156784"
                ],
                [
                  "72",
                  "none",
                  "most",
                  "minmax",
                  "pca_0.95_auto",
                  "onehot",
                  "0.9952665219595396"
                ],
                [
                  "269",
                  "median",
                  "most",
                  "standard",
                  "pca_0.99_auto",
                  "ordinal",
                  "0.9952524376740742"
                ],
                [
                  "212",
                  "median",
                  "none",
                  "standard",
                  "pca_0.95_auto",
                  "onehot",
                  "0.995211198195222"
                ],
                [
                  "16",
                  "none",
                  "none",
                  "standard",
                  "pca_0.99_auto",
                  "onehot",
                  "0.9951569876276128"
                ],
                [
                  "79",
                  "none",
                  "most",
                  "minmax",
                  "pca_0.99_auto",
                  "ordinal",
                  "0.99513976418586"
                ],
                [
                  "264",
                  "median",
                  "most",
                  "standard",
                  "pca_0.95_full",
                  "onehot",
                  "0.9951382008330136"
                ],
                [
                  "116",
                  "mean",
                  "none",
                  "standard",
                  "pca_0.99_auto",
                  "onehot",
                  "0.9951227738857492"
                ],
                [
                  "175",
                  "mean",
                  "most",
                  "minmax",
                  "pca_0.95_full",
                  "ordinal",
                  "0.995115970511142"
                ],
                [
                  "268",
                  "median",
                  "most",
                  "standard",
                  "pca_0.99_auto",
                  "onehot",
                  "0.9951142027835784"
                ],
                [
                  "126",
                  "mean",
                  "none",
                  "minmax",
                  "pca_0.99_auto",
                  "onehot",
                  "0.9950954161780324"
                ],
                [
                  "18",
                  "none",
                  "none",
                  "standard",
                  "pca_0.99_auto",
                  "onehot",
                  "0.9950631503712308"
                ],
                [
                  "277",
                  "median",
                  "most",
                  "minmax",
                  "pca_0.99_auto",
                  "ordinal",
                  "0.9950484134267128"
                ],
                [
                  "125",
                  "mean",
                  "none",
                  "minmax",
                  "pca_0.95_full",
                  "ordinal",
                  "0.9950429668298784"
                ],
                [
                  "266",
                  "median",
                  "most",
                  "standard",
                  "pca_0.99_auto",
                  "onehot",
                  "0.9949995833293304"
                ],
                [
                  "65",
                  "none",
                  "most",
                  "standard",
                  "pca_0.95_full",
                  "ordinal",
                  "0.9949851762499364"
                ],
                [
                  "117",
                  "mean",
                  "none",
                  "standard",
                  "pca_0.99_auto",
                  "ordinal",
                  "0.994961536965791"
                ],
                [
                  "215",
                  "median",
                  "none",
                  "standard",
                  "pca_0.95_full",
                  "ordinal",
                  "0.9949464134042976"
                ],
                [
                  "163",
                  "mean",
                  "most",
                  "standard",
                  "pca_0.95_auto",
                  "ordinal",
                  "0.9949267365675208"
                ],
                [
                  "77",
                  "none",
                  "most",
                  "minmax",
                  "pca_0.99_auto",
                  "ordinal",
                  "0.994923318908532"
                ],
                [
                  "62",
                  "none",
                  "most",
                  "standard",
                  "pca_0.95_auto",
                  "onehot",
                  "0.9949222647577448"
                ],
                [
                  "165",
                  "mean",
                  "most",
                  "standard",
                  "pca_0.95_full",
                  "ordinal",
                  "0.9949106712952104"
                ],
                [
                  "119",
                  "mean",
                  "none",
                  "standard",
                  "pca_0.99_auto",
                  "ordinal",
                  "0.9948896372265456"
                ],
                [
                  "67",
                  "none",
                  "most",
                  "standard",
                  "pca_0.99_auto",
                  "ordinal",
                  "0.9948738597661594"
                ],
                [
                  "63",
                  "none",
                  "most",
                  "standard",
                  "pca_0.95_auto",
                  "ordinal",
                  "0.9948484394207654"
                ],
                [
                  "15",
                  "none",
                  "none",
                  "standard",
                  "pca_0.95_full",
                  "ordinal",
                  "0.9948195717977388"
                ]
              ],
              "shape": {
                "columns": 6,
                "rows": 300
              }
            },
            "text/html": [
              "<div>\n",
              "<style scoped>\n",
              "    .dataframe tbody tr th:only-of-type {\n",
              "        vertical-align: middle;\n",
              "    }\n",
              "\n",
              "    .dataframe tbody tr th {\n",
              "        vertical-align: top;\n",
              "    }\n",
              "\n",
              "    .dataframe thead th {\n",
              "        text-align: right;\n",
              "    }\n",
              "</style>\n",
              "<table border=\"1\" class=\"dataframe\">\n",
              "  <thead>\n",
              "    <tr style=\"text-align: right;\">\n",
              "      <th></th>\n",
              "      <th>num_impute</th>\n",
              "      <th>cate_impute</th>\n",
              "      <th>scale</th>\n",
              "      <th>pca</th>\n",
              "      <th>encode</th>\n",
              "      <th>r2</th>\n",
              "    </tr>\n",
              "  </thead>\n",
              "  <tbody>\n",
              "    <tr>\n",
              "      <th>229</th>\n",
              "      <td>median</td>\n",
              "      <td>none</td>\n",
              "      <td>minmax</td>\n",
              "      <td>pca_0.99_auto</td>\n",
              "      <td>ordinal</td>\n",
              "      <td>0.995882</td>\n",
              "    </tr>\n",
              "    <tr>\n",
              "      <th>128</th>\n",
              "      <td>mean</td>\n",
              "      <td>none</td>\n",
              "      <td>minmax</td>\n",
              "      <td>pca_0.99_auto</td>\n",
              "      <td>onehot</td>\n",
              "      <td>0.995731</td>\n",
              "    </tr>\n",
              "    <tr>\n",
              "      <th>223</th>\n",
              "      <td>median</td>\n",
              "      <td>none</td>\n",
              "      <td>minmax</td>\n",
              "      <td>pca_0.95_auto</td>\n",
              "      <td>ordinal</td>\n",
              "      <td>0.995631</td>\n",
              "    </tr>\n",
              "    <tr>\n",
              "      <th>177</th>\n",
              "      <td>mean</td>\n",
              "      <td>most</td>\n",
              "      <td>minmax</td>\n",
              "      <td>pca_0.99_auto</td>\n",
              "      <td>ordinal</td>\n",
              "      <td>0.995610</td>\n",
              "    </tr>\n",
              "    <tr>\n",
              "      <th>226</th>\n",
              "      <td>median</td>\n",
              "      <td>none</td>\n",
              "      <td>minmax</td>\n",
              "      <td>pca_0.99_auto</td>\n",
              "      <td>onehot</td>\n",
              "      <td>0.995588</td>\n",
              "    </tr>\n",
              "    <tr>\n",
              "      <th>...</th>\n",
              "      <td>...</td>\n",
              "      <td>...</td>\n",
              "      <td>...</td>\n",
              "      <td>...</td>\n",
              "      <td>...</td>\n",
              "      <td>...</td>\n",
              "    </tr>\n",
              "    <tr>\n",
              "      <th>207</th>\n",
              "      <td>median</td>\n",
              "      <td>none</td>\n",
              "      <td>none</td>\n",
              "      <td>pca_0.99_auto</td>\n",
              "      <td>ordinal</td>\n",
              "      <td>0.768116</td>\n",
              "    </tr>\n",
              "    <tr>\n",
              "      <th>3</th>\n",
              "      <td>none</td>\n",
              "      <td>none</td>\n",
              "      <td>none</td>\n",
              "      <td>pca_0.95_auto</td>\n",
              "      <td>ordinal</td>\n",
              "      <td>0.768108</td>\n",
              "    </tr>\n",
              "    <tr>\n",
              "      <th>253</th>\n",
              "      <td>median</td>\n",
              "      <td>most</td>\n",
              "      <td>none</td>\n",
              "      <td>pca_0.95_auto</td>\n",
              "      <td>ordinal</td>\n",
              "      <td>0.767777</td>\n",
              "    </tr>\n",
              "    <tr>\n",
              "      <th>109</th>\n",
              "      <td>mean</td>\n",
              "      <td>none</td>\n",
              "      <td>none</td>\n",
              "      <td>pca_0.99_auto</td>\n",
              "      <td>ordinal</td>\n",
              "      <td>0.767539</td>\n",
              "    </tr>\n",
              "    <tr>\n",
              "      <th>157</th>\n",
              "      <td>mean</td>\n",
              "      <td>most</td>\n",
              "      <td>none</td>\n",
              "      <td>pca_0.99_auto</td>\n",
              "      <td>ordinal</td>\n",
              "      <td>0.765787</td>\n",
              "    </tr>\n",
              "  </tbody>\n",
              "</table>\n",
              "<p>300 rows × 6 columns</p>\n",
              "</div>"
            ],
            "text/plain": [
              "    num_impute cate_impute   scale            pca   encode        r2\n",
              "229     median        none  minmax  pca_0.99_auto  ordinal  0.995882\n",
              "128       mean        none  minmax  pca_0.99_auto   onehot  0.995731\n",
              "223     median        none  minmax  pca_0.95_auto  ordinal  0.995631\n",
              "177       mean        most  minmax  pca_0.99_auto  ordinal  0.995610\n",
              "226     median        none  minmax  pca_0.99_auto   onehot  0.995588\n",
              "..         ...         ...     ...            ...      ...       ...\n",
              "207     median        none    none  pca_0.99_auto  ordinal  0.768116\n",
              "3         none        none    none  pca_0.95_auto  ordinal  0.768108\n",
              "253     median        most    none  pca_0.95_auto  ordinal  0.767777\n",
              "109       mean        none    none  pca_0.99_auto  ordinal  0.767539\n",
              "157       mean        most    none  pca_0.99_auto  ordinal  0.765787\n",
              "\n",
              "[300 rows x 6 columns]"
            ]
          },
          "execution_count": 80,
          "metadata": {},
          "output_type": "execute_result"
        }
      ],
      "source": [
        "random_forest_results = pd.read_csv(os.path.join(model_result_path, f\"{grid[1][\"model\"].__class__.__name__}.csv\"))\n",
        "random_forest_results.sort_values(by=\"r2\", ascending=False)"
      ]
    },
    {
      "cell_type": "code",
      "execution_count": null,
      "id": "f3b130df",
      "metadata": {},
      "outputs": [
        {
          "data": {
            "application/vnd.microsoft.datawrangler.viewer.v0+json": {
              "columns": [
                {
                  "name": "index",
                  "rawType": "int64",
                  "type": "integer"
                },
                {
                  "name": "num_impute",
                  "rawType": "object",
                  "type": "string"
                },
                {
                  "name": "cate_impute",
                  "rawType": "object",
                  "type": "string"
                },
                {
                  "name": "scale",
                  "rawType": "object",
                  "type": "string"
                },
                {
                  "name": "pca",
                  "rawType": "object",
                  "type": "string"
                },
                {
                  "name": "encode",
                  "rawType": "object",
                  "type": "string"
                },
                {
                  "name": "r2",
                  "rawType": "float64",
                  "type": "float"
                }
              ],
              "ref": "8e5d5c16-24ae-46a7-a96b-27fe69d7a005",
              "rows": [
                [
                  "294",
                  "median",
                  "most",
                  "log1p_robust",
                  "pca_0.95_full",
                  "onehot",
                  "0.962229023657036"
                ],
                [
                  "296",
                  "median",
                  "most",
                  "log1p_robust",
                  "pca_0.99_auto",
                  "onehot",
                  "0.962229023657036"
                ],
                [
                  "244",
                  "median",
                  "none",
                  "log1p_robust",
                  "pca_0.95_full",
                  "onehot",
                  "0.962229023657036"
                ],
                [
                  "194",
                  "mean",
                  "most",
                  "log1p_robust",
                  "pca_0.95_full",
                  "onehot",
                  "0.962229023657036"
                ],
                [
                  "198",
                  "mean",
                  "most",
                  "log1p_robust",
                  "pca_0.99_auto",
                  "onehot",
                  "0.962229023657036"
                ],
                [
                  "46",
                  "none",
                  "none",
                  "log1p_robust",
                  "pca_0.99_auto",
                  "onehot",
                  "0.962229023657036"
                ],
                [
                  "48",
                  "none",
                  "none",
                  "log1p_robust",
                  "pca_0.99_auto",
                  "onehot",
                  "0.962229023657036"
                ],
                [
                  "196",
                  "mean",
                  "most",
                  "log1p_robust",
                  "pca_0.99_auto",
                  "onehot",
                  "0.962229023657036"
                ],
                [
                  "248",
                  "median",
                  "none",
                  "log1p_robust",
                  "pca_0.99_auto",
                  "onehot",
                  "0.962229023657036"
                ],
                [
                  "246",
                  "median",
                  "none",
                  "log1p_robust",
                  "pca_0.99_auto",
                  "onehot",
                  "0.962229023657036"
                ],
                [
                  "94",
                  "none",
                  "most",
                  "log1p_robust",
                  "pca_0.95_full",
                  "onehot",
                  "0.962229023657036"
                ],
                [
                  "96",
                  "none",
                  "most",
                  "log1p_robust",
                  "pca_0.99_auto",
                  "onehot",
                  "0.962229023657036"
                ],
                [
                  "98",
                  "none",
                  "most",
                  "log1p_robust",
                  "pca_0.99_auto",
                  "onehot",
                  "0.962229023657036"
                ],
                [
                  "298",
                  "median",
                  "most",
                  "log1p_robust",
                  "pca_0.99_auto",
                  "onehot",
                  "0.962229023657036"
                ],
                [
                  "44",
                  "none",
                  "none",
                  "log1p_robust",
                  "pca_0.95_full",
                  "onehot",
                  "0.962229023657036"
                ],
                [
                  "148",
                  "mean",
                  "none",
                  "log1p_robust",
                  "pca_0.99_auto",
                  "onehot",
                  "0.962229023657036"
                ],
                [
                  "146",
                  "mean",
                  "none",
                  "log1p_robust",
                  "pca_0.99_auto",
                  "onehot",
                  "0.962229023657036"
                ],
                [
                  "144",
                  "mean",
                  "none",
                  "log1p_robust",
                  "pca_0.95_full",
                  "onehot",
                  "0.962229023657036"
                ],
                [
                  "142",
                  "mean",
                  "none",
                  "log1p_robust",
                  "pca_0.95_auto",
                  "onehot",
                  "0.9622290236570354"
                ],
                [
                  "42",
                  "none",
                  "none",
                  "log1p_robust",
                  "pca_0.95_auto",
                  "onehot",
                  "0.9622290236570354"
                ],
                [
                  "92",
                  "none",
                  "most",
                  "log1p_robust",
                  "pca_0.95_auto",
                  "onehot",
                  "0.9622290236570354"
                ],
                [
                  "192",
                  "mean",
                  "most",
                  "log1p_robust",
                  "pca_0.95_auto",
                  "onehot",
                  "0.9622290236570354"
                ],
                [
                  "292",
                  "median",
                  "most",
                  "log1p_robust",
                  "pca_0.95_auto",
                  "onehot",
                  "0.9622290236570354"
                ],
                [
                  "242",
                  "median",
                  "none",
                  "log1p_robust",
                  "pca_0.95_auto",
                  "onehot",
                  "0.9622290236570354"
                ],
                [
                  "290",
                  "median",
                  "most",
                  "log1p_robust",
                  "none",
                  "onehot",
                  "0.9622273704011"
                ],
                [
                  "240",
                  "median",
                  "none",
                  "log1p_robust",
                  "none",
                  "onehot",
                  "0.9622273704011"
                ],
                [
                  "140",
                  "mean",
                  "none",
                  "log1p_robust",
                  "none",
                  "onehot",
                  "0.9622273704011"
                ],
                [
                  "190",
                  "mean",
                  "most",
                  "log1p_robust",
                  "none",
                  "onehot",
                  "0.9622273704011"
                ],
                [
                  "40",
                  "none",
                  "none",
                  "log1p_robust",
                  "none",
                  "onehot",
                  "0.9622273704011"
                ],
                [
                  "90",
                  "none",
                  "most",
                  "log1p_robust",
                  "none",
                  "onehot",
                  "0.9622273704011"
                ],
                [
                  "62",
                  "none",
                  "most",
                  "standard",
                  "pca_0.95_auto",
                  "onehot",
                  "0.9515555695619908"
                ],
                [
                  "12",
                  "none",
                  "none",
                  "standard",
                  "pca_0.95_auto",
                  "onehot",
                  "0.9515555695619908"
                ],
                [
                  "262",
                  "median",
                  "most",
                  "standard",
                  "pca_0.95_auto",
                  "onehot",
                  "0.9515555695619908"
                ],
                [
                  "212",
                  "median",
                  "none",
                  "standard",
                  "pca_0.95_auto",
                  "onehot",
                  "0.9515555695619908"
                ],
                [
                  "162",
                  "mean",
                  "most",
                  "standard",
                  "pca_0.95_auto",
                  "onehot",
                  "0.9515555695619908"
                ],
                [
                  "112",
                  "mean",
                  "none",
                  "standard",
                  "pca_0.95_auto",
                  "onehot",
                  "0.9515555695619908"
                ],
                [
                  "10",
                  "none",
                  "none",
                  "standard",
                  "none",
                  "onehot",
                  "0.9515555695619864"
                ],
                [
                  "210",
                  "median",
                  "none",
                  "standard",
                  "none",
                  "onehot",
                  "0.9515555695619864"
                ],
                [
                  "160",
                  "mean",
                  "most",
                  "standard",
                  "none",
                  "onehot",
                  "0.9515555695619864"
                ],
                [
                  "260",
                  "median",
                  "most",
                  "standard",
                  "none",
                  "onehot",
                  "0.9515555695619864"
                ],
                [
                  "110",
                  "mean",
                  "none",
                  "standard",
                  "none",
                  "onehot",
                  "0.9515555695619864"
                ],
                [
                  "60",
                  "none",
                  "most",
                  "standard",
                  "none",
                  "onehot",
                  "0.9515555695619864"
                ],
                [
                  "16",
                  "none",
                  "none",
                  "standard",
                  "pca_0.99_auto",
                  "onehot",
                  "0.951555569561986"
                ],
                [
                  "18",
                  "none",
                  "none",
                  "standard",
                  "pca_0.99_auto",
                  "onehot",
                  "0.951555569561986"
                ],
                [
                  "14",
                  "none",
                  "none",
                  "standard",
                  "pca_0.95_full",
                  "onehot",
                  "0.951555569561986"
                ],
                [
                  "68",
                  "none",
                  "most",
                  "standard",
                  "pca_0.99_auto",
                  "onehot",
                  "0.951555569561986"
                ],
                [
                  "116",
                  "mean",
                  "none",
                  "standard",
                  "pca_0.99_auto",
                  "onehot",
                  "0.951555569561986"
                ],
                [
                  "114",
                  "mean",
                  "none",
                  "standard",
                  "pca_0.95_full",
                  "onehot",
                  "0.951555569561986"
                ],
                [
                  "118",
                  "mean",
                  "none",
                  "standard",
                  "pca_0.99_auto",
                  "onehot",
                  "0.951555569561986"
                ],
                [
                  "66",
                  "none",
                  "most",
                  "standard",
                  "pca_0.99_auto",
                  "onehot",
                  "0.951555569561986"
                ]
              ],
              "shape": {
                "columns": 6,
                "rows": 300
              }
            },
            "text/html": [
              "<div>\n",
              "<style scoped>\n",
              "    .dataframe tbody tr th:only-of-type {\n",
              "        vertical-align: middle;\n",
              "    }\n",
              "\n",
              "    .dataframe tbody tr th {\n",
              "        vertical-align: top;\n",
              "    }\n",
              "\n",
              "    .dataframe thead th {\n",
              "        text-align: right;\n",
              "    }\n",
              "</style>\n",
              "<table border=\"1\" class=\"dataframe\">\n",
              "  <thead>\n",
              "    <tr style=\"text-align: right;\">\n",
              "      <th></th>\n",
              "      <th>num_impute</th>\n",
              "      <th>cate_impute</th>\n",
              "      <th>scale</th>\n",
              "      <th>pca</th>\n",
              "      <th>encode</th>\n",
              "      <th>r2</th>\n",
              "    </tr>\n",
              "  </thead>\n",
              "  <tbody>\n",
              "    <tr>\n",
              "      <th>294</th>\n",
              "      <td>median</td>\n",
              "      <td>most</td>\n",
              "      <td>log1p_robust</td>\n",
              "      <td>pca_0.95_full</td>\n",
              "      <td>onehot</td>\n",
              "      <td>0.962229</td>\n",
              "    </tr>\n",
              "    <tr>\n",
              "      <th>296</th>\n",
              "      <td>median</td>\n",
              "      <td>most</td>\n",
              "      <td>log1p_robust</td>\n",
              "      <td>pca_0.99_auto</td>\n",
              "      <td>onehot</td>\n",
              "      <td>0.962229</td>\n",
              "    </tr>\n",
              "    <tr>\n",
              "      <th>244</th>\n",
              "      <td>median</td>\n",
              "      <td>none</td>\n",
              "      <td>log1p_robust</td>\n",
              "      <td>pca_0.95_full</td>\n",
              "      <td>onehot</td>\n",
              "      <td>0.962229</td>\n",
              "    </tr>\n",
              "    <tr>\n",
              "      <th>194</th>\n",
              "      <td>mean</td>\n",
              "      <td>most</td>\n",
              "      <td>log1p_robust</td>\n",
              "      <td>pca_0.95_full</td>\n",
              "      <td>onehot</td>\n",
              "      <td>0.962229</td>\n",
              "    </tr>\n",
              "    <tr>\n",
              "      <th>198</th>\n",
              "      <td>mean</td>\n",
              "      <td>most</td>\n",
              "      <td>log1p_robust</td>\n",
              "      <td>pca_0.99_auto</td>\n",
              "      <td>onehot</td>\n",
              "      <td>0.962229</td>\n",
              "    </tr>\n",
              "    <tr>\n",
              "      <th>...</th>\n",
              "      <td>...</td>\n",
              "      <td>...</td>\n",
              "      <td>...</td>\n",
              "      <td>...</td>\n",
              "      <td>...</td>\n",
              "      <td>...</td>\n",
              "    </tr>\n",
              "    <tr>\n",
              "      <th>0</th>\n",
              "      <td>none</td>\n",
              "      <td>none</td>\n",
              "      <td>none</td>\n",
              "      <td>none</td>\n",
              "      <td>onehot</td>\n",
              "      <td>-109677.219807</td>\n",
              "    </tr>\n",
              "    <tr>\n",
              "      <th>200</th>\n",
              "      <td>median</td>\n",
              "      <td>none</td>\n",
              "      <td>none</td>\n",
              "      <td>none</td>\n",
              "      <td>onehot</td>\n",
              "      <td>-109677.219807</td>\n",
              "    </tr>\n",
              "    <tr>\n",
              "      <th>250</th>\n",
              "      <td>median</td>\n",
              "      <td>most</td>\n",
              "      <td>none</td>\n",
              "      <td>none</td>\n",
              "      <td>onehot</td>\n",
              "      <td>-109677.219807</td>\n",
              "    </tr>\n",
              "    <tr>\n",
              "      <th>100</th>\n",
              "      <td>mean</td>\n",
              "      <td>none</td>\n",
              "      <td>none</td>\n",
              "      <td>none</td>\n",
              "      <td>onehot</td>\n",
              "      <td>-109677.219807</td>\n",
              "    </tr>\n",
              "    <tr>\n",
              "      <th>150</th>\n",
              "      <td>mean</td>\n",
              "      <td>most</td>\n",
              "      <td>none</td>\n",
              "      <td>none</td>\n",
              "      <td>onehot</td>\n",
              "      <td>-109677.219807</td>\n",
              "    </tr>\n",
              "  </tbody>\n",
              "</table>\n",
              "<p>300 rows × 6 columns</p>\n",
              "</div>"
            ],
            "text/plain": [
              "    num_impute cate_impute         scale            pca  encode             r2\n",
              "294     median        most  log1p_robust  pca_0.95_full  onehot       0.962229\n",
              "296     median        most  log1p_robust  pca_0.99_auto  onehot       0.962229\n",
              "244     median        none  log1p_robust  pca_0.95_full  onehot       0.962229\n",
              "194       mean        most  log1p_robust  pca_0.95_full  onehot       0.962229\n",
              "198       mean        most  log1p_robust  pca_0.99_auto  onehot       0.962229\n",
              "..         ...         ...           ...            ...     ...            ...\n",
              "0         none        none          none           none  onehot -109677.219807\n",
              "200     median        none          none           none  onehot -109677.219807\n",
              "250     median        most          none           none  onehot -109677.219807\n",
              "100       mean        none          none           none  onehot -109677.219807\n",
              "150       mean        most          none           none  onehot -109677.219807\n",
              "\n",
              "[300 rows x 6 columns]"
            ]
          },
          "execution_count": 81,
          "metadata": {},
          "output_type": "execute_result"
        }
      ],
      "source": [
        "svr_results = pd.read_csv(os.path.join(model_result_path, f\"{grid[2][\"model\"].__class__.__name__}.csv\"))\n",
        "svr_results.sort_values(by=\"r2\", ascending=False)"
      ]
    },
    {
      "cell_type": "code",
      "execution_count": null,
      "id": "a4069eaf",
      "metadata": {},
      "outputs": [
        {
          "data": {
            "application/vnd.microsoft.datawrangler.viewer.v0+json": {
              "columns": [
                {
                  "name": "index",
                  "rawType": "int64",
                  "type": "integer"
                },
                {
                  "name": "num_impute",
                  "rawType": "object",
                  "type": "string"
                },
                {
                  "name": "cate_impute",
                  "rawType": "object",
                  "type": "string"
                },
                {
                  "name": "scale",
                  "rawType": "object",
                  "type": "string"
                },
                {
                  "name": "pca",
                  "rawType": "object",
                  "type": "string"
                },
                {
                  "name": "encode",
                  "rawType": "object",
                  "type": "string"
                },
                {
                  "name": "r2",
                  "rawType": "float64",
                  "type": "float"
                }
              ],
              "ref": "958b7b32-bb40-4469-aa85-e676bb6e6afc",
              "rows": [
                [
                  "196",
                  "median",
                  "none",
                  "log1p_robust",
                  "pca_0.99_auto",
                  "onehot",
                  "0.9829675115145752"
                ],
                [
                  "72",
                  "none",
                  "most",
                  "log1p_robust",
                  "pca_0.95_auto",
                  "onehot",
                  "0.982762455690069"
                ],
                [
                  "78",
                  "none",
                  "most",
                  "log1p_robust",
                  "pca_0.99_full",
                  "onehot",
                  "0.9822203260545496"
                ],
                [
                  "32",
                  "none",
                  "none",
                  "log1p_robust",
                  "pca_0.95_auto",
                  "onehot",
                  "0.9817777791999364"
                ],
                [
                  "36",
                  "none",
                  "none",
                  "log1p_robust",
                  "pca_0.99_auto",
                  "onehot",
                  "0.9815897693904652"
                ],
                [
                  "74",
                  "none",
                  "most",
                  "log1p_robust",
                  "pca_0.95_full",
                  "onehot",
                  "0.9811668666330334"
                ],
                [
                  "70",
                  "none",
                  "most",
                  "log1p_robust",
                  "none",
                  "onehot",
                  "0.9810931408542988"
                ],
                [
                  "234",
                  "median",
                  "most",
                  "log1p_robust",
                  "pca_0.95_full",
                  "onehot",
                  "0.980842864913855"
                ],
                [
                  "86",
                  "mean",
                  "none",
                  "standard",
                  "pca_0.99_auto",
                  "onehot",
                  "0.9807847351844174"
                ],
                [
                  "118",
                  "mean",
                  "none",
                  "log1p_robust",
                  "pca_0.99_full",
                  "onehot",
                  "0.9807690923862116"
                ],
                [
                  "152",
                  "mean",
                  "most",
                  "log1p_robust",
                  "pca_0.95_auto",
                  "onehot",
                  "0.9805373526764248"
                ],
                [
                  "30",
                  "none",
                  "none",
                  "log1p_robust",
                  "none",
                  "onehot",
                  "0.9804880919362382"
                ],
                [
                  "198",
                  "median",
                  "none",
                  "log1p_robust",
                  "pca_0.99_full",
                  "onehot",
                  "0.9804132069619664"
                ],
                [
                  "158",
                  "mean",
                  "most",
                  "log1p_robust",
                  "pca_0.99_full",
                  "onehot",
                  "0.9803122976743692"
                ],
                [
                  "75",
                  "none",
                  "most",
                  "log1p_robust",
                  "pca_0.95_full",
                  "ordinal",
                  "0.9802244443567631"
                ],
                [
                  "116",
                  "mean",
                  "none",
                  "log1p_robust",
                  "pca_0.99_auto",
                  "onehot",
                  "0.9801757197216208"
                ],
                [
                  "77",
                  "none",
                  "most",
                  "log1p_robust",
                  "pca_0.99_auto",
                  "ordinal",
                  "0.9796298062125084"
                ],
                [
                  "230",
                  "median",
                  "most",
                  "log1p_robust",
                  "none",
                  "onehot",
                  "0.9793984524502308"
                ],
                [
                  "80",
                  "mean",
                  "none",
                  "standard",
                  "none",
                  "onehot",
                  "0.9793637432050728"
                ],
                [
                  "194",
                  "median",
                  "none",
                  "log1p_robust",
                  "pca_0.95_full",
                  "onehot",
                  "0.9793331709201408"
                ],
                [
                  "122",
                  "mean",
                  "most",
                  "standard",
                  "pca_0.95_auto",
                  "onehot",
                  "0.9789839644194632"
                ],
                [
                  "206",
                  "median",
                  "most",
                  "standard",
                  "pca_0.99_auto",
                  "onehot",
                  "0.9787757876154138"
                ],
                [
                  "4",
                  "none",
                  "none",
                  "standard",
                  "pca_0.95_full",
                  "onehot",
                  "0.9786889715841234"
                ],
                [
                  "112",
                  "mean",
                  "none",
                  "log1p_robust",
                  "pca_0.95_auto",
                  "onehot",
                  "0.9786525055310668"
                ],
                [
                  "110",
                  "mean",
                  "none",
                  "log1p_robust",
                  "none",
                  "onehot",
                  "0.9785620607419078"
                ],
                [
                  "40",
                  "none",
                  "most",
                  "standard",
                  "none",
                  "onehot",
                  "0.9784441118949636"
                ],
                [
                  "154",
                  "mean",
                  "most",
                  "log1p_robust",
                  "pca_0.95_full",
                  "onehot",
                  "0.9782425814064152"
                ],
                [
                  "115",
                  "mean",
                  "none",
                  "log1p_robust",
                  "pca_0.95_full",
                  "ordinal",
                  "0.9781969330403886"
                ],
                [
                  "156",
                  "mean",
                  "most",
                  "log1p_robust",
                  "pca_0.99_auto",
                  "onehot",
                  "0.9779241970970556"
                ],
                [
                  "76",
                  "none",
                  "most",
                  "log1p_robust",
                  "pca_0.99_auto",
                  "onehot",
                  "0.9779191101896436"
                ],
                [
                  "38",
                  "none",
                  "none",
                  "log1p_robust",
                  "pca_0.99_full",
                  "onehot",
                  "0.977876367596656"
                ],
                [
                  "232",
                  "median",
                  "most",
                  "log1p_robust",
                  "pca_0.95_auto",
                  "onehot",
                  "0.9776377623937068"
                ],
                [
                  "54",
                  "none",
                  "most",
                  "minmax",
                  "pca_0.95_full",
                  "onehot",
                  "0.9776236530691572"
                ],
                [
                  "150",
                  "mean",
                  "most",
                  "log1p_robust",
                  "none",
                  "onehot",
                  "0.9775758409032934"
                ],
                [
                  "88",
                  "mean",
                  "none",
                  "standard",
                  "pca_0.99_full",
                  "onehot",
                  "0.977512159551724"
                ],
                [
                  "236",
                  "median",
                  "most",
                  "log1p_robust",
                  "pca_0.99_auto",
                  "onehot",
                  "0.9773588536065594"
                ],
                [
                  "2",
                  "none",
                  "none",
                  "standard",
                  "pca_0.95_auto",
                  "onehot",
                  "0.977250421151806"
                ],
                [
                  "128",
                  "mean",
                  "most",
                  "standard",
                  "pca_0.99_full",
                  "onehot",
                  "0.977042233155545"
                ],
                [
                  "121",
                  "mean",
                  "most",
                  "standard",
                  "none",
                  "ordinal",
                  "0.9770144447336022"
                ],
                [
                  "8",
                  "none",
                  "none",
                  "standard",
                  "pca_0.99_full",
                  "onehot",
                  "0.9768094208810828"
                ],
                [
                  "200",
                  "median",
                  "most",
                  "standard",
                  "none",
                  "onehot",
                  "0.9767667053761084"
                ],
                [
                  "82",
                  "mean",
                  "none",
                  "standard",
                  "pca_0.95_auto",
                  "onehot",
                  "0.9766740076674052"
                ],
                [
                  "39",
                  "none",
                  "none",
                  "log1p_robust",
                  "pca_0.99_full",
                  "ordinal",
                  "0.9766566231003392"
                ],
                [
                  "212",
                  "median",
                  "most",
                  "minmax",
                  "pca_0.95_auto",
                  "onehot",
                  "0.976503690325322"
                ],
                [
                  "84",
                  "mean",
                  "none",
                  "standard",
                  "pca_0.95_full",
                  "onehot",
                  "0.9764816410439886"
                ],
                [
                  "92",
                  "mean",
                  "none",
                  "minmax",
                  "pca_0.95_auto",
                  "onehot",
                  "0.97634799420343"
                ],
                [
                  "46",
                  "none",
                  "most",
                  "standard",
                  "pca_0.99_auto",
                  "onehot",
                  "0.9761706499390538"
                ],
                [
                  "162",
                  "median",
                  "none",
                  "standard",
                  "pca_0.95_auto",
                  "onehot",
                  "0.976167433903148"
                ],
                [
                  "172",
                  "median",
                  "none",
                  "minmax",
                  "pca_0.95_auto",
                  "onehot",
                  "0.9760070899412364"
                ],
                [
                  "238",
                  "median",
                  "most",
                  "log1p_robust",
                  "pca_0.99_full",
                  "onehot",
                  "0.9759285505430734"
                ]
              ],
              "shape": {
                "columns": 6,
                "rows": 240
              }
            },
            "text/html": [
              "<div>\n",
              "<style scoped>\n",
              "    .dataframe tbody tr th:only-of-type {\n",
              "        vertical-align: middle;\n",
              "    }\n",
              "\n",
              "    .dataframe tbody tr th {\n",
              "        vertical-align: top;\n",
              "    }\n",
              "\n",
              "    .dataframe thead th {\n",
              "        text-align: right;\n",
              "    }\n",
              "</style>\n",
              "<table border=\"1\" class=\"dataframe\">\n",
              "  <thead>\n",
              "    <tr style=\"text-align: right;\">\n",
              "      <th></th>\n",
              "      <th>num_impute</th>\n",
              "      <th>cate_impute</th>\n",
              "      <th>scale</th>\n",
              "      <th>pca</th>\n",
              "      <th>encode</th>\n",
              "      <th>r2</th>\n",
              "    </tr>\n",
              "  </thead>\n",
              "  <tbody>\n",
              "    <tr>\n",
              "      <th>196</th>\n",
              "      <td>median</td>\n",
              "      <td>none</td>\n",
              "      <td>log1p_robust</td>\n",
              "      <td>pca_0.99_auto</td>\n",
              "      <td>onehot</td>\n",
              "      <td>0.982968</td>\n",
              "    </tr>\n",
              "    <tr>\n",
              "      <th>72</th>\n",
              "      <td>none</td>\n",
              "      <td>most</td>\n",
              "      <td>log1p_robust</td>\n",
              "      <td>pca_0.95_auto</td>\n",
              "      <td>onehot</td>\n",
              "      <td>0.982762</td>\n",
              "    </tr>\n",
              "    <tr>\n",
              "      <th>78</th>\n",
              "      <td>none</td>\n",
              "      <td>most</td>\n",
              "      <td>log1p_robust</td>\n",
              "      <td>pca_0.99_full</td>\n",
              "      <td>onehot</td>\n",
              "      <td>0.982220</td>\n",
              "    </tr>\n",
              "    <tr>\n",
              "      <th>32</th>\n",
              "      <td>none</td>\n",
              "      <td>none</td>\n",
              "      <td>log1p_robust</td>\n",
              "      <td>pca_0.95_auto</td>\n",
              "      <td>onehot</td>\n",
              "      <td>0.981778</td>\n",
              "    </tr>\n",
              "    <tr>\n",
              "      <th>36</th>\n",
              "      <td>none</td>\n",
              "      <td>none</td>\n",
              "      <td>log1p_robust</td>\n",
              "      <td>pca_0.99_auto</td>\n",
              "      <td>onehot</td>\n",
              "      <td>0.981590</td>\n",
              "    </tr>\n",
              "    <tr>\n",
              "      <th>...</th>\n",
              "      <td>...</td>\n",
              "      <td>...</td>\n",
              "      <td>...</td>\n",
              "      <td>...</td>\n",
              "      <td>...</td>\n",
              "      <td>...</td>\n",
              "    </tr>\n",
              "    <tr>\n",
              "      <th>21</th>\n",
              "      <td>none</td>\n",
              "      <td>none</td>\n",
              "      <td>robust</td>\n",
              "      <td>none</td>\n",
              "      <td>ordinal</td>\n",
              "      <td>0.228838</td>\n",
              "    </tr>\n",
              "    <tr>\n",
              "      <th>185</th>\n",
              "      <td>median</td>\n",
              "      <td>none</td>\n",
              "      <td>robust</td>\n",
              "      <td>pca_0.95_full</td>\n",
              "      <td>ordinal</td>\n",
              "      <td>-0.250195</td>\n",
              "    </tr>\n",
              "    <tr>\n",
              "      <th>227</th>\n",
              "      <td>median</td>\n",
              "      <td>most</td>\n",
              "      <td>robust</td>\n",
              "      <td>pca_0.99_auto</td>\n",
              "      <td>ordinal</td>\n",
              "      <td>-0.305776</td>\n",
              "    </tr>\n",
              "    <tr>\n",
              "      <th>147</th>\n",
              "      <td>mean</td>\n",
              "      <td>most</td>\n",
              "      <td>robust</td>\n",
              "      <td>pca_0.99_auto</td>\n",
              "      <td>ordinal</td>\n",
              "      <td>-20.759072</td>\n",
              "    </tr>\n",
              "    <tr>\n",
              "      <th>23</th>\n",
              "      <td>none</td>\n",
              "      <td>none</td>\n",
              "      <td>robust</td>\n",
              "      <td>pca_0.95_auto</td>\n",
              "      <td>ordinal</td>\n",
              "      <td>-396971.599227</td>\n",
              "    </tr>\n",
              "  </tbody>\n",
              "</table>\n",
              "<p>240 rows × 6 columns</p>\n",
              "</div>"
            ],
            "text/plain": [
              "    num_impute cate_impute         scale            pca   encode  \\\n",
              "196     median        none  log1p_robust  pca_0.99_auto   onehot   \n",
              "72        none        most  log1p_robust  pca_0.95_auto   onehot   \n",
              "78        none        most  log1p_robust  pca_0.99_full   onehot   \n",
              "32        none        none  log1p_robust  pca_0.95_auto   onehot   \n",
              "36        none        none  log1p_robust  pca_0.99_auto   onehot   \n",
              "..         ...         ...           ...            ...      ...   \n",
              "21        none        none        robust           none  ordinal   \n",
              "185     median        none        robust  pca_0.95_full  ordinal   \n",
              "227     median        most        robust  pca_0.99_auto  ordinal   \n",
              "147       mean        most        robust  pca_0.99_auto  ordinal   \n",
              "23        none        none        robust  pca_0.95_auto  ordinal   \n",
              "\n",
              "                r2  \n",
              "196       0.982968  \n",
              "72        0.982762  \n",
              "78        0.982220  \n",
              "32        0.981778  \n",
              "36        0.981590  \n",
              "..             ...  \n",
              "21        0.228838  \n",
              "185      -0.250195  \n",
              "227      -0.305776  \n",
              "147     -20.759072  \n",
              "23  -396971.599227  \n",
              "\n",
              "[240 rows x 6 columns]"
            ]
          },
          "execution_count": 82,
          "metadata": {},
          "output_type": "execute_result"
        }
      ],
      "source": [
        "mlp_results = pd.read_csv(os.path.join(model_result_path, f\"{grid[3][\"model\"].__class__.__name__}.csv\"))\n",
        "mlp_results.sort_values(by=\"r2\", ascending=False)"
      ]
    }
  ],
  "metadata": {
    "colab": {
      "provenance": []
    },
    "kernelspec": {
      "display_name": "dl_python_3.10",
      "language": "python",
      "name": "python3"
    },
    "language_info": {
      "codemirror_mode": {
        "name": "ipython",
        "version": 3
      },
      "file_extension": ".py",
      "mimetype": "text/x-python",
      "name": "python",
      "nbconvert_exporter": "python",
      "pygments_lexer": "ipython3",
      "version": "3.13.7"
    }
  },
  "nbformat": 4,
  "nbformat_minor": 5
}
