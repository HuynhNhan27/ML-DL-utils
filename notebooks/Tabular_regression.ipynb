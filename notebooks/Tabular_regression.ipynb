{
  "cells": [
    {
      "cell_type": "markdown",
      "id": "0ceb329f",
      "metadata": {},
      "source": [
        "# **📌 Import**"
      ]
    },
    {
      "cell_type": "code",
      "execution_count": 43,
      "id": "5ec5eda2",
      "metadata": {
        "id": "5ec5eda2"
      },
      "outputs": [],
      "source": [
        "import numpy as np\n",
        "import pandas as pd\n",
        "import matplotlib.pyplot as plt\n",
        "import seaborn as sns\n",
        "import sklearn\n",
        "from sklearn.pipeline import Pipeline\n",
        "from sklearn.compose import ColumnTransformer\n",
        "from sklearn.model_selection import train_test_split\n",
        "from sklearn.impute import SimpleImputer\n",
        "from sklearn.decomposition import PCA\n",
        "from sklearn.preprocessing import StandardScaler, MinMaxScaler, RobustScaler, OneHotEncoder, OrdinalEncoder\n",
        "from sklearn.linear_model import LinearRegression\n",
        "from sklearn.ensemble import RandomForestRegressor\n",
        "from sklearn.neural_network import MLPRegressor\n",
        "from sklearn.svm import SVR\n",
        "from sklearn.metrics import mean_squared_error, root_mean_squared_error, mean_absolute_error, r2_score\n",
        "import warnings\n",
        "import sys\n",
        "warnings.filterwarnings('ignore')\n",
        "# Thiết lập style cho matplotlib\n",
        "plt.style.use('seaborn-v0_8')\n",
        "sns.set_palette(\"husl\")\n",
        "sklearn.set_config(enable_metadata_routing=True)"
      ]
    },
    {
      "cell_type": "code",
      "execution_count": null,
      "id": "576475db",
      "metadata": {},
      "outputs": [],
      "source": [
        "sys.path.append(\"..\")\n",
        "from modules import tabular"
      ]
    },
    {
      "cell_type": "markdown",
      "id": "d3c495b1",
      "metadata": {
        "id": "d3c495b1"
      },
      "source": [
        "# **📥 Download Dataset**"
      ]
    },
    {
      "cell_type": "code",
      "execution_count": 45,
      "id": "8416c2e8",
      "metadata": {},
      "outputs": [],
      "source": [
        "import kagglehub\n",
        "import os\n",
        "import shutil\n",
        "\n",
        "data_dir = \"../data/amazon_products_2025/\"\n",
        "raw_data_dir = os.path.join(data_dir, \"raw_data/\")\n",
        "data_file_name = \"amazon_products_sales_data_cleaned.csv\"\n",
        "model_result_path = os.path.join(data_dir, \"model_result/\")"
      ]
    },
    {
      "cell_type": "code",
      "execution_count": null,
      "id": "39bd0800",
      "metadata": {
        "colab": {
          "base_uri": "https://localhost:8080/"
        },
        "id": "39bd0800",
        "outputId": "3bcd16a0-9d23-440d-aa17-ed2098ae601e"
      },
      "outputs": [
        {
          "name": "stdout",
          "output_type": "stream",
          "text": [
            "Data file exists.\n",
            "Path to data: ../data/amazon_products_2025/raw_data/amazon_products_sales_data_cleaned.csv\n"
          ]
        }
      ],
      "source": [
        "os.makedirs(data_dir, exist_ok=True)\n",
        "\n",
        "if os.path.exists(os.path.join(raw_data_dir, data_file_name)):\n",
        "    print(\"Data file exists.\")\n",
        "else:\n",
        "    path = kagglehub.dataset_download(\n",
        "        handle=\"ikramshah512/amazon-products-sales-dataset-42k-items-2025\"\n",
        "    )\n",
        "    src = os.path.join(path, data_file_name)\n",
        "    os.makedirs(raw_data_dir, exist_ok=True)\n",
        "    shutil.copy(src, raw_data_dir)\n",
        "\n",
        "print(\"Path to data:\", os.path.join(raw_data_dir, data_file_name))"
      ]
    },
    {
      "cell_type": "code",
      "execution_count": 47,
      "id": "2af12c6a",
      "metadata": {
        "colab": {
          "base_uri": "https://localhost:8080/",
          "height": 503
        },
        "id": "2af12c6a",
        "outputId": "2d65ab23-1bbb-4cab-baf4-e64a57e930ac"
      },
      "outputs": [
        {
          "data": {
            "application/vnd.microsoft.datawrangler.viewer.v0+json": {
              "columns": [
                {
                  "name": "index",
                  "rawType": "int64",
                  "type": "integer"
                },
                {
                  "name": "product_title",
                  "rawType": "object",
                  "type": "string"
                },
                {
                  "name": "product_rating",
                  "rawType": "float64",
                  "type": "float"
                },
                {
                  "name": "total_reviews",
                  "rawType": "float64",
                  "type": "float"
                },
                {
                  "name": "purchased_last_month",
                  "rawType": "float64",
                  "type": "float"
                },
                {
                  "name": "discounted_price",
                  "rawType": "float64",
                  "type": "float"
                },
                {
                  "name": "original_price",
                  "rawType": "float64",
                  "type": "float"
                },
                {
                  "name": "is_best_seller",
                  "rawType": "object",
                  "type": "string"
                },
                {
                  "name": "is_sponsored",
                  "rawType": "object",
                  "type": "string"
                },
                {
                  "name": "has_coupon",
                  "rawType": "object",
                  "type": "string"
                },
                {
                  "name": "buy_box_availability",
                  "rawType": "object",
                  "type": "unknown"
                },
                {
                  "name": "delivery_date",
                  "rawType": "object",
                  "type": "unknown"
                },
                {
                  "name": "sustainability_tags",
                  "rawType": "object",
                  "type": "unknown"
                },
                {
                  "name": "product_image_url",
                  "rawType": "object",
                  "type": "string"
                },
                {
                  "name": "product_page_url",
                  "rawType": "object",
                  "type": "string"
                },
                {
                  "name": "data_collected_at",
                  "rawType": "object",
                  "type": "string"
                },
                {
                  "name": "product_category",
                  "rawType": "object",
                  "type": "string"
                },
                {
                  "name": "discount_percentage",
                  "rawType": "float64",
                  "type": "float"
                }
              ],
              "ref": "fe20128f-26a7-474b-9968-5d20ed0915bc",
              "rows": [
                [
                  "0",
                  "BOYA BOYALINK 2 Wireless Lavalier Microphone for iPhone Camera Android, Mini Lapel Micophone Wireless, 48 KHz 24 Bit, 6mm Mic, 1000ft, 30h Use, Noise Cancelling, Clip on Mic USB-C/Lightning/3.5mm TRS",
                  "4.6",
                  "375.0",
                  "300.0",
                  "89.68",
                  "159.0",
                  "No Badge",
                  "Sponsored",
                  "Save 15%  with coupon",
                  "Add to cart",
                  "2025-09-01",
                  "Carbon impact",
                  "https://m.media-amazon.com/images/I/71pAqiVEs3L._AC_UL320_.jpg",
                  "https://www.amazon.com/sspa/click?ie=UTF8&spc=MTo4NzEzNDY2NTQ5NDYxNDQ2OjE3NTU4MDAwNjg6c3BfYXRmX2Jyb3dzZTozMDA2NzE0NTMwMTcyMDI6OjA6Og&url=%2FBOYA-BOYALINK-Microphone-Micophone-Cancelling%2Fdp%2FB0DNZB7TQG%2Fref%3Dsr_1_1_sspa%3Fdib%3DeyJ2IjoiMSJ9.avmZlHCQuVOwikquBqYSIjN8SVcyxtkXHQMPt7Zjzkf4TeZzrZfQETMhdWuWgtTrVz8ITKpXLHvZj0fZRjxqgMPYNMitRqeUoeIwdYfc5nnzJ8m0T8HYeedlh3YSOhJQjeHskevMUQWyg6TtoB2tHcHt-edYPsQ6VwFQTI6avsPrgVpFKrto3ff9TDR9BcRyPwM6AiYn-vh7wA5PP9DjZddhCPf7bVPcHMZ6Hwd40dQDWm9_M8R-LcwKY8wnuWRUSplhfYJBvTjAgsb3Y3y88VGpfqY3V8Rd2ge-woBzUMA.yqwi-krmElGgXIMa8kKUPx1XmaXd9lHaAkMkVVpStxo%26dib_tag%3Dse%26qid%3D1755800068%26refinements%3Dp_n_g-101014971069111%253A119653281011%26s%3Delectronics%26sr%3D1-1-spons%26sp_csd%3Dd2lkZ2V0TmFtZT1zcF9hdGZfYnJvd3Nl%26psc%3D1",
                  "2025-08-21 11:14:29",
                  "Phones",
                  "43.6"
                ],
                [
                  "1",
                  "LISEN USB C to Lightning Cable, 240W 4 in 1 Charging Cable 6.6FT, Chubby USB A/C to C/Lightning with Light for iPhone 16e 15 14 Pro/MacBook Air 17/iPad/Samsung/Switch 2, Multi Chargers for All Devices",
                  "4.3",
                  "2457.0",
                  "6000.0",
                  "9.99",
                  "15.99",
                  "No Badge",
                  "Sponsored",
                  "No Coupon",
                  "Add to cart",
                  "2025-08-29",
                  null,
                  "https://m.media-amazon.com/images/I/61nbF6aVIPL._AC_UL320_.jpg",
                  "https://www.amazon.com/sspa/click?ie=UTF8&spc=MTo4NzEzNDY2NTQ5NDYxNDQ2OjE3NTU4MDAwNjg6c3BfYXRmX2Jyb3dzZTozMDA4NjA2Mzc2NDIxMDI6OjA6Og&url=%2FLISEN-Charging-Lighting-MacBook-Chargers%2Fdp%2FB0DHWZCZDZ%2Fref%3Dsr_1_2_sspa%3Fdib%3DeyJ2IjoiMSJ9.avmZlHCQuVOwikquBqYSIjN8SVcyxtkXHQMPt7Zjzkf4TeZzrZfQETMhdWuWgtTrVz8ITKpXLHvZj0fZRjxqgMPYNMitRqeUoeIwdYfc5nnzJ8m0T8HYeedlh3YSOhJQjeHskevMUQWyg6TtoB2tHcHt-edYPsQ6VwFQTI6avsPrgVpFKrto3ff9TDR9BcRyPwM6AiYn-vh7wA5PP9DjZddhCPf7bVPcHMZ6Hwd40dQDWm9_M8R-LcwKY8wnuWRUSplhfYJBvTjAgsb3Y3y88VGpfqY3V8Rd2ge-woBzUMA.yqwi-krmElGgXIMa8kKUPx1XmaXd9lHaAkMkVVpStxo%26dib_tag%3Dse%26qid%3D1755800068%26refinements%3Dp_n_g-101014971069111%253A119653281011%26s%3Delectronics%26sr%3D1-2-spons%26sp_csd%3Dd2lkZ2V0TmFtZT1zcF9hdGZfYnJvd3Nl%26psc%3D1",
                  "2025-08-21 11:14:29",
                  "Laptops",
                  "37.52"
                ],
                [
                  "2",
                  "DJI Mic 2 (2 TX + 1 RX + Charging Case), Wireless Lavalier Microphone, Intelligent Noise Cancelling, 32-bit Float Internal Recording, 820 ft.(250m) Range, Microphone for iPhone, Android, Camera",
                  "4.6",
                  "3044.0",
                  "2000.0",
                  "314.0",
                  "349.0",
                  "No Badge",
                  "Sponsored",
                  "No Coupon",
                  "Add to cart",
                  "2025-09-01",
                  null,
                  "https://m.media-amazon.com/images/I/61h78MEXojL._AC_UL320_.jpg",
                  "https://www.amazon.com/sspa/click?ie=UTF8&spc=MTo4NzEzNDY2NTQ5NDYxNDQ2OjE3NTU4MDAwNjg6c3BfYXRmX2Jyb3dzZTozMDA4Nzk0NzAxMTk3MDI6OjA6Og&url=%2FDJI-Microphone-Intelligent-Cancelling-Recording%2Fdp%2FB0CFZX734J%2Fref%3Dsr_1_3_sspa%3Fdib%3DeyJ2IjoiMSJ9.avmZlHCQuVOwikquBqYSIjN8SVcyxtkXHQMPt7Zjzkf4TeZzrZfQETMhdWuWgtTrVz8ITKpXLHvZj0fZRjxqgMPYNMitRqeUoeIwdYfc5nnzJ8m0T8HYeedlh3YSOhJQjeHskevMUQWyg6TtoB2tHcHt-edYPsQ6VwFQTI6avsPrgVpFKrto3ff9TDR9BcRyPwM6AiYn-vh7wA5PP9DjZddhCPf7bVPcHMZ6Hwd40dQDWm9_M8R-LcwKY8wnuWRUSplhfYJBvTjAgsb3Y3y88VGpfqY3V8Rd2ge-woBzUMA.yqwi-krmElGgXIMa8kKUPx1XmaXd9lHaAkMkVVpStxo%26dib_tag%3Dse%26qid%3D1755800068%26refinements%3Dp_n_g-101014971069111%253A119653281011%26s%3Delectronics%26sr%3D1-3-spons%26sp_csd%3Dd2lkZ2V0TmFtZT1zcF9hdGZfYnJvd3Nl%26psc%3D1",
                  "2025-08-21 11:14:29",
                  "Laptops",
                  "10.03"
                ],
                [
                  "3",
                  "Apple AirPods Pro 2 Wireless Earbuds, Active Noise Cancellation, Hearing Aid Feature, Bluetooth Headphones, Transparency, Personalized Spatial Audio, High-Fidelity Sound, H2 Chip, USB-C Charging",
                  "4.6",
                  "35882.0",
                  "10000.0",
                  "162.24",
                  "162.24",
                  "Best Seller",
                  "Organic",
                  "No Coupon",
                  null,
                  null,
                  null,
                  "https://m.media-amazon.com/images/I/61SUj2aKoEL._AC_UL320_.jpg",
                  "https://www.amazon.com/Apple-Cancellation-Transparency-Personalized-High-Fidelity/dp/B0D1XD1ZV3/ref=sr_1_4?dib=eyJ2IjoiMSJ9.avmZlHCQuVOwikquBqYSIjN8SVcyxtkXHQMPt7Zjzkf4TeZzrZfQETMhdWuWgtTrVz8ITKpXLHvZj0fZRjxqgMPYNMitRqeUoeIwdYfc5nnzJ8m0T8HYeedlh3YSOhJQjeHskevMUQWyg6TtoB2tHcHt-edYPsQ6VwFQTI6avsPrgVpFKrto3ff9TDR9BcRyPwM6AiYn-vh7wA5PP9DjZddhCPf7bVPcHMZ6Hwd40dQDWm9_M8R-LcwKY8wnuWRUSplhfYJBvTjAgsb3Y3y88VGpfqY3V8Rd2ge-woBzUMA.yqwi-krmElGgXIMa8kKUPx1XmaXd9lHaAkMkVVpStxo&dib_tag=se&qid=1755800068&refinements=p_n_g-101014971069111%3A119653281011&s=electronics&sr=1-4",
                  "2025-08-21 11:14:29",
                  "Phones",
                  "0.0"
                ],
                [
                  "4",
                  "Apple AirTag 4 Pack. Keep Track of and find Your Keys, Wallet, Luggage, Backpack, and More. Simple one-tap Set up with iPhone or iPad",
                  "4.8",
                  "28988.0",
                  "10000.0",
                  "72.74",
                  "72.74",
                  "No Badge",
                  "Organic",
                  "No Coupon",
                  null,
                  null,
                  null,
                  "https://m.media-amazon.com/images/I/61bMNCeAUAL._AC_UL320_.jpg",
                  "https://www.amazon.com/Apple-MX542LL-A-AirTag-Pack/dp/B0D54JZTHY/ref=sr_1_5?dib=eyJ2IjoiMSJ9.avmZlHCQuVOwikquBqYSIjN8SVcyxtkXHQMPt7Zjzkf4TeZzrZfQETMhdWuWgtTrVz8ITKpXLHvZj0fZRjxqgMPYNMitRqeUoeIwdYfc5nnzJ8m0T8HYeedlh3YSOhJQjeHskevMUQWyg6TtoB2tHcHt-edYPsQ6VwFQTI6avsPrgVpFKrto3ff9TDR9BcRyPwM6AiYn-vh7wA5PP9DjZddhCPf7bVPcHMZ6Hwd40dQDWm9_M8R-LcwKY8wnuWRUSplhfYJBvTjAgsb3Y3y88VGpfqY3V8Rd2ge-woBzUMA.yqwi-krmElGgXIMa8kKUPx1XmaXd9lHaAkMkVVpStxo&dib_tag=se&qid=1755800068&refinements=p_n_g-101014971069111%3A119653281011&s=electronics&sr=1-5",
                  "2025-08-21 11:14:29",
                  "Phones",
                  "0.0"
                ]
              ],
              "shape": {
                "columns": 17,
                "rows": 5
              }
            },
            "text/html": [
              "<div>\n",
              "<style scoped>\n",
              "    .dataframe tbody tr th:only-of-type {\n",
              "        vertical-align: middle;\n",
              "    }\n",
              "\n",
              "    .dataframe tbody tr th {\n",
              "        vertical-align: top;\n",
              "    }\n",
              "\n",
              "    .dataframe thead th {\n",
              "        text-align: right;\n",
              "    }\n",
              "</style>\n",
              "<table border=\"1\" class=\"dataframe\">\n",
              "  <thead>\n",
              "    <tr style=\"text-align: right;\">\n",
              "      <th></th>\n",
              "      <th>product_title</th>\n",
              "      <th>product_rating</th>\n",
              "      <th>total_reviews</th>\n",
              "      <th>purchased_last_month</th>\n",
              "      <th>discounted_price</th>\n",
              "      <th>original_price</th>\n",
              "      <th>is_best_seller</th>\n",
              "      <th>is_sponsored</th>\n",
              "      <th>has_coupon</th>\n",
              "      <th>buy_box_availability</th>\n",
              "      <th>delivery_date</th>\n",
              "      <th>sustainability_tags</th>\n",
              "      <th>product_image_url</th>\n",
              "      <th>product_page_url</th>\n",
              "      <th>data_collected_at</th>\n",
              "      <th>product_category</th>\n",
              "      <th>discount_percentage</th>\n",
              "    </tr>\n",
              "  </thead>\n",
              "  <tbody>\n",
              "    <tr>\n",
              "      <th>0</th>\n",
              "      <td>BOYA BOYALINK 2 Wireless Lavalier Microphone f...</td>\n",
              "      <td>4.6</td>\n",
              "      <td>375.0</td>\n",
              "      <td>300.0</td>\n",
              "      <td>89.68</td>\n",
              "      <td>159.00</td>\n",
              "      <td>No Badge</td>\n",
              "      <td>Sponsored</td>\n",
              "      <td>Save 15%  with coupon</td>\n",
              "      <td>Add to cart</td>\n",
              "      <td>2025-09-01</td>\n",
              "      <td>Carbon impact</td>\n",
              "      <td>https://m.media-amazon.com/images/I/71pAqiVEs3...</td>\n",
              "      <td>https://www.amazon.com/sspa/click?ie=UTF8&amp;spc=...</td>\n",
              "      <td>2025-08-21 11:14:29</td>\n",
              "      <td>Phones</td>\n",
              "      <td>43.60</td>\n",
              "    </tr>\n",
              "    <tr>\n",
              "      <th>1</th>\n",
              "      <td>LISEN USB C to Lightning Cable, 240W 4 in 1 Ch...</td>\n",
              "      <td>4.3</td>\n",
              "      <td>2457.0</td>\n",
              "      <td>6000.0</td>\n",
              "      <td>9.99</td>\n",
              "      <td>15.99</td>\n",
              "      <td>No Badge</td>\n",
              "      <td>Sponsored</td>\n",
              "      <td>No Coupon</td>\n",
              "      <td>Add to cart</td>\n",
              "      <td>2025-08-29</td>\n",
              "      <td>NaN</td>\n",
              "      <td>https://m.media-amazon.com/images/I/61nbF6aVIP...</td>\n",
              "      <td>https://www.amazon.com/sspa/click?ie=UTF8&amp;spc=...</td>\n",
              "      <td>2025-08-21 11:14:29</td>\n",
              "      <td>Laptops</td>\n",
              "      <td>37.52</td>\n",
              "    </tr>\n",
              "    <tr>\n",
              "      <th>2</th>\n",
              "      <td>DJI Mic 2 (2 TX + 1 RX + Charging Case), Wirel...</td>\n",
              "      <td>4.6</td>\n",
              "      <td>3044.0</td>\n",
              "      <td>2000.0</td>\n",
              "      <td>314.00</td>\n",
              "      <td>349.00</td>\n",
              "      <td>No Badge</td>\n",
              "      <td>Sponsored</td>\n",
              "      <td>No Coupon</td>\n",
              "      <td>Add to cart</td>\n",
              "      <td>2025-09-01</td>\n",
              "      <td>NaN</td>\n",
              "      <td>https://m.media-amazon.com/images/I/61h78MEXoj...</td>\n",
              "      <td>https://www.amazon.com/sspa/click?ie=UTF8&amp;spc=...</td>\n",
              "      <td>2025-08-21 11:14:29</td>\n",
              "      <td>Laptops</td>\n",
              "      <td>10.03</td>\n",
              "    </tr>\n",
              "    <tr>\n",
              "      <th>3</th>\n",
              "      <td>Apple AirPods Pro 2 Wireless Earbuds, Active N...</td>\n",
              "      <td>4.6</td>\n",
              "      <td>35882.0</td>\n",
              "      <td>10000.0</td>\n",
              "      <td>162.24</td>\n",
              "      <td>162.24</td>\n",
              "      <td>Best Seller</td>\n",
              "      <td>Organic</td>\n",
              "      <td>No Coupon</td>\n",
              "      <td>NaN</td>\n",
              "      <td>NaN</td>\n",
              "      <td>NaN</td>\n",
              "      <td>https://m.media-amazon.com/images/I/61SUj2aKoE...</td>\n",
              "      <td>https://www.amazon.com/Apple-Cancellation-Tran...</td>\n",
              "      <td>2025-08-21 11:14:29</td>\n",
              "      <td>Phones</td>\n",
              "      <td>0.00</td>\n",
              "    </tr>\n",
              "    <tr>\n",
              "      <th>4</th>\n",
              "      <td>Apple AirTag 4 Pack. Keep Track of and find Yo...</td>\n",
              "      <td>4.8</td>\n",
              "      <td>28988.0</td>\n",
              "      <td>10000.0</td>\n",
              "      <td>72.74</td>\n",
              "      <td>72.74</td>\n",
              "      <td>No Badge</td>\n",
              "      <td>Organic</td>\n",
              "      <td>No Coupon</td>\n",
              "      <td>NaN</td>\n",
              "      <td>NaN</td>\n",
              "      <td>NaN</td>\n",
              "      <td>https://m.media-amazon.com/images/I/61bMNCeAUA...</td>\n",
              "      <td>https://www.amazon.com/Apple-MX542LL-A-AirTag-...</td>\n",
              "      <td>2025-08-21 11:14:29</td>\n",
              "      <td>Phones</td>\n",
              "      <td>0.00</td>\n",
              "    </tr>\n",
              "  </tbody>\n",
              "</table>\n",
              "</div>"
            ],
            "text/plain": [
              "                                       product_title  product_rating  \\\n",
              "0  BOYA BOYALINK 2 Wireless Lavalier Microphone f...             4.6   \n",
              "1  LISEN USB C to Lightning Cable, 240W 4 in 1 Ch...             4.3   \n",
              "2  DJI Mic 2 (2 TX + 1 RX + Charging Case), Wirel...             4.6   \n",
              "3  Apple AirPods Pro 2 Wireless Earbuds, Active N...             4.6   \n",
              "4  Apple AirTag 4 Pack. Keep Track of and find Yo...             4.8   \n",
              "\n",
              "   total_reviews  purchased_last_month  discounted_price  original_price  \\\n",
              "0          375.0                 300.0             89.68          159.00   \n",
              "1         2457.0                6000.0              9.99           15.99   \n",
              "2         3044.0                2000.0            314.00          349.00   \n",
              "3        35882.0               10000.0            162.24          162.24   \n",
              "4        28988.0               10000.0             72.74           72.74   \n",
              "\n",
              "  is_best_seller is_sponsored             has_coupon buy_box_availability  \\\n",
              "0       No Badge    Sponsored  Save 15%  with coupon          Add to cart   \n",
              "1       No Badge    Sponsored              No Coupon          Add to cart   \n",
              "2       No Badge    Sponsored              No Coupon          Add to cart   \n",
              "3    Best Seller      Organic              No Coupon                  NaN   \n",
              "4       No Badge      Organic              No Coupon                  NaN   \n",
              "\n",
              "  delivery_date sustainability_tags  \\\n",
              "0    2025-09-01       Carbon impact   \n",
              "1    2025-08-29                 NaN   \n",
              "2    2025-09-01                 NaN   \n",
              "3           NaN                 NaN   \n",
              "4           NaN                 NaN   \n",
              "\n",
              "                                   product_image_url  \\\n",
              "0  https://m.media-amazon.com/images/I/71pAqiVEs3...   \n",
              "1  https://m.media-amazon.com/images/I/61nbF6aVIP...   \n",
              "2  https://m.media-amazon.com/images/I/61h78MEXoj...   \n",
              "3  https://m.media-amazon.com/images/I/61SUj2aKoE...   \n",
              "4  https://m.media-amazon.com/images/I/61bMNCeAUA...   \n",
              "\n",
              "                                    product_page_url    data_collected_at  \\\n",
              "0  https://www.amazon.com/sspa/click?ie=UTF8&spc=...  2025-08-21 11:14:29   \n",
              "1  https://www.amazon.com/sspa/click?ie=UTF8&spc=...  2025-08-21 11:14:29   \n",
              "2  https://www.amazon.com/sspa/click?ie=UTF8&spc=...  2025-08-21 11:14:29   \n",
              "3  https://www.amazon.com/Apple-Cancellation-Tran...  2025-08-21 11:14:29   \n",
              "4  https://www.amazon.com/Apple-MX542LL-A-AirTag-...  2025-08-21 11:14:29   \n",
              "\n",
              "  product_category  discount_percentage  \n",
              "0           Phones                43.60  \n",
              "1          Laptops                37.52  \n",
              "2          Laptops                10.03  \n",
              "3           Phones                 0.00  \n",
              "4           Phones                 0.00  "
            ]
          },
          "execution_count": 47,
          "metadata": {},
          "output_type": "execute_result"
        }
      ],
      "source": [
        "df = pd.read_csv(os.path.join(raw_data_dir, data_file_name))\n",
        "df.head()"
      ]
    },
    {
      "cell_type": "markdown",
      "id": "b7987a5f",
      "metadata": {
        "id": "b7987a5f"
      },
      "source": [
        "# **📊 EDA**"
      ]
    },
    {
      "cell_type": "code",
      "execution_count": 48,
      "id": "a75a2815",
      "metadata": {},
      "outputs": [
        {
          "name": "stdout",
          "output_type": "stream",
          "text": [
            "\n",
            "Dataset Info:\n",
            "Total samples: 42,675\n",
            "Features: 17\n",
            "Data Shape: (42675, 17)\n",
            "Columns: Index(['product_title', 'product_rating', 'total_reviews',\n",
            "       'purchased_last_month', 'discounted_price', 'original_price',\n",
            "       'is_best_seller', 'is_sponsored', 'has_coupon', 'buy_box_availability',\n",
            "       'delivery_date', 'sustainability_tags', 'product_image_url',\n",
            "       'product_page_url', 'data_collected_at', 'product_category',\n",
            "       'discount_percentage'],\n",
            "      dtype='object')\n",
            "Dtypes:\n",
            " product_title            object\n",
            "product_rating          float64\n",
            "total_reviews           float64\n",
            "purchased_last_month    float64\n",
            "discounted_price        float64\n",
            "original_price          float64\n",
            "is_best_seller           object\n",
            "is_sponsored             object\n",
            "has_coupon               object\n",
            "buy_box_availability     object\n",
            "delivery_date            object\n",
            "sustainability_tags      object\n",
            "product_image_url        object\n",
            "product_page_url         object\n",
            "data_collected_at        object\n",
            "product_category         object\n",
            "discount_percentage     float64\n",
            "dtype: object\n"
          ]
        }
      ],
      "source": [
        "tabular.dataset_info(df=df)"
      ]
    },
    {
      "cell_type": "code",
      "execution_count": 49,
      "id": "0146ef72",
      "metadata": {},
      "outputs": [
        {
          "name": "stdout",
          "output_type": "stream",
          "text": [
            "Missing Value:\n",
            "                      Missing  Percent\n",
            "sustainability_tags     39267    92.01\n",
            "buy_box_availability    14653    34.34\n",
            "delivery_date           11983    28.08\n",
            "purchased_last_month    10511    24.63\n",
            "product_page_url         2069     4.85\n",
            "original_price           2062     4.83\n",
            "discounted_price         2062     4.83\n",
            "discount_percentage      2062     4.83\n",
            "total_reviews            1024     2.40\n",
            "product_rating           1024     2.40\n",
            "product_title               0     0.00\n",
            "is_best_seller              0     0.00\n",
            "is_sponsored                0     0.00\n",
            "has_coupon                  0     0.00\n",
            "product_image_url           0     0.00\n",
            "data_collected_at           0     0.00\n",
            "product_category            0     0.00\n"
          ]
        }
      ],
      "source": [
        "tabular.missing_report(df)"
      ]
    },
    {
      "cell_type": "code",
      "execution_count": 50,
      "id": "8d55d74b",
      "metadata": {
        "colab": {
          "base_uri": "https://localhost:8080/"
        },
        "id": "8d55d74b",
        "outputId": "c27fa8cc-677a-4f02-e3f2-252b48d74c9a"
      },
      "outputs": [
        {
          "name": "stdout",
          "output_type": "stream",
          "text": [
            "Column Report:\n",
            "                       Dtypes  Nunique\n",
            "product_title          object     8808\n",
            "product_rating        float64       31\n",
            "total_reviews         float64     4413\n",
            "purchased_last_month  float64       29\n",
            "discounted_price      float64     3558\n",
            "original_price        float64     3151\n",
            "is_best_seller         object       12\n",
            "is_sponsored           object        2\n",
            "has_coupon             object       42\n",
            "buy_box_availability   object        1\n",
            "delivery_date          object       24\n",
            "sustainability_tags    object       16\n",
            "product_image_url      object     8038\n",
            "product_page_url       object    40606\n",
            "data_collected_at      object     1559\n",
            "product_category       object       15\n",
            "discount_percentage   float64     1526\n"
          ]
        }
      ],
      "source": [
        "tabular.column_report(df)"
      ]
    },
    {
      "cell_type": "code",
      "execution_count": 51,
      "id": "bd79b1d1",
      "metadata": {
        "colab": {
          "base_uri": "https://localhost:8080/"
        },
        "id": "bd79b1d1",
        "outputId": "3394ec7d-2904-4d51-9f4f-1133a556bc41"
      },
      "outputs": [
        {
          "data": {
            "application/vnd.microsoft.datawrangler.viewer.v0+json": {
              "columns": [
                {
                  "name": "index",
                  "rawType": "object",
                  "type": "string"
                },
                {
                  "name": "product_rating",
                  "rawType": "float64",
                  "type": "float"
                },
                {
                  "name": "total_reviews",
                  "rawType": "float64",
                  "type": "float"
                },
                {
                  "name": "purchased_last_month",
                  "rawType": "float64",
                  "type": "float"
                },
                {
                  "name": "discounted_price",
                  "rawType": "float64",
                  "type": "float"
                },
                {
                  "name": "original_price",
                  "rawType": "float64",
                  "type": "float"
                },
                {
                  "name": "discount_percentage",
                  "rawType": "float64",
                  "type": "float"
                }
              ],
              "ref": "911f9ff8-7c3d-4398-a4e4-21570bc34f28",
              "rows": [
                [
                  "count",
                  "41651.0",
                  "41651.0",
                  "32164.0",
                  "40613.0",
                  "40613.0",
                  "40613.0"
                ],
                [
                  "mean",
                  "4.399430986050755",
                  "3087.105999855946",
                  "1293.6652779505037",
                  "243.2272892916061",
                  "257.61110703469336",
                  "6.547150666042892"
                ],
                [
                  "std",
                  "0.3869974459271451",
                  "13030.460132805729",
                  "6318.323573931562",
                  "473.35154525583965",
                  "496.63349512329415",
                  "12.744715170250394"
                ],
                [
                  "min",
                  "1.0",
                  "1.0",
                  "50.0",
                  "2.16",
                  "2.16",
                  "0.0"
                ],
                [
                  "25%",
                  "4.2",
                  "82.0",
                  "100.0",
                  "29.69",
                  "32.99",
                  "0.0"
                ],
                [
                  "50%",
                  "4.5",
                  "343.0",
                  "200.0",
                  "84.99",
                  "89.0",
                  "0.0"
                ],
                [
                  "75%",
                  "4.7",
                  "1886.0",
                  "400.0",
                  "224.0",
                  "229.99",
                  "8.49"
                ],
                [
                  "max",
                  "5.0",
                  "865598.0",
                  "100000.0",
                  "5449.0",
                  "5449.0",
                  "85.42"
                ]
              ],
              "shape": {
                "columns": 6,
                "rows": 8
              }
            },
            "text/html": [
              "<div>\n",
              "<style scoped>\n",
              "    .dataframe tbody tr th:only-of-type {\n",
              "        vertical-align: middle;\n",
              "    }\n",
              "\n",
              "    .dataframe tbody tr th {\n",
              "        vertical-align: top;\n",
              "    }\n",
              "\n",
              "    .dataframe thead th {\n",
              "        text-align: right;\n",
              "    }\n",
              "</style>\n",
              "<table border=\"1\" class=\"dataframe\">\n",
              "  <thead>\n",
              "    <tr style=\"text-align: right;\">\n",
              "      <th></th>\n",
              "      <th>product_rating</th>\n",
              "      <th>total_reviews</th>\n",
              "      <th>purchased_last_month</th>\n",
              "      <th>discounted_price</th>\n",
              "      <th>original_price</th>\n",
              "      <th>discount_percentage</th>\n",
              "    </tr>\n",
              "  </thead>\n",
              "  <tbody>\n",
              "    <tr>\n",
              "      <th>count</th>\n",
              "      <td>41651.000000</td>\n",
              "      <td>41651.000000</td>\n",
              "      <td>32164.000000</td>\n",
              "      <td>40613.000000</td>\n",
              "      <td>40613.000000</td>\n",
              "      <td>40613.000000</td>\n",
              "    </tr>\n",
              "    <tr>\n",
              "      <th>mean</th>\n",
              "      <td>4.399431</td>\n",
              "      <td>3087.106000</td>\n",
              "      <td>1293.665278</td>\n",
              "      <td>243.227289</td>\n",
              "      <td>257.611107</td>\n",
              "      <td>6.547151</td>\n",
              "    </tr>\n",
              "    <tr>\n",
              "      <th>std</th>\n",
              "      <td>0.386997</td>\n",
              "      <td>13030.460133</td>\n",
              "      <td>6318.323574</td>\n",
              "      <td>473.351545</td>\n",
              "      <td>496.633495</td>\n",
              "      <td>12.744715</td>\n",
              "    </tr>\n",
              "    <tr>\n",
              "      <th>min</th>\n",
              "      <td>1.000000</td>\n",
              "      <td>1.000000</td>\n",
              "      <td>50.000000</td>\n",
              "      <td>2.160000</td>\n",
              "      <td>2.160000</td>\n",
              "      <td>0.000000</td>\n",
              "    </tr>\n",
              "    <tr>\n",
              "      <th>25%</th>\n",
              "      <td>4.200000</td>\n",
              "      <td>82.000000</td>\n",
              "      <td>100.000000</td>\n",
              "      <td>29.690000</td>\n",
              "      <td>32.990000</td>\n",
              "      <td>0.000000</td>\n",
              "    </tr>\n",
              "    <tr>\n",
              "      <th>50%</th>\n",
              "      <td>4.500000</td>\n",
              "      <td>343.000000</td>\n",
              "      <td>200.000000</td>\n",
              "      <td>84.990000</td>\n",
              "      <td>89.000000</td>\n",
              "      <td>0.000000</td>\n",
              "    </tr>\n",
              "    <tr>\n",
              "      <th>75%</th>\n",
              "      <td>4.700000</td>\n",
              "      <td>1886.000000</td>\n",
              "      <td>400.000000</td>\n",
              "      <td>224.000000</td>\n",
              "      <td>229.990000</td>\n",
              "      <td>8.490000</td>\n",
              "    </tr>\n",
              "    <tr>\n",
              "      <th>max</th>\n",
              "      <td>5.000000</td>\n",
              "      <td>865598.000000</td>\n",
              "      <td>100000.000000</td>\n",
              "      <td>5449.000000</td>\n",
              "      <td>5449.000000</td>\n",
              "      <td>85.420000</td>\n",
              "    </tr>\n",
              "  </tbody>\n",
              "</table>\n",
              "</div>"
            ],
            "text/plain": [
              "       product_rating  total_reviews  purchased_last_month  discounted_price  \\\n",
              "count    41651.000000   41651.000000          32164.000000      40613.000000   \n",
              "mean         4.399431    3087.106000           1293.665278        243.227289   \n",
              "std          0.386997   13030.460133           6318.323574        473.351545   \n",
              "min          1.000000       1.000000             50.000000          2.160000   \n",
              "25%          4.200000      82.000000            100.000000         29.690000   \n",
              "50%          4.500000     343.000000            200.000000         84.990000   \n",
              "75%          4.700000    1886.000000            400.000000        224.000000   \n",
              "max          5.000000  865598.000000         100000.000000       5449.000000   \n",
              "\n",
              "       original_price  discount_percentage  \n",
              "count    40613.000000         40613.000000  \n",
              "mean       257.611107             6.547151  \n",
              "std        496.633495            12.744715  \n",
              "min          2.160000             0.000000  \n",
              "25%         32.990000             0.000000  \n",
              "50%         89.000000             0.000000  \n",
              "75%        229.990000             8.490000  \n",
              "max       5449.000000            85.420000  "
            ]
          },
          "execution_count": 51,
          "metadata": {},
          "output_type": "execute_result"
        }
      ],
      "source": [
        "numeric_feature, numeric_stat = tabular.numeric_stat_report(df)\n",
        "numeric_stat"
      ]
    },
    {
      "cell_type": "code",
      "execution_count": 52,
      "id": "c7210216",
      "metadata": {
        "colab": {
          "base_uri": "https://localhost:8080/",
          "height": 1000
        },
        "id": "c7210216",
        "outputId": "32468897-1217-4234-fde5-8fe6e38e8cf4"
      },
      "outputs": [
        {
          "data": {
            "image/png": "[encoded data removed]",
            "text/plain": [
              "<Figure size 1500x1000 with 6 Axes>"
            ]
          },
          "metadata": {},
          "output_type": "display_data"
        }
      ],
      "source": [
        "plot_config = {\n",
        "    \"normal\": [\"product_rating\", \"discount_percentage\"],\n",
        "    \"log\": [\"total_reviews\", \"purchased_last_month\", \"discounted_price\", \"original_price\"]\n",
        "}\n",
        "tabular.numeric_plot(df, plot_config, \"histogram\")"
      ]
    },
    {
      "cell_type": "code",
      "execution_count": 53,
      "id": "8433992c",
      "metadata": {
        "colab": {
          "base_uri": "https://localhost:8080/",
          "height": 1000
        },
        "id": "8433992c",
        "outputId": "b35eb8d2-b2fb-4eb8-8848-f0251788f454"
      },
      "outputs": [
        {
          "data": {
            "image/png": "[encoded data removed]",
            "text/plain": [
              "<Figure size 1500x1000 with 6 Axes>"
            ]
          },
          "metadata": {},
          "output_type": "display_data"
        }
      ],
      "source": [
        "plot_config = {\n",
        "    \"normal\": [\"product_rating\", \"discount_percentage\"],\n",
        "    \"log\": [\"total_reviews\", \"purchased_last_month\", \"discounted_price\", \"original_price\"]\n",
        "}\n",
        "tabular.numeric_plot(df, plot_config, \"boxplot\")"
      ]
    },
    {
      "cell_type": "code",
      "execution_count": 54,
      "id": "2bc38746",
      "metadata": {
        "colab": {
          "base_uri": "https://localhost:8080/",
          "height": 1000
        },
        "id": "2bc38746",
        "outputId": "ca00b3b6-16a4-472f-8b78-f5b72850ddcc"
      },
      "outputs": [
        {
          "name": "stdout",
          "output_type": "stream",
          "text": [
            "================== Top 10 product_title ==================\n",
            "Unique value: 8808\n",
            "Missing value: 0\n"
          ]
        },
        {
          "data": {
            "application/vnd.microsoft.datawrangler.viewer.v0+json": {
              "columns": [
                {
                  "name": "product_title",
                  "rawType": "object",
                  "type": "string"
                },
                {
                  "name": "count",
                  "rawType": "int64",
                  "type": "integer"
                }
              ],
              "ref": "e3343f3b-ca8c-48b7-bc99-5039f3544760",
              "rows": [
                [
                  "Duracell Coppertop 9V Battery, 6 Count (Pack of 1), 9 Volt Battery with Long-lasting Power, All-Purpose Alkaline 9V Battery for Household and Office Devices",
                  "744"
                ],
                [
                  "Energizer MAX AA Batteries (16 Pack), Double A Alkaline Batteries",
                  "566"
                ],
                [
                  "TRX Training 6 Month On-Demand Membership - Unlimited Access to Expert-Led Workouts, Personalized Programs, Strength, Cardio & Recovery - Train Anytime",
                  "456"
                ],
                [
                  "KODAK 10.1 Inch WiFi Digital Picture Frame,1280x800 HD IPS Touch Screen, Electronic Smart Photo Frame with 32 GB Memory, Auto-Rotate, Instantly Share Photos/Videos Anywhere",
                  "438"
                ],
                [
                  "Belkin MagSafe-Compatible Charger, 3-in-1 Wireless Charging Station, Qi2-Certified 15W Wireless Charge for Apple iPhone 16 Series, Apple Watch, AirPods w/Non-Slip Base, 40W Included - Black",
                  "377"
                ],
                [
                  "RCA 10.1\" WiFi Digital Picture Frame Uhale App Photo Frames Electronic HD IPS Touch Screen Display with 32GB Memory LED Lights, Support USB/SD Card, Slideshow, Instantly Share Photos Videos",
                  "371"
                ],
                [
                  "Toshiba 20TB MG10ACA20TE SATA 600GB 20in1 HDD",
                  "254"
                ],
                [
                  "Lenovo USI Stylus Pen, Chrome OS Support, 4,096 Levels of Pressure Sensitivity, 150 Days Battery Life, AAAA Battery, Works with Chromebook, GX81B10212,Grey",
                  "231"
                ],
                [
                  "G.SKILL Trident Z5 Neo RGB Series (AMD Expo) DDR5 RAM 64GB (2X 32GB) 6000MT/s CL26-36-36-96 1.45V Desktop Computer Memory U-DIMM - Black (F5-6000J2636H32GX2-TZ5NR)",
                  "216"
                ],
                [
                  "Sanus Height Adjustable Speaker Stand for Sonos Era 300™ - 17\" Height Adjustment Sonos Stand Includes Carpet Spikes & Rubber Pads - Easy DIY Install Comes w/All Hardware - White",
                  "216"
                ]
              ],
              "shape": {
                "columns": 1,
                "rows": 10
              }
            },
            "text/plain": [
              "product_title\n",
              "Duracell Coppertop 9V Battery, 6 Count (Pack of 1), 9 Volt Battery with Long-lasting Power, All-Purpose Alkaline 9V Battery for Household and Office Devices                                     744\n",
              "Energizer MAX AA Batteries (16 Pack), Double A Alkaline Batteries                                                                                                                                566\n",
              "TRX Training 6 Month On-Demand Membership - Unlimited Access to Expert-Led Workouts, Personalized Programs, Strength, Cardio & Recovery - Train Anytime                                          456\n",
              "KODAK 10.1 Inch WiFi Digital Picture Frame,1280x800 HD IPS Touch Screen, Electronic Smart Photo Frame with 32 GB Memory, Auto-Rotate, Instantly Share Photos/Videos Anywhere                     438\n",
              "Belkin MagSafe-Compatible Charger, 3-in-1 Wireless Charging Station, Qi2-Certified 15W Wireless Charge for Apple iPhone 16 Series, Apple Watch, AirPods w/Non-Slip Base, 40W Included - Black    377\n",
              "RCA 10.1\" WiFi Digital Picture Frame Uhale App Photo Frames Electronic HD IPS Touch Screen Display with 32GB Memory LED Lights, Support USB/SD Card, Slideshow, Instantly Share Photos Videos    371\n",
              "Toshiba 20TB MG10ACA20TE SATA 600GB 20in1 HDD                                                                                                                                                    254\n",
              "Lenovo USI Stylus Pen, Chrome OS Support, 4,096 Levels of Pressure Sensitivity, 150 Days Battery Life, AAAA Battery, Works with Chromebook, GX81B10212,Grey                                      231\n",
              "G.SKILL Trident Z5 Neo RGB Series (AMD Expo) DDR5 RAM 64GB (2X 32GB) 6000MT/s CL26-36-36-96 1.45V Desktop Computer Memory U-DIMM - Black (F5-6000J2636H32GX2-TZ5NR)                              216\n",
              "Sanus Height Adjustable Speaker Stand for Sonos Era 300™ - 17\" Height Adjustment Sonos Stand Includes Carpet Spikes & Rubber Pads - Easy DIY Install Comes w/All Hardware - White                216\n",
              "Name: count, dtype: int64"
            ]
          },
          "metadata": {},
          "output_type": "display_data"
        },
        {
          "name": "stdout",
          "output_type": "stream",
          "text": [
            "================== Top 10 is_best_seller ==================\n",
            "Unique value: 12\n",
            "Missing value: 0\n"
          ]
        },
        {
          "data": {
            "application/vnd.microsoft.datawrangler.viewer.v0+json": {
              "columns": [
                {
                  "name": "is_best_seller",
                  "rawType": "object",
                  "type": "string"
                },
                {
                  "name": "count",
                  "rawType": "int64",
                  "type": "integer"
                }
              ],
              "ref": "e84ab78b-2126-484b-a33f-012db70554bb",
              "rows": [
                [
                  "No Badge",
                  "40814"
                ],
                [
                  "Amazon's",
                  "744"
                ],
                [
                  "Limited time deal",
                  "409"
                ],
                [
                  "Best Seller",
                  "275"
                ],
                [
                  "Save 30%",
                  "125"
                ],
                [
                  "Ends in",
                  "97"
                ],
                [
                  "Save 10%",
                  "61"
                ],
                [
                  "Save 18%",
                  "57"
                ],
                [
                  "Save 17%",
                  "51"
                ],
                [
                  "Save 12%",
                  "26"
                ]
              ],
              "shape": {
                "columns": 1,
                "rows": 10
              }
            },
            "text/plain": [
              "is_best_seller\n",
              "No Badge             40814\n",
              "Amazon's               744\n",
              "Limited time deal      409\n",
              "Best Seller            275\n",
              "Save 30%               125\n",
              "Ends in                 97\n",
              "Save 10%                61\n",
              "Save 18%                57\n",
              "Save 17%                51\n",
              "Save 12%                26\n",
              "Name: count, dtype: int64"
            ]
          },
          "metadata": {},
          "output_type": "display_data"
        },
        {
          "name": "stdout",
          "output_type": "stream",
          "text": [
            "================== Top 10 is_sponsored ==================\n",
            "Unique value: 2\n",
            "Missing value: 0\n"
          ]
        },
        {
          "data": {
            "application/vnd.microsoft.datawrangler.viewer.v0+json": {
              "columns": [
                {
                  "name": "is_sponsored",
                  "rawType": "object",
                  "type": "string"
                },
                {
                  "name": "count",
                  "rawType": "int64",
                  "type": "integer"
                }
              ],
              "ref": "5cb846f6-7c3c-4b6d-a576-59d2cd0b00fc",
              "rows": [
                [
                  "Organic",
                  "35664"
                ],
                [
                  "Sponsored",
                  "7011"
                ]
              ],
              "shape": {
                "columns": 1,
                "rows": 2
              }
            },
            "text/plain": [
              "is_sponsored\n",
              "Organic      35664\n",
              "Sponsored     7011\n",
              "Name: count, dtype: int64"
            ]
          },
          "metadata": {},
          "output_type": "display_data"
        },
        {
          "name": "stdout",
          "output_type": "stream",
          "text": [
            "================== Top 10 has_coupon ==================\n",
            "Unique value: 42\n",
            "Missing value: 0\n"
          ]
        },
        {
          "data": {
            "application/vnd.microsoft.datawrangler.viewer.v0+json": {
              "columns": [
                {
                  "name": "has_coupon",
                  "rawType": "object",
                  "type": "string"
                },
                {
                  "name": "count",
                  "rawType": "int64",
                  "type": "integer"
                }
              ],
              "ref": "3a97ca04-75ab-4810-8f5d-b12f5d7b071e",
              "rows": [
                [
                  "No Coupon",
                  "40727"
                ],
                [
                  "Save $16.00  with coupon",
                  "438"
                ],
                [
                  "Save 15%  with coupon",
                  "398"
                ],
                [
                  "Save 10%  with coupon",
                  "218"
                ],
                [
                  "Save 5%  with coupon",
                  "191"
                ],
                [
                  "Save 50%  with coupon",
                  "123"
                ],
                [
                  "Save $11.00  with coupon",
                  "120"
                ],
                [
                  "Save $100.00  with coupon",
                  "97"
                ],
                [
                  "Save 40%  with coupon",
                  "96"
                ],
                [
                  "Save $25.00  with coupon",
                  "65"
                ]
              ],
              "shape": {
                "columns": 1,
                "rows": 10
              }
            },
            "text/plain": [
              "has_coupon\n",
              "No Coupon                    40727\n",
              "Save $16.00  with coupon       438\n",
              "Save 15%  with coupon          398\n",
              "Save 10%  with coupon          218\n",
              "Save 5%  with coupon           191\n",
              "Save 50%  with coupon          123\n",
              "Save $11.00  with coupon       120\n",
              "Save $100.00  with coupon       97\n",
              "Save 40%  with coupon           96\n",
              "Save $25.00  with coupon        65\n",
              "Name: count, dtype: int64"
            ]
          },
          "metadata": {},
          "output_type": "display_data"
        },
        {
          "name": "stdout",
          "output_type": "stream",
          "text": [
            "================== Top 10 buy_box_availability ==================\n",
            "Unique value: 1\n",
            "Missing value: 14653\n"
          ]
        },
        {
          "data": {
            "application/vnd.microsoft.datawrangler.viewer.v0+json": {
              "columns": [
                {
                  "name": "buy_box_availability",
                  "rawType": "object",
                  "type": "string"
                },
                {
                  "name": "count",
                  "rawType": "int64",
                  "type": "integer"
                }
              ],
              "ref": "9ffa9f41-2c14-4292-af1c-e812af239c9b",
              "rows": [
                [
                  "Add to cart",
                  "28022"
                ]
              ],
              "shape": {
                "columns": 1,
                "rows": 1
              }
            },
            "text/plain": [
              "buy_box_availability\n",
              "Add to cart    28022\n",
              "Name: count, dtype: int64"
            ]
          },
          "metadata": {},
          "output_type": "display_data"
        },
        {
          "name": "stdout",
          "output_type": "stream",
          "text": [
            "================== Top 10 delivery_date ==================\n",
            "Unique value: 24\n",
            "Missing value: 11983\n"
          ]
        },
        {
          "data": {
            "application/vnd.microsoft.datawrangler.viewer.v0+json": {
              "columns": [
                {
                  "name": "delivery_date",
                  "rawType": "object",
                  "type": "string"
                },
                {
                  "name": "count",
                  "rawType": "int64",
                  "type": "integer"
                }
              ],
              "ref": "41040302-96c7-4685-aa2a-779fad6b3f33",
              "rows": [
                [
                  "2025-09-04",
                  "7862"
                ],
                [
                  "2025-09-01",
                  "6334"
                ],
                [
                  "2025-09-03",
                  "5238"
                ],
                [
                  "2025-09-11",
                  "3723"
                ],
                [
                  "2025-09-02",
                  "3401"
                ],
                [
                  "2025-09-09",
                  "1511"
                ],
                [
                  "2025-09-05",
                  "1001"
                ],
                [
                  "2025-09-08",
                  "763"
                ],
                [
                  "2025-08-30",
                  "192"
                ],
                [
                  "2025-09-13",
                  "127"
                ]
              ],
              "shape": {
                "columns": 1,
                "rows": 10
              }
            },
            "text/plain": [
              "delivery_date\n",
              "2025-09-04    7862\n",
              "2025-09-01    6334\n",
              "2025-09-03    5238\n",
              "2025-09-11    3723\n",
              "2025-09-02    3401\n",
              "2025-09-09    1511\n",
              "2025-09-05    1001\n",
              "2025-09-08     763\n",
              "2025-08-30     192\n",
              "2025-09-13     127\n",
              "Name: count, dtype: int64"
            ]
          },
          "metadata": {},
          "output_type": "display_data"
        },
        {
          "name": "stdout",
          "output_type": "stream",
          "text": [
            "================== Top 10 sustainability_tags ==================\n",
            "Unique value: 16\n",
            "Missing value: 39267\n"
          ]
        },
        {
          "data": {
            "application/vnd.microsoft.datawrangler.viewer.v0+json": {
              "columns": [
                {
                  "name": "sustainability_tags",
                  "rawType": "object",
                  "type": "string"
                },
                {
                  "name": "count",
                  "rawType": "int64",
                  "type": "integer"
                }
              ],
              "ref": "7b894e52-e624-4128-bf0b-560e738e71a2",
              "rows": [
                [
                  "Small Business",
                  "1341"
                ],
                [
                  "Carbon impact",
                  "769"
                ],
                [
                  "Works with Alexa",
                  "425"
                ],
                [
                  "Energy efficiency",
                  "262"
                ],
                [
                  "Alexa Built-in",
                  "184"
                ],
                [
                  "Manufacturing practices",
                  "148"
                ],
                [
                  "Energy efficiency +3 more",
                  "121"
                ],
                [
                  "Energy efficiency +1 more",
                  "93"
                ],
                [
                  "Forestry practices",
                  "18"
                ],
                [
                  "Safer chemicals +2 more",
                  "18"
                ]
              ],
              "shape": {
                "columns": 1,
                "rows": 10
              }
            },
            "text/plain": [
              "sustainability_tags\n",
              "Small Business               1341\n",
              "Carbon impact                 769\n",
              "Works with Alexa              425\n",
              "Energy efficiency             262\n",
              "Alexa Built-in                184\n",
              "Manufacturing practices       148\n",
              "Energy efficiency +3 more     121\n",
              "Energy efficiency +1 more      93\n",
              "Forestry practices             18\n",
              "Safer chemicals +2 more        18\n",
              "Name: count, dtype: int64"
            ]
          },
          "metadata": {},
          "output_type": "display_data"
        },
        {
          "name": "stdout",
          "output_type": "stream",
          "text": [
            "================== Top 10 product_image_url ==================\n",
            "Unique value: 8038\n",
            "Missing value: 0\n"
          ]
        },
        {
          "data": {
            "application/vnd.microsoft.datawrangler.viewer.v0+json": {
              "columns": [
                {
                  "name": "product_image_url",
                  "rawType": "object",
                  "type": "string"
                },
                {
                  "name": "count",
                  "rawType": "int64",
                  "type": "integer"
                }
              ],
              "ref": "1cc8c264-b6ae-45ff-8fec-594f13f506ef",
              "rows": [
                [
                  "https://m.media-amazon.com/images/I/51Xr76m2WLL._AC_UL320_.jpg",
                  "1461"
                ],
                [
                  "https://m.media-amazon.com/images/I/41xG8Yh0rlL._AC_UL320_.jpg",
                  "1078"
                ],
                [
                  "https://m.media-amazon.com/images/I/61ZSfHGJ2bL._AC_UL320_.jpg",
                  "744"
                ],
                [
                  "https://m.media-amazon.com/images/I/91wM+1e9MSL._AC_UL320_.jpg",
                  "566"
                ],
                [
                  "https://m.media-amazon.com/images/I/5179luWipKL._AC_UL320_.jpg",
                  "515"
                ],
                [
                  "https://m.media-amazon.com/images/I/51rlsc7G2UL._AC_UL320_.jpg",
                  "456"
                ],
                [
                  "https://m.media-amazon.com/images/I/716bPrNJ0GL._AC_UL320_.jpg",
                  "438"
                ],
                [
                  "https://m.media-amazon.com/images/I/61XBmb46FVL._AC_UL320_.jpg",
                  "377"
                ],
                [
                  "https://m.media-amazon.com/images/I/71yebnw2SUL._AC_UL320_.jpg",
                  "371"
                ],
                [
                  "https://m.media-amazon.com/images/I/71+ok4zsAxL._AC_UL320_.jpg",
                  "254"
                ]
              ],
              "shape": {
                "columns": 1,
                "rows": 10
              }
            },
            "text/plain": [
              "product_image_url\n",
              "https://m.media-amazon.com/images/I/51Xr76m2WLL._AC_UL320_.jpg    1461\n",
              "https://m.media-amazon.com/images/I/41xG8Yh0rlL._AC_UL320_.jpg    1078\n",
              "https://m.media-amazon.com/images/I/61ZSfHGJ2bL._AC_UL320_.jpg     744\n",
              "https://m.media-amazon.com/images/I/91wM+1e9MSL._AC_UL320_.jpg     566\n",
              "https://m.media-amazon.com/images/I/5179luWipKL._AC_UL320_.jpg     515\n",
              "https://m.media-amazon.com/images/I/51rlsc7G2UL._AC_UL320_.jpg     456\n",
              "https://m.media-amazon.com/images/I/716bPrNJ0GL._AC_UL320_.jpg     438\n",
              "https://m.media-amazon.com/images/I/61XBmb46FVL._AC_UL320_.jpg     377\n",
              "https://m.media-amazon.com/images/I/71yebnw2SUL._AC_UL320_.jpg     371\n",
              "https://m.media-amazon.com/images/I/71+ok4zsAxL._AC_UL320_.jpg     254\n",
              "Name: count, dtype: int64"
            ]
          },
          "metadata": {},
          "output_type": "display_data"
        },
        {
          "name": "stdout",
          "output_type": "stream",
          "text": [
            "================== Top 10 product_page_url ==================\n",
            "Unique value: 40606\n",
            "Missing value: 2069\n"
          ]
        },
        {
          "data": {
            "application/vnd.microsoft.datawrangler.viewer.v0+json": {
              "columns": [
                {
                  "name": "product_page_url",
                  "rawType": "object",
                  "type": "string"
                },
                {
                  "name": "count",
                  "rawType": "int64",
                  "type": "integer"
                }
              ],
              "ref": "59dbb24c-3e5f-4f74-a29c-cf05f8954b18",
              "rows": [
                [
                  "https://www.amazon.com/sspa/click?ie=UTF8&spc=MTo4NzEzNDY2NTQ5NDYxNDQ2OjE3NTU4MDAwNjg6c3BfYXRmX2Jyb3dzZTozMDA2NzE0NTMwMTcyMDI6OjA6Og&url=%2FBOYA-BOYALINK-Microphone-Micophone-Cancelling%2Fdp%2FB0DNZB7TQG%2Fref%3Dsr_1_1_sspa%3Fdib%3DeyJ2IjoiMSJ9.avmZlHCQuVOwikquBqYSIjN8SVcyxtkXHQMPt7Zjzkf4TeZzrZfQETMhdWuWgtTrVz8ITKpXLHvZj0fZRjxqgMPYNMitRqeUoeIwdYfc5nnzJ8m0T8HYeedlh3YSOhJQjeHskevMUQWyg6TtoB2tHcHt-edYPsQ6VwFQTI6avsPrgVpFKrto3ff9TDR9BcRyPwM6AiYn-vh7wA5PP9DjZddhCPf7bVPcHMZ6Hwd40dQDWm9_M8R-LcwKY8wnuWRUSplhfYJBvTjAgsb3Y3y88VGpfqY3V8Rd2ge-woBzUMA.yqwi-krmElGgXIMa8kKUPx1XmaXd9lHaAkMkVVpStxo%26dib_tag%3Dse%26qid%3D1755800068%26refinements%3Dp_n_g-101014971069111%253A119653281011%26s%3Delectronics%26sr%3D1-1-spons%26sp_csd%3Dd2lkZ2V0TmFtZT1zcF9hdGZfYnJvd3Nl%26psc%3D1",
                  "1"
                ],
                [
                  "https://www.amazon.com/sspa/click?ie=UTF8&spc=MTo4NzEzNDY2NTQ5NDYxNDQ2OjE3NTU4MDAwNjg6c3BfYXRmX2Jyb3dzZTozMDA4NjA2Mzc2NDIxMDI6OjA6Og&url=%2FLISEN-Charging-Lighting-MacBook-Chargers%2Fdp%2FB0DHWZCZDZ%2Fref%3Dsr_1_2_sspa%3Fdib%3DeyJ2IjoiMSJ9.avmZlHCQuVOwikquBqYSIjN8SVcyxtkXHQMPt7Zjzkf4TeZzrZfQETMhdWuWgtTrVz8ITKpXLHvZj0fZRjxqgMPYNMitRqeUoeIwdYfc5nnzJ8m0T8HYeedlh3YSOhJQjeHskevMUQWyg6TtoB2tHcHt-edYPsQ6VwFQTI6avsPrgVpFKrto3ff9TDR9BcRyPwM6AiYn-vh7wA5PP9DjZddhCPf7bVPcHMZ6Hwd40dQDWm9_M8R-LcwKY8wnuWRUSplhfYJBvTjAgsb3Y3y88VGpfqY3V8Rd2ge-woBzUMA.yqwi-krmElGgXIMa8kKUPx1XmaXd9lHaAkMkVVpStxo%26dib_tag%3Dse%26qid%3D1755800068%26refinements%3Dp_n_g-101014971069111%253A119653281011%26s%3Delectronics%26sr%3D1-2-spons%26sp_csd%3Dd2lkZ2V0TmFtZT1zcF9hdGZfYnJvd3Nl%26psc%3D1",
                  "1"
                ],
                [
                  "https://www.amazon.com/sspa/click?ie=UTF8&spc=MTo4NzEzNDY2NTQ5NDYxNDQ2OjE3NTU4MDAwNjg6c3BfYXRmX2Jyb3dzZTozMDA4Nzk0NzAxMTk3MDI6OjA6Og&url=%2FDJI-Microphone-Intelligent-Cancelling-Recording%2Fdp%2FB0CFZX734J%2Fref%3Dsr_1_3_sspa%3Fdib%3DeyJ2IjoiMSJ9.avmZlHCQuVOwikquBqYSIjN8SVcyxtkXHQMPt7Zjzkf4TeZzrZfQETMhdWuWgtTrVz8ITKpXLHvZj0fZRjxqgMPYNMitRqeUoeIwdYfc5nnzJ8m0T8HYeedlh3YSOhJQjeHskevMUQWyg6TtoB2tHcHt-edYPsQ6VwFQTI6avsPrgVpFKrto3ff9TDR9BcRyPwM6AiYn-vh7wA5PP9DjZddhCPf7bVPcHMZ6Hwd40dQDWm9_M8R-LcwKY8wnuWRUSplhfYJBvTjAgsb3Y3y88VGpfqY3V8Rd2ge-woBzUMA.yqwi-krmElGgXIMa8kKUPx1XmaXd9lHaAkMkVVpStxo%26dib_tag%3Dse%26qid%3D1755800068%26refinements%3Dp_n_g-101014971069111%253A119653281011%26s%3Delectronics%26sr%3D1-3-spons%26sp_csd%3Dd2lkZ2V0TmFtZT1zcF9hdGZfYnJvd3Nl%26psc%3D1",
                  "1"
                ],
                [
                  "https://www.amazon.com/Apple-Cancellation-Transparency-Personalized-High-Fidelity/dp/B0D1XD1ZV3/ref=sr_1_4?dib=eyJ2IjoiMSJ9.avmZlHCQuVOwikquBqYSIjN8SVcyxtkXHQMPt7Zjzkf4TeZzrZfQETMhdWuWgtTrVz8ITKpXLHvZj0fZRjxqgMPYNMitRqeUoeIwdYfc5nnzJ8m0T8HYeedlh3YSOhJQjeHskevMUQWyg6TtoB2tHcHt-edYPsQ6VwFQTI6avsPrgVpFKrto3ff9TDR9BcRyPwM6AiYn-vh7wA5PP9DjZddhCPf7bVPcHMZ6Hwd40dQDWm9_M8R-LcwKY8wnuWRUSplhfYJBvTjAgsb3Y3y88VGpfqY3V8Rd2ge-woBzUMA.yqwi-krmElGgXIMa8kKUPx1XmaXd9lHaAkMkVVpStxo&dib_tag=se&qid=1755800068&refinements=p_n_g-101014971069111%3A119653281011&s=electronics&sr=1-4",
                  "1"
                ],
                [
                  "https://www.amazon.com/Apple-MX542LL-A-AirTag-Pack/dp/B0D54JZTHY/ref=sr_1_5?dib=eyJ2IjoiMSJ9.avmZlHCQuVOwikquBqYSIjN8SVcyxtkXHQMPt7Zjzkf4TeZzrZfQETMhdWuWgtTrVz8ITKpXLHvZj0fZRjxqgMPYNMitRqeUoeIwdYfc5nnzJ8m0T8HYeedlh3YSOhJQjeHskevMUQWyg6TtoB2tHcHt-edYPsQ6VwFQTI6avsPrgVpFKrto3ff9TDR9BcRyPwM6AiYn-vh7wA5PP9DjZddhCPf7bVPcHMZ6Hwd40dQDWm9_M8R-LcwKY8wnuWRUSplhfYJBvTjAgsb3Y3y88VGpfqY3V8Rd2ge-woBzUMA.yqwi-krmElGgXIMa8kKUPx1XmaXd9lHaAkMkVVpStxo&dib_tag=se&qid=1755800068&refinements=p_n_g-101014971069111%3A119653281011&s=electronics&sr=1-5",
                  "1"
                ],
                [
                  "https://www.amazon.com/Texas-Instruments-TI-84-Graphing-Calculator/dp/B00TFYYWQA/ref=sr_1_6?dib=eyJ2IjoiMSJ9.avmZlHCQuVOwikquBqYSIjN8SVcyxtkXHQMPt7Zjzkf4TeZzrZfQETMhdWuWgtTrVz8ITKpXLHvZj0fZRjxqgMPYNMitRqeUoeIwdYfc5nnzJ8m0T8HYeedlh3YSOhJQjeHskevMUQWyg6TtoB2tHcHt-edYPsQ6VwFQTI6avsPrgVpFKrto3ff9TDR9BcRyPwM6AiYn-vh7wA5PP9DjZddhCPf7bVPcHMZ6Hwd40dQDWm9_M8R-LcwKY8wnuWRUSplhfYJBvTjAgsb3Y3y88VGpfqY3V8Rd2ge-woBzUMA.yqwi-krmElGgXIMa8kKUPx1XmaXd9lHaAkMkVVpStxo&dib_tag=se&qid=1755800068&refinements=p_n_g-101014971069111%3A119653281011&s=electronics&sr=1-6",
                  "1"
                ],
                [
                  "https://www.amazon.com/Apple-Bluetooth-Headphones-Personalized-Effortless/dp/B0DGHMNQ5Z/ref=sr_1_7?dib=eyJ2IjoiMSJ9.avmZlHCQuVOwikquBqYSIjN8SVcyxtkXHQMPt7Zjzkf4TeZzrZfQETMhdWuWgtTrVz8ITKpXLHvZj0fZRjxqgMPYNMitRqeUoeIwdYfc5nnzJ8m0T8HYeedlh3YSOhJQjeHskevMUQWyg6TtoB2tHcHt-edYPsQ6VwFQTI6avsPrgVpFKrto3ff9TDR9BcRyPwM6AiYn-vh7wA5PP9DjZddhCPf7bVPcHMZ6Hwd40dQDWm9_M8R-LcwKY8wnuWRUSplhfYJBvTjAgsb3Y3y88VGpfqY3V8Rd2ge-woBzUMA.yqwi-krmElGgXIMa8kKUPx1XmaXd9lHaAkMkVVpStxo&dib_tag=se&qid=1755800068&refinements=p_n_g-101014971069111%3A119653281011&s=electronics&sr=1-7",
                  "1"
                ],
                [
                  "https://www.amazon.com/Apple-MX532LL-A-AirTag/dp/B0CWXNS552/ref=sr_1_8?dib=eyJ2IjoiMSJ9.avmZlHCQuVOwikquBqYSIjN8SVcyxtkXHQMPt7Zjzkf4TeZzrZfQETMhdWuWgtTrVz8ITKpXLHvZj0fZRjxqgMPYNMitRqeUoeIwdYfc5nnzJ8m0T8HYeedlh3YSOhJQjeHskevMUQWyg6TtoB2tHcHt-edYPsQ6VwFQTI6avsPrgVpFKrto3ff9TDR9BcRyPwM6AiYn-vh7wA5PP9DjZddhCPf7bVPcHMZ6Hwd40dQDWm9_M8R-LcwKY8wnuWRUSplhfYJBvTjAgsb3Y3y88VGpfqY3V8Rd2ge-woBzUMA.yqwi-krmElGgXIMa8kKUPx1XmaXd9lHaAkMkVVpStxo&dib_tag=se&qid=1755800068&refinements=p_n_g-101014971069111%3A119653281011&s=electronics&sr=1-8",
                  "1"
                ],
                [
                  "https://www.amazon.com/Asurion-Complete-Protect/dp/B07RZ3LSHM/ref=sr_1_9?dib=eyJ2IjoiMSJ9.avmZlHCQuVOwikquBqYSIjN8SVcyxtkXHQMPt7Zjzkf4TeZzrZfQETMhdWuWgtTrVz8ITKpXLHvZj0fZRjxqgMPYNMitRqeUoeIwdYfc5nnzJ8m0T8HYeedlh3YSOhJQjeHskevMUQWyg6TtoB2tHcHt-edYPsQ6VwFQTI6avsPrgVpFKrto3ff9TDR9BcRyPwM6AiYn-vh7wA5PP9DjZddhCPf7bVPcHMZ6Hwd40dQDWm9_M8R-LcwKY8wnuWRUSplhfYJBvTjAgsb3Y3y88VGpfqY3V8Rd2ge-woBzUMA.yqwi-krmElGgXIMa8kKUPx1XmaXd9lHaAkMkVVpStxo&dib_tag=se&qid=1755800068&refinements=p_n_g-101014971069111%3A119653281011&s=electronics&sr=1-9",
                  "1"
                ],
                [
                  "https://www.amazon.com/Apple-iPad-11-inch-Display-All-Day/dp/B0DZ75TN5F/ref=sr_1_10?dib=eyJ2IjoiMSJ9.avmZlHCQuVOwikquBqYSIjN8SVcyxtkXHQMPt7Zjzkf4TeZzrZfQETMhdWuWgtTrVz8ITKpXLHvZj0fZRjxqgMPYNMitRqeUoeIwdYfc5nnzJ8m0T8HYeedlh3YSOhJQjeHskevMUQWyg6TtoB2tHcHt-edYPsQ6VwFQTI6avsPrgVpFKrto3ff9TDR9BcRyPwM6AiYn-vh7wA5PP9DjZddhCPf7bVPcHMZ6Hwd40dQDWm9_M8R-LcwKY8wnuWRUSplhfYJBvTjAgsb3Y3y88VGpfqY3V8Rd2ge-woBzUMA.yqwi-krmElGgXIMa8kKUPx1XmaXd9lHaAkMkVVpStxo&dib_tag=se&qid=1755800068&refinements=p_n_g-101014971069111%3A119653281011&s=electronics&sr=1-10",
                  "1"
                ]
              ],
              "shape": {
                "columns": 1,
                "rows": 10
              }
            },
            "text/plain": [
              "product_page_url\n",
              "https://www.amazon.com/sspa/click?ie=UTF8&spc=MTo4NzEzNDY2NTQ5NDYxNDQ2OjE3NTU4MDAwNjg6c3BfYXRmX2Jyb3dzZTozMDA2NzE0NTMwMTcyMDI6OjA6Og&url=%2FBOYA-BOYALINK-Microphone-Micophone-Cancelling%2Fdp%2FB0DNZB7TQG%2Fref%3Dsr_1_1_sspa%3Fdib%3DeyJ2IjoiMSJ9.avmZlHCQuVOwikquBqYSIjN8SVcyxtkXHQMPt7Zjzkf4TeZzrZfQETMhdWuWgtTrVz8ITKpXLHvZj0fZRjxqgMPYNMitRqeUoeIwdYfc5nnzJ8m0T8HYeedlh3YSOhJQjeHskevMUQWyg6TtoB2tHcHt-edYPsQ6VwFQTI6avsPrgVpFKrto3ff9TDR9BcRyPwM6AiYn-vh7wA5PP9DjZddhCPf7bVPcHMZ6Hwd40dQDWm9_M8R-LcwKY8wnuWRUSplhfYJBvTjAgsb3Y3y88VGpfqY3V8Rd2ge-woBzUMA.yqwi-krmElGgXIMa8kKUPx1XmaXd9lHaAkMkVVpStxo%26dib_tag%3Dse%26qid%3D1755800068%26refinements%3Dp_n_g-101014971069111%253A119653281011%26s%3Delectronics%26sr%3D1-1-spons%26sp_csd%3Dd2lkZ2V0TmFtZT1zcF9hdGZfYnJvd3Nl%26psc%3D1      1\n",
              "https://www.amazon.com/sspa/click?ie=UTF8&spc=MTo4NzEzNDY2NTQ5NDYxNDQ2OjE3NTU4MDAwNjg6c3BfYXRmX2Jyb3dzZTozMDA4NjA2Mzc2NDIxMDI6OjA6Og&url=%2FLISEN-Charging-Lighting-MacBook-Chargers%2Fdp%2FB0DHWZCZDZ%2Fref%3Dsr_1_2_sspa%3Fdib%3DeyJ2IjoiMSJ9.avmZlHCQuVOwikquBqYSIjN8SVcyxtkXHQMPt7Zjzkf4TeZzrZfQETMhdWuWgtTrVz8ITKpXLHvZj0fZRjxqgMPYNMitRqeUoeIwdYfc5nnzJ8m0T8HYeedlh3YSOhJQjeHskevMUQWyg6TtoB2tHcHt-edYPsQ6VwFQTI6avsPrgVpFKrto3ff9TDR9BcRyPwM6AiYn-vh7wA5PP9DjZddhCPf7bVPcHMZ6Hwd40dQDWm9_M8R-LcwKY8wnuWRUSplhfYJBvTjAgsb3Y3y88VGpfqY3V8Rd2ge-woBzUMA.yqwi-krmElGgXIMa8kKUPx1XmaXd9lHaAkMkVVpStxo%26dib_tag%3Dse%26qid%3D1755800068%26refinements%3Dp_n_g-101014971069111%253A119653281011%26s%3Delectronics%26sr%3D1-2-spons%26sp_csd%3Dd2lkZ2V0TmFtZT1zcF9hdGZfYnJvd3Nl%26psc%3D1           1\n",
              "https://www.amazon.com/sspa/click?ie=UTF8&spc=MTo4NzEzNDY2NTQ5NDYxNDQ2OjE3NTU4MDAwNjg6c3BfYXRmX2Jyb3dzZTozMDA4Nzk0NzAxMTk3MDI6OjA6Og&url=%2FDJI-Microphone-Intelligent-Cancelling-Recording%2Fdp%2FB0CFZX734J%2Fref%3Dsr_1_3_sspa%3Fdib%3DeyJ2IjoiMSJ9.avmZlHCQuVOwikquBqYSIjN8SVcyxtkXHQMPt7Zjzkf4TeZzrZfQETMhdWuWgtTrVz8ITKpXLHvZj0fZRjxqgMPYNMitRqeUoeIwdYfc5nnzJ8m0T8HYeedlh3YSOhJQjeHskevMUQWyg6TtoB2tHcHt-edYPsQ6VwFQTI6avsPrgVpFKrto3ff9TDR9BcRyPwM6AiYn-vh7wA5PP9DjZddhCPf7bVPcHMZ6Hwd40dQDWm9_M8R-LcwKY8wnuWRUSplhfYJBvTjAgsb3Y3y88VGpfqY3V8Rd2ge-woBzUMA.yqwi-krmElGgXIMa8kKUPx1XmaXd9lHaAkMkVVpStxo%26dib_tag%3Dse%26qid%3D1755800068%26refinements%3Dp_n_g-101014971069111%253A119653281011%26s%3Delectronics%26sr%3D1-3-spons%26sp_csd%3Dd2lkZ2V0TmFtZT1zcF9hdGZfYnJvd3Nl%26psc%3D1    1\n",
              "https://www.amazon.com/Apple-Cancellation-Transparency-Personalized-High-Fidelity/dp/B0D1XD1ZV3/ref=sr_1_4?dib=eyJ2IjoiMSJ9.avmZlHCQuVOwikquBqYSIjN8SVcyxtkXHQMPt7Zjzkf4TeZzrZfQETMhdWuWgtTrVz8ITKpXLHvZj0fZRjxqgMPYNMitRqeUoeIwdYfc5nnzJ8m0T8HYeedlh3YSOhJQjeHskevMUQWyg6TtoB2tHcHt-edYPsQ6VwFQTI6avsPrgVpFKrto3ff9TDR9BcRyPwM6AiYn-vh7wA5PP9DjZddhCPf7bVPcHMZ6Hwd40dQDWm9_M8R-LcwKY8wnuWRUSplhfYJBvTjAgsb3Y3y88VGpfqY3V8Rd2ge-woBzUMA.yqwi-krmElGgXIMa8kKUPx1XmaXd9lHaAkMkVVpStxo&dib_tag=se&qid=1755800068&refinements=p_n_g-101014971069111%3A119653281011&s=electronics&sr=1-4                                                                                                                                                                                                                 1\n",
              "https://www.amazon.com/Apple-MX542LL-A-AirTag-Pack/dp/B0D54JZTHY/ref=sr_1_5?dib=eyJ2IjoiMSJ9.avmZlHCQuVOwikquBqYSIjN8SVcyxtkXHQMPt7Zjzkf4TeZzrZfQETMhdWuWgtTrVz8ITKpXLHvZj0fZRjxqgMPYNMitRqeUoeIwdYfc5nnzJ8m0T8HYeedlh3YSOhJQjeHskevMUQWyg6TtoB2tHcHt-edYPsQ6VwFQTI6avsPrgVpFKrto3ff9TDR9BcRyPwM6AiYn-vh7wA5PP9DjZddhCPf7bVPcHMZ6Hwd40dQDWm9_M8R-LcwKY8wnuWRUSplhfYJBvTjAgsb3Y3y88VGpfqY3V8Rd2ge-woBzUMA.yqwi-krmElGgXIMa8kKUPx1XmaXd9lHaAkMkVVpStxo&dib_tag=se&qid=1755800068&refinements=p_n_g-101014971069111%3A119653281011&s=electronics&sr=1-5                                                                                                                                                                                                                                                1\n",
              "https://www.amazon.com/Texas-Instruments-TI-84-Graphing-Calculator/dp/B00TFYYWQA/ref=sr_1_6?dib=eyJ2IjoiMSJ9.avmZlHCQuVOwikquBqYSIjN8SVcyxtkXHQMPt7Zjzkf4TeZzrZfQETMhdWuWgtTrVz8ITKpXLHvZj0fZRjxqgMPYNMitRqeUoeIwdYfc5nnzJ8m0T8HYeedlh3YSOhJQjeHskevMUQWyg6TtoB2tHcHt-edYPsQ6VwFQTI6avsPrgVpFKrto3ff9TDR9BcRyPwM6AiYn-vh7wA5PP9DjZddhCPf7bVPcHMZ6Hwd40dQDWm9_M8R-LcwKY8wnuWRUSplhfYJBvTjAgsb3Y3y88VGpfqY3V8Rd2ge-woBzUMA.yqwi-krmElGgXIMa8kKUPx1XmaXd9lHaAkMkVVpStxo&dib_tag=se&qid=1755800068&refinements=p_n_g-101014971069111%3A119653281011&s=electronics&sr=1-6                                                                                                                                                                                                                                1\n",
              "https://www.amazon.com/Apple-Bluetooth-Headphones-Personalized-Effortless/dp/B0DGHMNQ5Z/ref=sr_1_7?dib=eyJ2IjoiMSJ9.avmZlHCQuVOwikquBqYSIjN8SVcyxtkXHQMPt7Zjzkf4TeZzrZfQETMhdWuWgtTrVz8ITKpXLHvZj0fZRjxqgMPYNMitRqeUoeIwdYfc5nnzJ8m0T8HYeedlh3YSOhJQjeHskevMUQWyg6TtoB2tHcHt-edYPsQ6VwFQTI6avsPrgVpFKrto3ff9TDR9BcRyPwM6AiYn-vh7wA5PP9DjZddhCPf7bVPcHMZ6Hwd40dQDWm9_M8R-LcwKY8wnuWRUSplhfYJBvTjAgsb3Y3y88VGpfqY3V8Rd2ge-woBzUMA.yqwi-krmElGgXIMa8kKUPx1XmaXd9lHaAkMkVVpStxo&dib_tag=se&qid=1755800068&refinements=p_n_g-101014971069111%3A119653281011&s=electronics&sr=1-7                                                                                                                                                                                                                         1\n",
              "https://www.amazon.com/Apple-MX532LL-A-AirTag/dp/B0CWXNS552/ref=sr_1_8?dib=eyJ2IjoiMSJ9.avmZlHCQuVOwikquBqYSIjN8SVcyxtkXHQMPt7Zjzkf4TeZzrZfQETMhdWuWgtTrVz8ITKpXLHvZj0fZRjxqgMPYNMitRqeUoeIwdYfc5nnzJ8m0T8HYeedlh3YSOhJQjeHskevMUQWyg6TtoB2tHcHt-edYPsQ6VwFQTI6avsPrgVpFKrto3ff9TDR9BcRyPwM6AiYn-vh7wA5PP9DjZddhCPf7bVPcHMZ6Hwd40dQDWm9_M8R-LcwKY8wnuWRUSplhfYJBvTjAgsb3Y3y88VGpfqY3V8Rd2ge-woBzUMA.yqwi-krmElGgXIMa8kKUPx1XmaXd9lHaAkMkVVpStxo&dib_tag=se&qid=1755800068&refinements=p_n_g-101014971069111%3A119653281011&s=electronics&sr=1-8                                                                                                                                                                                                                                                     1\n",
              "https://www.amazon.com/Asurion-Complete-Protect/dp/B07RZ3LSHM/ref=sr_1_9?dib=eyJ2IjoiMSJ9.avmZlHCQuVOwikquBqYSIjN8SVcyxtkXHQMPt7Zjzkf4TeZzrZfQETMhdWuWgtTrVz8ITKpXLHvZj0fZRjxqgMPYNMitRqeUoeIwdYfc5nnzJ8m0T8HYeedlh3YSOhJQjeHskevMUQWyg6TtoB2tHcHt-edYPsQ6VwFQTI6avsPrgVpFKrto3ff9TDR9BcRyPwM6AiYn-vh7wA5PP9DjZddhCPf7bVPcHMZ6Hwd40dQDWm9_M8R-LcwKY8wnuWRUSplhfYJBvTjAgsb3Y3y88VGpfqY3V8Rd2ge-woBzUMA.yqwi-krmElGgXIMa8kKUPx1XmaXd9lHaAkMkVVpStxo&dib_tag=se&qid=1755800068&refinements=p_n_g-101014971069111%3A119653281011&s=electronics&sr=1-9                                                                                                                                                                                                                                                   1\n",
              "https://www.amazon.com/Apple-iPad-11-inch-Display-All-Day/dp/B0DZ75TN5F/ref=sr_1_10?dib=eyJ2IjoiMSJ9.avmZlHCQuVOwikquBqYSIjN8SVcyxtkXHQMPt7Zjzkf4TeZzrZfQETMhdWuWgtTrVz8ITKpXLHvZj0fZRjxqgMPYNMitRqeUoeIwdYfc5nnzJ8m0T8HYeedlh3YSOhJQjeHskevMUQWyg6TtoB2tHcHt-edYPsQ6VwFQTI6avsPrgVpFKrto3ff9TDR9BcRyPwM6AiYn-vh7wA5PP9DjZddhCPf7bVPcHMZ6Hwd40dQDWm9_M8R-LcwKY8wnuWRUSplhfYJBvTjAgsb3Y3y88VGpfqY3V8Rd2ge-woBzUMA.yqwi-krmElGgXIMa8kKUPx1XmaXd9lHaAkMkVVpStxo&dib_tag=se&qid=1755800068&refinements=p_n_g-101014971069111%3A119653281011&s=electronics&sr=1-10                                                                                                                                                                                                                                       1\n",
              "Name: count, dtype: int64"
            ]
          },
          "metadata": {},
          "output_type": "display_data"
        },
        {
          "name": "stdout",
          "output_type": "stream",
          "text": [
            "================== Top 10 data_collected_at ==================\n",
            "Unique value: 1559\n",
            "Missing value: 0\n"
          ]
        },
        {
          "data": {
            "application/vnd.microsoft.datawrangler.viewer.v0+json": {
              "columns": [
                {
                  "name": "data_collected_at",
                  "rawType": "object",
                  "type": "string"
                },
                {
                  "name": "count",
                  "rawType": "int64",
                  "type": "integer"
                }
              ],
              "ref": "eaa8afff-b3dc-4483-87bb-b3d742f18ee4",
              "rows": [
                [
                  "2025-08-21 11:15:31",
                  "33"
                ],
                [
                  "2025-08-21 11:15:58",
                  "33"
                ],
                [
                  "2025-08-21 11:14:29",
                  "33"
                ],
                [
                  "2025-08-21 11:16:09",
                  "33"
                ],
                [
                  "2025-08-30 19:53:37",
                  "33"
                ],
                [
                  "2025-08-30 19:54:27",
                  "33"
                ],
                [
                  "2025-08-30 19:54:52",
                  "33"
                ],
                [
                  "2025-08-30 00:39:26",
                  "33"
                ],
                [
                  "2025-08-30 00:39:40",
                  "33"
                ],
                [
                  "2025-08-30 00:40:06",
                  "33"
                ]
              ],
              "shape": {
                "columns": 1,
                "rows": 10
              }
            },
            "text/plain": [
              "data_collected_at\n",
              "2025-08-21 11:15:31    33\n",
              "2025-08-21 11:15:58    33\n",
              "2025-08-21 11:14:29    33\n",
              "2025-08-21 11:16:09    33\n",
              "2025-08-30 19:53:37    33\n",
              "2025-08-30 19:54:27    33\n",
              "2025-08-30 19:54:52    33\n",
              "2025-08-30 00:39:26    33\n",
              "2025-08-30 00:39:40    33\n",
              "2025-08-30 00:40:06    33\n",
              "Name: count, dtype: int64"
            ]
          },
          "metadata": {},
          "output_type": "display_data"
        },
        {
          "name": "stdout",
          "output_type": "stream",
          "text": [
            "================== Top 10 product_category ==================\n",
            "Unique value: 15\n",
            "Missing value: 0\n"
          ]
        },
        {
          "data": {
            "application/vnd.microsoft.datawrangler.viewer.v0+json": {
              "columns": [
                {
                  "name": "product_category",
                  "rawType": "object",
                  "type": "string"
                },
                {
                  "name": "count",
                  "rawType": "int64",
                  "type": "integer"
                }
              ],
              "ref": "b0b49e95-ad65-452b-ab76-574c3e439d81",
              "rows": [
                [
                  "Other Electronics",
                  "8755"
                ],
                [
                  "Laptops",
                  "8693"
                ],
                [
                  "Phones",
                  "6563"
                ],
                [
                  "Cameras",
                  "3677"
                ],
                [
                  "Power & Batteries",
                  "2877"
                ],
                [
                  "TV & Display",
                  "2630"
                ],
                [
                  "Chargers & Cables",
                  "1833"
                ],
                [
                  "Storage",
                  "1630"
                ],
                [
                  "Speakers",
                  "1345"
                ],
                [
                  "Networking",
                  "1070"
                ]
              ],
              "shape": {
                "columns": 1,
                "rows": 10
              }
            },
            "text/plain": [
              "product_category\n",
              "Other Electronics    8755\n",
              "Laptops              8693\n",
              "Phones               6563\n",
              "Cameras              3677\n",
              "Power & Batteries    2877\n",
              "TV & Display         2630\n",
              "Chargers & Cables    1833\n",
              "Storage              1630\n",
              "Speakers             1345\n",
              "Networking           1070\n",
              "Name: count, dtype: int64"
            ]
          },
          "metadata": {},
          "output_type": "display_data"
        }
      ],
      "source": [
        "categorical_feature = tabular.categorical_stat_report(df)"
      ]
    },
    {
      "cell_type": "markdown",
      "id": "0671ee32",
      "metadata": {
        "id": "0671ee32"
      },
      "source": [
        "# **Preprocessing**"
      ]
    },
    {
      "cell_type": "code",
      "execution_count": 55,
      "id": "f8678fba",
      "metadata": {
        "id": "f8678fba"
      },
      "outputs": [],
      "source": [
        "use_cols = [\"product_rating\", \"total_reviews\", \"purchased_last_month\", \"discounted_price\", \"original_price\",\n",
        "        \"is_sponsored\", \"product_category\"]\n",
        "\n",
        "feature_cols = [\"product_rating\", \"total_reviews\", \"purchased_last_month\", \"original_price\",\n",
        "        \"is_sponsored\", \"product_category\"]\n",
        "\n",
        "data = df[use_cols]"
      ]
    },
    {
      "cell_type": "code",
      "execution_count": 56,
      "id": "c985ffc2",
      "metadata": {
        "id": "c985ffc2"
      },
      "outputs": [],
      "source": [
        "target = \"discounted_price\"\n",
        "data = data.dropna(subset=[target]) # Drop NA in target column"
      ]
    },
    {
      "cell_type": "code",
      "execution_count": 57,
      "id": "d474aa79",
      "metadata": {
        "id": "d474aa79"
      },
      "outputs": [],
      "source": [
        "# If you don't choose to dropna in other columns of dataset, comment this cell\n",
        "data = data.dropna()"
      ]
    },
    {
      "cell_type": "code",
      "execution_count": 58,
      "id": "971529ca",
      "metadata": {
        "id": "971529ca",
        "outputId": "04be19b4-d0a0-4ad3-8778-03c9063a6c58"
      },
      "outputs": [
        {
          "name": "stdout",
          "output_type": "stream",
          "text": [
            "X_train data Shape: (24182, 6)\n",
            "X_test data Shape: (6046, 6)\n"
          ]
        }
      ],
      "source": [
        "X = data.drop(columns=target)\n",
        "y = data[target]\n",
        "X_train, X_test, y_train, y_test = train_test_split(X, y, test_size=0.2, random_state=42)\n",
        "\n",
        "print(f\"X_train data Shape: {X_train.shape}\")\n",
        "print(f\"X_test data Shape: {X_test.shape}\")\n",
        "\n",
        "y_train = y_train.to_frame()\n",
        "y_test = y_test.to_frame()"
      ]
    },
    {
      "cell_type": "code",
      "execution_count": 59,
      "id": "ab6bebec",
      "metadata": {
        "id": "ab6bebec",
        "outputId": "f357c36c-9099-44a3-d9fb-7c7b3d6fd446"
      },
      "outputs": [
        {
          "data": {
            "application/vnd.microsoft.datawrangler.viewer.v0+json": {
              "columns": [
                {
                  "name": "index",
                  "rawType": "int64",
                  "type": "integer"
                },
                {
                  "name": "product_rating",
                  "rawType": "float64",
                  "type": "float"
                },
                {
                  "name": "total_reviews",
                  "rawType": "float64",
                  "type": "float"
                },
                {
                  "name": "purchased_last_month",
                  "rawType": "float64",
                  "type": "float"
                },
                {
                  "name": "original_price",
                  "rawType": "float64",
                  "type": "float"
                },
                {
                  "name": "is_sponsored",
                  "rawType": "object",
                  "type": "string"
                },
                {
                  "name": "product_category",
                  "rawType": "object",
                  "type": "string"
                }
              ],
              "ref": "f10fd9b0-206e-4116-9614-1a567dc39feb",
              "rows": [
                [
                  "16916",
                  "4.3",
                  "381.0",
                  "100.0",
                  "66.01",
                  "Organic",
                  "Cameras"
                ],
                [
                  "9654",
                  "4.4",
                  "1146.0",
                  "300.0",
                  "18.95",
                  "Organic",
                  "Phones"
                ],
                [
                  "36420",
                  "3.8",
                  "44.0",
                  "100.0",
                  "199.0",
                  "Organic",
                  "Chargers & Cables"
                ],
                [
                  "1985",
                  "4.3",
                  "196.0",
                  "200.0",
                  "129.95",
                  "Sponsored",
                  "Phones"
                ],
                [
                  "39079",
                  "4.7",
                  "182.0",
                  "200.0",
                  "101.16",
                  "Organic",
                  "Laptops"
                ],
                [
                  "31703",
                  "4.7",
                  "30.0",
                  "100.0",
                  "77.0",
                  "Organic",
                  "Other Electronics"
                ],
                [
                  "11600",
                  "4.7",
                  "288.0",
                  "50.0",
                  "179.99",
                  "Organic",
                  "TV & Display"
                ],
                [
                  "10227",
                  "4.0",
                  "1301.0",
                  "100.0",
                  "339.0",
                  "Organic",
                  "Laptops"
                ],
                [
                  "25483",
                  "4.6",
                  "801.0",
                  "300.0",
                  "14.99",
                  "Organic",
                  "Printers & Scanners"
                ],
                [
                  "21735",
                  "4.9",
                  "26.0",
                  "100.0",
                  "39.99",
                  "Organic",
                  "Laptops"
                ],
                [
                  "18474",
                  "4.3",
                  "335.0",
                  "100.0",
                  "59.24",
                  "Organic",
                  "Other Electronics"
                ],
                [
                  "15691",
                  "4.6",
                  "1649.0",
                  "50.0",
                  "299.99",
                  "Organic",
                  "Laptops"
                ],
                [
                  "26036",
                  "4.4",
                  "81.0",
                  "300.0",
                  "34.99",
                  "Organic",
                  "Chargers & Cables"
                ],
                [
                  "27276",
                  "3.8",
                  "3304.0",
                  "200.0",
                  "40.99",
                  "Organic",
                  "Power & Batteries"
                ],
                [
                  "12337",
                  "4.7",
                  "5591.0",
                  "300.0",
                  "9.95",
                  "Organic",
                  "Phones"
                ],
                [
                  "17280",
                  "3.6",
                  "76.0",
                  "50.0",
                  "124.99",
                  "Sponsored",
                  "Headphones"
                ],
                [
                  "15466",
                  "4.4",
                  "139943.0",
                  "5000.0",
                  "26.95",
                  "Sponsored",
                  "Phones"
                ],
                [
                  "1856",
                  "4.4",
                  "30703.0",
                  "4000.0",
                  "9.99",
                  "Organic",
                  "Phones"
                ],
                [
                  "29631",
                  "4.4",
                  "1469.0",
                  "50.0",
                  "569.95",
                  "Sponsored",
                  "Other Electronics"
                ],
                [
                  "22051",
                  "4.6",
                  "66.0",
                  "100.0",
                  "199.99",
                  "Organic",
                  "Storage"
                ],
                [
                  "5119",
                  "4.4",
                  "2448.0",
                  "1000.0",
                  "3.89",
                  "Organic",
                  "Other Electronics"
                ],
                [
                  "32839",
                  "3.7",
                  "168.0",
                  "100.0",
                  "352.95",
                  "Organic",
                  "Laptops"
                ],
                [
                  "155",
                  "4.7",
                  "27903.0",
                  "10000.0",
                  "36.89",
                  "Organic",
                  "Laptops"
                ],
                [
                  "41949",
                  "4.2",
                  "20.0",
                  "200.0",
                  "89.99",
                  "Organic",
                  "Cameras"
                ],
                [
                  "23200",
                  "4.6",
                  "104.0",
                  "50.0",
                  "414.95",
                  "Organic",
                  "Cameras"
                ],
                [
                  "13412",
                  "4.6",
                  "183.0",
                  "100.0",
                  "33.9",
                  "Organic",
                  "Other Electronics"
                ],
                [
                  "10447",
                  "4.2",
                  "452.0",
                  "50.0",
                  "549.99",
                  "Organic",
                  "TV & Display"
                ],
                [
                  "37142",
                  "4.8",
                  "3552.0",
                  "200.0",
                  "129.99",
                  "Organic",
                  "TV & Display"
                ],
                [
                  "28612",
                  "4.5",
                  "291.0",
                  "400.0",
                  "32.99",
                  "Organic",
                  "Phones"
                ],
                [
                  "2829",
                  "4.4",
                  "3520.0",
                  "1000.0",
                  "119.99",
                  "Sponsored",
                  "Phones"
                ],
                [
                  "9452",
                  "4.2",
                  "60.0",
                  "100.0",
                  "199.99",
                  "Organic",
                  "Storage"
                ],
                [
                  "12141",
                  "4.6",
                  "183.0",
                  "100.0",
                  "33.9",
                  "Organic",
                  "Other Electronics"
                ],
                [
                  "38322",
                  "4.4",
                  "42.0",
                  "100.0",
                  "139.99",
                  "Organic",
                  "Laptops"
                ],
                [
                  "10084",
                  "4.5",
                  "1463.0",
                  "1000.0",
                  "23.99",
                  "Sponsored",
                  "Phones"
                ],
                [
                  "14559",
                  "4.7",
                  "2045.0",
                  "300.0",
                  "10.6",
                  "Organic",
                  "Other Electronics"
                ],
                [
                  "19404",
                  "4.6",
                  "340.0",
                  "100.0",
                  "93.99",
                  "Organic",
                  "Storage"
                ],
                [
                  "36486",
                  "4.7",
                  "386.0",
                  "200.0",
                  "32.99",
                  "Organic",
                  "Speakers"
                ],
                [
                  "14014",
                  "4.4",
                  "109.0",
                  "200.0",
                  "74.93",
                  "Organic",
                  "Networking"
                ],
                [
                  "35645",
                  "3.8",
                  "44.0",
                  "100.0",
                  "199.0",
                  "Organic",
                  "Chargers & Cables"
                ],
                [
                  "4344",
                  "4.8",
                  "7409.0",
                  "1000.0",
                  "17.14",
                  "Organic",
                  "Other Electronics"
                ],
                [
                  "7290",
                  "4.2",
                  "296.0",
                  "100.0",
                  "599.99",
                  "Organic",
                  "Wearables"
                ],
                [
                  "33036",
                  "4.2",
                  "4310.0",
                  "50.0",
                  "539.99",
                  "Organic",
                  "Laptops"
                ],
                [
                  "27441",
                  "3.8",
                  "3304.0",
                  "200.0",
                  "40.99",
                  "Organic",
                  "Power & Batteries"
                ],
                [
                  "12166",
                  "4.7",
                  "2045.0",
                  "300.0",
                  "10.6",
                  "Organic",
                  "Other Electronics"
                ],
                [
                  "24221",
                  "4.9",
                  "26.0",
                  "100.0",
                  "39.99",
                  "Organic",
                  "Laptops"
                ],
                [
                  "17481",
                  "4.5",
                  "457.0",
                  "200.0",
                  "14.29",
                  "Organic",
                  "Other Electronics"
                ],
                [
                  "18160",
                  "4.2",
                  "508.0",
                  "50.0",
                  "369.0",
                  "Organic",
                  "Laptops"
                ],
                [
                  "6182",
                  "4.7",
                  "652.0",
                  "500.0",
                  "39.95",
                  "Organic",
                  "Laptops"
                ],
                [
                  "4689",
                  "4.5",
                  "2620.0",
                  "500.0",
                  "47.99",
                  "Organic",
                  "Storage"
                ],
                [
                  "36225",
                  "4.8",
                  "1926.0",
                  "500.0",
                  "25.99",
                  "Organic",
                  "Laptops"
                ]
              ],
              "shape": {
                "columns": 6,
                "rows": 24182
              }
            },
            "text/html": [
              "<div>\n",
              "<style scoped>\n",
              "    .dataframe tbody tr th:only-of-type {\n",
              "        vertical-align: middle;\n",
              "    }\n",
              "\n",
              "    .dataframe tbody tr th {\n",
              "        vertical-align: top;\n",
              "    }\n",
              "\n",
              "    .dataframe thead th {\n",
              "        text-align: right;\n",
              "    }\n",
              "</style>\n",
              "<table border=\"1\" class=\"dataframe\">\n",
              "  <thead>\n",
              "    <tr style=\"text-align: right;\">\n",
              "      <th></th>\n",
              "      <th>product_rating</th>\n",
              "      <th>total_reviews</th>\n",
              "      <th>purchased_last_month</th>\n",
              "      <th>original_price</th>\n",
              "      <th>is_sponsored</th>\n",
              "      <th>product_category</th>\n",
              "    </tr>\n",
              "  </thead>\n",
              "  <tbody>\n",
              "    <tr>\n",
              "      <th>16916</th>\n",
              "      <td>4.3</td>\n",
              "      <td>381.0</td>\n",
              "      <td>100.0</td>\n",
              "      <td>66.01</td>\n",
              "      <td>Organic</td>\n",
              "      <td>Cameras</td>\n",
              "    </tr>\n",
              "    <tr>\n",
              "      <th>9654</th>\n",
              "      <td>4.4</td>\n",
              "      <td>1146.0</td>\n",
              "      <td>300.0</td>\n",
              "      <td>18.95</td>\n",
              "      <td>Organic</td>\n",
              "      <td>Phones</td>\n",
              "    </tr>\n",
              "    <tr>\n",
              "      <th>36420</th>\n",
              "      <td>3.8</td>\n",
              "      <td>44.0</td>\n",
              "      <td>100.0</td>\n",
              "      <td>199.00</td>\n",
              "      <td>Organic</td>\n",
              "      <td>Chargers &amp; Cables</td>\n",
              "    </tr>\n",
              "    <tr>\n",
              "      <th>1985</th>\n",
              "      <td>4.3</td>\n",
              "      <td>196.0</td>\n",
              "      <td>200.0</td>\n",
              "      <td>129.95</td>\n",
              "      <td>Sponsored</td>\n",
              "      <td>Phones</td>\n",
              "    </tr>\n",
              "    <tr>\n",
              "      <th>39079</th>\n",
              "      <td>4.7</td>\n",
              "      <td>182.0</td>\n",
              "      <td>200.0</td>\n",
              "      <td>101.16</td>\n",
              "      <td>Organic</td>\n",
              "      <td>Laptops</td>\n",
              "    </tr>\n",
              "    <tr>\n",
              "      <th>...</th>\n",
              "      <td>...</td>\n",
              "      <td>...</td>\n",
              "      <td>...</td>\n",
              "      <td>...</td>\n",
              "      <td>...</td>\n",
              "      <td>...</td>\n",
              "    </tr>\n",
              "    <tr>\n",
              "      <th>42006</th>\n",
              "      <td>4.0</td>\n",
              "      <td>1541.0</td>\n",
              "      <td>100.0</td>\n",
              "      <td>239.99</td>\n",
              "      <td>Organic</td>\n",
              "      <td>Printers &amp; Scanners</td>\n",
              "    </tr>\n",
              "    <tr>\n",
              "      <th>6901</th>\n",
              "      <td>4.2</td>\n",
              "      <td>21.0</td>\n",
              "      <td>100.0</td>\n",
              "      <td>162.85</td>\n",
              "      <td>Organic</td>\n",
              "      <td>Cameras</td>\n",
              "    </tr>\n",
              "    <tr>\n",
              "      <th>1037</th>\n",
              "      <td>4.6</td>\n",
              "      <td>14962.0</td>\n",
              "      <td>5000.0</td>\n",
              "      <td>49.99</td>\n",
              "      <td>Organic</td>\n",
              "      <td>Phones</td>\n",
              "    </tr>\n",
              "    <tr>\n",
              "      <th>21954</th>\n",
              "      <td>4.6</td>\n",
              "      <td>1138.0</td>\n",
              "      <td>100.0</td>\n",
              "      <td>49.95</td>\n",
              "      <td>Organic</td>\n",
              "      <td>Cameras</td>\n",
              "    </tr>\n",
              "    <tr>\n",
              "      <th>33596</th>\n",
              "      <td>4.4</td>\n",
              "      <td>3548.0</td>\n",
              "      <td>1000.0</td>\n",
              "      <td>119.99</td>\n",
              "      <td>Sponsored</td>\n",
              "      <td>Phones</td>\n",
              "    </tr>\n",
              "  </tbody>\n",
              "</table>\n",
              "<p>24182 rows × 6 columns</p>\n",
              "</div>"
            ],
            "text/plain": [
              "       product_rating  total_reviews  purchased_last_month  original_price  \\\n",
              "16916             4.3          381.0                 100.0           66.01   \n",
              "9654              4.4         1146.0                 300.0           18.95   \n",
              "36420             3.8           44.0                 100.0          199.00   \n",
              "1985              4.3          196.0                 200.0          129.95   \n",
              "39079             4.7          182.0                 200.0          101.16   \n",
              "...               ...            ...                   ...             ...   \n",
              "42006             4.0         1541.0                 100.0          239.99   \n",
              "6901              4.2           21.0                 100.0          162.85   \n",
              "1037              4.6        14962.0                5000.0           49.99   \n",
              "21954             4.6         1138.0                 100.0           49.95   \n",
              "33596             4.4         3548.0                1000.0          119.99   \n",
              "\n",
              "      is_sponsored     product_category  \n",
              "16916      Organic              Cameras  \n",
              "9654       Organic               Phones  \n",
              "36420      Organic    Chargers & Cables  \n",
              "1985     Sponsored               Phones  \n",
              "39079      Organic              Laptops  \n",
              "...            ...                  ...  \n",
              "42006      Organic  Printers & Scanners  \n",
              "6901       Organic              Cameras  \n",
              "1037       Organic               Phones  \n",
              "21954      Organic              Cameras  \n",
              "33596    Sponsored               Phones  \n",
              "\n",
              "[24182 rows x 6 columns]"
            ]
          },
          "execution_count": 59,
          "metadata": {},
          "output_type": "execute_result"
        }
      ],
      "source": [
        "X_train"
      ]
    },
    {
      "cell_type": "code",
      "execution_count": 60,
      "id": "cf0ad936",
      "metadata": {},
      "outputs": [
        {
          "name": "stdout",
          "output_type": "stream",
          "text": [
            "num_imputer_dict:\n",
            " {'mean': SimpleImputer(), 'median': SimpleImputer(strategy='median'), 'constant': SimpleImputer(strategy='constant')}\n",
            "cate_imputer_dict\n",
            " {'most': SimpleImputer(strategy='most_frequent'), 'constant': SimpleImputer(strategy='constant')}\n"
          ]
        }
      ],
      "source": [
        "num_imputer_dict = tabular.get_preprocesser(\"num_impute\", \"all\")\n",
        "cate_imputer_dict = tabular.get_preprocesser(\"cate_impute\", \"all\")\n",
        "\n",
        "print(\"num_imputer_dict:\\n\", num_imputer_dict)\n",
        "print(\"cate_imputer_dict\\n\", cate_imputer_dict)"
      ]
    },
    {
      "cell_type": "code",
      "execution_count": 61,
      "id": "1f061ee1",
      "metadata": {
        "id": "1f061ee1"
      },
      "outputs": [],
      "source": [
        "missing_config = { # Example of config\n",
        "    \"numeric\": (num_imputer_dict[\"mean\"], [0, 1, 2, 3]),\n",
        "    \"categorical\": (cate_imputer_dict[\"most\"], [4, 5])\n",
        "}\n",
        "\n",
        "missing_value_pipeline = tabular.make_column_pipeline(missing_config)"
      ]
    },
    {
      "cell_type": "code",
      "execution_count": 62,
      "id": "2143c056",
      "metadata": {},
      "outputs": [
        {
          "name": "stdout",
          "output_type": "stream",
          "text": [
            "scaler_dict:\n",
            " {'standard': StandardScaler(), 'minmax': MinMaxScaler(), 'robust': RobustScaler(), 'log1p_robust': Log1pRobustScaler()}\n"
          ]
        }
      ],
      "source": [
        "scaler_dict = tabular.get_preprocesser(\"scale\", \"all\")\n",
        "\n",
        "print(\"scaler_dict:\\n\", scaler_dict)"
      ]
    },
    {
      "cell_type": "code",
      "execution_count": 63,
      "id": "41f0e0dd",
      "metadata": {
        "id": "41f0e0dd"
      },
      "outputs": [],
      "source": [
        "scaling_config = { # Example of config\n",
        "    \"minmax_scaler\": (scaler_dict[\"minmax\"], [0]),\n",
        "    \"robust_scaler\": (scaler_dict[\"log1p_robust\"], [1, 2, 3])\n",
        "}\n",
        "\n",
        "scaling_pipeline = tabular.make_column_pipeline(scaling_config)"
      ]
    },
    {
      "cell_type": "code",
      "execution_count": 64,
      "id": "f1b08bb8",
      "metadata": {},
      "outputs": [
        {
          "name": "stdout",
          "output_type": "stream",
          "text": [
            "pca_dict:\n",
            " {'pca_0.95_auto': PCA(n_components=0.95), 'pca_0.95_full': PCA(n_components=0.99, svd_solver='full'), 'pca_0.99_auto': PCA(n_components=0.99), 'pca_0.99_full': PCA(n_components=0.99, svd_solver='full')}\n"
          ]
        }
      ],
      "source": [
        "pca_dict = tabular.get_preprocesser(\"pca\", \"all\")\n",
        "\n",
        "print(\"pca_dict:\\n\", pca_dict)"
      ]
    },
    {
      "cell_type": "code",
      "execution_count": 65,
      "id": "56ec7c31",
      "metadata": {},
      "outputs": [],
      "source": [
        "pca_config = {\n",
        "    \"pca_0.99_auto\": (pca_dict[\"pca_0.95_auto\"], [0, 1, 2, 3])\n",
        "}\n",
        "\n",
        "pca_pipeline = tabular.make_column_pipeline(pca_config)"
      ]
    },
    {
      "cell_type": "code",
      "execution_count": 66,
      "id": "2e434971",
      "metadata": {},
      "outputs": [
        {
          "name": "stdout",
          "output_type": "stream",
          "text": [
            "encoder_dict:\n",
            " {'onehot': OneHotEncoder(handle_unknown='ignore', sparse_output=False), 'ordinal': OrdinalEncoder(handle_unknown='use_encoded_value', unknown_value=-1)}\n"
          ]
        }
      ],
      "source": [
        "encoder_dict = tabular.get_preprocesser(\"encode\", \"all\")\n",
        "\n",
        "print(\"encoder_dict:\\n\", encoder_dict)"
      ]
    },
    {
      "cell_type": "code",
      "execution_count": 67,
      "id": "1350a651",
      "metadata": {
        "id": "1350a651"
      },
      "outputs": [],
      "source": [
        "encoding_config = { # Example of config\n",
        "    \"onehot_encoder\": (encoder_dict[\"onehot\"], [4, 5])\n",
        "}\n",
        "\n",
        "# Default encoding pipeline\n",
        "encoding_pipeline = tabular.make_column_pipeline(encoding_config)"
      ]
    },
    {
      "cell_type": "markdown",
      "id": "45f3253f",
      "metadata": {},
      "source": [
        "## Processing pipeline"
      ]
    },
    {
      "cell_type": "code",
      "execution_count": 68,
      "id": "cd274c19",
      "metadata": {
        "id": "cd274c19",
        "outputId": "2517a7fa-e312-4582-bba1-34142d1f6f56"
      },
      "outputs": [],
      "source": [
        "# Preprocessing pipeline\n",
        "preprocessing_pipeline = Pipeline(steps=[\n",
        "    # (\"missing\", missing_value_pipeline),\n",
        "    (\"scaling\", scaling_pipeline),\n",
        "    # (\"pca\", pca_pipeline),\n",
        "    (\"encoding\", encoding_pipeline)\n",
        "])"
      ]
    },
    {
      "cell_type": "markdown",
      "id": "922442c7",
      "metadata": {
        "id": "922442c7"
      },
      "source": [
        "# **Train & Evaluate Model**\n"
      ]
    },
    {
      "cell_type": "code",
      "execution_count": 69,
      "id": "b2da3aa2",
      "metadata": {
        "id": "b2da3aa2"
      },
      "outputs": [],
      "source": [
        "# Scaling y_train for better training\n",
        "y_scaler = tabular.Log1pRobustScaler()\n",
        "y_train = pd.DataFrame(y_scaler.fit_transform(y_train.values))"
      ]
    },
    {
      "cell_type": "code",
      "execution_count": 70,
      "id": "27c373d4",
      "metadata": {},
      "outputs": [],
      "source": [
        "X_train = preprocessing_pipeline.fit_transform(X_train)\n",
        "X_test = preprocessing_pipeline.transform(X_test)"
      ]
    },
    {
      "cell_type": "code",
      "execution_count": 71,
      "id": "ec408b40",
      "metadata": {
        "id": "ec408b40"
      },
      "outputs": [],
      "source": [
        "from sklearn.model_selection import ParameterGrid\n",
        "# Model chosing\n",
        "param_grid = [\n",
        "    {\n",
        "        \"model\": [LinearRegression()],\n",
        "        \"model__fit_intercept\": [True],\n",
        "        \"model__copy_X\": [True],\n",
        "        \"model__n_jobs\": [None]\n",
        "    },\n",
        "    {\n",
        "        \"model\": [RandomForestRegressor()],\n",
        "        \"model__n_estimators\": [100],\n",
        "        \"model__criterion\": [\"squared_error\"],\n",
        "        \"model__max_depth\": [None],\n",
        "        \"model__min_samples_split\": [2],\n",
        "        \"model__min_samples_leaf\": [1],\n",
        "        \"model__n_jobs\": [None],\n",
        "        \"model__random_state\": [None]\n",
        "    },\n",
        "    {\n",
        "        \"model\": [SVR()],\n",
        "        \"model__kernel\": [\"rbf\"],\n",
        "        \"model__degree\": [3],\n",
        "        \"model__gamma\": [\"scale\"],\n",
        "        \"model__C\": [1.0],\n",
        "        \"model__epsilon\": [0.1]\n",
        "    },\n",
        "    {\n",
        "        \"model\": [MLPRegressor()],\n",
        "        \"model__hidden_layer_sizes\": [(100,)],\n",
        "        \"model__activation\": [\"relu\"],\n",
        "        \"model__solver\": [\"adam\"],\n",
        "        \"model__alpha\": [0.0001],\n",
        "        \"model__batch_size\": [\"auto\"],\n",
        "        \"model__learning_rate\": [\"constant\"],\n",
        "        \"model__max_iter\": [200],\n",
        "        \"model__random_state\": [None]\n",
        "    }\n",
        "]\n",
        "grid = ParameterGrid(param_grid=param_grid)"
      ]
    },
    {
      "cell_type": "code",
      "execution_count": 72,
      "id": "0dfbd38f",
      "metadata": {
        "id": "0dfbd38f",
        "outputId": "f6b6b3c1-16f6-4683-bad2-5e98cd1e7ec8"
      },
      "outputs": [
        {
          "name": "stdout",
          "output_type": "stream",
          "text": [
            "                  params           mse        rmse        mae        r2\n",
            "0       LinearRegression  11746.016265  108.379040  20.306573  0.826111\n",
            "1  RandomForestRegressor    431.559537   20.774011   3.767127  0.993611\n",
            "2                    SVR   2351.978731   48.497203  21.446804  0.965181\n",
            "3           MLPRegressor   2276.565143   47.713364  13.811468  0.966298\n"
          ]
        }
      ],
      "source": [
        "results = []\n",
        "\n",
        "for params in grid:\n",
        "    # Tạo pipeline với model tương ứng\n",
        "    pipe = Pipeline([\n",
        "        # (\"preprocess\", preprocessing_pipeline),\n",
        "        (\"model\", params[\"model\"])\n",
        "    ])\n",
        "    pipe.set_params(**params)\n",
        "    pipe.set_output(transform=\"pandas\")\n",
        "\n",
        "    pipe.fit(X_train, y_train)\n",
        "    y_pred_scaled = pipe.predict(X_test)\n",
        "    y_pred = pd.DataFrame(y_scaler.inverse_transform(y_pred_scaled.reshape(-1, 1)))\n",
        "\n",
        "    mse = mean_squared_error(y_test, y_pred)\n",
        "    rmse = np.sqrt(mse)\n",
        "    mae = mean_absolute_error(y_test, y_pred)\n",
        "    r2  = r2_score(y_test, y_pred)\n",
        "\n",
        "    # Lưu kết quả\n",
        "    results.append({\n",
        "        \"params\": params[\"model\"].__class__.__name__,\n",
        "        \"mse\": mse,\n",
        "        \"rmse\": rmse,\n",
        "        \"mae\": mae,\n",
        "        \"r2\": r2\n",
        "    })\n",
        "\n",
        "# Xuất kết quả ra DataFrame\n",
        "df_results = pd.DataFrame(results)\n",
        "print(df_results)"
      ]
    },
    {
      "cell_type": "markdown",
      "id": "491fb60c",
      "metadata": {},
      "source": [
        "# **Autotrain model with multi config**"
      ]
    },
    {
      "cell_type": "code",
      "execution_count": null,
      "id": "06245ac7",
      "metadata": {},
      "outputs": [],
      "source": [
        "preprocess_config = [\n",
        "    {\n",
        "        \"num_impute\": num_impute,\n",
        "        \"cate_impute\": cate_impute,\n",
        "        \"scale\": scale,\n",
        "        \"pca\": pca,\n",
        "        \"encode\": encode\n",
        "    }\n",
        "    for num_impute in [\"none\", \"mean\", \"median\"]\n",
        "    for cate_impute in [\"none\", \"most\"]\n",
        "    for scale in [\"none\", \"standard\", \"minmax\", \"robust\", \"log1p_robust\"]\n",
        "    for pca in [\"none\", \"pca_0.95_auto\", \"pca_0.95_full\", \"pca_0.99_auto\", \"pca_0.99_full\"]\n",
        "    for encode in [\"onehot\", \"ordinal\"]\n",
        "]\n",
        "# You can make a new param grid for multi model"
      ]
    },
    {
      "cell_type": "code",
      "execution_count": 74,
      "id": "bc9d5210",
      "metadata": {},
      "outputs": [],
      "source": [
        "main_data = df[use_cols]"
      ]
    },
    {
      "cell_type": "code",
      "execution_count": 75,
      "id": "d4a345ad",
      "metadata": {},
      "outputs": [
        {
          "data": {
            "application/vnd.microsoft.datawrangler.viewer.v0+json": {
              "columns": [
                {
                  "name": "index",
                  "rawType": "int64",
                  "type": "integer"
                },
                {
                  "name": "product_rating",
                  "rawType": "float64",
                  "type": "float"
                },
                {
                  "name": "total_reviews",
                  "rawType": "float64",
                  "type": "float"
                },
                {
                  "name": "purchased_last_month",
                  "rawType": "float64",
                  "type": "float"
                },
                {
                  "name": "discounted_price",
                  "rawType": "float64",
                  "type": "float"
                },
                {
                  "name": "original_price",
                  "rawType": "float64",
                  "type": "float"
                },
                {
                  "name": "is_sponsored",
                  "rawType": "object",
                  "type": "string"
                },
                {
                  "name": "product_category",
                  "rawType": "object",
                  "type": "string"
                }
              ],
              "ref": "18270a2e-3971-4ef7-b3e8-e48e90493a98",
              "rows": [
                [
                  "0",
                  "4.6",
                  "375.0",
                  "300.0",
                  "89.68",
                  "159.0",
                  "Sponsored",
                  "Phones"
                ],
                [
                  "1",
                  "4.3",
                  "2457.0",
                  "6000.0",
                  "9.99",
                  "15.99",
                  "Sponsored",
                  "Laptops"
                ],
                [
                  "2",
                  "4.6",
                  "3044.0",
                  "2000.0",
                  "314.0",
                  "349.0",
                  "Sponsored",
                  "Laptops"
                ],
                [
                  "3",
                  "4.6",
                  "35882.0",
                  "10000.0",
                  "162.24",
                  "162.24",
                  "Organic",
                  "Phones"
                ],
                [
                  "4",
                  "4.8",
                  "28988.0",
                  "10000.0",
                  "72.74",
                  "72.74",
                  "Organic",
                  "Phones"
                ],
                [
                  "5",
                  "4.6",
                  "44522.0",
                  "100000.0",
                  "99.95",
                  "99.95",
                  "Organic",
                  "Other Electronics"
                ],
                [
                  "6",
                  "4.5",
                  "13466.0",
                  "10000.0",
                  "88.11",
                  "88.11",
                  "Organic",
                  "Phones"
                ],
                [
                  "7",
                  "4.6",
                  "38105.0",
                  "10000.0",
                  "23.04",
                  "23.04",
                  "Organic",
                  "Phones"
                ],
                [
                  "8",
                  "4.0",
                  "4380.0",
                  null,
                  "16.99",
                  "16.99",
                  "Organic",
                  "Other Electronics"
                ],
                [
                  "9",
                  "4.7",
                  "7308.0",
                  "10000.0",
                  "284.05",
                  "284.05",
                  "Organic",
                  "Cameras"
                ],
                [
                  "10",
                  "4.7",
                  "865598.0",
                  "100000.0",
                  "14.99",
                  "14.99",
                  "Organic",
                  "Laptops"
                ],
                [
                  "11",
                  "4.8",
                  "1914.0",
                  "10000.0",
                  "880.95",
                  "880.95",
                  "Organic",
                  "Laptops"
                ],
                [
                  "12",
                  "4.2",
                  "152.0",
                  "100.0",
                  "29.99",
                  "29.99",
                  "Sponsored",
                  "Phones"
                ],
                [
                  "13",
                  "4.4",
                  "12076.0",
                  "1000.0",
                  "249.99",
                  "249.99",
                  "Sponsored",
                  "Storage"
                ],
                [
                  "14",
                  "4.7",
                  "7235.0",
                  "500.0",
                  "69.95",
                  "69.95",
                  "Sponsored",
                  "Cameras"
                ],
                [
                  "15",
                  "4.7",
                  "48468.0",
                  "100000.0",
                  "17.45",
                  "17.45",
                  "Organic",
                  "Other Electronics"
                ],
                [
                  "16",
                  "4.8",
                  "198512.0",
                  "80000.0",
                  "39.97",
                  "39.97",
                  "Organic",
                  "Printers & Scanners"
                ],
                [
                  "17",
                  "4.7",
                  "625776.0",
                  "100000.0",
                  "14.49",
                  "14.49",
                  "Organic",
                  "Laptops"
                ],
                [
                  "18",
                  "4.8",
                  "88965.0",
                  "100000.0",
                  "16.98",
                  "16.98",
                  "Organic",
                  "Other Electronics"
                ],
                [
                  "19",
                  "4.6",
                  "1909.0",
                  "10000.0",
                  "33.51",
                  "33.51",
                  "Organic",
                  "TV & Display"
                ],
                [
                  "20",
                  "4.8",
                  "61157.0",
                  "100000.0",
                  "16.95",
                  "19.98",
                  "Organic",
                  "Power & Batteries"
                ],
                [
                  "21",
                  "4.6",
                  "12840.0",
                  "10000.0",
                  "146.14",
                  "146.14",
                  "Organic",
                  "TV & Display"
                ],
                [
                  "22",
                  "4.8",
                  "54244.0",
                  "100000.0",
                  "9.89",
                  "14.33",
                  "Organic",
                  "Other Electronics"
                ],
                [
                  "23",
                  "4.6",
                  "15087.0",
                  "10000.0",
                  "16.1",
                  "16.1",
                  "Organic",
                  "Phones"
                ],
                [
                  "24",
                  "4.7",
                  "84821.0",
                  "100000.0",
                  null,
                  null,
                  "Organic",
                  "Power & Batteries"
                ],
                [
                  "25",
                  "4.8",
                  "43002.0",
                  "70000.0",
                  "15.15",
                  "17.99",
                  "Organic",
                  "Power & Batteries"
                ],
                [
                  "26",
                  "4.8",
                  "125404.0",
                  "80000.0",
                  "18.79",
                  "21.89",
                  "Organic",
                  "Power & Batteries"
                ],
                [
                  "27",
                  "4.5",
                  "108926.0",
                  "10000.0",
                  "9.54",
                  "9.54",
                  "Organic",
                  "Phones"
                ],
                [
                  "28",
                  "4.6",
                  "59092.0",
                  "50000.0",
                  "43.89",
                  "43.89",
                  "Organic",
                  "Laptops"
                ],
                [
                  "29",
                  "4.6",
                  "101072.0",
                  "50000.0",
                  "35.89",
                  "35.89",
                  "Organic",
                  "Laptops"
                ],
                [
                  "30",
                  "4.5",
                  "171.0",
                  null,
                  "134.39",
                  "134.39",
                  "Sponsored",
                  "Phones"
                ],
                [
                  "31",
                  "4.6",
                  "276.0",
                  null,
                  "42.99",
                  "42.99",
                  "Sponsored",
                  "Laptops"
                ],
                [
                  "32",
                  "4.4",
                  "358.0",
                  null,
                  "239.99",
                  "239.99",
                  "Sponsored",
                  "Storage"
                ],
                [
                  "33",
                  "4.8",
                  "36122.0",
                  "70000.0",
                  "16.99",
                  "20.0",
                  "Organic",
                  "Other Electronics"
                ],
                [
                  "34",
                  "4.7",
                  "123411.0",
                  "10000.0",
                  "11.06",
                  "11.06",
                  "Organic",
                  "Chargers & Cables"
                ],
                [
                  "35",
                  "4.8",
                  "44109.0",
                  "10000.0",
                  "39.97",
                  "48.99",
                  "Organic",
                  "TV & Display"
                ],
                [
                  "36",
                  "4.7",
                  "32810.0",
                  "40000.0",
                  null,
                  null,
                  "Organic",
                  "Power & Batteries"
                ],
                [
                  "37",
                  "4.8",
                  "103375.0",
                  "10000.0",
                  "13.86",
                  "19.99",
                  "Organic",
                  "Other Electronics"
                ],
                [
                  "38",
                  "4.3",
                  "26559.0",
                  "10000.0",
                  "29.95",
                  "29.95",
                  "Organic",
                  "Headphones"
                ],
                [
                  "39",
                  "4.6",
                  "4676.0",
                  "10000.0",
                  "148.0",
                  "148.0",
                  "Organic",
                  "Phones"
                ],
                [
                  "40",
                  "4.8",
                  "70083.0",
                  "40000.0",
                  "23.1",
                  "38.98",
                  "Organic",
                  "Power & Batteries"
                ],
                [
                  "41",
                  "4.8",
                  "53340.0",
                  "70000.0",
                  "11.1",
                  "14.39",
                  "Organic",
                  "Other Electronics"
                ],
                [
                  "42",
                  "4.8",
                  "67965.0",
                  "60000.0",
                  "20.39",
                  "21.89",
                  "Organic",
                  "Power & Batteries"
                ],
                [
                  "43",
                  "4.1",
                  "450.0",
                  "20000.0",
                  "119.99",
                  "169.99",
                  "Organic",
                  "Laptops"
                ],
                [
                  "44",
                  "4.9",
                  "72360.0",
                  "70000.0",
                  "11.99",
                  "19.99",
                  "Organic",
                  "Other Electronics"
                ],
                [
                  "45",
                  "4.2",
                  "33507.0",
                  "10000.0",
                  "19.99",
                  "29.99",
                  "Organic",
                  "Networking"
                ],
                [
                  "46",
                  "4.4",
                  "15848.0",
                  "10000.0",
                  "159.0",
                  "219.99",
                  "Organic",
                  "Phones"
                ],
                [
                  "47",
                  "4.7",
                  "11785.0",
                  "10000.0",
                  "280.12",
                  "280.12",
                  "Organic",
                  "TV & Display"
                ],
                [
                  "48",
                  "4.8",
                  "10981.0",
                  "50000.0",
                  "17.97",
                  "17.97",
                  "Organic",
                  "Other Electronics"
                ],
                [
                  "49",
                  "4.7",
                  "17495.0",
                  "60000.0",
                  "10.82",
                  "15.0",
                  "Organic",
                  "Other Electronics"
                ]
              ],
              "shape": {
                "columns": 7,
                "rows": 42675
              }
            },
            "text/html": [
              "<div>\n",
              "<style scoped>\n",
              "    .dataframe tbody tr th:only-of-type {\n",
              "        vertical-align: middle;\n",
              "    }\n",
              "\n",
              "    .dataframe tbody tr th {\n",
              "        vertical-align: top;\n",
              "    }\n",
              "\n",
              "    .dataframe thead th {\n",
              "        text-align: right;\n",
              "    }\n",
              "</style>\n",
              "<table border=\"1\" class=\"dataframe\">\n",
              "  <thead>\n",
              "    <tr style=\"text-align: right;\">\n",
              "      <th></th>\n",
              "      <th>product_rating</th>\n",
              "      <th>total_reviews</th>\n",
              "      <th>purchased_last_month</th>\n",
              "      <th>discounted_price</th>\n",
              "      <th>original_price</th>\n",
              "      <th>is_sponsored</th>\n",
              "      <th>product_category</th>\n",
              "    </tr>\n",
              "  </thead>\n",
              "  <tbody>\n",
              "    <tr>\n",
              "      <th>0</th>\n",
              "      <td>4.6</td>\n",
              "      <td>375.0</td>\n",
              "      <td>300.0</td>\n",
              "      <td>89.68</td>\n",
              "      <td>159.00</td>\n",
              "      <td>Sponsored</td>\n",
              "      <td>Phones</td>\n",
              "    </tr>\n",
              "    <tr>\n",
              "      <th>1</th>\n",
              "      <td>4.3</td>\n",
              "      <td>2457.0</td>\n",
              "      <td>6000.0</td>\n",
              "      <td>9.99</td>\n",
              "      <td>15.99</td>\n",
              "      <td>Sponsored</td>\n",
              "      <td>Laptops</td>\n",
              "    </tr>\n",
              "    <tr>\n",
              "      <th>2</th>\n",
              "      <td>4.6</td>\n",
              "      <td>3044.0</td>\n",
              "      <td>2000.0</td>\n",
              "      <td>314.00</td>\n",
              "      <td>349.00</td>\n",
              "      <td>Sponsored</td>\n",
              "      <td>Laptops</td>\n",
              "    </tr>\n",
              "    <tr>\n",
              "      <th>3</th>\n",
              "      <td>4.6</td>\n",
              "      <td>35882.0</td>\n",
              "      <td>10000.0</td>\n",
              "      <td>162.24</td>\n",
              "      <td>162.24</td>\n",
              "      <td>Organic</td>\n",
              "      <td>Phones</td>\n",
              "    </tr>\n",
              "    <tr>\n",
              "      <th>4</th>\n",
              "      <td>4.8</td>\n",
              "      <td>28988.0</td>\n",
              "      <td>10000.0</td>\n",
              "      <td>72.74</td>\n",
              "      <td>72.74</td>\n",
              "      <td>Organic</td>\n",
              "      <td>Phones</td>\n",
              "    </tr>\n",
              "    <tr>\n",
              "      <th>...</th>\n",
              "      <td>...</td>\n",
              "      <td>...</td>\n",
              "      <td>...</td>\n",
              "      <td>...</td>\n",
              "      <td>...</td>\n",
              "      <td>...</td>\n",
              "      <td>...</td>\n",
              "    </tr>\n",
              "    <tr>\n",
              "      <th>42670</th>\n",
              "      <td>5.0</td>\n",
              "      <td>1.0</td>\n",
              "      <td>100.0</td>\n",
              "      <td>195.99</td>\n",
              "      <td>195.99</td>\n",
              "      <td>Organic</td>\n",
              "      <td>TV &amp; Display</td>\n",
              "    </tr>\n",
              "    <tr>\n",
              "      <th>42671</th>\n",
              "      <td>4.2</td>\n",
              "      <td>20.0</td>\n",
              "      <td>200.0</td>\n",
              "      <td>89.99</td>\n",
              "      <td>89.99</td>\n",
              "      <td>Organic</td>\n",
              "      <td>Cameras</td>\n",
              "    </tr>\n",
              "    <tr>\n",
              "      <th>42672</th>\n",
              "      <td>4.3</td>\n",
              "      <td>57.0</td>\n",
              "      <td>50.0</td>\n",
              "      <td>899.99</td>\n",
              "      <td>1099.99</td>\n",
              "      <td>Organic</td>\n",
              "      <td>Chargers &amp; Cables</td>\n",
              "    </tr>\n",
              "    <tr>\n",
              "      <th>42673</th>\n",
              "      <td>4.7</td>\n",
              "      <td>7102.0</td>\n",
              "      <td>500.0</td>\n",
              "      <td>10.39</td>\n",
              "      <td>15.98</td>\n",
              "      <td>Organic</td>\n",
              "      <td>Chargers &amp; Cables</td>\n",
              "    </tr>\n",
              "    <tr>\n",
              "      <th>42674</th>\n",
              "      <td>4.4</td>\n",
              "      <td>75.0</td>\n",
              "      <td>50.0</td>\n",
              "      <td>419.99</td>\n",
              "      <td>499.99</td>\n",
              "      <td>Organic</td>\n",
              "      <td>Cameras</td>\n",
              "    </tr>\n",
              "  </tbody>\n",
              "</table>\n",
              "<p>42675 rows × 7 columns</p>\n",
              "</div>"
            ],
            "text/plain": [
              "       product_rating  total_reviews  purchased_last_month  discounted_price  \\\n",
              "0                 4.6          375.0                 300.0             89.68   \n",
              "1                 4.3         2457.0                6000.0              9.99   \n",
              "2                 4.6         3044.0                2000.0            314.00   \n",
              "3                 4.6        35882.0               10000.0            162.24   \n",
              "4                 4.8        28988.0               10000.0             72.74   \n",
              "...               ...            ...                   ...               ...   \n",
              "42670             5.0            1.0                 100.0            195.99   \n",
              "42671             4.2           20.0                 200.0             89.99   \n",
              "42672             4.3           57.0                  50.0            899.99   \n",
              "42673             4.7         7102.0                 500.0             10.39   \n",
              "42674             4.4           75.0                  50.0            419.99   \n",
              "\n",
              "       original_price is_sponsored   product_category  \n",
              "0              159.00    Sponsored             Phones  \n",
              "1               15.99    Sponsored            Laptops  \n",
              "2              349.00    Sponsored            Laptops  \n",
              "3              162.24      Organic             Phones  \n",
              "4               72.74      Organic             Phones  \n",
              "...               ...          ...                ...  \n",
              "42670          195.99      Organic       TV & Display  \n",
              "42671           89.99      Organic            Cameras  \n",
              "42672         1099.99      Organic  Chargers & Cables  \n",
              "42673           15.98      Organic  Chargers & Cables  \n",
              "42674          499.99      Organic            Cameras  \n",
              "\n",
              "[42675 rows x 7 columns]"
            ]
          },
          "execution_count": 75,
          "metadata": {},
          "output_type": "execute_result"
        }
      ],
      "source": [
        "main_data"
      ]
    },
    {
      "cell_type": "code",
      "execution_count": 76,
      "id": "17134656",
      "metadata": {},
      "outputs": [],
      "source": [
        "split_datasets = tabular.preprocess(preprocess_config, main_data, \"discounted_price\")"
      ]
    },
    {
      "cell_type": "code",
      "execution_count": 77,
      "id": "a55369b2",
      "metadata": {},
      "outputs": [
        {
          "data": {
            "application/vnd.microsoft.datawrangler.viewer.v0+json": {
              "columns": [
                {
                  "name": "index",
                  "rawType": "int64",
                  "type": "integer"
                },
                {
                  "name": "num_impute",
                  "rawType": "object",
                  "type": "string"
                },
                {
                  "name": "cate_impute",
                  "rawType": "object",
                  "type": "string"
                },
                {
                  "name": "scale",
                  "rawType": "object",
                  "type": "string"
                },
                {
                  "name": "pca",
                  "rawType": "object",
                  "type": "string"
                },
                {
                  "name": "encode",
                  "rawType": "object",
                  "type": "string"
                },
                {
                  "name": "data",
                  "rawType": "object",
                  "type": "unknown"
                }
              ],
              "ref": "30bcf19c-db6b-4be3-a296-18fab259aa7c",
              "rows": [
                [
                  "0",
                  "none",
                  "none",
                  "none",
                  "none",
                  "onehot",
                  "(array([[1.0000e+00, 0.0000e+00, 1.0000e+00, ..., 3.8100e+02, 1.0000e+02,\n        6.6010e+01],\n       [1.0000e+00, 0.0000e+00, 0.0000e+00, ..., 1.1460e+03, 3.0000e+02,\n        1.8950e+01],\n       [1.0000e+00, 0.0000e+00, 0.0000e+00, ..., 4.4000e+01, 1.0000e+02,\n        1.9900e+02],\n       ...,\n       [1.0000e+00, 0.0000e+00, 0.0000e+00, ..., 1.4962e+04, 5.0000e+03,\n        4.9990e+01],\n       [1.0000e+00, 0.0000e+00, 1.0000e+00, ..., 1.1380e+03, 1.0000e+02,\n        4.9950e+01],\n       [0.0000e+00, 1.0000e+00, 0.0000e+00, ..., 3.5480e+03, 1.0000e+03,\n        1.1999e+02]], shape=(24182, 21)), array([[1.0000e+00, 0.0000e+00, 0.0000e+00, ..., 2.4100e+02, 2.0000e+02,\n        5.7990e+01],\n       [1.0000e+00, 0.0000e+00, 0.0000e+00, ..., 7.9800e+02, 1.0000e+02,\n        1.2300e+02],\n       [1.0000e+00, 0.0000e+00, 0.0000e+00, ..., 1.1000e+01, 5.0000e+01,\n        7.3900e+02],\n       ...,\n       [1.0000e+00, 0.0000e+00, 0.0000e+00, ..., 1.3500e+02, 1.0000e+02,\n        4.1740e+01],\n       [1.0000e+00, 0.0000e+00, 0.0000e+00, ..., 7.3000e+01, 1.0000e+02,\n        1.0999e+02],\n       [1.0000e+00, 0.0000e+00, 0.0000e+00, ..., 5.2050e+03, 3.0000e+02,\n        1.6870e+01]], shape=(6046, 21)), 16916     62.90\n9654      15.99\n36420    199.00\n1985     119.99\n39079    101.16\n          ...  \n42006    173.33\n6901     162.85\n1037      19.98\n21954     31.05\n33596    119.99\nName: discounted_price, Length: 24182, dtype: float64, 35548     57.99\n39850    123.00\n27699    739.00\n4573      69.95\n36461    769.00\n          ...  \n39164    199.00\n39062    184.95\n13284     41.74\n33622     71.89\n24506     16.87\nName: discounted_price, Length: 6046, dtype: float64)"
                ],
                [
                  "1",
                  "none",
                  "none",
                  "none",
                  "none",
                  "ordinal",
                  "(array([[0.0000e+00, 0.0000e+00, 4.3000e+00, 3.8100e+02, 1.0000e+02,\n        6.6010e+01],\n       [0.0000e+00, 7.0000e+00, 4.4000e+00, 1.1460e+03, 3.0000e+02,\n        1.8950e+01],\n       [0.0000e+00, 1.0000e+00, 3.8000e+00, 4.4000e+01, 1.0000e+02,\n        1.9900e+02],\n       ...,\n       [0.0000e+00, 7.0000e+00, 4.6000e+00, 1.4962e+04, 5.0000e+03,\n        4.9990e+01],\n       [0.0000e+00, 0.0000e+00, 4.6000e+00, 1.1380e+03, 1.0000e+02,\n        4.9950e+01],\n       [1.0000e+00, 7.0000e+00, 4.4000e+00, 3.5480e+03, 1.0000e+03,\n        1.1999e+02]], shape=(24182, 6)), array([[0.0000e+00, 7.0000e+00, 3.8000e+00, 2.4100e+02, 2.0000e+02,\n        5.7990e+01],\n       [0.0000e+00, 4.0000e+00, 3.9000e+00, 7.9800e+02, 1.0000e+02,\n        1.2300e+02],\n       [0.0000e+00, 4.0000e+00, 4.9000e+00, 1.1000e+01, 5.0000e+01,\n        7.3900e+02],\n       ...,\n       [0.0000e+00, 6.0000e+00, 4.5000e+00, 1.3500e+02, 1.0000e+02,\n        4.1740e+01],\n       [0.0000e+00, 1.1000e+01, 4.6000e+00, 7.3000e+01, 1.0000e+02,\n        1.0999e+02],\n       [0.0000e+00, 4.0000e+00, 4.7000e+00, 5.2050e+03, 3.0000e+02,\n        1.6870e+01]], shape=(6046, 6)), 16916     62.90\n9654      15.99\n36420    199.00\n1985     119.99\n39079    101.16\n          ...  \n42006    173.33\n6901     162.85\n1037      19.98\n21954     31.05\n33596    119.99\nName: discounted_price, Length: 24182, dtype: float64, 35548     57.99\n39850    123.00\n27699    739.00\n4573      69.95\n36461    769.00\n          ...  \n39164    199.00\n39062    184.95\n13284     41.74\n33622     71.89\n24506     16.87\nName: discounted_price, Length: 6046, dtype: float64)"
                ],
                [
                  "2",
                  "none",
                  "none",
                  "none",
                  "pca_0.95_auto",
                  "onehot",
                  "(array([[-3.51613651e+03, -7.54361269e+02,  1.00000000e+00, ...,\n         0.00000000e+00,  0.00000000e+00,  0.00000000e+00],\n       [-2.72997608e+03, -6.68800072e+02,  1.00000000e+00, ...,\n         0.00000000e+00,  0.00000000e+00,  0.00000000e+00],\n       [-3.84969558e+03, -7.05257893e+02,  1.00000000e+00, ...,\n         0.00000000e+00,  0.00000000e+00,  0.00000000e+00],\n       ...,\n       [ 1.16266120e+04,  1.94983660e+03,  1.00000000e+00, ...,\n         0.00000000e+00,  0.00000000e+00,  0.00000000e+00],\n       [-2.76732846e+03, -8.65549753e+02,  1.00000000e+00, ...,\n         0.00000000e+00,  0.00000000e+00,  0.00000000e+00],\n       [-2.51358552e+02, -3.29686813e+02,  0.00000000e+00, ...,\n         0.00000000e+00,  0.00000000e+00,  0.00000000e+00]],\n      shape=(24182, 19)), array([[-3.63990925e+03, -6.34849550e+02,  1.00000000e+00, ...,\n         0.00000000e+00,  0.00000000e+00,  0.00000000e+00],\n       [-3.10375687e+03, -8.15817236e+02,  1.00000000e+00, ...,\n         0.00000000e+00,  0.00000000e+00,  0.00000000e+00],\n       [-3.89056818e+03, -7.51562000e+02,  1.00000000e+00, ...,\n         0.00000000e+00,  0.00000000e+00,  0.00000000e+00],\n       ...,\n       [-3.75942614e+03, -7.18136042e+02,  1.00000000e+00, ...,\n         0.00000000e+00,  0.00000000e+00,  0.00000000e+00],\n       [-3.82086474e+03, -7.09239729e+02,  1.00000000e+00, ...,\n         0.00000000e+00,  0.00000000e+00,  0.00000000e+00],\n       [ 1.28496152e+03, -1.26525173e+03,  1.00000000e+00, ...,\n         0.00000000e+00,  0.00000000e+00,  0.00000000e+00]],\n      shape=(6046, 19)), 16916     62.90\n9654      15.99\n36420    199.00\n1985     119.99\n39079    101.16\n          ...  \n42006    173.33\n6901     162.85\n1037      19.98\n21954     31.05\n33596    119.99\nName: discounted_price, Length: 24182, dtype: float64, 35548     57.99\n39850    123.00\n27699    739.00\n4573      69.95\n36461    769.00\n          ...  \n39164    199.00\n39062    184.95\n13284     41.74\n33622     71.89\n24506     16.87\nName: discounted_price, Length: 6046, dtype: float64)"
                ],
                [
                  "3",
                  "none",
                  "none",
                  "none",
                  "pca_0.95_auto",
                  "ordinal",
                  "(array([[-3.51613651e+03, -7.54361269e+02,  0.00000000e+00,\n         0.00000000e+00],\n       [-2.72997608e+03, -6.68800072e+02,  0.00000000e+00,\n         7.00000000e+00],\n       [-3.84969558e+03, -7.05257893e+02,  0.00000000e+00,\n         1.00000000e+00],\n       ...,\n       [ 1.16266120e+04,  1.94983660e+03,  0.00000000e+00,\n         7.00000000e+00],\n       [-2.76732846e+03, -8.65549753e+02,  0.00000000e+00,\n         0.00000000e+00],\n       [-2.51358552e+02, -3.29686813e+02,  1.00000000e+00,\n         7.00000000e+00]], shape=(24182, 4)), array([[-3639.90924976,  -634.84954986,     0.        ,     7.        ],\n       [-3103.75686505,  -815.81723643,     0.        ,     4.        ],\n       [-3890.56818134,  -751.56200016,     0.        ,     4.        ],\n       ...,\n       [-3759.42613619,  -718.13604213,     0.        ,     6.        ],\n       [-3820.86473886,  -709.23972874,     0.        ,    11.        ],\n       [ 1284.96152056, -1265.2517273 ,     0.        ,     4.        ]],\n      shape=(6046, 4)), 16916     62.90\n9654      15.99\n36420    199.00\n1985     119.99\n39079    101.16\n          ...  \n42006    173.33\n6901     162.85\n1037      19.98\n21954     31.05\n33596    119.99\nName: discounted_price, Length: 24182, dtype: float64, 35548     57.99\n39850    123.00\n27699    739.00\n4573      69.95\n36461    769.00\n          ...  \n39164    199.00\n39062    184.95\n13284     41.74\n33622     71.89\n24506     16.87\nName: discounted_price, Length: 6046, dtype: float64)"
                ],
                [
                  "4",
                  "none",
                  "none",
                  "none",
                  "pca_0.95_full",
                  "onehot",
                  "(array([[-3.51613651e+03, -7.54361269e+02,  1.00000000e+00, ...,\n         0.00000000e+00,  0.00000000e+00,  0.00000000e+00],\n       [-2.72997608e+03, -6.68800072e+02,  1.00000000e+00, ...,\n         0.00000000e+00,  0.00000000e+00,  0.00000000e+00],\n       [-3.84969558e+03, -7.05257893e+02,  1.00000000e+00, ...,\n         0.00000000e+00,  0.00000000e+00,  0.00000000e+00],\n       ...,\n       [ 1.16266120e+04,  1.94983660e+03,  1.00000000e+00, ...,\n         0.00000000e+00,  0.00000000e+00,  0.00000000e+00],\n       [-2.76732846e+03, -8.65549753e+02,  1.00000000e+00, ...,\n         0.00000000e+00,  0.00000000e+00,  0.00000000e+00],\n       [-2.51358552e+02, -3.29686813e+02,  0.00000000e+00, ...,\n         0.00000000e+00,  0.00000000e+00,  0.00000000e+00]],\n      shape=(24182, 19)), array([[-3.63990925e+03, -6.34849550e+02,  1.00000000e+00, ...,\n         0.00000000e+00,  0.00000000e+00,  0.00000000e+00],\n       [-3.10375687e+03, -8.15817236e+02,  1.00000000e+00, ...,\n         0.00000000e+00,  0.00000000e+00,  0.00000000e+00],\n       [-3.89056818e+03, -7.51562000e+02,  1.00000000e+00, ...,\n         0.00000000e+00,  0.00000000e+00,  0.00000000e+00],\n       ...,\n       [-3.75942614e+03, -7.18136042e+02,  1.00000000e+00, ...,\n         0.00000000e+00,  0.00000000e+00,  0.00000000e+00],\n       [-3.82086474e+03, -7.09239729e+02,  1.00000000e+00, ...,\n         0.00000000e+00,  0.00000000e+00,  0.00000000e+00],\n       [ 1.28496152e+03, -1.26525173e+03,  1.00000000e+00, ...,\n         0.00000000e+00,  0.00000000e+00,  0.00000000e+00]],\n      shape=(6046, 19)), 16916     62.90\n9654      15.99\n36420    199.00\n1985     119.99\n39079    101.16\n          ...  \n42006    173.33\n6901     162.85\n1037      19.98\n21954     31.05\n33596    119.99\nName: discounted_price, Length: 24182, dtype: float64, 35548     57.99\n39850    123.00\n27699    739.00\n4573      69.95\n36461    769.00\n          ...  \n39164    199.00\n39062    184.95\n13284     41.74\n33622     71.89\n24506     16.87\nName: discounted_price, Length: 6046, dtype: float64)"
                ],
                [
                  "5",
                  "none",
                  "none",
                  "none",
                  "pca_0.95_full",
                  "ordinal",
                  "(array([[-3.51613651e+03, -7.54361269e+02,  0.00000000e+00,\n         0.00000000e+00],\n       [-2.72997608e+03, -6.68800072e+02,  0.00000000e+00,\n         7.00000000e+00],\n       [-3.84969558e+03, -7.05257893e+02,  0.00000000e+00,\n         1.00000000e+00],\n       ...,\n       [ 1.16266120e+04,  1.94983660e+03,  0.00000000e+00,\n         7.00000000e+00],\n       [-2.76732846e+03, -8.65549753e+02,  0.00000000e+00,\n         0.00000000e+00],\n       [-2.51358552e+02, -3.29686813e+02,  1.00000000e+00,\n         7.00000000e+00]], shape=(24182, 4)), array([[-3639.90924976,  -634.84954986,     0.        ,     7.        ],\n       [-3103.75686505,  -815.81723643,     0.        ,     4.        ],\n       [-3890.56818134,  -751.56200016,     0.        ,     4.        ],\n       ...,\n       [-3759.42613619,  -718.13604213,     0.        ,     6.        ],\n       [-3820.86473886,  -709.23972874,     0.        ,    11.        ],\n       [ 1284.96152056, -1265.2517273 ,     0.        ,     4.        ]],\n      shape=(6046, 4)), 16916     62.90\n9654      15.99\n36420    199.00\n1985     119.99\n39079    101.16\n          ...  \n42006    173.33\n6901     162.85\n1037      19.98\n21954     31.05\n33596    119.99\nName: discounted_price, Length: 24182, dtype: float64, 35548     57.99\n39850    123.00\n27699    739.00\n4573      69.95\n36461    769.00\n          ...  \n39164    199.00\n39062    184.95\n13284     41.74\n33622     71.89\n24506     16.87\nName: discounted_price, Length: 6046, dtype: float64)"
                ],
                [
                  "6",
                  "none",
                  "none",
                  "none",
                  "pca_0.99_auto",
                  "onehot",
                  "(array([[-3.51613651e+03, -7.54361269e+02,  1.00000000e+00, ...,\n         0.00000000e+00,  0.00000000e+00,  0.00000000e+00],\n       [-2.72997608e+03, -6.68800072e+02,  1.00000000e+00, ...,\n         0.00000000e+00,  0.00000000e+00,  0.00000000e+00],\n       [-3.84969558e+03, -7.05257893e+02,  1.00000000e+00, ...,\n         0.00000000e+00,  0.00000000e+00,  0.00000000e+00],\n       ...,\n       [ 1.16266120e+04,  1.94983660e+03,  1.00000000e+00, ...,\n         0.00000000e+00,  0.00000000e+00,  0.00000000e+00],\n       [-2.76732846e+03, -8.65549753e+02,  1.00000000e+00, ...,\n         0.00000000e+00,  0.00000000e+00,  0.00000000e+00],\n       [-2.51358552e+02, -3.29686813e+02,  0.00000000e+00, ...,\n         0.00000000e+00,  0.00000000e+00,  0.00000000e+00]],\n      shape=(24182, 19)), array([[-3.63990925e+03, -6.34849550e+02,  1.00000000e+00, ...,\n         0.00000000e+00,  0.00000000e+00,  0.00000000e+00],\n       [-3.10375687e+03, -8.15817236e+02,  1.00000000e+00, ...,\n         0.00000000e+00,  0.00000000e+00,  0.00000000e+00],\n       [-3.89056818e+03, -7.51562000e+02,  1.00000000e+00, ...,\n         0.00000000e+00,  0.00000000e+00,  0.00000000e+00],\n       ...,\n       [-3.75942614e+03, -7.18136042e+02,  1.00000000e+00, ...,\n         0.00000000e+00,  0.00000000e+00,  0.00000000e+00],\n       [-3.82086474e+03, -7.09239729e+02,  1.00000000e+00, ...,\n         0.00000000e+00,  0.00000000e+00,  0.00000000e+00],\n       [ 1.28496152e+03, -1.26525173e+03,  1.00000000e+00, ...,\n         0.00000000e+00,  0.00000000e+00,  0.00000000e+00]],\n      shape=(6046, 19)), 16916     62.90\n9654      15.99\n36420    199.00\n1985     119.99\n39079    101.16\n          ...  \n42006    173.33\n6901     162.85\n1037      19.98\n21954     31.05\n33596    119.99\nName: discounted_price, Length: 24182, dtype: float64, 35548     57.99\n39850    123.00\n27699    739.00\n4573      69.95\n36461    769.00\n          ...  \n39164    199.00\n39062    184.95\n13284     41.74\n33622     71.89\n24506     16.87\nName: discounted_price, Length: 6046, dtype: float64)"
                ],
                [
                  "7",
                  "none",
                  "none",
                  "none",
                  "pca_0.99_auto",
                  "ordinal",
                  "(array([[-3.51613651e+03, -7.54361269e+02,  0.00000000e+00,\n         0.00000000e+00],\n       [-2.72997608e+03, -6.68800072e+02,  0.00000000e+00,\n         7.00000000e+00],\n       [-3.84969558e+03, -7.05257893e+02,  0.00000000e+00,\n         1.00000000e+00],\n       ...,\n       [ 1.16266120e+04,  1.94983660e+03,  0.00000000e+00,\n         7.00000000e+00],\n       [-2.76732846e+03, -8.65549753e+02,  0.00000000e+00,\n         0.00000000e+00],\n       [-2.51358552e+02, -3.29686813e+02,  1.00000000e+00,\n         7.00000000e+00]], shape=(24182, 4)), array([[-3639.90924976,  -634.84954986,     0.        ,     7.        ],\n       [-3103.75686505,  -815.81723643,     0.        ,     4.        ],\n       [-3890.56818134,  -751.56200016,     0.        ,     4.        ],\n       ...,\n       [-3759.42613619,  -718.13604213,     0.        ,     6.        ],\n       [-3820.86473886,  -709.23972874,     0.        ,    11.        ],\n       [ 1284.96152056, -1265.2517273 ,     0.        ,     4.        ]],\n      shape=(6046, 4)), 16916     62.90\n9654      15.99\n36420    199.00\n1985     119.99\n39079    101.16\n          ...  \n42006    173.33\n6901     162.85\n1037      19.98\n21954     31.05\n33596    119.99\nName: discounted_price, Length: 24182, dtype: float64, 35548     57.99\n39850    123.00\n27699    739.00\n4573      69.95\n36461    769.00\n          ...  \n39164    199.00\n39062    184.95\n13284     41.74\n33622     71.89\n24506     16.87\nName: discounted_price, Length: 6046, dtype: float64)"
                ],
                [
                  "8",
                  "none",
                  "none",
                  "none",
                  "pca_0.99_full",
                  "onehot",
                  "(array([[-3.51613651e+03, -7.54361269e+02,  1.00000000e+00, ...,\n         0.00000000e+00,  0.00000000e+00,  0.00000000e+00],\n       [-2.72997608e+03, -6.68800072e+02,  1.00000000e+00, ...,\n         0.00000000e+00,  0.00000000e+00,  0.00000000e+00],\n       [-3.84969558e+03, -7.05257893e+02,  1.00000000e+00, ...,\n         0.00000000e+00,  0.00000000e+00,  0.00000000e+00],\n       ...,\n       [ 1.16266120e+04,  1.94983660e+03,  1.00000000e+00, ...,\n         0.00000000e+00,  0.00000000e+00,  0.00000000e+00],\n       [-2.76732846e+03, -8.65549753e+02,  1.00000000e+00, ...,\n         0.00000000e+00,  0.00000000e+00,  0.00000000e+00],\n       [-2.51358552e+02, -3.29686813e+02,  0.00000000e+00, ...,\n         0.00000000e+00,  0.00000000e+00,  0.00000000e+00]],\n      shape=(24182, 19)), array([[-3.63990925e+03, -6.34849550e+02,  1.00000000e+00, ...,\n         0.00000000e+00,  0.00000000e+00,  0.00000000e+00],\n       [-3.10375687e+03, -8.15817236e+02,  1.00000000e+00, ...,\n         0.00000000e+00,  0.00000000e+00,  0.00000000e+00],\n       [-3.89056818e+03, -7.51562000e+02,  1.00000000e+00, ...,\n         0.00000000e+00,  0.00000000e+00,  0.00000000e+00],\n       ...,\n       [-3.75942614e+03, -7.18136042e+02,  1.00000000e+00, ...,\n         0.00000000e+00,  0.00000000e+00,  0.00000000e+00],\n       [-3.82086474e+03, -7.09239729e+02,  1.00000000e+00, ...,\n         0.00000000e+00,  0.00000000e+00,  0.00000000e+00],\n       [ 1.28496152e+03, -1.26525173e+03,  1.00000000e+00, ...,\n         0.00000000e+00,  0.00000000e+00,  0.00000000e+00]],\n      shape=(6046, 19)), 16916     62.90\n9654      15.99\n36420    199.00\n1985     119.99\n39079    101.16\n          ...  \n42006    173.33\n6901     162.85\n1037      19.98\n21954     31.05\n33596    119.99\nName: discounted_price, Length: 24182, dtype: float64, 35548     57.99\n39850    123.00\n27699    739.00\n4573      69.95\n36461    769.00\n          ...  \n39164    199.00\n39062    184.95\n13284     41.74\n33622     71.89\n24506     16.87\nName: discounted_price, Length: 6046, dtype: float64)"
                ],
                [
                  "9",
                  "none",
                  "none",
                  "none",
                  "pca_0.99_full",
                  "ordinal",
                  "(array([[-3.51613651e+03, -7.54361269e+02,  0.00000000e+00,\n         0.00000000e+00],\n       [-2.72997608e+03, -6.68800072e+02,  0.00000000e+00,\n         7.00000000e+00],\n       [-3.84969558e+03, -7.05257893e+02,  0.00000000e+00,\n         1.00000000e+00],\n       ...,\n       [ 1.16266120e+04,  1.94983660e+03,  0.00000000e+00,\n         7.00000000e+00],\n       [-2.76732846e+03, -8.65549753e+02,  0.00000000e+00,\n         0.00000000e+00],\n       [-2.51358552e+02, -3.29686813e+02,  1.00000000e+00,\n         7.00000000e+00]], shape=(24182, 4)), array([[-3639.90924976,  -634.84954986,     0.        ,     7.        ],\n       [-3103.75686505,  -815.81723643,     0.        ,     4.        ],\n       [-3890.56818134,  -751.56200016,     0.        ,     4.        ],\n       ...,\n       [-3759.42613619,  -718.13604213,     0.        ,     6.        ],\n       [-3820.86473886,  -709.23972874,     0.        ,    11.        ],\n       [ 1284.96152056, -1265.2517273 ,     0.        ,     4.        ]],\n      shape=(6046, 4)), 16916     62.90\n9654      15.99\n36420    199.00\n1985     119.99\n39079    101.16\n          ...  \n42006    173.33\n6901     162.85\n1037      19.98\n21954     31.05\n33596    119.99\nName: discounted_price, Length: 24182, dtype: float64, 35548     57.99\n39850    123.00\n27699    739.00\n4573      69.95\n36461    769.00\n          ...  \n39164    199.00\n39062    184.95\n13284     41.74\n33622     71.89\n24506     16.87\nName: discounted_price, Length: 6046, dtype: float64)"
                ],
                [
                  "10",
                  "none",
                  "none",
                  "standard",
                  "none",
                  "onehot",
                  "(array([[-0.38594628, -0.21598237, -0.19352355, ...,  0.        ,\n         0.        ,  0.        ],\n       [-0.10707596, -0.16691364, -0.16288394, ...,  0.        ,\n         0.        ,  0.        ],\n       [-1.78029788, -0.23759827, -0.19352355, ...,  0.        ,\n         0.        ,  0.        ],\n       ...,\n       [ 0.45066468,  0.71927406,  0.55714684, ...,  0.        ,\n         0.        ,  0.        ],\n       [ 0.45066468, -0.16742678, -0.19352355, ...,  0.        ,\n         0.        ,  0.        ],\n       [-0.10707596, -0.01284424, -0.05564531, ...,  0.        ,\n         0.        ,  0.        ]], shape=(24182, 21)), array([[-1.78029788, -0.22496227, -0.17820374, ...,  0.        ,\n         0.        ,  0.        ],\n       [-1.50142756, -0.1892351 , -0.19352355, ...,  0.        ,\n         0.        ,  0.        ],\n       [ 1.28727563, -0.23971496, -0.20118345, ...,  0.        ,\n         0.        ,  0.        ],\n       ...,\n       [ 0.17179436, -0.23176134, -0.19352355, ...,  0.        ,\n         0.        ,  0.        ],\n       [ 0.45066468, -0.23573815, -0.19352355, ...,  0.        ,\n         0.        ,  0.        ],\n       [ 0.729535  ,  0.09343927, -0.16288394, ...,  0.        ,\n         0.        ,  0.        ]], shape=(6046, 21)), 16916     62.90\n9654      15.99\n36420    199.00\n1985     119.99\n39079    101.16\n          ...  \n42006    173.33\n6901     162.85\n1037      19.98\n21954     31.05\n33596    119.99\nName: discounted_price, Length: 24182, dtype: float64, 35548     57.99\n39850    123.00\n27699    739.00\n4573      69.95\n36461    769.00\n          ...  \n39164    199.00\n39062    184.95\n13284     41.74\n33622     71.89\n24506     16.87\nName: discounted_price, Length: 6046, dtype: float64)"
                ],
                [
                  "11",
                  "none",
                  "none",
                  "standard",
                  "none",
                  "ordinal",
                  "(array([[-0.38594628, -0.21598237, -0.19352355, -0.35078353,  0.        ,\n         0.        ],\n       [-0.10707596, -0.16691364, -0.16288394, -0.50467678,  0.        ,\n         7.        ],\n       [-1.78029788, -0.23759827, -0.19352355,  0.08411368,  0.        ,\n         1.        ],\n       ...,\n       [ 0.45066468,  0.71927406,  0.55714684, -0.40317133,  0.        ,\n         7.        ],\n       [ 0.45066468, -0.16742678, -0.19352355, -0.40330214,  0.        ,\n         0.        ],\n       [-0.10707596, -0.01284424, -0.05564531, -0.17426085,  1.        ,\n         7.        ]], shape=(24182, 6)), array([[-1.78029788, -0.22496227, -0.17820374, -0.37701013,  0.        ,\n         7.        ],\n       [-1.50142756, -0.1892351 , -0.19352355, -0.1644177 ,  0.        ,\n         4.        ],\n       [ 1.28727563, -0.23971496, -0.20118345,  1.84999451,  0.        ,\n         4.        ],\n       ...,\n       [ 0.17179436, -0.23176134, -0.19352355, -0.43015006,  0.        ,\n         6.        ],\n       [ 0.45066468, -0.23573815, -0.19352355, -0.20696235,  0.        ,\n        11.        ],\n       [ 0.729535  ,  0.09343927, -0.16288394, -0.51147869,  0.        ,\n         4.        ]], shape=(6046, 6)), 16916     62.90\n9654      15.99\n36420    199.00\n1985     119.99\n39079    101.16\n          ...  \n42006    173.33\n6901     162.85\n1037      19.98\n21954     31.05\n33596    119.99\nName: discounted_price, Length: 24182, dtype: float64, 35548     57.99\n39850    123.00\n27699    739.00\n4573      69.95\n36461    769.00\n          ...  \n39164    199.00\n39062    184.95\n13284     41.74\n33622     71.89\n24506     16.87\nName: discounted_price, Length: 6046, dtype: float64)"
                ],
                [
                  "12",
                  "none",
                  "none",
                  "standard",
                  "pca_0.95_auto",
                  "onehot",
                  "(array([[-0.2560824 , -0.21217444, -0.46163279, ...,  0.        ,\n         0.        ,  0.        ],\n       [-0.00993283, -0.39795847, -0.38476874, ...,  0.        ,\n         0.        ,  0.        ],\n       [-1.14222504,  0.69638324, -1.10179086, ...,  0.        ,\n         0.        ,  0.        ],\n       ...,\n       [ 1.07424312,  0.14271568, -0.06786636, ...,  0.        ,\n         0.        ,  0.        ],\n       [ 0.20359308, -0.61675711,  0.04871299, ...,  0.        ,\n         0.        ,  0.        ],\n       [-0.014613  , -0.08125732, -0.19275517, ...,  0.        ,\n         0.        ,  0.        ]], shape=(24182, 21)), array([[-0.92749477,  0.43779581, -1.40503678, ...,  0.        ,\n         0.        ,  0.        ],\n       [-0.87238683,  0.44177822, -1.09267269, ...,  0.        ,\n         0.        ,  0.        ],\n       [-0.40195738,  0.27143869,  2.10558816, ...,  0.        ,\n         0.        ,  0.        ],\n       ...,\n       [ 0.04484875, -0.53223159, -0.13634309, ...,  0.        ,\n         0.        ,  0.        ],\n       [ 0.08344474, -0.53561071,  0.19757945, ...,  0.        ,\n         0.        ,  0.        ],\n       [ 0.53873644, -0.66903083,  0.09330952, ...,  0.        ,\n         0.        ,  0.        ]], shape=(6046, 21)), 16916     62.90\n9654      15.99\n36420    199.00\n1985     119.99\n39079    101.16\n          ...  \n42006    173.33\n6901     162.85\n1037      19.98\n21954     31.05\n33596    119.99\nName: discounted_price, Length: 24182, dtype: float64, 35548     57.99\n39850    123.00\n27699    739.00\n4573      69.95\n36461    769.00\n          ...  \n39164    199.00\n39062    184.95\n13284     41.74\n33622     71.89\n24506     16.87\nName: discounted_price, Length: 6046, dtype: float64)"
                ],
                [
                  "13",
                  "none",
                  "none",
                  "standard",
                  "pca_0.95_auto",
                  "ordinal",
                  "(array([[-0.2560824 , -0.21217444, -0.46163279,  0.18000651,  0.        ,\n         0.        ],\n       [-0.00993283, -0.39795847, -0.38476874,  0.11848486,  0.        ,\n         7.        ],\n       [-1.14222504,  0.69638324, -1.10179086,  0.51659383,  0.        ,\n         1.        ],\n       ...,\n       [ 1.07424312,  0.14271568, -0.06786636, -0.12017344,  0.        ,\n         7.        ],\n       [ 0.20359308, -0.61675711,  0.04871299, -0.0837969 ,  0.        ,\n         0.        ],\n       [-0.014613  , -0.08125732, -0.19275517,  0.03350572,  1.        ,\n         7.        ]], shape=(24182, 6)), array([[-0.92749477,  0.43779581, -1.40503678,  0.60656549,  0.        ,\n         7.        ],\n       [-0.87238683,  0.44177822, -1.09267269,  0.45212697,  0.        ,\n         4.        ],\n       [-0.40195738,  0.27143869,  2.10558816, -0.71326441,  0.        ,\n         4.        ],\n       ...,\n       [ 0.04484875, -0.53223159, -0.13634309,  0.0428456 ,  0.        ,\n         6.        ],\n       [ 0.08344474, -0.53561071,  0.19757945, -0.0779513 ,  0.        ,\n        11.        ],\n       [ 0.53873644, -0.66903083,  0.09330952, -0.28731161,  0.        ,\n         4.        ]], shape=(6046, 6)), 16916     62.90\n9654      15.99\n36420    199.00\n1985     119.99\n39079    101.16\n          ...  \n42006    173.33\n6901     162.85\n1037      19.98\n21954     31.05\n33596    119.99\nName: discounted_price, Length: 24182, dtype: float64, 35548     57.99\n39850    123.00\n27699    739.00\n4573      69.95\n36461    769.00\n          ...  \n39164    199.00\n39062    184.95\n13284     41.74\n33622     71.89\n24506     16.87\nName: discounted_price, Length: 6046, dtype: float64)"
                ],
                [
                  "14",
                  "none",
                  "none",
                  "standard",
                  "pca_0.95_full",
                  "onehot",
                  "(array([[-0.2560824 , -0.21217444, -0.46163279, ...,  0.        ,\n         0.        ,  0.        ],\n       [-0.00993283, -0.39795847, -0.38476874, ...,  0.        ,\n         0.        ,  0.        ],\n       [-1.14222504,  0.69638324, -1.10179086, ...,  0.        ,\n         0.        ,  0.        ],\n       ...,\n       [ 1.07424312,  0.14271568, -0.06786636, ...,  0.        ,\n         0.        ,  0.        ],\n       [ 0.20359308, -0.61675711,  0.04871299, ...,  0.        ,\n         0.        ,  0.        ],\n       [-0.014613  , -0.08125732, -0.19275517, ...,  0.        ,\n         0.        ,  0.        ]], shape=(24182, 21)), array([[-0.92749477,  0.43779581, -1.40503678, ...,  0.        ,\n         0.        ,  0.        ],\n       [-0.87238683,  0.44177822, -1.09267269, ...,  0.        ,\n         0.        ,  0.        ],\n       [-0.40195738,  0.27143869,  2.10558816, ...,  0.        ,\n         0.        ,  0.        ],\n       ...,\n       [ 0.04484875, -0.53223159, -0.13634309, ...,  0.        ,\n         0.        ,  0.        ],\n       [ 0.08344474, -0.53561071,  0.19757945, ...,  0.        ,\n         0.        ,  0.        ],\n       [ 0.53873644, -0.66903083,  0.09330952, ...,  0.        ,\n         0.        ,  0.        ]], shape=(6046, 21)), 16916     62.90\n9654      15.99\n36420    199.00\n1985     119.99\n39079    101.16\n          ...  \n42006    173.33\n6901     162.85\n1037      19.98\n21954     31.05\n33596    119.99\nName: discounted_price, Length: 24182, dtype: float64, 35548     57.99\n39850    123.00\n27699    739.00\n4573      69.95\n36461    769.00\n          ...  \n39164    199.00\n39062    184.95\n13284     41.74\n33622     71.89\n24506     16.87\nName: discounted_price, Length: 6046, dtype: float64)"
                ],
                [
                  "15",
                  "none",
                  "none",
                  "standard",
                  "pca_0.95_full",
                  "ordinal",
                  "(array([[-0.2560824 , -0.21217444, -0.46163279,  0.18000651,  0.        ,\n         0.        ],\n       [-0.00993283, -0.39795847, -0.38476874,  0.11848486,  0.        ,\n         7.        ],\n       [-1.14222504,  0.69638324, -1.10179086,  0.51659383,  0.        ,\n         1.        ],\n       ...,\n       [ 1.07424312,  0.14271568, -0.06786636, -0.12017344,  0.        ,\n         7.        ],\n       [ 0.20359308, -0.61675711,  0.04871299, -0.0837969 ,  0.        ,\n         0.        ],\n       [-0.014613  , -0.08125732, -0.19275517,  0.03350572,  1.        ,\n         7.        ]], shape=(24182, 6)), array([[-0.92749477,  0.43779581, -1.40503678,  0.60656549,  0.        ,\n         7.        ],\n       [-0.87238683,  0.44177822, -1.09267269,  0.45212697,  0.        ,\n         4.        ],\n       [-0.40195738,  0.27143869,  2.10558816, -0.71326441,  0.        ,\n         4.        ],\n       ...,\n       [ 0.04484875, -0.53223159, -0.13634309,  0.0428456 ,  0.        ,\n         6.        ],\n       [ 0.08344474, -0.53561071,  0.19757945, -0.0779513 ,  0.        ,\n        11.        ],\n       [ 0.53873644, -0.66903083,  0.09330952, -0.28731161,  0.        ,\n         4.        ]], shape=(6046, 6)), 16916     62.90\n9654      15.99\n36420    199.00\n1985     119.99\n39079    101.16\n          ...  \n42006    173.33\n6901     162.85\n1037      19.98\n21954     31.05\n33596    119.99\nName: discounted_price, Length: 24182, dtype: float64, 35548     57.99\n39850    123.00\n27699    739.00\n4573      69.95\n36461    769.00\n          ...  \n39164    199.00\n39062    184.95\n13284     41.74\n33622     71.89\n24506     16.87\nName: discounted_price, Length: 6046, dtype: float64)"
                ],
                [
                  "16",
                  "none",
                  "none",
                  "standard",
                  "pca_0.99_auto",
                  "onehot",
                  "(array([[-0.2560824 , -0.21217444, -0.46163279, ...,  0.        ,\n         0.        ,  0.        ],\n       [-0.00993283, -0.39795847, -0.38476874, ...,  0.        ,\n         0.        ,  0.        ],\n       [-1.14222504,  0.69638324, -1.10179086, ...,  0.        ,\n         0.        ,  0.        ],\n       ...,\n       [ 1.07424312,  0.14271568, -0.06786636, ...,  0.        ,\n         0.        ,  0.        ],\n       [ 0.20359308, -0.61675711,  0.04871299, ...,  0.        ,\n         0.        ,  0.        ],\n       [-0.014613  , -0.08125732, -0.19275517, ...,  0.        ,\n         0.        ,  0.        ]], shape=(24182, 21)), array([[-0.92749477,  0.43779581, -1.40503678, ...,  0.        ,\n         0.        ,  0.        ],\n       [-0.87238683,  0.44177822, -1.09267269, ...,  0.        ,\n         0.        ,  0.        ],\n       [-0.40195738,  0.27143869,  2.10558816, ...,  0.        ,\n         0.        ,  0.        ],\n       ...,\n       [ 0.04484875, -0.53223159, -0.13634309, ...,  0.        ,\n         0.        ,  0.        ],\n       [ 0.08344474, -0.53561071,  0.19757945, ...,  0.        ,\n         0.        ,  0.        ],\n       [ 0.53873644, -0.66903083,  0.09330952, ...,  0.        ,\n         0.        ,  0.        ]], shape=(6046, 21)), 16916     62.90\n9654      15.99\n36420    199.00\n1985     119.99\n39079    101.16\n          ...  \n42006    173.33\n6901     162.85\n1037      19.98\n21954     31.05\n33596    119.99\nName: discounted_price, Length: 24182, dtype: float64, 35548     57.99\n39850    123.00\n27699    739.00\n4573      69.95\n36461    769.00\n          ...  \n39164    199.00\n39062    184.95\n13284     41.74\n33622     71.89\n24506     16.87\nName: discounted_price, Length: 6046, dtype: float64)"
                ],
                [
                  "17",
                  "none",
                  "none",
                  "standard",
                  "pca_0.99_auto",
                  "ordinal",
                  "(array([[-0.2560824 , -0.21217444, -0.46163279,  0.18000651,  0.        ,\n         0.        ],\n       [-0.00993283, -0.39795847, -0.38476874,  0.11848486,  0.        ,\n         7.        ],\n       [-1.14222504,  0.69638324, -1.10179086,  0.51659383,  0.        ,\n         1.        ],\n       ...,\n       [ 1.07424312,  0.14271568, -0.06786636, -0.12017344,  0.        ,\n         7.        ],\n       [ 0.20359308, -0.61675711,  0.04871299, -0.0837969 ,  0.        ,\n         0.        ],\n       [-0.014613  , -0.08125732, -0.19275517,  0.03350572,  1.        ,\n         7.        ]], shape=(24182, 6)), array([[-0.92749477,  0.43779581, -1.40503678,  0.60656549,  0.        ,\n         7.        ],\n       [-0.87238683,  0.44177822, -1.09267269,  0.45212697,  0.        ,\n         4.        ],\n       [-0.40195738,  0.27143869,  2.10558816, -0.71326441,  0.        ,\n         4.        ],\n       ...,\n       [ 0.04484875, -0.53223159, -0.13634309,  0.0428456 ,  0.        ,\n         6.        ],\n       [ 0.08344474, -0.53561071,  0.19757945, -0.0779513 ,  0.        ,\n        11.        ],\n       [ 0.53873644, -0.66903083,  0.09330952, -0.28731161,  0.        ,\n         4.        ]], shape=(6046, 6)), 16916     62.90\n9654      15.99\n36420    199.00\n1985     119.99\n39079    101.16\n          ...  \n42006    173.33\n6901     162.85\n1037      19.98\n21954     31.05\n33596    119.99\nName: discounted_price, Length: 24182, dtype: float64, 35548     57.99\n39850    123.00\n27699    739.00\n4573      69.95\n36461    769.00\n          ...  \n39164    199.00\n39062    184.95\n13284     41.74\n33622     71.89\n24506     16.87\nName: discounted_price, Length: 6046, dtype: float64)"
                ],
                [
                  "18",
                  "none",
                  "none",
                  "standard",
                  "pca_0.99_full",
                  "onehot",
                  "(array([[-0.2560824 , -0.21217444, -0.46163279, ...,  0.        ,\n         0.        ,  0.        ],\n       [-0.00993283, -0.39795847, -0.38476874, ...,  0.        ,\n         0.        ,  0.        ],\n       [-1.14222504,  0.69638324, -1.10179086, ...,  0.        ,\n         0.        ,  0.        ],\n       ...,\n       [ 1.07424312,  0.14271568, -0.06786636, ...,  0.        ,\n         0.        ,  0.        ],\n       [ 0.20359308, -0.61675711,  0.04871299, ...,  0.        ,\n         0.        ,  0.        ],\n       [-0.014613  , -0.08125732, -0.19275517, ...,  0.        ,\n         0.        ,  0.        ]], shape=(24182, 21)), array([[-0.92749477,  0.43779581, -1.40503678, ...,  0.        ,\n         0.        ,  0.        ],\n       [-0.87238683,  0.44177822, -1.09267269, ...,  0.        ,\n         0.        ,  0.        ],\n       [-0.40195738,  0.27143869,  2.10558816, ...,  0.        ,\n         0.        ,  0.        ],\n       ...,\n       [ 0.04484875, -0.53223159, -0.13634309, ...,  0.        ,\n         0.        ,  0.        ],\n       [ 0.08344474, -0.53561071,  0.19757945, ...,  0.        ,\n         0.        ,  0.        ],\n       [ 0.53873644, -0.66903083,  0.09330952, ...,  0.        ,\n         0.        ,  0.        ]], shape=(6046, 21)), 16916     62.90\n9654      15.99\n36420    199.00\n1985     119.99\n39079    101.16\n          ...  \n42006    173.33\n6901     162.85\n1037      19.98\n21954     31.05\n33596    119.99\nName: discounted_price, Length: 24182, dtype: float64, 35548     57.99\n39850    123.00\n27699    739.00\n4573      69.95\n36461    769.00\n          ...  \n39164    199.00\n39062    184.95\n13284     41.74\n33622     71.89\n24506     16.87\nName: discounted_price, Length: 6046, dtype: float64)"
                ],
                [
                  "19",
                  "none",
                  "none",
                  "standard",
                  "pca_0.99_full",
                  "ordinal",
                  "(array([[-0.2560824 , -0.21217444, -0.46163279,  0.18000651,  0.        ,\n         0.        ],\n       [-0.00993283, -0.39795847, -0.38476874,  0.11848486,  0.        ,\n         7.        ],\n       [-1.14222504,  0.69638324, -1.10179086,  0.51659383,  0.        ,\n         1.        ],\n       ...,\n       [ 1.07424312,  0.14271568, -0.06786636, -0.12017344,  0.        ,\n         7.        ],\n       [ 0.20359308, -0.61675711,  0.04871299, -0.0837969 ,  0.        ,\n         0.        ],\n       [-0.014613  , -0.08125732, -0.19275517,  0.03350572,  1.        ,\n         7.        ]], shape=(24182, 6)), array([[-0.92749477,  0.43779581, -1.40503678,  0.60656549,  0.        ,\n         7.        ],\n       [-0.87238683,  0.44177822, -1.09267269,  0.45212697,  0.        ,\n         4.        ],\n       [-0.40195738,  0.27143869,  2.10558816, -0.71326441,  0.        ,\n         4.        ],\n       ...,\n       [ 0.04484875, -0.53223159, -0.13634309,  0.0428456 ,  0.        ,\n         6.        ],\n       [ 0.08344474, -0.53561071,  0.19757945, -0.0779513 ,  0.        ,\n        11.        ],\n       [ 0.53873644, -0.66903083,  0.09330952, -0.28731161,  0.        ,\n         4.        ]], shape=(6046, 6)), 16916     62.90\n9654      15.99\n36420    199.00\n1985     119.99\n39079    101.16\n          ...  \n42006    173.33\n6901     162.85\n1037      19.98\n21954     31.05\n33596    119.99\nName: discounted_price, Length: 24182, dtype: float64, 35548     57.99\n39850    123.00\n27699    739.00\n4573      69.95\n36461    769.00\n          ...  \n39164    199.00\n39062    184.95\n13284     41.74\n33622     71.89\n24506     16.87\nName: discounted_price, Length: 6046, dtype: float64)"
                ],
                [
                  "20",
                  "none",
                  "none",
                  "minmax",
                  "none",
                  "onehot",
                  "(array([[7.66666667e-01, 4.39003370e-04, 5.00250125e-04, ...,\n        0.00000000e+00, 0.00000000e+00, 0.00000000e+00],\n       [8.00000000e-01, 1.32278647e-03, 2.50125063e-03, ...,\n        0.00000000e+00, 0.00000000e+00, 0.00000000e+00],\n       [6.00000000e-01, 4.96766971e-05, 5.00250125e-04, ...,\n        0.00000000e+00, 0.00000000e+00, 0.00000000e+00],\n       ...,\n       [8.66666667e-01, 1.72840248e-02, 4.95247624e-02, ...,\n        0.00000000e+00, 0.00000000e+00, 0.00000000e+00],\n       [8.66666667e-01, 1.31354429e-03, 5.00250125e-04, ...,\n        0.00000000e+00, 0.00000000e+00, 0.00000000e+00],\n       [8.00000000e-01, 4.09774988e-03, 9.50475238e-03, ...,\n        0.00000000e+00, 0.00000000e+00, 0.00000000e+00]],\n      shape=(24182, 21)), array([[6.00000000e-01, 2.77265286e-04, 1.50075038e-03, ...,\n        0.00000000e+00, 0.00000000e+00, 0.00000000e+00],\n       [6.33333333e-01, 9.20751805e-04, 5.00250125e-04, ...,\n        0.00000000e+00, 0.00000000e+00, 0.00000000e+00],\n       [9.66666667e-01, 1.15527203e-05, 0.00000000e+00, ...,\n        0.00000000e+00, 0.00000000e+00, 0.00000000e+00],\n       ...,\n       [8.33333333e-01, 1.54806452e-04, 5.00250125e-04, ...,\n        0.00000000e+00, 0.00000000e+00, 0.00000000e+00],\n       [8.66666667e-01, 8.31795859e-05, 5.00250125e-04, ...,\n        0.00000000e+00, 0.00000000e+00, 0.00000000e+00],\n       [9.00000000e-01, 6.01203562e-03, 2.50125063e-03, ...,\n        0.00000000e+00, 0.00000000e+00, 0.00000000e+00]], shape=(6046, 21)), 16916     62.90\n9654      15.99\n36420    199.00\n1985     119.99\n39079    101.16\n          ...  \n42006    173.33\n6901     162.85\n1037      19.98\n21954     31.05\n33596    119.99\nName: discounted_price, Length: 24182, dtype: float64, 35548     57.99\n39850    123.00\n27699    739.00\n4573      69.95\n36461    769.00\n          ...  \n39164    199.00\n39062    184.95\n13284     41.74\n33622     71.89\n24506     16.87\nName: discounted_price, Length: 6046, dtype: float64)"
                ],
                [
                  "21",
                  "none",
                  "none",
                  "minmax",
                  "none",
                  "ordinal",
                  "(array([[7.66666667e-01, 4.39003370e-04, 5.00250125e-04, 1.48597574e-02,\n        0.00000000e+00, 0.00000000e+00],\n       [8.00000000e-01, 1.32278647e-03, 2.50125063e-03, 3.90752274e-03,\n        0.00000000e+00, 7.00000000e+00],\n       [6.00000000e-01, 4.96766971e-05, 5.00250125e-04, 4.58104095e-02,\n        0.00000000e+00, 1.00000000e+00],\n       ...,\n       [8.66666667e-01, 1.72840248e-02, 4.95247624e-02, 1.11314361e-02,\n        0.00000000e+00, 7.00000000e+00],\n       [8.66666667e-01, 1.31354429e-03, 5.00250125e-04, 1.11221270e-02,\n        0.00000000e+00, 0.00000000e+00],\n       [8.00000000e-01, 4.09774988e-03, 9.50475238e-03, 2.74224779e-02,\n        1.00000000e+00, 7.00000000e+00]], shape=(24182, 6)), array([[6.00000000e-01, 2.77265286e-04, 1.50075038e-03, 1.29932695e-02,\n        0.00000000e+00, 7.00000000e+00],\n       [6.33333333e-01, 9.20751805e-04, 5.00250125e-04, 2.81229927e-02,\n        0.00000000e+00, 4.00000000e+00],\n       [9.66666667e-01, 1.15527203e-05, 0.00000000e+00, 1.71484160e-01,\n        0.00000000e+00, 4.00000000e+00],\n       ...,\n       [8.33333333e-01, 1.54806452e-04, 5.00250125e-04, 9.21142049e-03,\n        0.00000000e+00, 6.00000000e+00],\n       [8.66666667e-01, 8.31795859e-05, 5.00250125e-04, 2.50951862e-02,\n        0.00000000e+00, 1.10000000e+01],\n       [9.00000000e-01, 6.01203562e-03, 2.50125063e-03, 3.42344607e-03,\n        0.00000000e+00, 4.00000000e+00]], shape=(6046, 6)), 16916     62.90\n9654      15.99\n36420    199.00\n1985     119.99\n39079    101.16\n          ...  \n42006    173.33\n6901     162.85\n1037      19.98\n21954     31.05\n33596    119.99\nName: discounted_price, Length: 24182, dtype: float64, 35548     57.99\n39850    123.00\n27699    739.00\n4573      69.95\n36461    769.00\n          ...  \n39164    199.00\n39062    184.95\n13284     41.74\n33622     71.89\n24506     16.87\nName: discounted_price, Length: 6046, dtype: float64)"
                ],
                [
                  "22",
                  "none",
                  "none",
                  "minmax",
                  "pca_0.95_auto",
                  "onehot",
                  "(array([[-4.11548905e-02, -3.02035194e-02, -1.76736138e-02, ...,\n         0.00000000e+00,  0.00000000e+00,  0.00000000e+00],\n       [-6.26277932e-03, -3.31797299e-02, -2.07363996e-02, ...,\n         0.00000000e+00,  0.00000000e+00,  0.00000000e+00],\n       [-2.09424779e-01, -4.04348242e-02,  8.96520632e-05, ...,\n         0.00000000e+00,  0.00000000e+00,  0.00000000e+00],\n       ...,\n       [ 6.27571339e-02, -2.49225403e-02,  2.39459676e-02, ...,\n         0.00000000e+00,  0.00000000e+00,  0.00000000e+00],\n       [ 5.67365739e-02, -1.03170321e-02, -2.37123093e-02, ...,\n         0.00000000e+00,  0.00000000e+00,  0.00000000e+00],\n       [-1.02796471e-02, -1.34549263e-02, -6.64573026e-03, ...,\n         0.00000000e+00,  0.00000000e+00,  0.00000000e+00]],\n      shape=(24182, 20)), array([[-0.20248457, -0.07119441, -0.00905593, ...,  0.        ,\n         0.        ,  0.        ],\n       [-0.17336737, -0.04908864, -0.00694394, ...,  0.        ,\n         0.        ,  0.        ],\n       [ 0.12043167,  0.1621234 ,  0.02016431, ...,  0.        ,\n         0.        ,  0.        ],\n       ...,\n       [ 0.02474625, -0.01984669, -0.02273886, ...,  0.        ,\n         0.        ,  0.        ],\n       [ 0.05381076,  0.00269621, -0.01950236, ...,  0.        ,\n         0.        ,  0.        ],\n       [ 0.09102189, -0.01040259, -0.02547824, ...,  0.        ,\n         0.        ,  0.        ]], shape=(6046, 20)), 16916     62.90\n9654      15.99\n36420    199.00\n1985     119.99\n39079    101.16\n          ...  \n42006    173.33\n6901     162.85\n1037      19.98\n21954     31.05\n33596    119.99\nName: discounted_price, Length: 24182, dtype: float64, 35548     57.99\n39850    123.00\n27699    739.00\n4573      69.95\n36461    769.00\n          ...  \n39164    199.00\n39062    184.95\n13284     41.74\n33622     71.89\n24506     16.87\nName: discounted_price, Length: 6046, dtype: float64)"
                ],
                [
                  "23",
                  "none",
                  "none",
                  "minmax",
                  "pca_0.95_auto",
                  "ordinal",
                  "(array([[-4.11548905e-02, -3.02035194e-02, -1.76736138e-02,\n         0.00000000e+00,  0.00000000e+00],\n       [-6.26277932e-03, -3.31797299e-02, -2.07363996e-02,\n         0.00000000e+00,  7.00000000e+00],\n       [-2.09424779e-01, -4.04348242e-02,  8.96520632e-05,\n         0.00000000e+00,  1.00000000e+00],\n       ...,\n       [ 6.27571339e-02, -2.49225403e-02,  2.39459676e-02,\n         0.00000000e+00,  7.00000000e+00],\n       [ 5.67365739e-02, -1.03170321e-02, -2.37123093e-02,\n         0.00000000e+00,  0.00000000e+00],\n       [-1.02796471e-02, -1.34549263e-02, -6.64573026e-03,\n         1.00000000e+00,  7.00000000e+00]], shape=(24182, 5)), array([[-2.02484567e-01, -7.11944118e-02, -9.05592635e-03,\n         0.00000000e+00,  7.00000000e+00],\n       [-1.73367372e-01, -4.90886440e-02, -6.94393811e-03,\n         0.00000000e+00,  4.00000000e+00],\n       [ 1.20431673e-01,  1.62123402e-01,  2.01643127e-02,\n         0.00000000e+00,  4.00000000e+00],\n       ...,\n       [ 2.47462472e-02, -1.98466890e-02, -2.27388595e-02,\n         0.00000000e+00,  6.00000000e+00],\n       [ 5.38107648e-02,  2.69620897e-03, -1.95023641e-02,\n         0.00000000e+00,  1.10000000e+01],\n       [ 9.10218929e-02, -1.04025896e-02, -2.54782403e-02,\n         0.00000000e+00,  4.00000000e+00]], shape=(6046, 5)), 16916     62.90\n9654      15.99\n36420    199.00\n1985     119.99\n39079    101.16\n          ...  \n42006    173.33\n6901     162.85\n1037      19.98\n21954     31.05\n33596    119.99\nName: discounted_price, Length: 24182, dtype: float64, 35548     57.99\n39850    123.00\n27699    739.00\n4573      69.95\n36461    769.00\n          ...  \n39164    199.00\n39062    184.95\n13284     41.74\n33622     71.89\n24506     16.87\nName: discounted_price, Length: 6046, dtype: float64)"
                ],
                [
                  "24",
                  "none",
                  "none",
                  "minmax",
                  "pca_0.95_full",
                  "onehot",
                  "(array([[-4.11548905e-02, -3.02035194e-02, -1.76736138e-02, ...,\n         0.00000000e+00,  0.00000000e+00,  0.00000000e+00],\n       [-6.26277932e-03, -3.31797299e-02, -2.07363996e-02, ...,\n         0.00000000e+00,  0.00000000e+00,  0.00000000e+00],\n       [-2.09424779e-01, -4.04348242e-02,  8.96520632e-05, ...,\n         0.00000000e+00,  0.00000000e+00,  0.00000000e+00],\n       ...,\n       [ 6.27571339e-02, -2.49225403e-02,  2.39459676e-02, ...,\n         0.00000000e+00,  0.00000000e+00,  0.00000000e+00],\n       [ 5.67365739e-02, -1.03170321e-02, -2.37123093e-02, ...,\n         0.00000000e+00,  0.00000000e+00,  0.00000000e+00],\n       [-1.02796471e-02, -1.34549263e-02, -6.64573026e-03, ...,\n         0.00000000e+00,  0.00000000e+00,  0.00000000e+00]],\n      shape=(24182, 21)), array([[-0.20248457, -0.07119441, -0.00905593, ...,  0.        ,\n         0.        ,  0.        ],\n       [-0.17336737, -0.04908864, -0.00694394, ...,  0.        ,\n         0.        ,  0.        ],\n       [ 0.12043167,  0.1621234 ,  0.02016431, ...,  0.        ,\n         0.        ,  0.        ],\n       ...,\n       [ 0.02474625, -0.01984669, -0.02273886, ...,  0.        ,\n         0.        ,  0.        ],\n       [ 0.05381076,  0.00269621, -0.01950236, ...,  0.        ,\n         0.        ,  0.        ],\n       [ 0.09102189, -0.01040259, -0.02547824, ...,  0.        ,\n         0.        ,  0.        ]], shape=(6046, 21)), 16916     62.90\n9654      15.99\n36420    199.00\n1985     119.99\n39079    101.16\n          ...  \n42006    173.33\n6901     162.85\n1037      19.98\n21954     31.05\n33596    119.99\nName: discounted_price, Length: 24182, dtype: float64, 35548     57.99\n39850    123.00\n27699    739.00\n4573      69.95\n36461    769.00\n          ...  \n39164    199.00\n39062    184.95\n13284     41.74\n33622     71.89\n24506     16.87\nName: discounted_price, Length: 6046, dtype: float64)"
                ],
                [
                  "25",
                  "none",
                  "none",
                  "minmax",
                  "pca_0.95_full",
                  "ordinal",
                  "(array([[-4.11548905e-02, -3.02035194e-02, -1.76736138e-02,\n        -2.81571617e-03,  0.00000000e+00,  0.00000000e+00],\n       [-6.26277932e-03, -3.31797299e-02, -2.07363996e-02,\n        -2.42878045e-03,  0.00000000e+00,  7.00000000e+00],\n       [-2.09424779e-01, -4.04348242e-02,  8.96520632e-05,\n        -1.86517596e-03,  0.00000000e+00,  1.00000000e+00],\n       ...,\n       [ 6.27571339e-02, -2.49225403e-02,  2.39459676e-02,\n         9.15386210e-03,  0.00000000e+00,  7.00000000e+00],\n       [ 5.67365739e-02, -1.03170321e-02, -2.37123093e-02,\n        -2.57557813e-03,  0.00000000e+00,  0.00000000e+00],\n       [-1.02796471e-02, -1.34549263e-02, -6.64573026e-03,\n         1.09959687e-05,  1.00000000e+00,  7.00000000e+00]],\n      shape=(24182, 6)), array([[-2.02484567e-01, -7.11944118e-02, -9.05592635e-03,\n        -2.10411582e-03,  0.00000000e+00,  7.00000000e+00],\n       [-1.73367372e-01, -4.90886440e-02, -6.94393811e-03,\n        -1.39828239e-03,  0.00000000e+00,  4.00000000e+00],\n       [ 1.20431673e-01,  1.62123402e-01,  2.01643127e-02,\n        -2.55931936e-03,  0.00000000e+00,  4.00000000e+00],\n       ...,\n       [ 2.47462472e-02, -1.98466890e-02, -2.27388595e-02,\n        -3.55619827e-03,  0.00000000e+00,  6.00000000e+00],\n       [ 5.38107648e-02,  2.69620897e-03, -1.95023641e-02,\n        -3.63941100e-03,  0.00000000e+00,  1.10000000e+01],\n       [ 9.10218929e-02, -1.04025896e-02, -2.54782403e-02,\n         1.64954817e-03,  0.00000000e+00,  4.00000000e+00]],\n      shape=(6046, 6)), 16916     62.90\n9654      15.99\n36420    199.00\n1985     119.99\n39079    101.16\n          ...  \n42006    173.33\n6901     162.85\n1037      19.98\n21954     31.05\n33596    119.99\nName: discounted_price, Length: 24182, dtype: float64, 35548     57.99\n39850    123.00\n27699    739.00\n4573      69.95\n36461    769.00\n          ...  \n39164    199.00\n39062    184.95\n13284     41.74\n33622     71.89\n24506     16.87\nName: discounted_price, Length: 6046, dtype: float64)"
                ],
                [
                  "26",
                  "none",
                  "none",
                  "minmax",
                  "pca_0.99_auto",
                  "onehot",
                  "(array([[-4.11548905e-02, -3.02035194e-02, -1.76736138e-02, ...,\n         0.00000000e+00,  0.00000000e+00,  0.00000000e+00],\n       [-6.26277932e-03, -3.31797299e-02, -2.07363996e-02, ...,\n         0.00000000e+00,  0.00000000e+00,  0.00000000e+00],\n       [-2.09424779e-01, -4.04348242e-02,  8.96520632e-05, ...,\n         0.00000000e+00,  0.00000000e+00,  0.00000000e+00],\n       ...,\n       [ 6.27571339e-02, -2.49225403e-02,  2.39459676e-02, ...,\n         0.00000000e+00,  0.00000000e+00,  0.00000000e+00],\n       [ 5.67365739e-02, -1.03170321e-02, -2.37123093e-02, ...,\n         0.00000000e+00,  0.00000000e+00,  0.00000000e+00],\n       [-1.02796471e-02, -1.34549263e-02, -6.64573026e-03, ...,\n         0.00000000e+00,  0.00000000e+00,  0.00000000e+00]],\n      shape=(24182, 21)), array([[-0.20248457, -0.07119441, -0.00905593, ...,  0.        ,\n         0.        ,  0.        ],\n       [-0.17336737, -0.04908864, -0.00694394, ...,  0.        ,\n         0.        ,  0.        ],\n       [ 0.12043167,  0.1621234 ,  0.02016431, ...,  0.        ,\n         0.        ,  0.        ],\n       ...,\n       [ 0.02474625, -0.01984669, -0.02273886, ...,  0.        ,\n         0.        ,  0.        ],\n       [ 0.05381076,  0.00269621, -0.01950236, ...,  0.        ,\n         0.        ,  0.        ],\n       [ 0.09102189, -0.01040259, -0.02547824, ...,  0.        ,\n         0.        ,  0.        ]], shape=(6046, 21)), 16916     62.90\n9654      15.99\n36420    199.00\n1985     119.99\n39079    101.16\n          ...  \n42006    173.33\n6901     162.85\n1037      19.98\n21954     31.05\n33596    119.99\nName: discounted_price, Length: 24182, dtype: float64, 35548     57.99\n39850    123.00\n27699    739.00\n4573      69.95\n36461    769.00\n          ...  \n39164    199.00\n39062    184.95\n13284     41.74\n33622     71.89\n24506     16.87\nName: discounted_price, Length: 6046, dtype: float64)"
                ],
                [
                  "27",
                  "none",
                  "none",
                  "minmax",
                  "pca_0.99_auto",
                  "ordinal",
                  "(array([[-4.11548905e-02, -3.02035194e-02, -1.76736138e-02,\n        -2.81571617e-03,  0.00000000e+00,  0.00000000e+00],\n       [-6.26277932e-03, -3.31797299e-02, -2.07363996e-02,\n        -2.42878045e-03,  0.00000000e+00,  7.00000000e+00],\n       [-2.09424779e-01, -4.04348242e-02,  8.96520632e-05,\n        -1.86517596e-03,  0.00000000e+00,  1.00000000e+00],\n       ...,\n       [ 6.27571339e-02, -2.49225403e-02,  2.39459676e-02,\n         9.15386210e-03,  0.00000000e+00,  7.00000000e+00],\n       [ 5.67365739e-02, -1.03170321e-02, -2.37123093e-02,\n        -2.57557813e-03,  0.00000000e+00,  0.00000000e+00],\n       [-1.02796471e-02, -1.34549263e-02, -6.64573026e-03,\n         1.09959687e-05,  1.00000000e+00,  7.00000000e+00]],\n      shape=(24182, 6)), array([[-2.02484567e-01, -7.11944118e-02, -9.05592635e-03,\n        -2.10411582e-03,  0.00000000e+00,  7.00000000e+00],\n       [-1.73367372e-01, -4.90886440e-02, -6.94393811e-03,\n        -1.39828239e-03,  0.00000000e+00,  4.00000000e+00],\n       [ 1.20431673e-01,  1.62123402e-01,  2.01643127e-02,\n        -2.55931936e-03,  0.00000000e+00,  4.00000000e+00],\n       ...,\n       [ 2.47462472e-02, -1.98466890e-02, -2.27388595e-02,\n        -3.55619827e-03,  0.00000000e+00,  6.00000000e+00],\n       [ 5.38107648e-02,  2.69620897e-03, -1.95023641e-02,\n        -3.63941100e-03,  0.00000000e+00,  1.10000000e+01],\n       [ 9.10218929e-02, -1.04025896e-02, -2.54782403e-02,\n         1.64954817e-03,  0.00000000e+00,  4.00000000e+00]],\n      shape=(6046, 6)), 16916     62.90\n9654      15.99\n36420    199.00\n1985     119.99\n39079    101.16\n          ...  \n42006    173.33\n6901     162.85\n1037      19.98\n21954     31.05\n33596    119.99\nName: discounted_price, Length: 24182, dtype: float64, 35548     57.99\n39850    123.00\n27699    739.00\n4573      69.95\n36461    769.00\n          ...  \n39164    199.00\n39062    184.95\n13284     41.74\n33622     71.89\n24506     16.87\nName: discounted_price, Length: 6046, dtype: float64)"
                ],
                [
                  "28",
                  "none",
                  "none",
                  "minmax",
                  "pca_0.99_full",
                  "onehot",
                  "(array([[-4.11548905e-02, -3.02035194e-02, -1.76736138e-02, ...,\n         0.00000000e+00,  0.00000000e+00,  0.00000000e+00],\n       [-6.26277932e-03, -3.31797299e-02, -2.07363996e-02, ...,\n         0.00000000e+00,  0.00000000e+00,  0.00000000e+00],\n       [-2.09424779e-01, -4.04348242e-02,  8.96520632e-05, ...,\n         0.00000000e+00,  0.00000000e+00,  0.00000000e+00],\n       ...,\n       [ 6.27571339e-02, -2.49225403e-02,  2.39459676e-02, ...,\n         0.00000000e+00,  0.00000000e+00,  0.00000000e+00],\n       [ 5.67365739e-02, -1.03170321e-02, -2.37123093e-02, ...,\n         0.00000000e+00,  0.00000000e+00,  0.00000000e+00],\n       [-1.02796471e-02, -1.34549263e-02, -6.64573026e-03, ...,\n         0.00000000e+00,  0.00000000e+00,  0.00000000e+00]],\n      shape=(24182, 21)), array([[-0.20248457, -0.07119441, -0.00905593, ...,  0.        ,\n         0.        ,  0.        ],\n       [-0.17336737, -0.04908864, -0.00694394, ...,  0.        ,\n         0.        ,  0.        ],\n       [ 0.12043167,  0.1621234 ,  0.02016431, ...,  0.        ,\n         0.        ,  0.        ],\n       ...,\n       [ 0.02474625, -0.01984669, -0.02273886, ...,  0.        ,\n         0.        ,  0.        ],\n       [ 0.05381076,  0.00269621, -0.01950236, ...,  0.        ,\n         0.        ,  0.        ],\n       [ 0.09102189, -0.01040259, -0.02547824, ...,  0.        ,\n         0.        ,  0.        ]], shape=(6046, 21)), 16916     62.90\n9654      15.99\n36420    199.00\n1985     119.99\n39079    101.16\n          ...  \n42006    173.33\n6901     162.85\n1037      19.98\n21954     31.05\n33596    119.99\nName: discounted_price, Length: 24182, dtype: float64, 35548     57.99\n39850    123.00\n27699    739.00\n4573      69.95\n36461    769.00\n          ...  \n39164    199.00\n39062    184.95\n13284     41.74\n33622     71.89\n24506     16.87\nName: discounted_price, Length: 6046, dtype: float64)"
                ],
                [
                  "29",
                  "none",
                  "none",
                  "minmax",
                  "pca_0.99_full",
                  "ordinal",
                  "(array([[-4.11548905e-02, -3.02035194e-02, -1.76736138e-02,\n        -2.81571617e-03,  0.00000000e+00,  0.00000000e+00],\n       [-6.26277932e-03, -3.31797299e-02, -2.07363996e-02,\n        -2.42878045e-03,  0.00000000e+00,  7.00000000e+00],\n       [-2.09424779e-01, -4.04348242e-02,  8.96520632e-05,\n        -1.86517596e-03,  0.00000000e+00,  1.00000000e+00],\n       ...,\n       [ 6.27571339e-02, -2.49225403e-02,  2.39459676e-02,\n         9.15386210e-03,  0.00000000e+00,  7.00000000e+00],\n       [ 5.67365739e-02, -1.03170321e-02, -2.37123093e-02,\n        -2.57557813e-03,  0.00000000e+00,  0.00000000e+00],\n       [-1.02796471e-02, -1.34549263e-02, -6.64573026e-03,\n         1.09959687e-05,  1.00000000e+00,  7.00000000e+00]],\n      shape=(24182, 6)), array([[-2.02484567e-01, -7.11944118e-02, -9.05592635e-03,\n        -2.10411582e-03,  0.00000000e+00,  7.00000000e+00],\n       [-1.73367372e-01, -4.90886440e-02, -6.94393811e-03,\n        -1.39828239e-03,  0.00000000e+00,  4.00000000e+00],\n       [ 1.20431673e-01,  1.62123402e-01,  2.01643127e-02,\n        -2.55931936e-03,  0.00000000e+00,  4.00000000e+00],\n       ...,\n       [ 2.47462472e-02, -1.98466890e-02, -2.27388595e-02,\n        -3.55619827e-03,  0.00000000e+00,  6.00000000e+00],\n       [ 5.38107648e-02,  2.69620897e-03, -1.95023641e-02,\n        -3.63941100e-03,  0.00000000e+00,  1.10000000e+01],\n       [ 9.10218929e-02, -1.04025896e-02, -2.54782403e-02,\n         1.64954817e-03,  0.00000000e+00,  4.00000000e+00]],\n      shape=(6046, 6)), 16916     62.90\n9654      15.99\n36420    199.00\n1985     119.99\n39079    101.16\n          ...  \n42006    173.33\n6901     162.85\n1037      19.98\n21954     31.05\n33596    119.99\nName: discounted_price, Length: 24182, dtype: float64, 35548     57.99\n39850    123.00\n27699    739.00\n4573      69.95\n36461    769.00\n          ...  \n39164    199.00\n39062    184.95\n13284     41.74\n33622     71.89\n24506     16.87\nName: discounted_price, Length: 6046, dtype: float64)"
                ],
                [
                  "30",
                  "none",
                  "none",
                  "robust",
                  "none",
                  "onehot",
                  "(array([[-0.5       , -0.12207324, -0.33333333, ...,  0.        ,\n         0.        ,  0.        ],\n       [-0.25      ,  0.18411047,  0.33333333, ...,  0.        ,\n         0.        ,  0.        ],\n       [-1.75      , -0.25695417, -0.33333333, ...,  0.        ,\n         0.        ,  0.        ],\n       ...,\n       [ 0.25      ,  5.7138283 , 16.        , ...,  0.        ,\n         0.        ,  0.        ],\n       [ 0.25      ,  0.18090855, -0.33333333, ...,  0.        ,\n         0.        ,  0.        ],\n       [-0.25      ,  1.14548729,  2.66666667, ...,  0.        ,\n         0.        ,  0.        ]], shape=(24182, 21)), array([[-1.75      , -0.17810686,  0.        , ...,  0.        ,\n         0.        ,  0.        ],\n       [-1.5       ,  0.0448269 , -0.33333333, ...,  0.        ,\n         0.        ,  0.        ],\n       [ 1.        , -0.2701621 , -0.5       , ...,  0.        ,\n         0.        ,  0.        ],\n       ...,\n       [ 0.        , -0.22053232, -0.33333333, ...,  0.        ,\n         0.        ,  0.        ],\n       [ 0.25      , -0.24534721, -0.33333333, ...,  0.        ,\n         0.        ,  0.        ],\n       [ 0.5       ,  1.80868521,  0.33333333, ...,  0.        ,\n         0.        ,  0.        ]], shape=(6046, 21)), 16916     62.90\n9654      15.99\n36420    199.00\n1985     119.99\n39079    101.16\n          ...  \n42006    173.33\n6901     162.85\n1037      19.98\n21954     31.05\n33596    119.99\nName: discounted_price, Length: 24182, dtype: float64, 35548     57.99\n39850    123.00\n27699    739.00\n4573      69.95\n36461    769.00\n          ...  \n39164    199.00\n39062    184.95\n13284     41.74\n33622     71.89\n24506     16.87\nName: discounted_price, Length: 6046, dtype: float64)"
                ],
                [
                  "31",
                  "none",
                  "none",
                  "robust",
                  "none",
                  "ordinal",
                  "(array([[-0.5       , -0.12207324, -0.33333333, -0.07637133,  0.        ,\n         0.        ],\n       [-0.25      ,  0.18411047,  0.33333333, -0.35304839,  0.        ,\n         7.        ],\n       [-1.75      , -0.25695417, -0.33333333,  0.70550885,  0.        ,\n         1.        ],\n       ...,\n       [ 0.25      ,  5.7138283 , 16.        , -0.17055676,  0.        ,\n         7.        ],\n       [ 0.25      ,  0.18090855, -0.33333333, -0.17079193,  0.        ,\n         0.        ],\n       [-0.25      ,  1.14548729,  2.66666667,  0.24099006,  1.        ,\n         7.        ]], shape=(24182, 6)), array([[-1.75      , -0.17810686,  0.        , -0.12352284,  0.        ,\n         7.        ],\n       [-1.5       ,  0.0448269 , -0.33333333,  0.25868658,  0.        ,\n         4.        ],\n       [ 1.        , -0.2701621 , -0.5       ,  3.88029867,  0.        ,\n         4.        ],\n       ...,\n       [ 0.        , -0.22053232, -0.33333333, -0.2190605 ,  0.        ,\n         6.        ],\n       [ 0.25      , -0.24534721, -0.33333333,  0.18219766,  0.        ,\n        11.        ],\n       [ 0.5       ,  1.80868521,  0.33333333, -0.36527721,  0.        ,\n         4.        ]], shape=(6046, 6)), 16916     62.90\n9654      15.99\n36420    199.00\n1985     119.99\n39079    101.16\n          ...  \n42006    173.33\n6901     162.85\n1037      19.98\n21954     31.05\n33596    119.99\nName: discounted_price, Length: 24182, dtype: float64, 35548     57.99\n39850    123.00\n27699    739.00\n4573      69.95\n36461    769.00\n          ...  \n39164    199.00\n39062    184.95\n13284     41.74\n33622     71.89\n24506     16.87\nName: discounted_price, Length: 6046, dtype: float64)"
                ],
                [
                  "32",
                  "none",
                  "none",
                  "robust",
                  "pca_0.95_auto",
                  "onehot",
                  "(array([[-4.31442455, -0.94356231,  1.        , ...,  0.        ,\n         0.        ,  0.        ],\n       [-3.61872916, -0.69342357,  1.        , ...,  0.        ,\n         0.        ,  0.        ],\n       [-4.34058752, -1.10184692,  1.        , ...,  0.        ,\n         0.        ,  0.        ],\n       ...,\n       [12.49251327,  3.36329667,  1.        , ...,  0.        ,\n         0.        ,  0.        ],\n       [-4.28103606, -0.63431967,  1.        , ...,  0.        ,\n         0.        ,  0.        ],\n       [-1.21117621,  0.03710015,  0.        , ...,  0.        ,\n         0.        ,  0.        ]], shape=(24182, 19)), array([[-3.99520504, -1.03916513,  1.        , ...,  0.        ,\n         0.        ,  0.        ],\n       [-4.3078123 , -0.79135639,  1.        , ...,  0.        ,\n         0.        ,  0.        ],\n       [-4.51425329, -1.13541558,  1.        , ...,  0.        ,\n         0.        ,  0.        ],\n       ...,\n       [-4.3193022 , -1.03505688,  1.        , ...,  0.        ,\n         0.        ,  0.        ],\n       [-4.32302746, -1.06505815,  1.        , ...,  0.        ,\n         0.        ,  0.        ],\n       [-3.46396135,  0.93000097,  1.        , ...,  0.        ,\n         0.        ,  0.        ]], shape=(6046, 19)), 16916     62.90\n9654      15.99\n36420    199.00\n1985     119.99\n39079    101.16\n          ...  \n42006    173.33\n6901     162.85\n1037      19.98\n21954     31.05\n33596    119.99\nName: discounted_price, Length: 24182, dtype: float64, 35548     57.99\n39850    123.00\n27699    739.00\n4573      69.95\n36461    769.00\n          ...  \n39164    199.00\n39062    184.95\n13284     41.74\n33622     71.89\n24506     16.87\nName: discounted_price, Length: 6046, dtype: float64)"
                ],
                [
                  "33",
                  "none",
                  "none",
                  "robust",
                  "pca_0.95_auto",
                  "ordinal",
                  "(array([[-4.31442455, -0.94356231,  0.        ,  0.        ],\n       [-3.61872916, -0.69342357,  0.        ,  7.        ],\n       [-4.34058752, -1.10184692,  0.        ,  1.        ],\n       ...,\n       [12.49251327,  3.36329667,  0.        ,  7.        ],\n       [-4.28103606, -0.63431967,  0.        ,  0.        ],\n       [-1.21117621,  0.03710015,  1.        ,  7.        ]],\n      shape=(24182, 4)), array([[-3.99520504, -1.03916513,  0.        ,  7.        ],\n       [-4.3078123 , -0.79135639,  0.        ,  4.        ],\n       [-4.51425329, -1.13541558,  0.        ,  4.        ],\n       ...,\n       [-4.3193022 , -1.03505688,  0.        ,  6.        ],\n       [-4.32302746, -1.06505815,  0.        , 11.        ],\n       [-3.46396135,  0.93000097,  0.        ,  4.        ]],\n      shape=(6046, 4)), 16916     62.90\n9654      15.99\n36420    199.00\n1985     119.99\n39079    101.16\n          ...  \n42006    173.33\n6901     162.85\n1037      19.98\n21954     31.05\n33596    119.99\nName: discounted_price, Length: 24182, dtype: float64, 35548     57.99\n39850    123.00\n27699    739.00\n4573      69.95\n36461    769.00\n          ...  \n39164    199.00\n39062    184.95\n13284     41.74\n33622     71.89\n24506     16.87\nName: discounted_price, Length: 6046, dtype: float64)"
                ],
                [
                  "34",
                  "none",
                  "none",
                  "robust",
                  "pca_0.95_full",
                  "onehot",
                  "(array([[-4.31442455, -0.94356231,  1.        , ...,  0.        ,\n         0.        ,  0.        ],\n       [-3.61872916, -0.69342357,  1.        , ...,  0.        ,\n         0.        ,  0.        ],\n       [-4.34058752, -1.10184692,  1.        , ...,  0.        ,\n         0.        ,  0.        ],\n       ...,\n       [12.49251327,  3.36329667,  1.        , ...,  0.        ,\n         0.        ,  0.        ],\n       [-4.28103606, -0.63431967,  1.        , ...,  0.        ,\n         0.        ,  0.        ],\n       [-1.21117621,  0.03710015,  0.        , ...,  0.        ,\n         0.        ,  0.        ]], shape=(24182, 19)), array([[-3.99520504, -1.03916513,  1.        , ...,  0.        ,\n         0.        ,  0.        ],\n       [-4.3078123 , -0.79135639,  1.        , ...,  0.        ,\n         0.        ,  0.        ],\n       [-4.51425329, -1.13541558,  1.        , ...,  0.        ,\n         0.        ,  0.        ],\n       ...,\n       [-4.3193022 , -1.03505688,  1.        , ...,  0.        ,\n         0.        ,  0.        ],\n       [-4.32302746, -1.06505815,  1.        , ...,  0.        ,\n         0.        ,  0.        ],\n       [-3.46396135,  0.93000097,  1.        , ...,  0.        ,\n         0.        ,  0.        ]], shape=(6046, 19)), 16916     62.90\n9654      15.99\n36420    199.00\n1985     119.99\n39079    101.16\n          ...  \n42006    173.33\n6901     162.85\n1037      19.98\n21954     31.05\n33596    119.99\nName: discounted_price, Length: 24182, dtype: float64, 35548     57.99\n39850    123.00\n27699    739.00\n4573      69.95\n36461    769.00\n          ...  \n39164    199.00\n39062    184.95\n13284     41.74\n33622     71.89\n24506     16.87\nName: discounted_price, Length: 6046, dtype: float64)"
                ],
                [
                  "35",
                  "none",
                  "none",
                  "robust",
                  "pca_0.95_full",
                  "ordinal",
                  "(array([[-4.31442455, -0.94356231,  0.        ,  0.        ],\n       [-3.61872916, -0.69342357,  0.        ,  7.        ],\n       [-4.34058752, -1.10184692,  0.        ,  1.        ],\n       ...,\n       [12.49251327,  3.36329667,  0.        ,  7.        ],\n       [-4.28103606, -0.63431967,  0.        ,  0.        ],\n       [-1.21117621,  0.03710015,  1.        ,  7.        ]],\n      shape=(24182, 4)), array([[-3.99520504, -1.03916513,  0.        ,  7.        ],\n       [-4.3078123 , -0.79135639,  0.        ,  4.        ],\n       [-4.51425329, -1.13541558,  0.        ,  4.        ],\n       ...,\n       [-4.3193022 , -1.03505688,  0.        ,  6.        ],\n       [-4.32302746, -1.06505815,  0.        , 11.        ],\n       [-3.46396135,  0.93000097,  0.        ,  4.        ]],\n      shape=(6046, 4)), 16916     62.90\n9654      15.99\n36420    199.00\n1985     119.99\n39079    101.16\n          ...  \n42006    173.33\n6901     162.85\n1037      19.98\n21954     31.05\n33596    119.99\nName: discounted_price, Length: 24182, dtype: float64, 35548     57.99\n39850    123.00\n27699    739.00\n4573      69.95\n36461    769.00\n          ...  \n39164    199.00\n39062    184.95\n13284     41.74\n33622     71.89\n24506     16.87\nName: discounted_price, Length: 6046, dtype: float64)"
                ],
                [
                  "36",
                  "none",
                  "none",
                  "robust",
                  "pca_0.99_auto",
                  "onehot",
                  "(array([[-4.31442455, -0.94356231,  1.        , ...,  0.        ,\n         0.        ,  0.        ],\n       [-3.61872916, -0.69342357,  1.        , ...,  0.        ,\n         0.        ,  0.        ],\n       [-4.34058752, -1.10184692,  1.        , ...,  0.        ,\n         0.        ,  0.        ],\n       ...,\n       [12.49251327,  3.36329667,  1.        , ...,  0.        ,\n         0.        ,  0.        ],\n       [-4.28103606, -0.63431967,  1.        , ...,  0.        ,\n         0.        ,  0.        ],\n       [-1.21117621,  0.03710015,  0.        , ...,  0.        ,\n         0.        ,  0.        ]], shape=(24182, 19)), array([[-3.99520504, -1.03916513,  1.        , ...,  0.        ,\n         0.        ,  0.        ],\n       [-4.3078123 , -0.79135639,  1.        , ...,  0.        ,\n         0.        ,  0.        ],\n       [-4.51425329, -1.13541558,  1.        , ...,  0.        ,\n         0.        ,  0.        ],\n       ...,\n       [-4.3193022 , -1.03505688,  1.        , ...,  0.        ,\n         0.        ,  0.        ],\n       [-4.32302746, -1.06505815,  1.        , ...,  0.        ,\n         0.        ,  0.        ],\n       [-3.46396135,  0.93000097,  1.        , ...,  0.        ,\n         0.        ,  0.        ]], shape=(6046, 19)), 16916     62.90\n9654      15.99\n36420    199.00\n1985     119.99\n39079    101.16\n          ...  \n42006    173.33\n6901     162.85\n1037      19.98\n21954     31.05\n33596    119.99\nName: discounted_price, Length: 24182, dtype: float64, 35548     57.99\n39850    123.00\n27699    739.00\n4573      69.95\n36461    769.00\n          ...  \n39164    199.00\n39062    184.95\n13284     41.74\n33622     71.89\n24506     16.87\nName: discounted_price, Length: 6046, dtype: float64)"
                ],
                [
                  "37",
                  "none",
                  "none",
                  "robust",
                  "pca_0.99_auto",
                  "ordinal",
                  "(array([[-4.31442455, -0.94356231,  0.        ,  0.        ],\n       [-3.61872916, -0.69342357,  0.        ,  7.        ],\n       [-4.34058752, -1.10184692,  0.        ,  1.        ],\n       ...,\n       [12.49251327,  3.36329667,  0.        ,  7.        ],\n       [-4.28103606, -0.63431967,  0.        ,  0.        ],\n       [-1.21117621,  0.03710015,  1.        ,  7.        ]],\n      shape=(24182, 4)), array([[-3.99520504, -1.03916513,  0.        ,  7.        ],\n       [-4.3078123 , -0.79135639,  0.        ,  4.        ],\n       [-4.51425329, -1.13541558,  0.        ,  4.        ],\n       ...,\n       [-4.3193022 , -1.03505688,  0.        ,  6.        ],\n       [-4.32302746, -1.06505815,  0.        , 11.        ],\n       [-3.46396135,  0.93000097,  0.        ,  4.        ]],\n      shape=(6046, 4)), 16916     62.90\n9654      15.99\n36420    199.00\n1985     119.99\n39079    101.16\n          ...  \n42006    173.33\n6901     162.85\n1037      19.98\n21954     31.05\n33596    119.99\nName: discounted_price, Length: 24182, dtype: float64, 35548     57.99\n39850    123.00\n27699    739.00\n4573      69.95\n36461    769.00\n          ...  \n39164    199.00\n39062    184.95\n13284     41.74\n33622     71.89\n24506     16.87\nName: discounted_price, Length: 6046, dtype: float64)"
                ],
                [
                  "38",
                  "none",
                  "none",
                  "robust",
                  "pca_0.99_full",
                  "onehot",
                  "(array([[-4.31442455, -0.94356231,  1.        , ...,  0.        ,\n         0.        ,  0.        ],\n       [-3.61872916, -0.69342357,  1.        , ...,  0.        ,\n         0.        ,  0.        ],\n       [-4.34058752, -1.10184692,  1.        , ...,  0.        ,\n         0.        ,  0.        ],\n       ...,\n       [12.49251327,  3.36329667,  1.        , ...,  0.        ,\n         0.        ,  0.        ],\n       [-4.28103606, -0.63431967,  1.        , ...,  0.        ,\n         0.        ,  0.        ],\n       [-1.21117621,  0.03710015,  0.        , ...,  0.        ,\n         0.        ,  0.        ]], shape=(24182, 19)), array([[-3.99520504, -1.03916513,  1.        , ...,  0.        ,\n         0.        ,  0.        ],\n       [-4.3078123 , -0.79135639,  1.        , ...,  0.        ,\n         0.        ,  0.        ],\n       [-4.51425329, -1.13541558,  1.        , ...,  0.        ,\n         0.        ,  0.        ],\n       ...,\n       [-4.3193022 , -1.03505688,  1.        , ...,  0.        ,\n         0.        ,  0.        ],\n       [-4.32302746, -1.06505815,  1.        , ...,  0.        ,\n         0.        ,  0.        ],\n       [-3.46396135,  0.93000097,  1.        , ...,  0.        ,\n         0.        ,  0.        ]], shape=(6046, 19)), 16916     62.90\n9654      15.99\n36420    199.00\n1985     119.99\n39079    101.16\n          ...  \n42006    173.33\n6901     162.85\n1037      19.98\n21954     31.05\n33596    119.99\nName: discounted_price, Length: 24182, dtype: float64, 35548     57.99\n39850    123.00\n27699    739.00\n4573      69.95\n36461    769.00\n          ...  \n39164    199.00\n39062    184.95\n13284     41.74\n33622     71.89\n24506     16.87\nName: discounted_price, Length: 6046, dtype: float64)"
                ],
                [
                  "39",
                  "none",
                  "none",
                  "robust",
                  "pca_0.99_full",
                  "ordinal",
                  "(array([[-4.31442455, -0.94356231,  0.        ,  0.        ],\n       [-3.61872916, -0.69342357,  0.        ,  7.        ],\n       [-4.34058752, -1.10184692,  0.        ,  1.        ],\n       ...,\n       [12.49251327,  3.36329667,  0.        ,  7.        ],\n       [-4.28103606, -0.63431967,  0.        ,  0.        ],\n       [-1.21117621,  0.03710015,  1.        ,  7.        ]],\n      shape=(24182, 4)), array([[-3.99520504, -1.03916513,  0.        ,  7.        ],\n       [-4.3078123 , -0.79135639,  0.        ,  4.        ],\n       [-4.51425329, -1.13541558,  0.        ,  4.        ],\n       ...,\n       [-4.3193022 , -1.03505688,  0.        ,  6.        ],\n       [-4.32302746, -1.06505815,  0.        , 11.        ],\n       [-3.46396135,  0.93000097,  0.        ,  4.        ]],\n      shape=(6046, 4)), 16916     62.90\n9654      15.99\n36420    199.00\n1985     119.99\n39079    101.16\n          ...  \n42006    173.33\n6901     162.85\n1037      19.98\n21954     31.05\n33596    119.99\nName: discounted_price, Length: 24182, dtype: float64, 35548     57.99\n39850    123.00\n27699    739.00\n4573      69.95\n36461    769.00\n          ...  \n39164    199.00\n39062    184.95\n13284     41.74\n33622     71.89\n24506     16.87\nName: discounted_price, Length: 6046, dtype: float64)"
                ],
                [
                  "40",
                  "none",
                  "none",
                  "log1p_robust",
                  "none",
                  "onehot",
                  "(array([[-0.50909291, -0.21187049, -0.49910355, ...,  0.        ,\n         0.        ,  0.        ],\n       [-0.25218941,  0.18503339,  0.29285856, ...,  0.        ,\n         0.        ,  0.        ],\n       [-1.87099206, -0.98394267, -0.49910355, ...,  0.        ,\n         0.        ,  0.        ],\n       ...,\n       [ 0.24764521,  1.11221344,  2.33100733, ...,  0.        ,\n         0.        ,  0.        ],\n       [ 0.24764521,  0.18250676, -0.49910355, ...,  0.        ,\n         0.        ,  0.        ],\n       [-0.25218941,  0.59277838,  1.16434743, ...,  0.        ,\n         0.        ,  0.        ]], shape=(24182, 21)), array([[-1.87099206, -0.37665665,  0.        , ...,  0.        ,\n         0.        ,  0.        ],\n       [-1.58760187,  0.05451924, -0.49910355, ...,  0.        ,\n         0.        ,  0.        ],\n       [ 0.96488293, -1.46108447, -0.994661  , ...,  0.        ,\n         0.        ,  0.        ],\n       ...,\n       [ 0.        , -0.5846895 , -0.49910355, ...,  0.        ,\n         0.        ,  0.        ],\n       [ 0.24764521, -0.80438486, -0.49910355, ...,  0.        ,\n         0.        ,  0.        ],\n       [ 0.49090709,  0.73109057,  0.29285856, ...,  0.        ,\n         0.        ,  0.        ]], shape=(6046, 21)), 16916     62.90\n9654      15.99\n36420    199.00\n1985     119.99\n39079    101.16\n          ...  \n42006    173.33\n6901     162.85\n1037      19.98\n21954     31.05\n33596    119.99\nName: discounted_price, Length: 24182, dtype: float64, 35548     57.99\n39850    123.00\n27699    739.00\n4573      69.95\n36461    769.00\n          ...  \n39164    199.00\n39062    184.95\n13284     41.74\n33622     71.89\n24506     16.87\nName: discounted_price, Length: 6046, dtype: float64)"
                ],
                [
                  "41",
                  "none",
                  "none",
                  "log1p_robust",
                  "none",
                  "ordinal",
                  "(array([[-0.50909291, -0.21187049, -0.49910355, -0.09324903,  0.        ,\n         0.        ],\n       [-0.25218941,  0.18503339,  0.29285856, -0.73089816,  0.        ,\n         7.        ],\n       [-1.87099206, -0.98394267, -0.49910355,  0.48222668,  0.        ,\n         1.        ],\n       ...,\n       [ 0.24764521,  1.11221344,  2.33100733, -0.23703557,  0.        ,\n         7.        ],\n       [ 0.24764521,  0.18250676, -0.49910355, -0.23744859,  0.        ,\n         0.        ],\n       [-0.25218941,  0.59277838,  1.16434743,  0.21771272,  1.        ,\n         7.        ]], shape=(24182, 6)), array([[-1.87099206, -0.37665665,  0.        , -0.16033618,  0.        ,\n         7.        ],\n       [-1.58760187,  0.05451924, -0.49910355,  0.23064538,  0.        ,\n         4.        ],\n       [ 0.96488293, -1.46108447, -0.994661  ,  1.17077779,  0.        ,\n         4.        ],\n       ...,\n       [ 0.        , -0.5846895 , -0.49910355, -0.32992122,  0.        ,\n         6.        ],\n       [ 0.24764521, -0.80438486, -0.49910355,  0.17231159,  0.        ,\n        11.        ],\n       [ 0.49090709,  0.73109057,  0.29285856, -0.78884479,  0.        ,\n         4.        ]], shape=(6046, 6)), 16916     62.90\n9654      15.99\n36420    199.00\n1985     119.99\n39079    101.16\n          ...  \n42006    173.33\n6901     162.85\n1037      19.98\n21954     31.05\n33596    119.99\nName: discounted_price, Length: 24182, dtype: float64, 35548     57.99\n39850    123.00\n27699    739.00\n4573      69.95\n36461    769.00\n          ...  \n39164    199.00\n39062    184.95\n13284     41.74\n33622     71.89\n24506     16.87\nName: discounted_price, Length: 6046, dtype: float64)"
                ],
                [
                  "42",
                  "none",
                  "none",
                  "log1p_robust",
                  "pca_0.95_auto",
                  "onehot",
                  "(array([[-0.60722688,  0.0290252 ,  0.09745114, ...,  0.        ,\n         0.        ,  0.        ],\n       [ 0.44216989, -0.27909291,  0.04448124, ...,  0.        ,\n         0.        ,  0.        ],\n       [-1.80309945, -0.87756977, -0.5470289 , ...,  0.        ,\n         0.        ,  0.        ],\n       ...,\n       [ 2.26357769, -0.93691064,  0.01236004, ...,  0.        ,\n         0.        ,  0.        ],\n       [-0.01822437,  0.56166005,  0.44023557, ...,  0.        ,\n         0.        ,  0.        ],\n       [ 0.85208557, -0.6588257 ,  0.10501896, ...,  0.        ,\n         0.        ,  0.        ]], shape=(24182, 21)), array([[-1.00631098, -1.32386012, -0.28414334, ...,  0.        ,\n         0.        ,  0.        ],\n       [-1.17986851, -0.91583518,  0.35803424, ...,  0.        ,\n         0.        ,  0.        ],\n       [-1.10185263,  1.9565061 , -0.67662593, ...,  0.        ,\n         0.        ,  0.        ],\n       ...,\n       [-0.39921475,  0.52475391, -0.2532597 , ...,  0.        ,\n         0.        ,  0.        ],\n       [-0.53235001,  0.84737836, -0.40336402, ...,  0.        ,\n         0.        ,  0.        ],\n       [ 1.04996646,  0.21547269,  0.53006882, ...,  0.        ,\n         0.        ,  0.        ]], shape=(6046, 21)), 16916     62.90\n9654      15.99\n36420    199.00\n1985     119.99\n39079    101.16\n          ...  \n42006    173.33\n6901     162.85\n1037      19.98\n21954     31.05\n33596    119.99\nName: discounted_price, Length: 24182, dtype: float64, 35548     57.99\n39850    123.00\n27699    739.00\n4573      69.95\n36461    769.00\n          ...  \n39164    199.00\n39062    184.95\n13284     41.74\n33622     71.89\n24506     16.87\nName: discounted_price, Length: 6046, dtype: float64)"
                ],
                [
                  "43",
                  "none",
                  "none",
                  "log1p_robust",
                  "pca_0.95_auto",
                  "ordinal",
                  "(array([[-0.60722688,  0.0290252 ,  0.09745114, -0.35468237,  0.        ,\n         0.        ],\n       [ 0.44216989, -0.27909291,  0.04448124, -0.59625293,  0.        ,\n         7.        ],\n       [-1.80309945, -0.87756977, -0.5470289 , -0.01607219,  0.        ,\n         1.        ],\n       ...,\n       [ 2.26357769, -0.93691064,  0.01236004,  0.72895115,  0.        ,\n         7.        ],\n       [-0.01822437,  0.56166005,  0.44023557, -0.38391454,  0.        ,\n         0.        ],\n       [ 0.85208557, -0.6588257 ,  0.10501896,  0.6324532 ,  1.        ,\n         7.        ]], shape=(24182, 6)), array([[-1.00631098, -1.32386012, -0.28414334, -0.37332829,  0.        ,\n         7.        ],\n       [-1.17986851, -0.91583518,  0.35803424, -0.13002812,  0.        ,\n         4.        ],\n       [-1.10185263,  1.9565061 , -0.67662593,  0.65400428,  0.        ,\n         4.        ],\n       ...,\n       [-0.39921475,  0.52475391, -0.2532597 , -0.56003386,  0.        ,\n         6.        ],\n       [-0.53235001,  0.84737836, -0.40336402, -0.09367654,  0.        ,\n        11.        ],\n       [ 1.04996646,  0.21547269,  0.53006882, -0.53363068,  0.        ,\n         4.        ]], shape=(6046, 6)), 16916     62.90\n9654      15.99\n36420    199.00\n1985     119.99\n39079    101.16\n          ...  \n42006    173.33\n6901     162.85\n1037      19.98\n21954     31.05\n33596    119.99\nName: discounted_price, Length: 24182, dtype: float64, 35548     57.99\n39850    123.00\n27699    739.00\n4573      69.95\n36461    769.00\n          ...  \n39164    199.00\n39062    184.95\n13284     41.74\n33622     71.89\n24506     16.87\nName: discounted_price, Length: 6046, dtype: float64)"
                ],
                [
                  "44",
                  "none",
                  "none",
                  "log1p_robust",
                  "pca_0.95_full",
                  "onehot",
                  "(array([[-0.60722688,  0.0290252 ,  0.09745114, ...,  0.        ,\n         0.        ,  0.        ],\n       [ 0.44216989, -0.27909291,  0.04448124, ...,  0.        ,\n         0.        ,  0.        ],\n       [-1.80309945, -0.87756977, -0.5470289 , ...,  0.        ,\n         0.        ,  0.        ],\n       ...,\n       [ 2.26357769, -0.93691064,  0.01236004, ...,  0.        ,\n         0.        ,  0.        ],\n       [-0.01822437,  0.56166005,  0.44023557, ...,  0.        ,\n         0.        ,  0.        ],\n       [ 0.85208557, -0.6588257 ,  0.10501896, ...,  0.        ,\n         0.        ,  0.        ]], shape=(24182, 21)), array([[-1.00631098, -1.32386012, -0.28414334, ...,  0.        ,\n         0.        ,  0.        ],\n       [-1.17986851, -0.91583518,  0.35803424, ...,  0.        ,\n         0.        ,  0.        ],\n       [-1.10185263,  1.9565061 , -0.67662593, ...,  0.        ,\n         0.        ,  0.        ],\n       ...,\n       [-0.39921475,  0.52475391, -0.2532597 , ...,  0.        ,\n         0.        ,  0.        ],\n       [-0.53235001,  0.84737836, -0.40336402, ...,  0.        ,\n         0.        ,  0.        ],\n       [ 1.04996646,  0.21547269,  0.53006882, ...,  0.        ,\n         0.        ,  0.        ]], shape=(6046, 21)), 16916     62.90\n9654      15.99\n36420    199.00\n1985     119.99\n39079    101.16\n          ...  \n42006    173.33\n6901     162.85\n1037      19.98\n21954     31.05\n33596    119.99\nName: discounted_price, Length: 24182, dtype: float64, 35548     57.99\n39850    123.00\n27699    739.00\n4573      69.95\n36461    769.00\n          ...  \n39164    199.00\n39062    184.95\n13284     41.74\n33622     71.89\n24506     16.87\nName: discounted_price, Length: 6046, dtype: float64)"
                ],
                [
                  "45",
                  "none",
                  "none",
                  "log1p_robust",
                  "pca_0.95_full",
                  "ordinal",
                  "(array([[-0.60722688,  0.0290252 ,  0.09745114, -0.35468237,  0.        ,\n         0.        ],\n       [ 0.44216989, -0.27909291,  0.04448124, -0.59625293,  0.        ,\n         7.        ],\n       [-1.80309945, -0.87756977, -0.5470289 , -0.01607219,  0.        ,\n         1.        ],\n       ...,\n       [ 2.26357769, -0.93691064,  0.01236004,  0.72895115,  0.        ,\n         7.        ],\n       [-0.01822437,  0.56166005,  0.44023557, -0.38391454,  0.        ,\n         0.        ],\n       [ 0.85208557, -0.6588257 ,  0.10501896,  0.6324532 ,  1.        ,\n         7.        ]], shape=(24182, 6)), array([[-1.00631098, -1.32386012, -0.28414334, -0.37332829,  0.        ,\n         7.        ],\n       [-1.17986851, -0.91583518,  0.35803424, -0.13002812,  0.        ,\n         4.        ],\n       [-1.10185263,  1.9565061 , -0.67662593,  0.65400428,  0.        ,\n         4.        ],\n       ...,\n       [-0.39921475,  0.52475391, -0.2532597 , -0.56003386,  0.        ,\n         6.        ],\n       [-0.53235001,  0.84737836, -0.40336402, -0.09367654,  0.        ,\n        11.        ],\n       [ 1.04996646,  0.21547269,  0.53006882, -0.53363068,  0.        ,\n         4.        ]], shape=(6046, 6)), 16916     62.90\n9654      15.99\n36420    199.00\n1985     119.99\n39079    101.16\n          ...  \n42006    173.33\n6901     162.85\n1037      19.98\n21954     31.05\n33596    119.99\nName: discounted_price, Length: 24182, dtype: float64, 35548     57.99\n39850    123.00\n27699    739.00\n4573      69.95\n36461    769.00\n          ...  \n39164    199.00\n39062    184.95\n13284     41.74\n33622     71.89\n24506     16.87\nName: discounted_price, Length: 6046, dtype: float64)"
                ],
                [
                  "46",
                  "none",
                  "none",
                  "log1p_robust",
                  "pca_0.99_auto",
                  "onehot",
                  "(array([[-0.60722688,  0.0290252 ,  0.09745114, ...,  0.        ,\n         0.        ,  0.        ],\n       [ 0.44216989, -0.27909291,  0.04448124, ...,  0.        ,\n         0.        ,  0.        ],\n       [-1.80309945, -0.87756977, -0.5470289 , ...,  0.        ,\n         0.        ,  0.        ],\n       ...,\n       [ 2.26357769, -0.93691064,  0.01236004, ...,  0.        ,\n         0.        ,  0.        ],\n       [-0.01822437,  0.56166005,  0.44023557, ...,  0.        ,\n         0.        ,  0.        ],\n       [ 0.85208557, -0.6588257 ,  0.10501896, ...,  0.        ,\n         0.        ,  0.        ]], shape=(24182, 21)), array([[-1.00631098, -1.32386012, -0.28414334, ...,  0.        ,\n         0.        ,  0.        ],\n       [-1.17986851, -0.91583518,  0.35803424, ...,  0.        ,\n         0.        ,  0.        ],\n       [-1.10185263,  1.9565061 , -0.67662593, ...,  0.        ,\n         0.        ,  0.        ],\n       ...,\n       [-0.39921475,  0.52475391, -0.2532597 , ...,  0.        ,\n         0.        ,  0.        ],\n       [-0.53235001,  0.84737836, -0.40336402, ...,  0.        ,\n         0.        ,  0.        ],\n       [ 1.04996646,  0.21547269,  0.53006882, ...,  0.        ,\n         0.        ,  0.        ]], shape=(6046, 21)), 16916     62.90\n9654      15.99\n36420    199.00\n1985     119.99\n39079    101.16\n          ...  \n42006    173.33\n6901     162.85\n1037      19.98\n21954     31.05\n33596    119.99\nName: discounted_price, Length: 24182, dtype: float64, 35548     57.99\n39850    123.00\n27699    739.00\n4573      69.95\n36461    769.00\n          ...  \n39164    199.00\n39062    184.95\n13284     41.74\n33622     71.89\n24506     16.87\nName: discounted_price, Length: 6046, dtype: float64)"
                ],
                [
                  "47",
                  "none",
                  "none",
                  "log1p_robust",
                  "pca_0.99_auto",
                  "ordinal",
                  "(array([[-0.60722688,  0.0290252 ,  0.09745114, -0.35468237,  0.        ,\n         0.        ],\n       [ 0.44216989, -0.27909291,  0.04448124, -0.59625293,  0.        ,\n         7.        ],\n       [-1.80309945, -0.87756977, -0.5470289 , -0.01607219,  0.        ,\n         1.        ],\n       ...,\n       [ 2.26357769, -0.93691064,  0.01236004,  0.72895115,  0.        ,\n         7.        ],\n       [-0.01822437,  0.56166005,  0.44023557, -0.38391454,  0.        ,\n         0.        ],\n       [ 0.85208557, -0.6588257 ,  0.10501896,  0.6324532 ,  1.        ,\n         7.        ]], shape=(24182, 6)), array([[-1.00631098, -1.32386012, -0.28414334, -0.37332829,  0.        ,\n         7.        ],\n       [-1.17986851, -0.91583518,  0.35803424, -0.13002812,  0.        ,\n         4.        ],\n       [-1.10185263,  1.9565061 , -0.67662593,  0.65400428,  0.        ,\n         4.        ],\n       ...,\n       [-0.39921475,  0.52475391, -0.2532597 , -0.56003386,  0.        ,\n         6.        ],\n       [-0.53235001,  0.84737836, -0.40336402, -0.09367654,  0.        ,\n        11.        ],\n       [ 1.04996646,  0.21547269,  0.53006882, -0.53363068,  0.        ,\n         4.        ]], shape=(6046, 6)), 16916     62.90\n9654      15.99\n36420    199.00\n1985     119.99\n39079    101.16\n          ...  \n42006    173.33\n6901     162.85\n1037      19.98\n21954     31.05\n33596    119.99\nName: discounted_price, Length: 24182, dtype: float64, 35548     57.99\n39850    123.00\n27699    739.00\n4573      69.95\n36461    769.00\n          ...  \n39164    199.00\n39062    184.95\n13284     41.74\n33622     71.89\n24506     16.87\nName: discounted_price, Length: 6046, dtype: float64)"
                ],
                [
                  "48",
                  "none",
                  "none",
                  "log1p_robust",
                  "pca_0.99_full",
                  "onehot",
                  "(array([[-0.60722688,  0.0290252 ,  0.09745114, ...,  0.        ,\n         0.        ,  0.        ],\n       [ 0.44216989, -0.27909291,  0.04448124, ...,  0.        ,\n         0.        ,  0.        ],\n       [-1.80309945, -0.87756977, -0.5470289 , ...,  0.        ,\n         0.        ,  0.        ],\n       ...,\n       [ 2.26357769, -0.93691064,  0.01236004, ...,  0.        ,\n         0.        ,  0.        ],\n       [-0.01822437,  0.56166005,  0.44023557, ...,  0.        ,\n         0.        ,  0.        ],\n       [ 0.85208557, -0.6588257 ,  0.10501896, ...,  0.        ,\n         0.        ,  0.        ]], shape=(24182, 21)), array([[-1.00631098, -1.32386012, -0.28414334, ...,  0.        ,\n         0.        ,  0.        ],\n       [-1.17986851, -0.91583518,  0.35803424, ...,  0.        ,\n         0.        ,  0.        ],\n       [-1.10185263,  1.9565061 , -0.67662593, ...,  0.        ,\n         0.        ,  0.        ],\n       ...,\n       [-0.39921475,  0.52475391, -0.2532597 , ...,  0.        ,\n         0.        ,  0.        ],\n       [-0.53235001,  0.84737836, -0.40336402, ...,  0.        ,\n         0.        ,  0.        ],\n       [ 1.04996646,  0.21547269,  0.53006882, ...,  0.        ,\n         0.        ,  0.        ]], shape=(6046, 21)), 16916     62.90\n9654      15.99\n36420    199.00\n1985     119.99\n39079    101.16\n          ...  \n42006    173.33\n6901     162.85\n1037      19.98\n21954     31.05\n33596    119.99\nName: discounted_price, Length: 24182, dtype: float64, 35548     57.99\n39850    123.00\n27699    739.00\n4573      69.95\n36461    769.00\n          ...  \n39164    199.00\n39062    184.95\n13284     41.74\n33622     71.89\n24506     16.87\nName: discounted_price, Length: 6046, dtype: float64)"
                ],
                [
                  "49",
                  "none",
                  "none",
                  "log1p_robust",
                  "pca_0.99_full",
                  "ordinal",
                  "(array([[-0.60722688,  0.0290252 ,  0.09745114, -0.35468237,  0.        ,\n         0.        ],\n       [ 0.44216989, -0.27909291,  0.04448124, -0.59625293,  0.        ,\n         7.        ],\n       [-1.80309945, -0.87756977, -0.5470289 , -0.01607219,  0.        ,\n         1.        ],\n       ...,\n       [ 2.26357769, -0.93691064,  0.01236004,  0.72895115,  0.        ,\n         7.        ],\n       [-0.01822437,  0.56166005,  0.44023557, -0.38391454,  0.        ,\n         0.        ],\n       [ 0.85208557, -0.6588257 ,  0.10501896,  0.6324532 ,  1.        ,\n         7.        ]], shape=(24182, 6)), array([[-1.00631098, -1.32386012, -0.28414334, -0.37332829,  0.        ,\n         7.        ],\n       [-1.17986851, -0.91583518,  0.35803424, -0.13002812,  0.        ,\n         4.        ],\n       [-1.10185263,  1.9565061 , -0.67662593,  0.65400428,  0.        ,\n         4.        ],\n       ...,\n       [-0.39921475,  0.52475391, -0.2532597 , -0.56003386,  0.        ,\n         6.        ],\n       [-0.53235001,  0.84737836, -0.40336402, -0.09367654,  0.        ,\n        11.        ],\n       [ 1.04996646,  0.21547269,  0.53006882, -0.53363068,  0.        ,\n         4.        ]], shape=(6046, 6)), 16916     62.90\n9654      15.99\n36420    199.00\n1985     119.99\n39079    101.16\n          ...  \n42006    173.33\n6901     162.85\n1037      19.98\n21954     31.05\n33596    119.99\nName: discounted_price, Length: 24182, dtype: float64, 35548     57.99\n39850    123.00\n27699    739.00\n4573      69.95\n36461    769.00\n          ...  \n39164    199.00\n39062    184.95\n13284     41.74\n33622     71.89\n24506     16.87\nName: discounted_price, Length: 6046, dtype: float64)"
                ]
              ],
              "shape": {
                "columns": 6,
                "rows": 300
              }
            },
            "text/html": [
              "<div>\n",
              "<style scoped>\n",
              "    .dataframe tbody tr th:only-of-type {\n",
              "        vertical-align: middle;\n",
              "    }\n",
              "\n",
              "    .dataframe tbody tr th {\n",
              "        vertical-align: top;\n",
              "    }\n",
              "\n",
              "    .dataframe thead th {\n",
              "        text-align: right;\n",
              "    }\n",
              "</style>\n",
              "<table border=\"1\" class=\"dataframe\">\n",
              "  <thead>\n",
              "    <tr style=\"text-align: right;\">\n",
              "      <th></th>\n",
              "      <th>num_impute</th>\n",
              "      <th>cate_impute</th>\n",
              "      <th>scale</th>\n",
              "      <th>pca</th>\n",
              "      <th>encode</th>\n",
              "      <th>data</th>\n",
              "    </tr>\n",
              "  </thead>\n",
              "  <tbody>\n",
              "    <tr>\n",
              "      <th>0</th>\n",
              "      <td>none</td>\n",
              "      <td>none</td>\n",
              "      <td>none</td>\n",
              "      <td>none</td>\n",
              "      <td>onehot</td>\n",
              "      <td>([[1.0, 0.0, 1.0, 0.0, 0.0, 0.0, 0.0, 0.0, 0.0...</td>\n",
              "    </tr>\n",
              "    <tr>\n",
              "      <th>1</th>\n",
              "      <td>none</td>\n",
              "      <td>none</td>\n",
              "      <td>none</td>\n",
              "      <td>none</td>\n",
              "      <td>ordinal</td>\n",
              "      <td>([[0.0, 0.0, 4.3, 381.0, 100.0, 66.01], [0.0, ...</td>\n",
              "    </tr>\n",
              "    <tr>\n",
              "      <th>2</th>\n",
              "      <td>none</td>\n",
              "      <td>none</td>\n",
              "      <td>none</td>\n",
              "      <td>pca_0.95_auto</td>\n",
              "      <td>onehot</td>\n",
              "      <td>([[-3516.136510880982, -754.3612686828529, 1.0...</td>\n",
              "    </tr>\n",
              "    <tr>\n",
              "      <th>3</th>\n",
              "      <td>none</td>\n",
              "      <td>none</td>\n",
              "      <td>none</td>\n",
              "      <td>pca_0.95_auto</td>\n",
              "      <td>ordinal</td>\n",
              "      <td>([[-3516.136510880982, -754.3612686828529, 0.0...</td>\n",
              "    </tr>\n",
              "    <tr>\n",
              "      <th>4</th>\n",
              "      <td>none</td>\n",
              "      <td>none</td>\n",
              "      <td>none</td>\n",
              "      <td>pca_0.95_full</td>\n",
              "      <td>onehot</td>\n",
              "      <td>([[-3516.1365108809036, -754.3612686828619, 1....</td>\n",
              "    </tr>\n",
              "    <tr>\n",
              "      <th>...</th>\n",
              "      <td>...</td>\n",
              "      <td>...</td>\n",
              "      <td>...</td>\n",
              "      <td>...</td>\n",
              "      <td>...</td>\n",
              "      <td>...</td>\n",
              "    </tr>\n",
              "    <tr>\n",
              "      <th>295</th>\n",
              "      <td>median</td>\n",
              "      <td>most</td>\n",
              "      <td>log1p_robust</td>\n",
              "      <td>pca_0.95_full</td>\n",
              "      <td>ordinal</td>\n",
              "      <td>([[-0.6072268759139337, 0.029025196574582992, ...</td>\n",
              "    </tr>\n",
              "    <tr>\n",
              "      <th>296</th>\n",
              "      <td>median</td>\n",
              "      <td>most</td>\n",
              "      <td>log1p_robust</td>\n",
              "      <td>pca_0.99_auto</td>\n",
              "      <td>onehot</td>\n",
              "      <td>([[-0.6072268759139361, 0.02902519657460126, 0...</td>\n",
              "    </tr>\n",
              "    <tr>\n",
              "      <th>297</th>\n",
              "      <td>median</td>\n",
              "      <td>most</td>\n",
              "      <td>log1p_robust</td>\n",
              "      <td>pca_0.99_auto</td>\n",
              "      <td>ordinal</td>\n",
              "      <td>([[-0.6072268759139361, 0.02902519657460126, 0...</td>\n",
              "    </tr>\n",
              "    <tr>\n",
              "      <th>298</th>\n",
              "      <td>median</td>\n",
              "      <td>most</td>\n",
              "      <td>log1p_robust</td>\n",
              "      <td>pca_0.99_full</td>\n",
              "      <td>onehot</td>\n",
              "      <td>([[-0.6072268759139337, 0.029025196574582992, ...</td>\n",
              "    </tr>\n",
              "    <tr>\n",
              "      <th>299</th>\n",
              "      <td>median</td>\n",
              "      <td>most</td>\n",
              "      <td>log1p_robust</td>\n",
              "      <td>pca_0.99_full</td>\n",
              "      <td>ordinal</td>\n",
              "      <td>([[-0.6072268759139337, 0.029025196574582992, ...</td>\n",
              "    </tr>\n",
              "  </tbody>\n",
              "</table>\n",
              "<p>300 rows × 6 columns</p>\n",
              "</div>"
            ],
            "text/plain": [
              "    num_impute cate_impute         scale            pca   encode  \\\n",
              "0         none        none          none           none   onehot   \n",
              "1         none        none          none           none  ordinal   \n",
              "2         none        none          none  pca_0.95_auto   onehot   \n",
              "3         none        none          none  pca_0.95_auto  ordinal   \n",
              "4         none        none          none  pca_0.95_full   onehot   \n",
              "..         ...         ...           ...            ...      ...   \n",
              "295     median        most  log1p_robust  pca_0.95_full  ordinal   \n",
              "296     median        most  log1p_robust  pca_0.99_auto   onehot   \n",
              "297     median        most  log1p_robust  pca_0.99_auto  ordinal   \n",
              "298     median        most  log1p_robust  pca_0.99_full   onehot   \n",
              "299     median        most  log1p_robust  pca_0.99_full  ordinal   \n",
              "\n",
              "                                                  data  \n",
              "0    ([[1.0, 0.0, 1.0, 0.0, 0.0, 0.0, 0.0, 0.0, 0.0...  \n",
              "1    ([[0.0, 0.0, 4.3, 381.0, 100.0, 66.01], [0.0, ...  \n",
              "2    ([[-3516.136510880982, -754.3612686828529, 1.0...  \n",
              "3    ([[-3516.136510880982, -754.3612686828529, 0.0...  \n",
              "4    ([[-3516.1365108809036, -754.3612686828619, 1....  \n",
              "..                                                 ...  \n",
              "295  ([[-0.6072268759139337, 0.029025196574582992, ...  \n",
              "296  ([[-0.6072268759139361, 0.02902519657460126, 0...  \n",
              "297  ([[-0.6072268759139361, 0.02902519657460126, 0...  \n",
              "298  ([[-0.6072268759139337, 0.029025196574582992, ...  \n",
              "299  ([[-0.6072268759139337, 0.029025196574582992, ...  \n",
              "\n",
              "[300 rows x 6 columns]"
            ]
          },
          "execution_count": 77,
          "metadata": {},
          "output_type": "execute_result"
        }
      ],
      "source": [
        "split_datasets"
      ]
    },
    {
      "cell_type": "code",
      "execution_count": null,
      "id": "3b062d54",
      "metadata": {},
      "outputs": [
        {
          "name": "stdout",
          "output_type": "stream",
          "text": [
            "Model LinearRegression has been trained before.\n",
            "Model RandomForestRegressor has been trained before.\n",
            "Model SVR has been trained before.\n",
            "Model MLPRegressor has been trained before.\n"
          ]
        }
      ],
      "source": [
        "for params in grid:\n",
        "    csv_path = os.path.join(model_result_path, f\"{params[\"model\"].__class__.__name__}.csv\") # Change .csv name if you train one model with different config\n",
        "    os.makedirs(model_result_path, exist_ok=True)\n",
        "    if not os.path.exists(csv_path):\n",
        "        print(f\"Training {params[\"model\"].__class__.__name__}\")\n",
        "        model_result = tabular.train_one_model(params, split_datasets, tabular.Log1pRobustScaler())\n",
        "        model_result.to_csv(csv_path, index=False)\n",
        "    else:\n",
        "        print(f\"Model {params[\"model\"].__class__.__name__} has been trained before.\")"
      ]
    },
    {
      "cell_type": "code",
      "execution_count": 79,
      "id": "c5bf7af5",
      "metadata": {},
      "outputs": [
        {
          "data": {
            "application/vnd.microsoft.datawrangler.viewer.v0+json": {
              "columns": [
                {
                  "name": "index",
                  "rawType": "int64",
                  "type": "integer"
                },
                {
                  "name": "num_impute",
                  "rawType": "object",
                  "type": "string"
                },
                {
                  "name": "cate_impute",
                  "rawType": "object",
                  "type": "string"
                },
                {
                  "name": "scale",
                  "rawType": "object",
                  "type": "string"
                },
                {
                  "name": "pca",
                  "rawType": "object",
                  "type": "string"
                },
                {
                  "name": "encode",
                  "rawType": "object",
                  "type": "string"
                },
                {
                  "name": "r2",
                  "rawType": "float64",
                  "type": "float"
                }
              ],
              "ref": "0ab057bd-e1dc-4b4d-9afa-95114d066ec6",
              "rows": [
                [
                  "40",
                  "none",
                  "none",
                  "log1p_robust",
                  "none",
                  "onehot",
                  "0.8271692570107161"
                ],
                [
                  "42",
                  "none",
                  "none",
                  "log1p_robust",
                  "pca_0.95_auto",
                  "onehot",
                  "0.8271692570107161"
                ],
                [
                  "92",
                  "none",
                  "most",
                  "log1p_robust",
                  "pca_0.95_auto",
                  "onehot",
                  "0.8271692570107161"
                ],
                [
                  "96",
                  "none",
                  "most",
                  "log1p_robust",
                  "pca_0.99_auto",
                  "onehot",
                  "0.8271692570107161"
                ],
                [
                  "90",
                  "none",
                  "most",
                  "log1p_robust",
                  "none",
                  "onehot",
                  "0.8271692570107161"
                ],
                [
                  "46",
                  "none",
                  "none",
                  "log1p_robust",
                  "pca_0.99_auto",
                  "onehot",
                  "0.8271692570107161"
                ],
                [
                  "142",
                  "mean",
                  "none",
                  "log1p_robust",
                  "pca_0.95_auto",
                  "onehot",
                  "0.8271692570107161"
                ],
                [
                  "246",
                  "median",
                  "none",
                  "log1p_robust",
                  "pca_0.99_auto",
                  "onehot",
                  "0.8271692570107161"
                ],
                [
                  "240",
                  "median",
                  "none",
                  "log1p_robust",
                  "none",
                  "onehot",
                  "0.8271692570107161"
                ],
                [
                  "242",
                  "median",
                  "none",
                  "log1p_robust",
                  "pca_0.95_auto",
                  "onehot",
                  "0.8271692570107161"
                ],
                [
                  "192",
                  "mean",
                  "most",
                  "log1p_robust",
                  "pca_0.95_auto",
                  "onehot",
                  "0.8271692570107161"
                ],
                [
                  "196",
                  "mean",
                  "most",
                  "log1p_robust",
                  "pca_0.99_auto",
                  "onehot",
                  "0.8271692570107161"
                ],
                [
                  "146",
                  "mean",
                  "none",
                  "log1p_robust",
                  "pca_0.99_auto",
                  "onehot",
                  "0.8271692570107161"
                ],
                [
                  "140",
                  "mean",
                  "none",
                  "log1p_robust",
                  "none",
                  "onehot",
                  "0.8271692570107161"
                ],
                [
                  "296",
                  "median",
                  "most",
                  "log1p_robust",
                  "pca_0.99_auto",
                  "onehot",
                  "0.8271692570107161"
                ],
                [
                  "290",
                  "median",
                  "most",
                  "log1p_robust",
                  "none",
                  "onehot",
                  "0.8271692570107161"
                ],
                [
                  "190",
                  "mean",
                  "most",
                  "log1p_robust",
                  "none",
                  "onehot",
                  "0.8271692570107161"
                ],
                [
                  "292",
                  "median",
                  "most",
                  "log1p_robust",
                  "pca_0.95_auto",
                  "onehot",
                  "0.8271692570107161"
                ],
                [
                  "248",
                  "median",
                  "none",
                  "log1p_robust",
                  "pca_0.99_full",
                  "onehot",
                  "0.8271692570107149"
                ],
                [
                  "244",
                  "median",
                  "none",
                  "log1p_robust",
                  "pca_0.95_full",
                  "onehot",
                  "0.8271692570107149"
                ],
                [
                  "144",
                  "mean",
                  "none",
                  "log1p_robust",
                  "pca_0.95_full",
                  "onehot",
                  "0.8271692570107149"
                ],
                [
                  "148",
                  "mean",
                  "none",
                  "log1p_robust",
                  "pca_0.99_full",
                  "onehot",
                  "0.8271692570107149"
                ],
                [
                  "298",
                  "median",
                  "most",
                  "log1p_robust",
                  "pca_0.99_full",
                  "onehot",
                  "0.8271692570107149"
                ],
                [
                  "294",
                  "median",
                  "most",
                  "log1p_robust",
                  "pca_0.95_full",
                  "onehot",
                  "0.8271692570107149"
                ],
                [
                  "194",
                  "mean",
                  "most",
                  "log1p_robust",
                  "pca_0.95_full",
                  "onehot",
                  "0.8271692570107149"
                ],
                [
                  "198",
                  "mean",
                  "most",
                  "log1p_robust",
                  "pca_0.99_full",
                  "onehot",
                  "0.8271692570107149"
                ],
                [
                  "48",
                  "none",
                  "none",
                  "log1p_robust",
                  "pca_0.99_full",
                  "onehot",
                  "0.8271692570107149"
                ],
                [
                  "44",
                  "none",
                  "none",
                  "log1p_robust",
                  "pca_0.95_full",
                  "onehot",
                  "0.8271692570107149"
                ],
                [
                  "98",
                  "none",
                  "most",
                  "log1p_robust",
                  "pca_0.99_full",
                  "onehot",
                  "0.8271692570107149"
                ],
                [
                  "94",
                  "none",
                  "most",
                  "log1p_robust",
                  "pca_0.95_full",
                  "onehot",
                  "0.8271692570107149"
                ],
                [
                  "43",
                  "none",
                  "none",
                  "log1p_robust",
                  "pca_0.95_auto",
                  "ordinal",
                  "0.8174901349306247"
                ],
                [
                  "93",
                  "none",
                  "most",
                  "log1p_robust",
                  "pca_0.95_auto",
                  "ordinal",
                  "0.8174901349306247"
                ],
                [
                  "97",
                  "none",
                  "most",
                  "log1p_robust",
                  "pca_0.99_auto",
                  "ordinal",
                  "0.8174901349306247"
                ],
                [
                  "47",
                  "none",
                  "none",
                  "log1p_robust",
                  "pca_0.99_auto",
                  "ordinal",
                  "0.8174901349306247"
                ],
                [
                  "193",
                  "mean",
                  "most",
                  "log1p_robust",
                  "pca_0.95_auto",
                  "ordinal",
                  "0.8174901349306247"
                ],
                [
                  "197",
                  "mean",
                  "most",
                  "log1p_robust",
                  "pca_0.99_auto",
                  "ordinal",
                  "0.8174901349306247"
                ],
                [
                  "297",
                  "median",
                  "most",
                  "log1p_robust",
                  "pca_0.99_auto",
                  "ordinal",
                  "0.8174901349306247"
                ],
                [
                  "293",
                  "median",
                  "most",
                  "log1p_robust",
                  "pca_0.95_auto",
                  "ordinal",
                  "0.8174901349306247"
                ],
                [
                  "143",
                  "mean",
                  "none",
                  "log1p_robust",
                  "pca_0.95_auto",
                  "ordinal",
                  "0.8174901349306247"
                ],
                [
                  "147",
                  "mean",
                  "none",
                  "log1p_robust",
                  "pca_0.99_auto",
                  "ordinal",
                  "0.8174901349306247"
                ],
                [
                  "247",
                  "median",
                  "none",
                  "log1p_robust",
                  "pca_0.99_auto",
                  "ordinal",
                  "0.8174901349306247"
                ],
                [
                  "243",
                  "median",
                  "none",
                  "log1p_robust",
                  "pca_0.95_auto",
                  "ordinal",
                  "0.8174901349306247"
                ],
                [
                  "249",
                  "median",
                  "none",
                  "log1p_robust",
                  "pca_0.99_full",
                  "ordinal",
                  "0.8174901349306234"
                ],
                [
                  "245",
                  "median",
                  "none",
                  "log1p_robust",
                  "pca_0.95_full",
                  "ordinal",
                  "0.8174901349306234"
                ],
                [
                  "145",
                  "mean",
                  "none",
                  "log1p_robust",
                  "pca_0.95_full",
                  "ordinal",
                  "0.8174901349306234"
                ],
                [
                  "149",
                  "mean",
                  "none",
                  "log1p_robust",
                  "pca_0.99_full",
                  "ordinal",
                  "0.8174901349306234"
                ],
                [
                  "95",
                  "none",
                  "most",
                  "log1p_robust",
                  "pca_0.95_full",
                  "ordinal",
                  "0.8174901349306234"
                ],
                [
                  "49",
                  "none",
                  "none",
                  "log1p_robust",
                  "pca_0.99_full",
                  "ordinal",
                  "0.8174901349306234"
                ],
                [
                  "45",
                  "none",
                  "none",
                  "log1p_robust",
                  "pca_0.95_full",
                  "ordinal",
                  "0.8174901349306234"
                ],
                [
                  "99",
                  "none",
                  "most",
                  "log1p_robust",
                  "pca_0.99_full",
                  "ordinal",
                  "0.8174901349306234"
                ]
              ],
              "shape": {
                "columns": 6,
                "rows": 300
              }
            },
            "text/html": [
              "<div>\n",
              "<style scoped>\n",
              "    .dataframe tbody tr th:only-of-type {\n",
              "        vertical-align: middle;\n",
              "    }\n",
              "\n",
              "    .dataframe tbody tr th {\n",
              "        vertical-align: top;\n",
              "    }\n",
              "\n",
              "    .dataframe thead th {\n",
              "        text-align: right;\n",
              "    }\n",
              "</style>\n",
              "<table border=\"1\" class=\"dataframe\">\n",
              "  <thead>\n",
              "    <tr style=\"text-align: right;\">\n",
              "      <th></th>\n",
              "      <th>num_impute</th>\n",
              "      <th>cate_impute</th>\n",
              "      <th>scale</th>\n",
              "      <th>pca</th>\n",
              "      <th>encode</th>\n",
              "      <th>r2</th>\n",
              "    </tr>\n",
              "  </thead>\n",
              "  <tbody>\n",
              "    <tr>\n",
              "      <th>40</th>\n",
              "      <td>none</td>\n",
              "      <td>none</td>\n",
              "      <td>log1p_robust</td>\n",
              "      <td>none</td>\n",
              "      <td>onehot</td>\n",
              "      <td>0.827169</td>\n",
              "    </tr>\n",
              "    <tr>\n",
              "      <th>42</th>\n",
              "      <td>none</td>\n",
              "      <td>none</td>\n",
              "      <td>log1p_robust</td>\n",
              "      <td>pca_0.95_auto</td>\n",
              "      <td>onehot</td>\n",
              "      <td>0.827169</td>\n",
              "    </tr>\n",
              "    <tr>\n",
              "      <th>92</th>\n",
              "      <td>none</td>\n",
              "      <td>most</td>\n",
              "      <td>log1p_robust</td>\n",
              "      <td>pca_0.95_auto</td>\n",
              "      <td>onehot</td>\n",
              "      <td>0.827169</td>\n",
              "    </tr>\n",
              "    <tr>\n",
              "      <th>96</th>\n",
              "      <td>none</td>\n",
              "      <td>most</td>\n",
              "      <td>log1p_robust</td>\n",
              "      <td>pca_0.99_auto</td>\n",
              "      <td>onehot</td>\n",
              "      <td>0.827169</td>\n",
              "    </tr>\n",
              "    <tr>\n",
              "      <th>90</th>\n",
              "      <td>none</td>\n",
              "      <td>most</td>\n",
              "      <td>log1p_robust</td>\n",
              "      <td>none</td>\n",
              "      <td>onehot</td>\n",
              "      <td>0.827169</td>\n",
              "    </tr>\n",
              "    <tr>\n",
              "      <th>...</th>\n",
              "      <td>...</td>\n",
              "      <td>...</td>\n",
              "      <td>...</td>\n",
              "      <td>...</td>\n",
              "      <td>...</td>\n",
              "      <td>...</td>\n",
              "    </tr>\n",
              "    <tr>\n",
              "      <th>223</th>\n",
              "      <td>median</td>\n",
              "      <td>none</td>\n",
              "      <td>minmax</td>\n",
              "      <td>pca_0.95_auto</td>\n",
              "      <td>ordinal</td>\n",
              "      <td>-347.767551</td>\n",
              "    </tr>\n",
              "    <tr>\n",
              "      <th>173</th>\n",
              "      <td>mean</td>\n",
              "      <td>most</td>\n",
              "      <td>minmax</td>\n",
              "      <td>pca_0.95_auto</td>\n",
              "      <td>ordinal</td>\n",
              "      <td>-347.767551</td>\n",
              "    </tr>\n",
              "    <tr>\n",
              "      <th>123</th>\n",
              "      <td>mean</td>\n",
              "      <td>none</td>\n",
              "      <td>minmax</td>\n",
              "      <td>pca_0.95_auto</td>\n",
              "      <td>ordinal</td>\n",
              "      <td>-347.767551</td>\n",
              "    </tr>\n",
              "    <tr>\n",
              "      <th>73</th>\n",
              "      <td>none</td>\n",
              "      <td>most</td>\n",
              "      <td>minmax</td>\n",
              "      <td>pca_0.95_auto</td>\n",
              "      <td>ordinal</td>\n",
              "      <td>-347.767551</td>\n",
              "    </tr>\n",
              "    <tr>\n",
              "      <th>273</th>\n",
              "      <td>median</td>\n",
              "      <td>most</td>\n",
              "      <td>minmax</td>\n",
              "      <td>pca_0.95_auto</td>\n",
              "      <td>ordinal</td>\n",
              "      <td>-347.767551</td>\n",
              "    </tr>\n",
              "  </tbody>\n",
              "</table>\n",
              "<p>300 rows × 6 columns</p>\n",
              "</div>"
            ],
            "text/plain": [
              "    num_impute cate_impute         scale            pca   encode          r2\n",
              "40        none        none  log1p_robust           none   onehot    0.827169\n",
              "42        none        none  log1p_robust  pca_0.95_auto   onehot    0.827169\n",
              "92        none        most  log1p_robust  pca_0.95_auto   onehot    0.827169\n",
              "96        none        most  log1p_robust  pca_0.99_auto   onehot    0.827169\n",
              "90        none        most  log1p_robust           none   onehot    0.827169\n",
              "..         ...         ...           ...            ...      ...         ...\n",
              "223     median        none        minmax  pca_0.95_auto  ordinal -347.767551\n",
              "173       mean        most        minmax  pca_0.95_auto  ordinal -347.767551\n",
              "123       mean        none        minmax  pca_0.95_auto  ordinal -347.767551\n",
              "73        none        most        minmax  pca_0.95_auto  ordinal -347.767551\n",
              "273     median        most        minmax  pca_0.95_auto  ordinal -347.767551\n",
              "\n",
              "[300 rows x 6 columns]"
            ]
          },
          "execution_count": 79,
          "metadata": {},
          "output_type": "execute_result"
        }
      ],
      "source": [
        "linear_results = pd.read_csv(os.path.join(model_result_path, f\"{grid[0][\"model\"].__class__.__name__}.csv\"))\n",
        "linear_results.sort_values(by=\"r2\", ascending=False)"
      ]
    },
    {
      "cell_type": "code",
      "execution_count": 80,
      "id": "79960e0f",
      "metadata": {},
      "outputs": [
        {
          "data": {
            "application/vnd.microsoft.datawrangler.viewer.v0+json": {
              "columns": [
                {
                  "name": "index",
                  "rawType": "int64",
                  "type": "integer"
                },
                {
                  "name": "num_impute",
                  "rawType": "object",
                  "type": "string"
                },
                {
                  "name": "cate_impute",
                  "rawType": "object",
                  "type": "string"
                },
                {
                  "name": "scale",
                  "rawType": "object",
                  "type": "string"
                },
                {
                  "name": "pca",
                  "rawType": "object",
                  "type": "string"
                },
                {
                  "name": "encode",
                  "rawType": "object",
                  "type": "string"
                },
                {
                  "name": "r2",
                  "rawType": "float64",
                  "type": "float"
                }
              ],
              "ref": "dfb1a8a2-c3c6-4ac0-aa54-cc542886cc2a",
              "rows": [
                [
                  "229",
                  "median",
                  "none",
                  "minmax",
                  "pca_0.99_auto",
                  "ordinal",
                  "0.995882123070175"
                ],
                [
                  "128",
                  "mean",
                  "none",
                  "minmax",
                  "pca_0.99_auto",
                  "onehot",
                  "0.995731303229639"
                ],
                [
                  "223",
                  "median",
                  "none",
                  "minmax",
                  "pca_0.95_auto",
                  "ordinal",
                  "0.9956310373811056"
                ],
                [
                  "177",
                  "mean",
                  "most",
                  "minmax",
                  "pca_0.99_auto",
                  "ordinal",
                  "0.9956104083406058"
                ],
                [
                  "226",
                  "median",
                  "none",
                  "minmax",
                  "pca_0.99_auto",
                  "onehot",
                  "0.9955884911003792"
                ],
                [
                  "168",
                  "mean",
                  "most",
                  "standard",
                  "pca_0.99_auto",
                  "onehot",
                  "0.9954854814689208"
                ],
                [
                  "68",
                  "none",
                  "most",
                  "standard",
                  "pca_0.99_auto",
                  "onehot",
                  "0.9954691786672474"
                ],
                [
                  "118",
                  "mean",
                  "none",
                  "standard",
                  "pca_0.99_auto",
                  "onehot",
                  "0.9954565448276528"
                ],
                [
                  "78",
                  "none",
                  "most",
                  "minmax",
                  "pca_0.99_auto",
                  "onehot",
                  "0.995453564904224"
                ],
                [
                  "262",
                  "median",
                  "most",
                  "standard",
                  "pca_0.95_auto",
                  "onehot",
                  "0.9954322665762784"
                ],
                [
                  "64",
                  "none",
                  "most",
                  "standard",
                  "pca_0.95_full",
                  "onehot",
                  "0.9954300431842372"
                ],
                [
                  "162",
                  "mean",
                  "most",
                  "standard",
                  "pca_0.95_auto",
                  "onehot",
                  "0.9954164238177058"
                ],
                [
                  "166",
                  "mean",
                  "most",
                  "standard",
                  "pca_0.99_auto",
                  "onehot",
                  "0.995406243516104"
                ],
                [
                  "66",
                  "none",
                  "most",
                  "standard",
                  "pca_0.99_auto",
                  "onehot",
                  "0.9954038297636018"
                ],
                [
                  "276",
                  "median",
                  "most",
                  "minmax",
                  "pca_0.99_auto",
                  "onehot",
                  "0.995376679373078"
                ],
                [
                  "164",
                  "mean",
                  "most",
                  "standard",
                  "pca_0.95_full",
                  "onehot",
                  "0.9953714810034212"
                ],
                [
                  "12",
                  "none",
                  "none",
                  "standard",
                  "pca_0.95_auto",
                  "onehot",
                  "0.9953587933661197"
                ],
                [
                  "112",
                  "mean",
                  "none",
                  "standard",
                  "pca_0.95_auto",
                  "onehot",
                  "0.9953558081549436"
                ],
                [
                  "214",
                  "median",
                  "none",
                  "standard",
                  "pca_0.95_full",
                  "onehot",
                  "0.9953304656000126"
                ],
                [
                  "114",
                  "mean",
                  "none",
                  "standard",
                  "pca_0.95_full",
                  "onehot",
                  "0.995305820279337"
                ],
                [
                  "218",
                  "median",
                  "none",
                  "standard",
                  "pca_0.99_auto",
                  "onehot",
                  "0.9953049051858678"
                ],
                [
                  "227",
                  "median",
                  "none",
                  "minmax",
                  "pca_0.99_auto",
                  "ordinal",
                  "0.995282852515888"
                ],
                [
                  "216",
                  "median",
                  "none",
                  "standard",
                  "pca_0.99_auto",
                  "onehot",
                  "0.9952803689114657"
                ],
                [
                  "14",
                  "none",
                  "none",
                  "standard",
                  "pca_0.95_full",
                  "onehot",
                  "0.9952763875026278"
                ],
                [
                  "219",
                  "median",
                  "none",
                  "standard",
                  "pca_0.99_auto",
                  "ordinal",
                  "0.9952733764156784"
                ],
                [
                  "72",
                  "none",
                  "most",
                  "minmax",
                  "pca_0.95_auto",
                  "onehot",
                  "0.9952665219595396"
                ],
                [
                  "269",
                  "median",
                  "most",
                  "standard",
                  "pca_0.99_auto",
                  "ordinal",
                  "0.9952524376740742"
                ],
                [
                  "212",
                  "median",
                  "none",
                  "standard",
                  "pca_0.95_auto",
                  "onehot",
                  "0.995211198195222"
                ],
                [
                  "16",
                  "none",
                  "none",
                  "standard",
                  "pca_0.99_auto",
                  "onehot",
                  "0.9951569876276128"
                ],
                [
                  "79",
                  "none",
                  "most",
                  "minmax",
                  "pca_0.99_auto",
                  "ordinal",
                  "0.99513976418586"
                ],
                [
                  "264",
                  "median",
                  "most",
                  "standard",
                  "pca_0.95_full",
                  "onehot",
                  "0.9951382008330136"
                ],
                [
                  "116",
                  "mean",
                  "none",
                  "standard",
                  "pca_0.99_auto",
                  "onehot",
                  "0.9951227738857492"
                ],
                [
                  "175",
                  "mean",
                  "most",
                  "minmax",
                  "pca_0.95_full",
                  "ordinal",
                  "0.995115970511142"
                ],
                [
                  "268",
                  "median",
                  "most",
                  "standard",
                  "pca_0.99_auto",
                  "onehot",
                  "0.9951142027835784"
                ],
                [
                  "126",
                  "mean",
                  "none",
                  "minmax",
                  "pca_0.99_auto",
                  "onehot",
                  "0.9950954161780324"
                ],
                [
                  "18",
                  "none",
                  "none",
                  "standard",
                  "pca_0.99_auto",
                  "onehot",
                  "0.9950631503712308"
                ],
                [
                  "277",
                  "median",
                  "most",
                  "minmax",
                  "pca_0.99_auto",
                  "ordinal",
                  "0.9950484134267128"
                ],
                [
                  "125",
                  "mean",
                  "none",
                  "minmax",
                  "pca_0.95_full",
                  "ordinal",
                  "0.9950429668298784"
                ],
                [
                  "266",
                  "median",
                  "most",
                  "standard",
                  "pca_0.99_auto",
                  "onehot",
                  "0.9949995833293304"
                ],
                [
                  "65",
                  "none",
                  "most",
                  "standard",
                  "pca_0.95_full",
                  "ordinal",
                  "0.9949851762499364"
                ],
                [
                  "117",
                  "mean",
                  "none",
                  "standard",
                  "pca_0.99_auto",
                  "ordinal",
                  "0.994961536965791"
                ],
                [
                  "215",
                  "median",
                  "none",
                  "standard",
                  "pca_0.95_full",
                  "ordinal",
                  "0.9949464134042976"
                ],
                [
                  "163",
                  "mean",
                  "most",
                  "standard",
                  "pca_0.95_auto",
                  "ordinal",
                  "0.9949267365675208"
                ],
                [
                  "77",
                  "none",
                  "most",
                  "minmax",
                  "pca_0.99_auto",
                  "ordinal",
                  "0.994923318908532"
                ],
                [
                  "62",
                  "none",
                  "most",
                  "standard",
                  "pca_0.95_auto",
                  "onehot",
                  "0.9949222647577448"
                ],
                [
                  "165",
                  "mean",
                  "most",
                  "standard",
                  "pca_0.95_full",
                  "ordinal",
                  "0.9949106712952104"
                ],
                [
                  "119",
                  "mean",
                  "none",
                  "standard",
                  "pca_0.99_auto",
                  "ordinal",
                  "0.9948896372265456"
                ],
                [
                  "67",
                  "none",
                  "most",
                  "standard",
                  "pca_0.99_auto",
                  "ordinal",
                  "0.9948738597661594"
                ],
                [
                  "63",
                  "none",
                  "most",
                  "standard",
                  "pca_0.95_auto",
                  "ordinal",
                  "0.9948484394207654"
                ],
                [
                  "15",
                  "none",
                  "none",
                  "standard",
                  "pca_0.95_full",
                  "ordinal",
                  "0.9948195717977388"
                ]
              ],
              "shape": {
                "columns": 6,
                "rows": 300
              }
            },
            "text/html": [
              "<div>\n",
              "<style scoped>\n",
              "    .dataframe tbody tr th:only-of-type {\n",
              "        vertical-align: middle;\n",
              "    }\n",
              "\n",
              "    .dataframe tbody tr th {\n",
              "        vertical-align: top;\n",
              "    }\n",
              "\n",
              "    .dataframe thead th {\n",
              "        text-align: right;\n",
              "    }\n",
              "</style>\n",
              "<table border=\"1\" class=\"dataframe\">\n",
              "  <thead>\n",
              "    <tr style=\"text-align: right;\">\n",
              "      <th></th>\n",
              "      <th>num_impute</th>\n",
              "      <th>cate_impute</th>\n",
              "      <th>scale</th>\n",
              "      <th>pca</th>\n",
              "      <th>encode</th>\n",
              "      <th>r2</th>\n",
              "    </tr>\n",
              "  </thead>\n",
              "  <tbody>\n",
              "    <tr>\n",
              "      <th>229</th>\n",
              "      <td>median</td>\n",
              "      <td>none</td>\n",
              "      <td>minmax</td>\n",
              "      <td>pca_0.99_auto</td>\n",
              "      <td>ordinal</td>\n",
              "      <td>0.995882</td>\n",
              "    </tr>\n",
              "    <tr>\n",
              "      <th>128</th>\n",
              "      <td>mean</td>\n",
              "      <td>none</td>\n",
              "      <td>minmax</td>\n",
              "      <td>pca_0.99_auto</td>\n",
              "      <td>onehot</td>\n",
              "      <td>0.995731</td>\n",
              "    </tr>\n",
              "    <tr>\n",
              "      <th>223</th>\n",
              "      <td>median</td>\n",
              "      <td>none</td>\n",
              "      <td>minmax</td>\n",
              "      <td>pca_0.95_auto</td>\n",
              "      <td>ordinal</td>\n",
              "      <td>0.995631</td>\n",
              "    </tr>\n",
              "    <tr>\n",
              "      <th>177</th>\n",
              "      <td>mean</td>\n",
              "      <td>most</td>\n",
              "      <td>minmax</td>\n",
              "      <td>pca_0.99_auto</td>\n",
              "      <td>ordinal</td>\n",
              "      <td>0.995610</td>\n",
              "    </tr>\n",
              "    <tr>\n",
              "      <th>226</th>\n",
              "      <td>median</td>\n",
              "      <td>none</td>\n",
              "      <td>minmax</td>\n",
              "      <td>pca_0.99_auto</td>\n",
              "      <td>onehot</td>\n",
              "      <td>0.995588</td>\n",
              "    </tr>\n",
              "    <tr>\n",
              "      <th>...</th>\n",
              "      <td>...</td>\n",
              "      <td>...</td>\n",
              "      <td>...</td>\n",
              "      <td>...</td>\n",
              "      <td>...</td>\n",
              "      <td>...</td>\n",
              "    </tr>\n",
              "    <tr>\n",
              "      <th>207</th>\n",
              "      <td>median</td>\n",
              "      <td>none</td>\n",
              "      <td>none</td>\n",
              "      <td>pca_0.99_auto</td>\n",
              "      <td>ordinal</td>\n",
              "      <td>0.768116</td>\n",
              "    </tr>\n",
              "    <tr>\n",
              "      <th>3</th>\n",
              "      <td>none</td>\n",
              "      <td>none</td>\n",
              "      <td>none</td>\n",
              "      <td>pca_0.95_auto</td>\n",
              "      <td>ordinal</td>\n",
              "      <td>0.768108</td>\n",
              "    </tr>\n",
              "    <tr>\n",
              "      <th>253</th>\n",
              "      <td>median</td>\n",
              "      <td>most</td>\n",
              "      <td>none</td>\n",
              "      <td>pca_0.95_auto</td>\n",
              "      <td>ordinal</td>\n",
              "      <td>0.767777</td>\n",
              "    </tr>\n",
              "    <tr>\n",
              "      <th>109</th>\n",
              "      <td>mean</td>\n",
              "      <td>none</td>\n",
              "      <td>none</td>\n",
              "      <td>pca_0.99_auto</td>\n",
              "      <td>ordinal</td>\n",
              "      <td>0.767539</td>\n",
              "    </tr>\n",
              "    <tr>\n",
              "      <th>157</th>\n",
              "      <td>mean</td>\n",
              "      <td>most</td>\n",
              "      <td>none</td>\n",
              "      <td>pca_0.99_auto</td>\n",
              "      <td>ordinal</td>\n",
              "      <td>0.765787</td>\n",
              "    </tr>\n",
              "  </tbody>\n",
              "</table>\n",
              "<p>300 rows × 6 columns</p>\n",
              "</div>"
            ],
            "text/plain": [
              "    num_impute cate_impute   scale            pca   encode        r2\n",
              "229     median        none  minmax  pca_0.99_auto  ordinal  0.995882\n",
              "128       mean        none  minmax  pca_0.99_auto   onehot  0.995731\n",
              "223     median        none  minmax  pca_0.95_auto  ordinal  0.995631\n",
              "177       mean        most  minmax  pca_0.99_auto  ordinal  0.995610\n",
              "226     median        none  minmax  pca_0.99_auto   onehot  0.995588\n",
              "..         ...         ...     ...            ...      ...       ...\n",
              "207     median        none    none  pca_0.99_auto  ordinal  0.768116\n",
              "3         none        none    none  pca_0.95_auto  ordinal  0.768108\n",
              "253     median        most    none  pca_0.95_auto  ordinal  0.767777\n",
              "109       mean        none    none  pca_0.99_auto  ordinal  0.767539\n",
              "157       mean        most    none  pca_0.99_auto  ordinal  0.765787\n",
              "\n",
              "[300 rows x 6 columns]"
            ]
          },
          "execution_count": 80,
          "metadata": {},
          "output_type": "execute_result"
        }
      ],
      "source": [
        "random_forest_results = pd.read_csv(os.path.join(model_result_path, f\"{grid[1][\"model\"].__class__.__name__}.csv\"))\n",
        "random_forest_results.sort_values(by=\"r2\", ascending=False)"
      ]
    },
    {
      "cell_type": "code",
      "execution_count": 81,
      "id": "f3b130df",
      "metadata": {},
      "outputs": [
        {
          "data": {
            "application/vnd.microsoft.datawrangler.viewer.v0+json": {
              "columns": [
                {
                  "name": "index",
                  "rawType": "int64",
                  "type": "integer"
                },
                {
                  "name": "num_impute",
                  "rawType": "object",
                  "type": "string"
                },
                {
                  "name": "cate_impute",
                  "rawType": "object",
                  "type": "string"
                },
                {
                  "name": "scale",
                  "rawType": "object",
                  "type": "string"
                },
                {
                  "name": "pca",
                  "rawType": "object",
                  "type": "string"
                },
                {
                  "name": "encode",
                  "rawType": "object",
                  "type": "string"
                },
                {
                  "name": "r2",
                  "rawType": "float64",
                  "type": "float"
                }
              ],
              "ref": "8e5d5c16-24ae-46a7-a96b-27fe69d7a005",
              "rows": [
                [
                  "294",
                  "median",
                  "most",
                  "log1p_robust",
                  "pca_0.95_full",
                  "onehot",
                  "0.962229023657036"
                ],
                [
                  "296",
                  "median",
                  "most",
                  "log1p_robust",
                  "pca_0.99_auto",
                  "onehot",
                  "0.962229023657036"
                ],
                [
                  "244",
                  "median",
                  "none",
                  "log1p_robust",
                  "pca_0.95_full",
                  "onehot",
                  "0.962229023657036"
                ],
                [
                  "194",
                  "mean",
                  "most",
                  "log1p_robust",
                  "pca_0.95_full",
                  "onehot",
                  "0.962229023657036"
                ],
                [
                  "198",
                  "mean",
                  "most",
                  "log1p_robust",
                  "pca_0.99_auto",
                  "onehot",
                  "0.962229023657036"
                ],
                [
                  "46",
                  "none",
                  "none",
                  "log1p_robust",
                  "pca_0.99_auto",
                  "onehot",
                  "0.962229023657036"
                ],
                [
                  "48",
                  "none",
                  "none",
                  "log1p_robust",
                  "pca_0.99_auto",
                  "onehot",
                  "0.962229023657036"
                ],
                [
                  "196",
                  "mean",
                  "most",
                  "log1p_robust",
                  "pca_0.99_auto",
                  "onehot",
                  "0.962229023657036"
                ],
                [
                  "248",
                  "median",
                  "none",
                  "log1p_robust",
                  "pca_0.99_auto",
                  "onehot",
                  "0.962229023657036"
                ],
                [
                  "246",
                  "median",
                  "none",
                  "log1p_robust",
                  "pca_0.99_auto",
                  "onehot",
                  "0.962229023657036"
                ],
                [
                  "94",
                  "none",
                  "most",
                  "log1p_robust",
                  "pca_0.95_full",
                  "onehot",
                  "0.962229023657036"
                ],
                [
                  "96",
                  "none",
                  "most",
                  "log1p_robust",
                  "pca_0.99_auto",
                  "onehot",
                  "0.962229023657036"
                ],
                [
                  "98",
                  "none",
                  "most",
                  "log1p_robust",
                  "pca_0.99_auto",
                  "onehot",
                  "0.962229023657036"
                ],
                [
                  "298",
                  "median",
                  "most",
                  "log1p_robust",
                  "pca_0.99_auto",
                  "onehot",
                  "0.962229023657036"
                ],
                [
                  "44",
                  "none",
                  "none",
                  "log1p_robust",
                  "pca_0.95_full",
                  "onehot",
                  "0.962229023657036"
                ],
                [
                  "148",
                  "mean",
                  "none",
                  "log1p_robust",
                  "pca_0.99_auto",
                  "onehot",
                  "0.962229023657036"
                ],
                [
                  "146",
                  "mean",
                  "none",
                  "log1p_robust",
                  "pca_0.99_auto",
                  "onehot",
                  "0.962229023657036"
                ],
                [
                  "144",
                  "mean",
                  "none",
                  "log1p_robust",
                  "pca_0.95_full",
                  "onehot",
                  "0.962229023657036"
                ],
                [
                  "142",
                  "mean",
                  "none",
                  "log1p_robust",
                  "pca_0.95_auto",
                  "onehot",
                  "0.9622290236570354"
                ],
                [
                  "42",
                  "none",
                  "none",
                  "log1p_robust",
                  "pca_0.95_auto",
                  "onehot",
                  "0.9622290236570354"
                ],
                [
                  "92",
                  "none",
                  "most",
                  "log1p_robust",
                  "pca_0.95_auto",
                  "onehot",
                  "0.9622290236570354"
                ],
                [
                  "192",
                  "mean",
                  "most",
                  "log1p_robust",
                  "pca_0.95_auto",
                  "onehot",
                  "0.9622290236570354"
                ],
                [
                  "292",
                  "median",
                  "most",
                  "log1p_robust",
                  "pca_0.95_auto",
                  "onehot",
                  "0.9622290236570354"
                ],
                [
                  "242",
                  "median",
                  "none",
                  "log1p_robust",
                  "pca_0.95_auto",
                  "onehot",
                  "0.9622290236570354"
                ],
                [
                  "290",
                  "median",
                  "most",
                  "log1p_robust",
                  "none",
                  "onehot",
                  "0.9622273704011"
                ],
                [
                  "240",
                  "median",
                  "none",
                  "log1p_robust",
                  "none",
                  "onehot",
                  "0.9622273704011"
                ],
                [
                  "140",
                  "mean",
                  "none",
                  "log1p_robust",
                  "none",
                  "onehot",
                  "0.9622273704011"
                ],
                [
                  "190",
                  "mean",
                  "most",
                  "log1p_robust",
                  "none",
                  "onehot",
                  "0.9622273704011"
                ],
                [
                  "40",
                  "none",
                  "none",
                  "log1p_robust",
                  "none",
                  "onehot",
                  "0.9622273704011"
                ],
                [
                  "90",
                  "none",
                  "most",
                  "log1p_robust",
                  "none",
                  "onehot",
                  "0.9622273704011"
                ],
                [
                  "62",
                  "none",
                  "most",
                  "standard",
                  "pca_0.95_auto",
                  "onehot",
                  "0.9515555695619908"
                ],
                [
                  "12",
                  "none",
                  "none",
                  "standard",
                  "pca_0.95_auto",
                  "onehot",
                  "0.9515555695619908"
                ],
                [
                  "262",
                  "median",
                  "most",
                  "standard",
                  "pca_0.95_auto",
                  "onehot",
                  "0.9515555695619908"
                ],
                [
                  "212",
                  "median",
                  "none",
                  "standard",
                  "pca_0.95_auto",
                  "onehot",
                  "0.9515555695619908"
                ],
                [
                  "162",
                  "mean",
                  "most",
                  "standard",
                  "pca_0.95_auto",
                  "onehot",
                  "0.9515555695619908"
                ],
                [
                  "112",
                  "mean",
                  "none",
                  "standard",
                  "pca_0.95_auto",
                  "onehot",
                  "0.9515555695619908"
                ],
                [
                  "10",
                  "none",
                  "none",
                  "standard",
                  "none",
                  "onehot",
                  "0.9515555695619864"
                ],
                [
                  "210",
                  "median",
                  "none",
                  "standard",
                  "none",
                  "onehot",
                  "0.9515555695619864"
                ],
                [
                  "160",
                  "mean",
                  "most",
                  "standard",
                  "none",
                  "onehot",
                  "0.9515555695619864"
                ],
                [
                  "260",
                  "median",
                  "most",
                  "standard",
                  "none",
                  "onehot",
                  "0.9515555695619864"
                ],
                [
                  "110",
                  "mean",
                  "none",
                  "standard",
                  "none",
                  "onehot",
                  "0.9515555695619864"
                ],
                [
                  "60",
                  "none",
                  "most",
                  "standard",
                  "none",
                  "onehot",
                  "0.9515555695619864"
                ],
                [
                  "16",
                  "none",
                  "none",
                  "standard",
                  "pca_0.99_auto",
                  "onehot",
                  "0.951555569561986"
                ],
                [
                  "18",
                  "none",
                  "none",
                  "standard",
                  "pca_0.99_auto",
                  "onehot",
                  "0.951555569561986"
                ],
                [
                  "14",
                  "none",
                  "none",
                  "standard",
                  "pca_0.95_full",
                  "onehot",
                  "0.951555569561986"
                ],
                [
                  "68",
                  "none",
                  "most",
                  "standard",
                  "pca_0.99_auto",
                  "onehot",
                  "0.951555569561986"
                ],
                [
                  "116",
                  "mean",
                  "none",
                  "standard",
                  "pca_0.99_auto",
                  "onehot",
                  "0.951555569561986"
                ],
                [
                  "114",
                  "mean",
                  "none",
                  "standard",
                  "pca_0.95_full",
                  "onehot",
                  "0.951555569561986"
                ],
                [
                  "118",
                  "mean",
                  "none",
                  "standard",
                  "pca_0.99_auto",
                  "onehot",
                  "0.951555569561986"
                ],
                [
                  "66",
                  "none",
                  "most",
                  "standard",
                  "pca_0.99_auto",
                  "onehot",
                  "0.951555569561986"
                ]
              ],
              "shape": {
                "columns": 6,
                "rows": 300
              }
            },
            "text/html": [
              "<div>\n",
              "<style scoped>\n",
              "    .dataframe tbody tr th:only-of-type {\n",
              "        vertical-align: middle;\n",
              "    }\n",
              "\n",
              "    .dataframe tbody tr th {\n",
              "        vertical-align: top;\n",
              "    }\n",
              "\n",
              "    .dataframe thead th {\n",
              "        text-align: right;\n",
              "    }\n",
              "</style>\n",
              "<table border=\"1\" class=\"dataframe\">\n",
              "  <thead>\n",
              "    <tr style=\"text-align: right;\">\n",
              "      <th></th>\n",
              "      <th>num_impute</th>\n",
              "      <th>cate_impute</th>\n",
              "      <th>scale</th>\n",
              "      <th>pca</th>\n",
              "      <th>encode</th>\n",
              "      <th>r2</th>\n",
              "    </tr>\n",
              "  </thead>\n",
              "  <tbody>\n",
              "    <tr>\n",
              "      <th>294</th>\n",
              "      <td>median</td>\n",
              "      <td>most</td>\n",
              "      <td>log1p_robust</td>\n",
              "      <td>pca_0.95_full</td>\n",
              "      <td>onehot</td>\n",
              "      <td>0.962229</td>\n",
              "    </tr>\n",
              "    <tr>\n",
              "      <th>296</th>\n",
              "      <td>median</td>\n",
              "      <td>most</td>\n",
              "      <td>log1p_robust</td>\n",
              "      <td>pca_0.99_auto</td>\n",
              "      <td>onehot</td>\n",
              "      <td>0.962229</td>\n",
              "    </tr>\n",
              "    <tr>\n",
              "      <th>244</th>\n",
              "      <td>median</td>\n",
              "      <td>none</td>\n",
              "      <td>log1p_robust</td>\n",
              "      <td>pca_0.95_full</td>\n",
              "      <td>onehot</td>\n",
              "      <td>0.962229</td>\n",
              "    </tr>\n",
              "    <tr>\n",
              "      <th>194</th>\n",
              "      <td>mean</td>\n",
              "      <td>most</td>\n",
              "      <td>log1p_robust</td>\n",
              "      <td>pca_0.95_full</td>\n",
              "      <td>onehot</td>\n",
              "      <td>0.962229</td>\n",
              "    </tr>\n",
              "    <tr>\n",
              "      <th>198</th>\n",
              "      <td>mean</td>\n",
              "      <td>most</td>\n",
              "      <td>log1p_robust</td>\n",
              "      <td>pca_0.99_auto</td>\n",
              "      <td>onehot</td>\n",
              "      <td>0.962229</td>\n",
              "    </tr>\n",
              "    <tr>\n",
              "      <th>...</th>\n",
              "      <td>...</td>\n",
              "      <td>...</td>\n",
              "      <td>...</td>\n",
              "      <td>...</td>\n",
              "      <td>...</td>\n",
              "      <td>...</td>\n",
              "    </tr>\n",
              "    <tr>\n",
              "      <th>0</th>\n",
              "      <td>none</td>\n",
              "      <td>none</td>\n",
              "      <td>none</td>\n",
              "      <td>none</td>\n",
              "      <td>onehot</td>\n",
              "      <td>-109677.219807</td>\n",
              "    </tr>\n",
              "    <tr>\n",
              "      <th>200</th>\n",
              "      <td>median</td>\n",
              "      <td>none</td>\n",
              "      <td>none</td>\n",
              "      <td>none</td>\n",
              "      <td>onehot</td>\n",
              "      <td>-109677.219807</td>\n",
              "    </tr>\n",
              "    <tr>\n",
              "      <th>250</th>\n",
              "      <td>median</td>\n",
              "      <td>most</td>\n",
              "      <td>none</td>\n",
              "      <td>none</td>\n",
              "      <td>onehot</td>\n",
              "      <td>-109677.219807</td>\n",
              "    </tr>\n",
              "    <tr>\n",
              "      <th>100</th>\n",
              "      <td>mean</td>\n",
              "      <td>none</td>\n",
              "      <td>none</td>\n",
              "      <td>none</td>\n",
              "      <td>onehot</td>\n",
              "      <td>-109677.219807</td>\n",
              "    </tr>\n",
              "    <tr>\n",
              "      <th>150</th>\n",
              "      <td>mean</td>\n",
              "      <td>most</td>\n",
              "      <td>none</td>\n",
              "      <td>none</td>\n",
              "      <td>onehot</td>\n",
              "      <td>-109677.219807</td>\n",
              "    </tr>\n",
              "  </tbody>\n",
              "</table>\n",
              "<p>300 rows × 6 columns</p>\n",
              "</div>"
            ],
            "text/plain": [
              "    num_impute cate_impute         scale            pca  encode             r2\n",
              "294     median        most  log1p_robust  pca_0.95_full  onehot       0.962229\n",
              "296     median        most  log1p_robust  pca_0.99_auto  onehot       0.962229\n",
              "244     median        none  log1p_robust  pca_0.95_full  onehot       0.962229\n",
              "194       mean        most  log1p_robust  pca_0.95_full  onehot       0.962229\n",
              "198       mean        most  log1p_robust  pca_0.99_auto  onehot       0.962229\n",
              "..         ...         ...           ...            ...     ...            ...\n",
              "0         none        none          none           none  onehot -109677.219807\n",
              "200     median        none          none           none  onehot -109677.219807\n",
              "250     median        most          none           none  onehot -109677.219807\n",
              "100       mean        none          none           none  onehot -109677.219807\n",
              "150       mean        most          none           none  onehot -109677.219807\n",
              "\n",
              "[300 rows x 6 columns]"
            ]
          },
          "execution_count": 81,
          "metadata": {},
          "output_type": "execute_result"
        }
      ],
      "source": [
        "svr_results = pd.read_csv(os.path.join(model_result_path, f\"{grid[2][\"model\"].__class__.__name__}.csv\"))\n",
        "svr_results.sort_values(by=\"r2\", ascending=False)"
      ]
    },
    {
      "cell_type": "code",
      "execution_count": 82,
      "id": "a4069eaf",
      "metadata": {},
      "outputs": [
        {
          "data": {
            "application/vnd.microsoft.datawrangler.viewer.v0+json": {
              "columns": [
                {
                  "name": "index",
                  "rawType": "int64",
                  "type": "integer"
                },
                {
                  "name": "num_impute",
                  "rawType": "object",
                  "type": "string"
                },
                {
                  "name": "cate_impute",
                  "rawType": "object",
                  "type": "string"
                },
                {
                  "name": "scale",
                  "rawType": "object",
                  "type": "string"
                },
                {
                  "name": "pca",
                  "rawType": "object",
                  "type": "string"
                },
                {
                  "name": "encode",
                  "rawType": "object",
                  "type": "string"
                },
                {
                  "name": "r2",
                  "rawType": "float64",
                  "type": "float"
                }
              ],
              "ref": "958b7b32-bb40-4469-aa85-e676bb6e6afc",
              "rows": [
                [
                  "196",
                  "median",
                  "none",
                  "log1p_robust",
                  "pca_0.99_auto",
                  "onehot",
                  "0.9829675115145752"
                ],
                [
                  "72",
                  "none",
                  "most",
                  "log1p_robust",
                  "pca_0.95_auto",
                  "onehot",
                  "0.982762455690069"
                ],
                [
                  "78",
                  "none",
                  "most",
                  "log1p_robust",
                  "pca_0.99_full",
                  "onehot",
                  "0.9822203260545496"
                ],
                [
                  "32",
                  "none",
                  "none",
                  "log1p_robust",
                  "pca_0.95_auto",
                  "onehot",
                  "0.9817777791999364"
                ],
                [
                  "36",
                  "none",
                  "none",
                  "log1p_robust",
                  "pca_0.99_auto",
                  "onehot",
                  "0.9815897693904652"
                ],
                [
                  "74",
                  "none",
                  "most",
                  "log1p_robust",
                  "pca_0.95_full",
                  "onehot",
                  "0.9811668666330334"
                ],
                [
                  "70",
                  "none",
                  "most",
                  "log1p_robust",
                  "none",
                  "onehot",
                  "0.9810931408542988"
                ],
                [
                  "234",
                  "median",
                  "most",
                  "log1p_robust",
                  "pca_0.95_full",
                  "onehot",
                  "0.980842864913855"
                ],
                [
                  "86",
                  "mean",
                  "none",
                  "standard",
                  "pca_0.99_auto",
                  "onehot",
                  "0.9807847351844174"
                ],
                [
                  "118",
                  "mean",
                  "none",
                  "log1p_robust",
                  "pca_0.99_full",
                  "onehot",
                  "0.9807690923862116"
                ],
                [
                  "152",
                  "mean",
                  "most",
                  "log1p_robust",
                  "pca_0.95_auto",
                  "onehot",
                  "0.9805373526764248"
                ],
                [
                  "30",
                  "none",
                  "none",
                  "log1p_robust",
                  "none",
                  "onehot",
                  "0.9804880919362382"
                ],
                [
                  "198",
                  "median",
                  "none",
                  "log1p_robust",
                  "pca_0.99_full",
                  "onehot",
                  "0.9804132069619664"
                ],
                [
                  "158",
                  "mean",
                  "most",
                  "log1p_robust",
                  "pca_0.99_full",
                  "onehot",
                  "0.9803122976743692"
                ],
                [
                  "75",
                  "none",
                  "most",
                  "log1p_robust",
                  "pca_0.95_full",
                  "ordinal",
                  "0.9802244443567631"
                ],
                [
                  "116",
                  "mean",
                  "none",
                  "log1p_robust",
                  "pca_0.99_auto",
                  "onehot",
                  "0.9801757197216208"
                ],
                [
                  "77",
                  "none",
                  "most",
                  "log1p_robust",
                  "pca_0.99_auto",
                  "ordinal",
                  "0.9796298062125084"
                ],
                [
                  "230",
                  "median",
                  "most",
                  "log1p_robust",
                  "none",
                  "onehot",
                  "0.9793984524502308"
                ],
                [
                  "80",
                  "mean",
                  "none",
                  "standard",
                  "none",
                  "onehot",
                  "0.9793637432050728"
                ],
                [
                  "194",
                  "median",
                  "none",
                  "log1p_robust",
                  "pca_0.95_full",
                  "onehot",
                  "0.9793331709201408"
                ],
                [
                  "122",
                  "mean",
                  "most",
                  "standard",
                  "pca_0.95_auto",
                  "onehot",
                  "0.9789839644194632"
                ],
                [
                  "206",
                  "median",
                  "most",
                  "standard",
                  "pca_0.99_auto",
                  "onehot",
                  "0.9787757876154138"
                ],
                [
                  "4",
                  "none",
                  "none",
                  "standard",
                  "pca_0.95_full",
                  "onehot",
                  "0.9786889715841234"
                ],
                [
                  "112",
                  "mean",
                  "none",
                  "log1p_robust",
                  "pca_0.95_auto",
                  "onehot",
                  "0.9786525055310668"
                ],
                [
                  "110",
                  "mean",
                  "none",
                  "log1p_robust",
                  "none",
                  "onehot",
                  "0.9785620607419078"
                ],
                [
                  "40",
                  "none",
                  "most",
                  "standard",
                  "none",
                  "onehot",
                  "0.9784441118949636"
                ],
                [
                  "154",
                  "mean",
                  "most",
                  "log1p_robust",
                  "pca_0.95_full",
                  "onehot",
                  "0.9782425814064152"
                ],
                [
                  "115",
                  "mean",
                  "none",
                  "log1p_robust",
                  "pca_0.95_full",
                  "ordinal",
                  "0.9781969330403886"
                ],
                [
                  "156",
                  "mean",
                  "most",
                  "log1p_robust",
                  "pca_0.99_auto",
                  "onehot",
                  "0.9779241970970556"
                ],
                [
                  "76",
                  "none",
                  "most",
                  "log1p_robust",
                  "pca_0.99_auto",
                  "onehot",
                  "0.9779191101896436"
                ],
                [
                  "38",
                  "none",
                  "none",
                  "log1p_robust",
                  "pca_0.99_full",
                  "onehot",
                  "0.977876367596656"
                ],
                [
                  "232",
                  "median",
                  "most",
                  "log1p_robust",
                  "pca_0.95_auto",
                  "onehot",
                  "0.9776377623937068"
                ],
                [
                  "54",
                  "none",
                  "most",
                  "minmax",
                  "pca_0.95_full",
                  "onehot",
                  "0.9776236530691572"
                ],
                [
                  "150",
                  "mean",
                  "most",
                  "log1p_robust",
                  "none",
                  "onehot",
                  "0.9775758409032934"
                ],
                [
                  "88",
                  "mean",
                  "none",
                  "standard",
                  "pca_0.99_full",
                  "onehot",
                  "0.977512159551724"
                ],
                [
                  "236",
                  "median",
                  "most",
                  "log1p_robust",
                  "pca_0.99_auto",
                  "onehot",
                  "0.9773588536065594"
                ],
                [
                  "2",
                  "none",
                  "none",
                  "standard",
                  "pca_0.95_auto",
                  "onehot",
                  "0.977250421151806"
                ],
                [
                  "128",
                  "mean",
                  "most",
                  "standard",
                  "pca_0.99_full",
                  "onehot",
                  "0.977042233155545"
                ],
                [
                  "121",
                  "mean",
                  "most",
                  "standard",
                  "none",
                  "ordinal",
                  "0.9770144447336022"
                ],
                [
                  "8",
                  "none",
                  "none",
                  "standard",
                  "pca_0.99_full",
                  "onehot",
                  "0.9768094208810828"
                ],
                [
                  "200",
                  "median",
                  "most",
                  "standard",
                  "none",
                  "onehot",
                  "0.9767667053761084"
                ],
                [
                  "82",
                  "mean",
                  "none",
                  "standard",
                  "pca_0.95_auto",
                  "onehot",
                  "0.9766740076674052"
                ],
                [
                  "39",
                  "none",
                  "none",
                  "log1p_robust",
                  "pca_0.99_full",
                  "ordinal",
                  "0.9766566231003392"
                ],
                [
                  "212",
                  "median",
                  "most",
                  "minmax",
                  "pca_0.95_auto",
                  "onehot",
                  "0.976503690325322"
                ],
                [
                  "84",
                  "mean",
                  "none",
                  "standard",
                  "pca_0.95_full",
                  "onehot",
                  "0.9764816410439886"
                ],
                [
                  "92",
                  "mean",
                  "none",
                  "minmax",
                  "pca_0.95_auto",
                  "onehot",
                  "0.97634799420343"
                ],
                [
                  "46",
                  "none",
                  "most",
                  "standard",
                  "pca_0.99_auto",
                  "onehot",
                  "0.9761706499390538"
                ],
                [
                  "162",
                  "median",
                  "none",
                  "standard",
                  "pca_0.95_auto",
                  "onehot",
                  "0.976167433903148"
                ],
                [
                  "172",
                  "median",
                  "none",
                  "minmax",
                  "pca_0.95_auto",
                  "onehot",
                  "0.9760070899412364"
                ],
                [
                  "238",
                  "median",
                  "most",
                  "log1p_robust",
                  "pca_0.99_full",
                  "onehot",
                  "0.9759285505430734"
                ]
              ],
              "shape": {
                "columns": 6,
                "rows": 240
              }
            },
            "text/html": [
              "<div>\n",
              "<style scoped>\n",
              "    .dataframe tbody tr th:only-of-type {\n",
              "        vertical-align: middle;\n",
              "    }\n",
              "\n",
              "    .dataframe tbody tr th {\n",
              "        vertical-align: top;\n",
              "    }\n",
              "\n",
              "    .dataframe thead th {\n",
              "        text-align: right;\n",
              "    }\n",
              "</style>\n",
              "<table border=\"1\" class=\"dataframe\">\n",
              "  <thead>\n",
              "    <tr style=\"text-align: right;\">\n",
              "      <th></th>\n",
              "      <th>num_impute</th>\n",
              "      <th>cate_impute</th>\n",
              "      <th>scale</th>\n",
              "      <th>pca</th>\n",
              "      <th>encode</th>\n",
              "      <th>r2</th>\n",
              "    </tr>\n",
              "  </thead>\n",
              "  <tbody>\n",
              "    <tr>\n",
              "      <th>196</th>\n",
              "      <td>median</td>\n",
              "      <td>none</td>\n",
              "      <td>log1p_robust</td>\n",
              "      <td>pca_0.99_auto</td>\n",
              "      <td>onehot</td>\n",
              "      <td>0.982968</td>\n",
              "    </tr>\n",
              "    <tr>\n",
              "      <th>72</th>\n",
              "      <td>none</td>\n",
              "      <td>most</td>\n",
              "      <td>log1p_robust</td>\n",
              "      <td>pca_0.95_auto</td>\n",
              "      <td>onehot</td>\n",
              "      <td>0.982762</td>\n",
              "    </tr>\n",
              "    <tr>\n",
              "      <th>78</th>\n",
              "      <td>none</td>\n",
              "      <td>most</td>\n",
              "      <td>log1p_robust</td>\n",
              "      <td>pca_0.99_full</td>\n",
              "      <td>onehot</td>\n",
              "      <td>0.982220</td>\n",
              "    </tr>\n",
              "    <tr>\n",
              "      <th>32</th>\n",
              "      <td>none</td>\n",
              "      <td>none</td>\n",
              "      <td>log1p_robust</td>\n",
              "      <td>pca_0.95_auto</td>\n",
              "      <td>onehot</td>\n",
              "      <td>0.981778</td>\n",
              "    </tr>\n",
              "    <tr>\n",
              "      <th>36</th>\n",
              "      <td>none</td>\n",
              "      <td>none</td>\n",
              "      <td>log1p_robust</td>\n",
              "      <td>pca_0.99_auto</td>\n",
              "      <td>onehot</td>\n",
              "      <td>0.981590</td>\n",
              "    </tr>\n",
              "    <tr>\n",
              "      <th>...</th>\n",
              "      <td>...</td>\n",
              "      <td>...</td>\n",
              "      <td>...</td>\n",
              "      <td>...</td>\n",
              "      <td>...</td>\n",
              "      <td>...</td>\n",
              "    </tr>\n",
              "    <tr>\n",
              "      <th>21</th>\n",
              "      <td>none</td>\n",
              "      <td>none</td>\n",
              "      <td>robust</td>\n",
              "      <td>none</td>\n",
              "      <td>ordinal</td>\n",
              "      <td>0.228838</td>\n",
              "    </tr>\n",
              "    <tr>\n",
              "      <th>185</th>\n",
              "      <td>median</td>\n",
              "      <td>none</td>\n",
              "      <td>robust</td>\n",
              "      <td>pca_0.95_full</td>\n",
              "      <td>ordinal</td>\n",
              "      <td>-0.250195</td>\n",
              "    </tr>\n",
              "    <tr>\n",
              "      <th>227</th>\n",
              "      <td>median</td>\n",
              "      <td>most</td>\n",
              "      <td>robust</td>\n",
              "      <td>pca_0.99_auto</td>\n",
              "      <td>ordinal</td>\n",
              "      <td>-0.305776</td>\n",
              "    </tr>\n",
              "    <tr>\n",
              "      <th>147</th>\n",
              "      <td>mean</td>\n",
              "      <td>most</td>\n",
              "      <td>robust</td>\n",
              "      <td>pca_0.99_auto</td>\n",
              "      <td>ordinal</td>\n",
              "      <td>-20.759072</td>\n",
              "    </tr>\n",
              "    <tr>\n",
              "      <th>23</th>\n",
              "      <td>none</td>\n",
              "      <td>none</td>\n",
              "      <td>robust</td>\n",
              "      <td>pca_0.95_auto</td>\n",
              "      <td>ordinal</td>\n",
              "      <td>-396971.599227</td>\n",
              "    </tr>\n",
              "  </tbody>\n",
              "</table>\n",
              "<p>240 rows × 6 columns</p>\n",
              "</div>"
            ],
            "text/plain": [
              "    num_impute cate_impute         scale            pca   encode  \\\n",
              "196     median        none  log1p_robust  pca_0.99_auto   onehot   \n",
              "72        none        most  log1p_robust  pca_0.95_auto   onehot   \n",
              "78        none        most  log1p_robust  pca_0.99_full   onehot   \n",
              "32        none        none  log1p_robust  pca_0.95_auto   onehot   \n",
              "36        none        none  log1p_robust  pca_0.99_auto   onehot   \n",
              "..         ...         ...           ...            ...      ...   \n",
              "21        none        none        robust           none  ordinal   \n",
              "185     median        none        robust  pca_0.95_full  ordinal   \n",
              "227     median        most        robust  pca_0.99_auto  ordinal   \n",
              "147       mean        most        robust  pca_0.99_auto  ordinal   \n",
              "23        none        none        robust  pca_0.95_auto  ordinal   \n",
              "\n",
              "                r2  \n",
              "196       0.982968  \n",
              "72        0.982762  \n",
              "78        0.982220  \n",
              "32        0.981778  \n",
              "36        0.981590  \n",
              "..             ...  \n",
              "21        0.228838  \n",
              "185      -0.250195  \n",
              "227      -0.305776  \n",
              "147     -20.759072  \n",
              "23  -396971.599227  \n",
              "\n",
              "[240 rows x 6 columns]"
            ]
          },
          "execution_count": 82,
          "metadata": {},
          "output_type": "execute_result"
        }
      ],
      "source": [
        "mlp_results = pd.read_csv(os.path.join(model_result_path, f\"{grid[3][\"model\"].__class__.__name__}.csv\"))\n",
        "mlp_results.sort_values(by=\"r2\", ascending=False)"
      ]
    }
  ],
  "metadata": {
    "colab": {
      "provenance": []
    },
    "kernelspec": {
      "display_name": "dl_python_3.10",
      "language": "python",
      "name": "python3"
    },
    "language_info": {
      "codemirror_mode": {
        "name": "ipython",
        "version": 3
      },
      "file_extension": ".py",
      "mimetype": "text/x-python",
      "name": "python",
      "nbconvert_exporter": "python",
      "pygments_lexer": "ipython3",
      "version": "3.13.7"
    }
  },
  "nbformat": 4,
  "nbformat_minor": 5
}
